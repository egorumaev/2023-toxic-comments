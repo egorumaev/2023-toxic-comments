{
 "cells": [
  {
   "cell_type": "markdown",
   "metadata": {
    "id": "cmpjZXGdC82v",
    "toc": true
   },
   "source": [
    "<h1>Table of Contents<span class=\"tocSkip\"></span></h1>\n",
    "<div class=\"toc\"><ul class=\"toc-item\"><li><span><a href=\"#Введение.-Описание-проекта,-его-цель-и-задачи\" data-toc-modified-id=\"Введение.-Описание-проекта,-его-цель-и-задачи-1\"><span class=\"toc-item-num\">1&nbsp;&nbsp;</span><font color=\"green\"><strong>Введение. Описание проекта, его цель и задачи</strong></font></a></span></li><li><span><a href=\"#Загрузка-данных\" data-toc-modified-id=\"Загрузка-данных-2\"><span class=\"toc-item-num\">2&nbsp;&nbsp;</span><font color=\"green\"><strong>Загрузка данных</strong></font></a></span></li><li><span><a href=\"#Исследовательский-анализ-данных\" data-toc-modified-id=\"Исследовательский-анализ-данных-3\"><span class=\"toc-item-num\">3&nbsp;&nbsp;</span><font color=\"green\"><strong>Исследовательский анализ данных</strong></font></a></span><ul class=\"toc-item\"><li><span><a href=\"#Общее-изучение-данных\" data-toc-modified-id=\"Общее-изучение-данных-3.1\"><span class=\"toc-item-num\">3.1&nbsp;&nbsp;</span><strong>Общее изучение данных</strong></a></span></li><li><span><a href=\"#Инициализация-классов,-необходимых-для-удаления-шума-из-текстовых-данных-и-их-предобработки\" data-toc-modified-id=\"Инициализация-классов,-необходимых-для-удаления-шума-из-текстовых-данных-и-их-предобработки-3.2\"><span class=\"toc-item-num\">3.2&nbsp;&nbsp;</span><strong>Инициализация классов, необходимых для удаления шума из текстовых данных и их предобработки</strong></a></span></li><li><span><a href=\"#Удаление-шума-из-текстовых-данных\" data-toc-modified-id=\"Удаление-шума-из-текстовых-данных-3.3\"><span class=\"toc-item-num\">3.3&nbsp;&nbsp;</span><strong>Удаление шума из текстовых данных</strong></a></span><ul class=\"toc-item\"><li><span><a href=\"#Удаление-элементов-HTML-форматирования\" data-toc-modified-id=\"Удаление-элементов-HTML-форматирования-3.3.1\"><span class=\"toc-item-num\">3.3.1&nbsp;&nbsp;</span><strong>Удаление элементов HTML-форматирования</strong></a></span></li><li><span><a href=\"#Удаление-сокращений\" data-toc-modified-id=\"Удаление-сокращений-3.3.2\"><span class=\"toc-item-num\">3.3.2&nbsp;&nbsp;</span><strong>Удаление сокращений</strong></a></span></li><li><span><a href=\"#Перевод-текста-в-нижний-регистр\" data-toc-modified-id=\"Перевод-текста-в-нижний-регистр-3.3.3\"><span class=\"toc-item-num\">3.3.3&nbsp;&nbsp;</span><strong>Перевод текста в нижний регистр</strong></a></span></li><li><span><a href=\"#Удаление-повторяющихся-символов-в-словах-и-повторяющихся-знаков-препинания\" data-toc-modified-id=\"Удаление-повторяющихся-символов-в-словах-и-повторяющихся-знаков-препинания-3.3.4\"><span class=\"toc-item-num\">3.3.4&nbsp;&nbsp;</span><strong>Удаление повторяющихся символов в словах и повторяющихся знаков препинания</strong></a></span></li><li><span><a href=\"#Удаление-повторяющихся-слов-в-текстах-комментариев\" data-toc-modified-id=\"Удаление-повторяющихся-слов-в-текстах-комментариев-3.3.5\"><span class=\"toc-item-num\">3.3.5&nbsp;&nbsp;</span><strong>Удаление повторяющихся слов в текстах комментариев</strong></a></span></li><li><span><a href=\"#Удаление-эмодзи\" data-toc-modified-id=\"Удаление-эмодзи-3.3.6\"><span class=\"toc-item-num\">3.3.6&nbsp;&nbsp;</span><strong>Удаление эмодзи</strong></a></span></li></ul></li><li><span><a href=\"#Удаление-специальных-символов\" data-toc-modified-id=\"Удаление-специальных-символов-3.4\"><span class=\"toc-item-num\">3.4&nbsp;&nbsp;</span><strong>Удаление специальных символов</strong></a></span><ul class=\"toc-item\"><li><span><a href=\"#Удаление-всех-небуквенных-символов\" data-toc-modified-id=\"Удаление-всех-небуквенных-символов-3.4.1\"><span class=\"toc-item-num\">3.4.1&nbsp;&nbsp;</span><strong>Удаление всех небуквенных символов</strong></a></span></li><li><span><a href=\"#Удаление-одиночных-буквенных-символов\" data-toc-modified-id=\"Удаление-одиночных-буквенных-символов-3.4.2\"><span class=\"toc-item-num\">3.4.2&nbsp;&nbsp;</span><strong>Удаление одиночных буквенных символов</strong></a></span></li></ul></li><li><span><a href=\"#Удаление-стоп-слов-(самых-часто-встречающихся-слов)\" data-toc-modified-id=\"Удаление-стоп-слов-(самых-часто-встречающихся-слов)-3.5\"><span class=\"toc-item-num\">3.5&nbsp;&nbsp;</span><strong>Удаление стоп-слов (самых часто встречающихся слов)</strong></a></span></li><li><span><a href=\"#Стэмминг-и-лемматизация\" data-toc-modified-id=\"Стэмминг-и-лемматизация-3.6\"><span class=\"toc-item-num\">3.6&nbsp;&nbsp;</span><strong>Стэмминг и лемматизация</strong></a></span></li><li><span><a href=\"#Проверка-устранения-шума-на-примере-текста-из-наблюдения-data.text[50]\" data-toc-modified-id=\"Проверка-устранения-шума-на-примере-текста-из-наблюдения-data.text[50]-3.7\"><span class=\"toc-item-num\">3.7&nbsp;&nbsp;</span><strong>Проверка устранения шума на примере текста из наблюдения data.text[50]</strong></a></span></li><li><span><a href=\"#Устранение-дисбаланса-классов-в-задаче-ML-для-текстов\" data-toc-modified-id=\"Устранение-дисбаланса-классов-в-задаче-ML-для-текстов-3.8\"><span class=\"toc-item-num\">3.8&nbsp;&nbsp;</span><strong>Устранение дисбаланса классов в задаче ML для текстов</strong></a></span></li><li><span><a href=\"#Формирование-обучающего-и-тестового-комплекта\" data-toc-modified-id=\"Формирование-обучающего-и-тестового-комплекта-3.9\"><span class=\"toc-item-num\">3.9&nbsp;&nbsp;</span><strong>Формирование обучающего и тестового комплекта</strong></a></span></li></ul></li><li><span><a href=\"#Машинное-обучение-моделей\" data-toc-modified-id=\"Машинное-обучение-моделей-4\"><span class=\"toc-item-num\">4&nbsp;&nbsp;</span><font color=\"green\"><strong>Машинное обучение моделей</strong></font></a></span><ul class=\"toc-item\"><li><span><a href=\"#Обучение-модели-LogisticRegression-на-признаках,-подготовленных-с-помощью-CountVectorizer()\" data-toc-modified-id=\"Обучение-модели-LogisticRegression-на-признаках,-подготовленных-с-помощью-CountVectorizer()-4.1\"><span class=\"toc-item-num\">4.1&nbsp;&nbsp;</span><strong>Обучение модели LogisticRegression на признаках, подготовленных с помощью CountVectorizer()</strong></a></span></li><li><span><a href=\"#Обучение-модели-LogisticRegression-на-признаках,-подготовленных-с-помощью-TfidfVectorizer()\" data-toc-modified-id=\"Обучение-модели-LogisticRegression-на-признаках,-подготовленных-с-помощью-TfidfVectorizer()-4.2\"><span class=\"toc-item-num\">4.2&nbsp;&nbsp;</span><strong>Обучение модели LogisticRegression на признаках, подготовленных с помощью TfidfVectorizer()</strong></a></span></li><li><span><a href=\"#Обучение-модели-CatBoost-на-признаках,-подготовленных-с-помощью-CountVectorizer()\" data-toc-modified-id=\"Обучение-модели-CatBoost-на-признаках,-подготовленных-с-помощью-CountVectorizer()-4.3\"><span class=\"toc-item-num\">4.3&nbsp;&nbsp;</span><strong>Обучение модели CatBoost на признаках, подготовленных с помощью CountVectorizer()</strong></a></span></li><li><span><a href=\"#Обучение-модели-CatBoost-на-признаках,-подготовленных-с-помощью-TfidfVectorizer()\" data-toc-modified-id=\"Обучение-модели-CatBoost-на-признаках,-подготовленных-с-помощью-TfidfVectorizer()-4.4\"><span class=\"toc-item-num\">4.4&nbsp;&nbsp;</span><strong>Обучение модели CatBoost на признаках, подготовленных с помощью TfidfVectorizer()</strong></a></span></li><li><span><a href=\"#Обучение-модели-DecisionTreeClassifier-на-признаках,-подготовленных-с-помощью-CountVectorizer()\" data-toc-modified-id=\"Обучение-модели-DecisionTreeClassifier-на-признаках,-подготовленных-с-помощью-CountVectorizer()-4.5\"><span class=\"toc-item-num\">4.5&nbsp;&nbsp;</span><strong>Обучение модели DecisionTreeClassifier на признаках, подготовленных с помощью CountVectorizer()</strong></a></span></li><li><span><a href=\"#Обучение-модели-DecisionTreeClassifier-на-признаках,-подготовленных-с-помощью-TfidfVectorizer()\" data-toc-modified-id=\"Обучение-модели-DecisionTreeClassifier-на-признаках,-подготовленных-с-помощью-TfidfVectorizer()-4.6\"><span class=\"toc-item-num\">4.6&nbsp;&nbsp;</span><strong>Обучение модели DecisionTreeClassifier на признаках, подготовленных с помощью TfidfVectorizer()</strong></a></span></li><li><span><a href=\"#Обучение-модели-LinearSVC-на-признаках,-подготовленных-с-помощью-CountVectorizer()\" data-toc-modified-id=\"Обучение-модели-LinearSVC-на-признаках,-подготовленных-с-помощью-CountVectorizer()-4.7\"><span class=\"toc-item-num\">4.7&nbsp;&nbsp;</span><strong>Обучение модели LinearSVC на признаках, подготовленных с помощью CountVectorizer()</strong></a></span></li><li><span><a href=\"#Обучение-модели-LinearSVC-на-признаках,-подготовленных-с-помощью-TfidfVectorizer()\" data-toc-modified-id=\"Обучение-модели-LinearSVC-на-признаках,-подготовленных-с-помощью-TfidfVectorizer()-4.8\"><span class=\"toc-item-num\">4.8&nbsp;&nbsp;</span><strong>Обучение модели LinearSVC на признаках, подготовленных с помощью TfidfVectorizer()</strong></a></span></li><li><span><a href=\"#Обобщение-результатов-обучения-моделей\" data-toc-modified-id=\"Обобщение-результатов-обучения-моделей-4.9\"><span class=\"toc-item-num\">4.9&nbsp;&nbsp;</span><strong>Обобщение результатов обучения моделей</strong></a></span></li></ul></li><li><span><a href=\"#Проверка-лучшей-модели-на-тестовой-выборке\" data-toc-modified-id=\"Проверка-лучшей-модели-на-тестовой-выборке-5\"><span class=\"toc-item-num\">5&nbsp;&nbsp;</span><font color=\"green\"><strong>Проверка лучшей модели на тестовой выборке</strong></font></a></span><ul class=\"toc-item\"><li><span><a href=\"#Тестовая-проверка-модели-LinearSVC\" data-toc-modified-id=\"Тестовая-проверка-модели-LinearSVC-5.1\"><span class=\"toc-item-num\">5.1&nbsp;&nbsp;</span><strong>Тестовая проверка модели LinearSVC</strong></a></span></li><li><span><a href=\"#Тестовая-проверка-модели-DummyClassifier-на-признаках,-подготовленных-с-помощью-TfidfVectorizer()\" data-toc-modified-id=\"Тестовая-проверка-модели-DummyClassifier-на-признаках,-подготовленных-с-помощью-TfidfVectorizer()-5.2\"><span class=\"toc-item-num\">5.2&nbsp;&nbsp;</span><strong>Тестовая проверка модели DummyClassifier на признаках, подготовленных с помощью TfidfVectorizer()</strong></a></span></li></ul></li></ul></div>"
   ]
  },
  {
   "cell_type": "markdown",
   "metadata": {
    "id": "Z208Julb4ugt"
   },
   "source": [
    "# **<font color='crimson'>ПРОЕКТ «Выявление токсичных комментариев в отзывах покупателей интернет-магазина „Викишоп‟»</font>**\n",
    "\n",
    "---\n",
    "\n",
    "**Выполнил**: Юмаев Егор"
   ]
  },
  {
   "cell_type": "markdown",
   "metadata": {
    "id": "8n5t4-ZR561b"
   },
   "source": [
    "## <font color='green'>**Введение. Описание проекта, его цель и задачи**</font>\n",
    "\n",
    "---"
   ]
  },
  {
   "cell_type": "markdown",
   "metadata": {
    "id": "v8rTkHE26MKo"
   },
   "source": [
    "После внедрения нового сервиса в интернет-магазине «Викишоп» пользователи получили возможность редактировать и дополнять описания товаров, как в вики-сообществах. Пользователи могут предлагать свои правки в описание и комментировать изменения, внесенные другими пользователями. В связи с этим интернет-магазину необходим инструмент, который поможет выявлять вероятные токсичные комментарии и отправлять их на проверку модератору.\n",
    "\n",
    "Предварительно подготовлен набор данных с разметкой комментариев."
   ]
  },
  {
   "cell_type": "markdown",
   "metadata": {
    "id": "P3PLTIhE-C-E"
   },
   "source": [
    "**Цель проекта**: построить модель классификации комментариев пользователей на позитивные (1) и негативные (0).\n",
    "\n",
    "**Целевое ограничение, по которому оценивается результат выполнения проекта**: значение метрики качества f1_score лучшей модели на тестовой выборке должно быть **>= 0.75**."
   ]
  },
  {
   "cell_type": "markdown",
   "metadata": {
    "id": "UdjKXT1z-DCU"
   },
   "source": [
    "Для достижения цели были поставлены и решены следующие **задачи**:\n",
    "\n",
    " * выполнена загрузка данных\n",
    "\n",
    " * проведен исследовательский анализ данных\n",
    "\n",
    " * обучены модели машинного обучения с разными гиперпараметрами\n",
    "\n",
    " * лучшая модель проверена на тестовой выборке\n",
    "\n",
    "Решаемая задача относится к категории задач **классификации**."
   ]
  },
  {
   "cell_type": "markdown",
   "metadata": {
    "id": "D_9lixKa-UqL"
   },
   "source": [
    "## <font color='green'>**Загрузка данных**</font>\n",
    "\n",
    "---"
   ]
  },
  {
   "cell_type": "code",
   "execution_count": 1,
   "metadata": {
    "id": "mv6onO8T39nY"
   },
   "outputs": [],
   "source": [
    "# устанавливаем библиотеку contractions,\n",
    "# инструменты которой необходимы для удаления сокращений\n",
    "!pip install -q contractions\n",
    "\n",
    "# устанавливаем библиотеку autocorrect\n",
    "# инструменты которой необходимы для исправления орфографии в текстах\n",
    "!pip install -q autocorrect"
   ]
  },
  {
   "cell_type": "code",
   "execution_count": 2,
   "metadata": {
    "id": "Tv3hleJU4Kxp"
   },
   "outputs": [],
   "source": [
    "# импортируем необходимые библиотеки, структуры данных и функции\n",
    "\n",
    "# основные библиотеки\n",
    "import pandas as pd\n",
    "import numpy as np\n",
    "import seaborn as sns\n",
    "import matplotlib.pyplot as plt\n",
    "from matplotlib import rcParams, rcParamsDefault\n",
    "import gc\n",
    "from collections import Counter\n",
    "\n",
    "# работа с текстовыми библиотеками\n",
    "import re\n",
    "from bs4 import BeautifulSoup\n",
    "import nltk\n",
    "from nltk.tokenize import ToktokTokenizer\n",
    "from nltk.stem.wordnet import WordNetLemmatizer\n",
    "from nltk.stem import PorterStemmer\n",
    "from nltk.corpus import wordnet, stopwords\n",
    "from nltk.tag.util import untag\n",
    "import contractions\n",
    "from autocorrect import Speller\n",
    "\n",
    "# подготовка к машинному обучению\n",
    "from sklearn.model_selection import train_test_split\n",
    "from sklearn.feature_extraction.text import TfidfVectorizer, CountVectorizer\n",
    "from sklearn.utils import class_weight\n",
    "\n",
    "# применение списка преобразований (шагов) и кроссвалидация\n",
    "from sklearn.pipeline import Pipeline\n",
    "from sklearn.model_selection import RandomizedSearchCV, KFold\n",
    "\n",
    "# модели машинного обучения\n",
    "from sklearn.linear_model import LogisticRegression\n",
    "from catboost import CatBoostClassifier\n",
    "from sklearn.tree import DecisionTreeClassifier\n",
    "from sklearn.svm import LinearSVC\n",
    "from sklearn.dummy import DummyClassifier\n",
    "\n",
    "# метрики машинного обучения\n",
    "from sklearn.metrics import f1_score\n",
    "\n",
    "# убираем 'красные' предупреждения\n",
    "import warnings\n",
    "warnings.filterwarnings(\"ignore\")"
   ]
  },
  {
   "cell_type": "code",
   "execution_count": 3,
   "metadata": {
    "id": "4pTE3XY_-tIm"
   },
   "outputs": [],
   "source": [
    "# настраиваем параметры отображения рисунков\n",
    "rcParams['figure.figsize'] = 7,7\n",
    "%config InlineBackend.figure_format = 'svg'\n",
    "%matplotlib inline\n",
    "factor = 10\n",
    "default_dpi = rcParamsDefault['figure.dpi']\n",
    "rcParams['figure.dpi'] = default_dpi*factor\n",
    "\n",
    "# для того, чтобы обеспечить \"читаемость\" всех столбцов,\n",
    "# применим функцию pd.set_option()\n",
    "pd.set_option('display.max_rows', None)\n",
    "pd.set_option('display.max_columns', None)"
   ]
  },
  {
   "cell_type": "code",
   "execution_count": 4,
   "metadata": {
    "colab": {
     "base_uri": "https://localhost:8080/"
    },
    "id": "0Q_K20cm-tLj",
    "outputId": "8e21f153-0742-4d22-bcab-58921dbb44d1"
   },
   "outputs": [
    {
     "name": "stdout",
     "output_type": "stream",
     "text": [
      "Datasets load from local Jupyter Notebook\n"
     ]
    }
   ],
   "source": [
    "# подгружаем файл с данными, обеспечивая указание\n",
    "# первого столбца как столбца с индексами\n",
    "try:\n",
    "    data = pd.read_csv('toxic_comments.csv', index_col = [0])\n",
    "\n",
    "    print('Datasets load from local Jupyter Notebook')\n",
    "except:\n",
    "    data = pd.read_csv(\n",
    "        'https://code.s3.yandex.net/datasets/toxic_comments.csv',\n",
    "        index_col = [0]\n",
    ")\n",
    "\n",
    "    print('Datasets load from Web')"
   ]
  },
  {
   "cell_type": "code",
   "execution_count": 5,
   "metadata": {
    "colab": {
     "base_uri": "https://localhost:8080/",
     "height": 206
    },
    "id": "ub_43JeU-tOJ",
    "outputId": "948f0097-e18e-4827-d6c9-b59f8a86a4ff",
    "scrolled": true
   },
   "outputs": [
    {
     "data": {
      "text/html": [
       "<div>\n",
       "<style scoped>\n",
       "    .dataframe tbody tr th:only-of-type {\n",
       "        vertical-align: middle;\n",
       "    }\n",
       "\n",
       "    .dataframe tbody tr th {\n",
       "        vertical-align: top;\n",
       "    }\n",
       "\n",
       "    .dataframe thead th {\n",
       "        text-align: right;\n",
       "    }\n",
       "</style>\n",
       "<table border=\"1\" class=\"dataframe\">\n",
       "  <thead>\n",
       "    <tr style=\"text-align: right;\">\n",
       "      <th></th>\n",
       "      <th>text</th>\n",
       "      <th>toxic</th>\n",
       "    </tr>\n",
       "  </thead>\n",
       "  <tbody>\n",
       "    <tr>\n",
       "      <th>0</th>\n",
       "      <td>Explanation\\nWhy the edits made under my usern...</td>\n",
       "      <td>0</td>\n",
       "    </tr>\n",
       "    <tr>\n",
       "      <th>1</th>\n",
       "      <td>D'aww! He matches this background colour I'm s...</td>\n",
       "      <td>0</td>\n",
       "    </tr>\n",
       "    <tr>\n",
       "      <th>2</th>\n",
       "      <td>Hey man, I'm really not trying to edit war. It...</td>\n",
       "      <td>0</td>\n",
       "    </tr>\n",
       "    <tr>\n",
       "      <th>3</th>\n",
       "      <td>\"\\nMore\\nI can't make any real suggestions on ...</td>\n",
       "      <td>0</td>\n",
       "    </tr>\n",
       "    <tr>\n",
       "      <th>4</th>\n",
       "      <td>You, sir, are my hero. Any chance you remember...</td>\n",
       "      <td>0</td>\n",
       "    </tr>\n",
       "  </tbody>\n",
       "</table>\n",
       "</div>"
      ],
      "text/plain": [
       "                                                text  toxic\n",
       "0  Explanation\\nWhy the edits made under my usern...      0\n",
       "1  D'aww! He matches this background colour I'm s...      0\n",
       "2  Hey man, I'm really not trying to edit war. It...      0\n",
       "3  \"\\nMore\\nI can't make any real suggestions on ...      0\n",
       "4  You, sir, are my hero. Any chance you remember...      0"
      ]
     },
     "execution_count": 5,
     "metadata": {},
     "output_type": "execute_result"
    }
   ],
   "source": [
    "# проверим, загружены ли данные, для чего выведем первые пять строк датасета\n",
    "data.head()"
   ]
  },
  {
   "cell_type": "markdown",
   "metadata": {
    "id": "IPSQH6OgMlQm"
   },
   "source": [
    "**<font color='mediumblue'>ВЫВОДЫ по 2 Загрузка данных</font>**\n",
    "\n",
    "---"
   ]
  },
  {
   "cell_type": "markdown",
   "metadata": {
    "id": "-e1jB7zqMquu"
   },
   "source": [
    "**(1)** импортированы необходимые библиотеки, структуры данных и функции\n",
    "\n",
    "**(2)** данные загружены"
   ]
  },
  {
   "cell_type": "markdown",
   "metadata": {
    "id": "NiqyWZtlM5wX"
   },
   "source": [
    "## <font color='green'>**Исследовательский анализ данных**</font>\n",
    "\n",
    "---"
   ]
  },
  {
   "cell_type": "markdown",
   "metadata": {
    "id": "eaGiW9oMSket"
   },
   "source": [
    "### **Общее изучение данных**\n",
    "\n",
    "---"
   ]
  },
  {
   "cell_type": "code",
   "execution_count": 6,
   "metadata": {
    "colab": {
     "base_uri": "https://localhost:8080/"
    },
    "id": "oCW_n7Xq-tRC",
    "outputId": "a7a816a7-72a9-4b37-a6a9-caf3d17ffd34"
   },
   "outputs": [
    {
     "data": {
      "text/plain": [
       "(159292, 2)"
      ]
     },
     "execution_count": 6,
     "metadata": {},
     "output_type": "execute_result"
    }
   ],
   "source": [
    "# посмотрим размер датасета\n",
    "data.shape"
   ]
  },
  {
   "cell_type": "markdown",
   "metadata": {
    "id": "Y-DtYq74OF8z"
   },
   "source": [
    "Датасет включает около 159.3 тыс. наблюдений (текстов пользователей), размеченных по тональности высказываний:\n",
    "\n",
    " * 0 - нейтральный/позитивный комментарий\n",
    "\n",
    " * 1 - негативный/оскорбительный комментарий\n",
    "\n",
    "Датасет включает два признака, из которых:\n",
    "\n",
    " * **'text'** - уникальный комментарий пользователя (обучающий признак)\n",
    "\n",
    " * **'toxic'** - оценка тональности комментария (целевой признак)"
   ]
  },
  {
   "cell_type": "code",
   "execution_count": 7,
   "metadata": {
    "colab": {
     "base_uri": "https://localhost:8080/",
     "height": 676
    },
    "id": "KFljJ3xl-tWk",
    "outputId": "d6203e24-14e5-49ed-db42-37d094e4d188"
   },
   "outputs": [
    {
     "data": {
      "text/html": [
       "<div>\n",
       "<style scoped>\n",
       "    .dataframe tbody tr th:only-of-type {\n",
       "        vertical-align: middle;\n",
       "    }\n",
       "\n",
       "    .dataframe tbody tr th {\n",
       "        vertical-align: top;\n",
       "    }\n",
       "\n",
       "    .dataframe thead th {\n",
       "        text-align: right;\n",
       "    }\n",
       "</style>\n",
       "<table border=\"1\" class=\"dataframe\">\n",
       "  <thead>\n",
       "    <tr style=\"text-align: right;\">\n",
       "      <th></th>\n",
       "      <th>text</th>\n",
       "      <th>toxic</th>\n",
       "    </tr>\n",
       "  </thead>\n",
       "  <tbody>\n",
       "    <tr>\n",
       "      <th>79466</th>\n",
       "      <td>linux article \\n\\nLinux and unix are esentiall...</td>\n",
       "      <td>0</td>\n",
       "    </tr>\n",
       "    <tr>\n",
       "      <th>147932</th>\n",
       "      <td>BTW - the wording on Wikipedia:Selected_annive...</td>\n",
       "      <td>0</td>\n",
       "    </tr>\n",
       "    <tr>\n",
       "      <th>131874</th>\n",
       "      <td>Done. Please don't hesitate to contact me agai...</td>\n",
       "      <td>0</td>\n",
       "    </tr>\n",
       "    <tr>\n",
       "      <th>155850</th>\n",
       "      <td>\"\\n\\n Wikipedia:Requests for arbitration/Maced...</td>\n",
       "      <td>0</td>\n",
       "    </tr>\n",
       "    <tr>\n",
       "      <th>19278</th>\n",
       "      <td>REDIRECT Talk:82nd Street – Jackson Heights (I...</td>\n",
       "      <td>0</td>\n",
       "    </tr>\n",
       "    <tr>\n",
       "      <th>70510</th>\n",
       "      <td>PER\\nThe PER stats are only available via a ES...</td>\n",
       "      <td>0</td>\n",
       "    </tr>\n",
       "    <tr>\n",
       "      <th>155655</th>\n",
       "      <td>The 2004 section should not be merged with a p...</td>\n",
       "      <td>0</td>\n",
       "    </tr>\n",
       "    <tr>\n",
       "      <th>54092</th>\n",
       "      <td>You are well aware that removing talk page com...</td>\n",
       "      <td>0</td>\n",
       "    </tr>\n",
       "    <tr>\n",
       "      <th>47298</th>\n",
       "      <td>\"\\n\\nDYK\\nOn 12 April, 2008, Did you know? was...</td>\n",
       "      <td>0</td>\n",
       "    </tr>\n",
       "    <tr>\n",
       "      <th>87642</th>\n",
       "      <td>\"\\nOf course. However the AfD was closed two d...</td>\n",
       "      <td>0</td>\n",
       "    </tr>\n",
       "    <tr>\n",
       "      <th>24241</th>\n",
       "      <td>\"\\n\\n It was a play on Baseball Bugs' mispelli...</td>\n",
       "      <td>0</td>\n",
       "    </tr>\n",
       "    <tr>\n",
       "      <th>148938</th>\n",
       "      <td>Leave My Damn User-Page &amp; Talk-Page Alone\\nSTO...</td>\n",
       "      <td>1</td>\n",
       "    </tr>\n",
       "    <tr>\n",
       "      <th>157353</th>\n",
       "      <td>Happy birthday to Andrew Frank Hatch age 117 i...</td>\n",
       "      <td>0</td>\n",
       "    </tr>\n",
       "    <tr>\n",
       "      <th>13939</th>\n",
       "      <td>fuck all this shit in to dickmania</td>\n",
       "      <td>1</td>\n",
       "    </tr>\n",
       "    <tr>\n",
       "      <th>85658</th>\n",
       "      <td>\". USA is only a PART of several nations in Am...</td>\n",
       "      <td>0</td>\n",
       "    </tr>\n",
       "    <tr>\n",
       "      <th>116659</th>\n",
       "      <td>I like the book Hatchet.Everyone should read i...</td>\n",
       "      <td>0</td>\n",
       "    </tr>\n",
       "    <tr>\n",
       "      <th>68532</th>\n",
       "      <td>\"\\nI guess that with \"\"never\"\" they mean that ...</td>\n",
       "      <td>0</td>\n",
       "    </tr>\n",
       "    <tr>\n",
       "      <th>33499</th>\n",
       "      <td>\"\\n Another issue I have is that most of the M...</td>\n",
       "      <td>0</td>\n",
       "    </tr>\n",
       "    <tr>\n",
       "      <th>96420</th>\n",
       "      <td>August 2010\\nAs per the above, you have been w...</td>\n",
       "      <td>0</td>\n",
       "    </tr>\n",
       "    <tr>\n",
       "      <th>117275</th>\n",
       "      <td>Ok, I think we are getting real close. I have ...</td>\n",
       "      <td>0</td>\n",
       "    </tr>\n",
       "  </tbody>\n",
       "</table>\n",
       "</div>"
      ],
      "text/plain": [
       "                                                     text  toxic\n",
       "79466   linux article \\n\\nLinux and unix are esentiall...      0\n",
       "147932  BTW - the wording on Wikipedia:Selected_annive...      0\n",
       "131874  Done. Please don't hesitate to contact me agai...      0\n",
       "155850  \"\\n\\n Wikipedia:Requests for arbitration/Maced...      0\n",
       "19278   REDIRECT Talk:82nd Street – Jackson Heights (I...      0\n",
       "70510   PER\\nThe PER stats are only available via a ES...      0\n",
       "155655  The 2004 section should not be merged with a p...      0\n",
       "54092   You are well aware that removing talk page com...      0\n",
       "47298   \"\\n\\nDYK\\nOn 12 April, 2008, Did you know? was...      0\n",
       "87642   \"\\nOf course. However the AfD was closed two d...      0\n",
       "24241   \"\\n\\n It was a play on Baseball Bugs' mispelli...      0\n",
       "148938  Leave My Damn User-Page & Talk-Page Alone\\nSTO...      1\n",
       "157353  Happy birthday to Andrew Frank Hatch age 117 i...      0\n",
       "13939                  fuck all this shit in to dickmania      1\n",
       "85658   \". USA is only a PART of several nations in Am...      0\n",
       "116659  I like the book Hatchet.Everyone should read i...      0\n",
       "68532   \"\\nI guess that with \"\"never\"\" they mean that ...      0\n",
       "33499   \"\\n Another issue I have is that most of the M...      0\n",
       "96420   August 2010\\nAs per the above, you have been w...      0\n",
       "117275  Ok, I think we are getting real close. I have ...      0"
      ]
     },
     "execution_count": 7,
     "metadata": {},
     "output_type": "execute_result"
    }
   ],
   "source": [
    "# выведем выбранные наугад двадцать строк датасета\n",
    "data.sample(20)"
   ]
  },
  {
   "cell_type": "code",
   "execution_count": 8,
   "metadata": {
    "colab": {
     "base_uri": "https://localhost:8080/",
     "height": 206
    },
    "id": "HOL9Qpf2-tT0",
    "outputId": "2a82fdbf-eeb7-46fc-bb6b-b1d63fd02957"
   },
   "outputs": [
    {
     "data": {
      "text/html": [
       "<div>\n",
       "<style scoped>\n",
       "    .dataframe tbody tr th:only-of-type {\n",
       "        vertical-align: middle;\n",
       "    }\n",
       "\n",
       "    .dataframe tbody tr th {\n",
       "        vertical-align: top;\n",
       "    }\n",
       "\n",
       "    .dataframe thead th {\n",
       "        text-align: right;\n",
       "    }\n",
       "</style>\n",
       "<table border=\"1\" class=\"dataframe\">\n",
       "  <thead>\n",
       "    <tr style=\"text-align: right;\">\n",
       "      <th></th>\n",
       "      <th>text</th>\n",
       "      <th>toxic</th>\n",
       "    </tr>\n",
       "  </thead>\n",
       "  <tbody>\n",
       "    <tr>\n",
       "      <th>159446</th>\n",
       "      <td>\":::::And for the second time of asking, when ...</td>\n",
       "      <td>0</td>\n",
       "    </tr>\n",
       "    <tr>\n",
       "      <th>159447</th>\n",
       "      <td>You should be ashamed of yourself \\n\\nThat is ...</td>\n",
       "      <td>0</td>\n",
       "    </tr>\n",
       "    <tr>\n",
       "      <th>159448</th>\n",
       "      <td>Spitzer \\n\\nUmm, theres no actual article for ...</td>\n",
       "      <td>0</td>\n",
       "    </tr>\n",
       "    <tr>\n",
       "      <th>159449</th>\n",
       "      <td>And it looks like it was actually you who put ...</td>\n",
       "      <td>0</td>\n",
       "    </tr>\n",
       "    <tr>\n",
       "      <th>159450</th>\n",
       "      <td>\"\\nAnd ... I really don't think you understand...</td>\n",
       "      <td>0</td>\n",
       "    </tr>\n",
       "  </tbody>\n",
       "</table>\n",
       "</div>"
      ],
      "text/plain": [
       "                                                     text  toxic\n",
       "159446  \":::::And for the second time of asking, when ...      0\n",
       "159447  You should be ashamed of yourself \\n\\nThat is ...      0\n",
       "159448  Spitzer \\n\\nUmm, theres no actual article for ...      0\n",
       "159449  And it looks like it was actually you who put ...      0\n",
       "159450  \"\\nAnd ... I really don't think you understand...      0"
      ]
     },
     "execution_count": 8,
     "metadata": {},
     "output_type": "execute_result"
    }
   ],
   "source": [
    "# выведем последние пять строк датасета\n",
    "data.tail()"
   ]
  },
  {
   "cell_type": "markdown",
   "metadata": {
    "id": "3-y8It9jQ8D2"
   },
   "source": [
    "Язык комментариев пользователей - **английский**. Следовательно, в дальнейшем будет использоваться библиотека стоп-слов для английского языка."
   ]
  },
  {
   "cell_type": "markdown",
   "metadata": {
    "id": "1kP6eNpO9ubc"
   },
   "source": [
    "Мы видим, что самый последний индекс имеет номер 159450. А число наблюдений 159292."
   ]
  },
  {
   "cell_type": "code",
   "execution_count": 9,
   "metadata": {
    "colab": {
     "base_uri": "https://localhost:8080/"
    },
    "id": "_mCrj2Ro-SqJ",
    "outputId": "cec66afe-4e18-470a-896d-554695cb3b88"
   },
   "outputs": [
    {
     "data": {
      "text/plain": [
       "True"
      ]
     },
     "execution_count": 9,
     "metadata": {},
     "output_type": "execute_result"
    }
   ],
   "source": [
    "# проверим, идут ли индексы в последовательно в порядке возрастания\n",
    "data.index.is_monotonic"
   ]
  },
  {
   "cell_type": "markdown",
   "metadata": {
    "id": "RHh_AI1B-jo-"
   },
   "source": [
    "Индексы идут последовательно в порядке возрастания. Для удобства сбросим индексы, чтобы число индексов соответствовало числу наблюдений."
   ]
  },
  {
   "cell_type": "code",
   "execution_count": 10,
   "metadata": {
    "id": "gDMo48HQ-3eD"
   },
   "outputs": [],
   "source": [
    "# сбросим индексы\n",
    "data.reset_index(drop = True, inplace = True)"
   ]
  },
  {
   "cell_type": "code",
   "execution_count": 11,
   "metadata": {
    "colab": {
     "base_uri": "https://localhost:8080/",
     "height": 206
    },
    "id": "-z1Qk89W_J6e",
    "outputId": "0ed9d7fd-8e86-4827-f714-6dcf484abd02"
   },
   "outputs": [
    {
     "data": {
      "text/html": [
       "<div>\n",
       "<style scoped>\n",
       "    .dataframe tbody tr th:only-of-type {\n",
       "        vertical-align: middle;\n",
       "    }\n",
       "\n",
       "    .dataframe tbody tr th {\n",
       "        vertical-align: top;\n",
       "    }\n",
       "\n",
       "    .dataframe thead th {\n",
       "        text-align: right;\n",
       "    }\n",
       "</style>\n",
       "<table border=\"1\" class=\"dataframe\">\n",
       "  <thead>\n",
       "    <tr style=\"text-align: right;\">\n",
       "      <th></th>\n",
       "      <th>text</th>\n",
       "      <th>toxic</th>\n",
       "    </tr>\n",
       "  </thead>\n",
       "  <tbody>\n",
       "    <tr>\n",
       "      <th>0</th>\n",
       "      <td>Explanation\\nWhy the edits made under my usern...</td>\n",
       "      <td>0</td>\n",
       "    </tr>\n",
       "    <tr>\n",
       "      <th>1</th>\n",
       "      <td>D'aww! He matches this background colour I'm s...</td>\n",
       "      <td>0</td>\n",
       "    </tr>\n",
       "    <tr>\n",
       "      <th>2</th>\n",
       "      <td>Hey man, I'm really not trying to edit war. It...</td>\n",
       "      <td>0</td>\n",
       "    </tr>\n",
       "    <tr>\n",
       "      <th>3</th>\n",
       "      <td>\"\\nMore\\nI can't make any real suggestions on ...</td>\n",
       "      <td>0</td>\n",
       "    </tr>\n",
       "    <tr>\n",
       "      <th>4</th>\n",
       "      <td>You, sir, are my hero. Any chance you remember...</td>\n",
       "      <td>0</td>\n",
       "    </tr>\n",
       "  </tbody>\n",
       "</table>\n",
       "</div>"
      ],
      "text/plain": [
       "                                                text  toxic\n",
       "0  Explanation\\nWhy the edits made under my usern...      0\n",
       "1  D'aww! He matches this background colour I'm s...      0\n",
       "2  Hey man, I'm really not trying to edit war. It...      0\n",
       "3  \"\\nMore\\nI can't make any real suggestions on ...      0\n",
       "4  You, sir, are my hero. Any chance you remember...      0"
      ]
     },
     "execution_count": 11,
     "metadata": {},
     "output_type": "execute_result"
    }
   ],
   "source": [
    "# для проверки сброса индексов выведем первые пять строк датасета\n",
    "data.head()"
   ]
  },
  {
   "cell_type": "code",
   "execution_count": 12,
   "metadata": {
    "colab": {
     "base_uri": "https://localhost:8080/",
     "height": 206
    },
    "id": "zA_vYEmM-3hX",
    "outputId": "c6a08eed-9b83-4853-f892-2705aaae33d0"
   },
   "outputs": [
    {
     "data": {
      "text/html": [
       "<div>\n",
       "<style scoped>\n",
       "    .dataframe tbody tr th:only-of-type {\n",
       "        vertical-align: middle;\n",
       "    }\n",
       "\n",
       "    .dataframe tbody tr th {\n",
       "        vertical-align: top;\n",
       "    }\n",
       "\n",
       "    .dataframe thead th {\n",
       "        text-align: right;\n",
       "    }\n",
       "</style>\n",
       "<table border=\"1\" class=\"dataframe\">\n",
       "  <thead>\n",
       "    <tr style=\"text-align: right;\">\n",
       "      <th></th>\n",
       "      <th>text</th>\n",
       "      <th>toxic</th>\n",
       "    </tr>\n",
       "  </thead>\n",
       "  <tbody>\n",
       "    <tr>\n",
       "      <th>159287</th>\n",
       "      <td>\":::::And for the second time of asking, when ...</td>\n",
       "      <td>0</td>\n",
       "    </tr>\n",
       "    <tr>\n",
       "      <th>159288</th>\n",
       "      <td>You should be ashamed of yourself \\n\\nThat is ...</td>\n",
       "      <td>0</td>\n",
       "    </tr>\n",
       "    <tr>\n",
       "      <th>159289</th>\n",
       "      <td>Spitzer \\n\\nUmm, theres no actual article for ...</td>\n",
       "      <td>0</td>\n",
       "    </tr>\n",
       "    <tr>\n",
       "      <th>159290</th>\n",
       "      <td>And it looks like it was actually you who put ...</td>\n",
       "      <td>0</td>\n",
       "    </tr>\n",
       "    <tr>\n",
       "      <th>159291</th>\n",
       "      <td>\"\\nAnd ... I really don't think you understand...</td>\n",
       "      <td>0</td>\n",
       "    </tr>\n",
       "  </tbody>\n",
       "</table>\n",
       "</div>"
      ],
      "text/plain": [
       "                                                     text  toxic\n",
       "159287  \":::::And for the second time of asking, when ...      0\n",
       "159288  You should be ashamed of yourself \\n\\nThat is ...      0\n",
       "159289  Spitzer \\n\\nUmm, theres no actual article for ...      0\n",
       "159290  And it looks like it was actually you who put ...      0\n",
       "159291  \"\\nAnd ... I really don't think you understand...      0"
      ]
     },
     "execution_count": 12,
     "metadata": {},
     "output_type": "execute_result"
    }
   ],
   "source": [
    "# для проверки сброса индексов выведем последние пять строк датасета\n",
    "data.tail()"
   ]
  },
  {
   "cell_type": "markdown",
   "metadata": {
    "id": "WQTT6kmTh3Oq"
   },
   "source": [
    "Выведем пять нейтральных и пять токсичных комментариев, - чтобы в целом понять логику разметки текстов комментариев."
   ]
  },
  {
   "cell_type": "code",
   "execution_count": 13,
   "metadata": {
    "colab": {
     "base_uri": "https://localhost:8080/"
    },
    "id": "VfzrWlFLiVJb",
    "outputId": "b2efe0ab-74c8-42f1-af1c-26bbaefbd342"
   },
   "outputs": [
    {
     "name": "stdout",
     "output_type": "stream",
     "text": [
      "Explanation\n",
      "Why the edits made under my username Hardcore Metallica Fan were reverted? They weren't vandalisms, just closure on some GAs after I voted at New York Dolls FAC. And please don't remove the template from the talk page since I'm retired now.89.205.38.27\n",
      "--------------------------------\n",
      "D'aww! He matches this background colour I'm seemingly stuck with. Thanks.  (talk) 21:51, January 11, 2016 (UTC)\n",
      "--------------------------------\n",
      "Hey man, I'm really not trying to edit war. It's just that this guy is constantly removing relevant information and talking to me through edits instead of my talk page. He seems to care more about the formatting than the actual info.\n",
      "--------------------------------\n",
      "\"\n",
      "More\n",
      "I can't make any real suggestions on improvement - I wondered if the section statistics should be later on, or a subsection of \"\"types of accidents\"\"  -I think the references may need tidying so that they are all in the exact same format ie date format etc. I can do that later on, if no-one else does first - if you have any preferences for formatting style on references or want to do it yourself please let me know.\n",
      "\n",
      "There appears to be a backlog on articles for review so I guess there may be a delay until a reviewer turns up. It's listed in the relevant form eg Wikipedia:Good_article_nominations#Transport  \"\n",
      "--------------------------------\n",
      "You, sir, are my hero. Any chance you remember what page that's on?\n",
      "--------------------------------\n"
     ]
    }
   ],
   "source": [
    "# выведем пять нейтральных комментариев\n",
    "for comment in data[data[\"toxic\"] == 0]['text'].head(5):\n",
    "    print(comment)\n",
    "    print('--------------------------------')"
   ]
  },
  {
   "cell_type": "code",
   "execution_count": 14,
   "metadata": {
    "colab": {
     "base_uri": "https://localhost:8080/"
    },
    "id": "WkD4NI2biVTB",
    "outputId": "c2ba2879-807b-41c5-8b54-494449ec24d3"
   },
   "outputs": [
    {
     "name": "stdout",
     "output_type": "stream",
     "text": [
      "COCKSUCKER BEFORE YOU PISS AROUND ON MY WORK\n",
      "--------------------------------\n",
      "Hey... what is it..\n",
      "@ | talk .\n",
      "What is it... an exclusive group of some WP TALIBANS...who are good at destroying, self-appointed purist who GANG UP any one who asks them questions abt their ANTI-SOCIAL and DESTRUCTIVE (non)-contribution at WP?\n",
      "\n",
      "Ask Sityush to clean up his behavior than issue me nonsensical warnings...\n",
      "--------------------------------\n",
      "Bye! \n",
      "\n",
      "Don't look, come or think of comming back! Tosser.\n",
      "--------------------------------\n",
      "You are gay or antisemmitian? \n",
      "\n",
      "Archangel WHite Tiger\n",
      "\n",
      "Meow! Greetingshhh!\n",
      "\n",
      "Uh, there are two ways, why you do erased my comment about WW2, that holocaust was brutally slaying of Jews and not gays/Gypsys/Slavs/anyone...\n",
      "\n",
      "1 - If you are anti-semitian, than shave your head bald and go to the skinhead meetings!\n",
      "\n",
      "2 - If you doubt words of the Bible, that homosexuality is a deadly sin, make a pentagram tatoo on your forehead go to the satanistic masses with your gay pals!\n",
      "\n",
      "3 - First and last warning, you fucking gay - I won't appreciate if any more nazi shwain would write in my page! I don't wish to talk to you anymore!\n",
      "\n",
      "Beware of the Dark Side!\n",
      "--------------------------------\n",
      "FUCK YOUR FILTHY MOTHER IN THE ASS, DRY!\n",
      "--------------------------------\n"
     ]
    }
   ],
   "source": [
    "# выведем пять токсичных комментариев\n",
    "for comment in data[data[\"toxic\"] == 1]['text'].head(5):\n",
    "    print(comment)\n",
    "    print('--------------------------------')"
   ]
  },
  {
   "cell_type": "markdown",
   "metadata": {
    "id": "_BI_t0p2jPfa"
   },
   "source": [
    "Мы видим, что отнесение комментариев к токсичным или нейтральным среди выведенных комментариев пользователей сделано верно, логика разметки комментариев понятна."
   ]
  },
  {
   "cell_type": "code",
   "execution_count": 15,
   "metadata": {
    "colab": {
     "base_uri": "https://localhost:8080/"
    },
    "id": "2KiuMUB-4K0n",
    "outputId": "481ba73f-d8e0-4d73-c555-d8680174c748"
   },
   "outputs": [
    {
     "data": {
      "text/plain": [
       "text     object\n",
       "toxic     int64\n",
       "dtype: object"
      ]
     },
     "execution_count": 15,
     "metadata": {},
     "output_type": "execute_result"
    }
   ],
   "source": [
    "# проверим тип данных столбцов датасета\n",
    "data.dtypes"
   ]
  },
  {
   "cell_type": "markdown",
   "metadata": {
    "id": "T_qgbEEJRfT0"
   },
   "source": [
    "Тип данных соответствует ожиданиям."
   ]
  },
  {
   "cell_type": "code",
   "execution_count": 16,
   "metadata": {
    "colab": {
     "base_uri": "https://localhost:8080/"
    },
    "id": "lNA7Yxjl4K31",
    "outputId": "9ebd83bd-5cb9-455e-e6ac-0b3afaf40908"
   },
   "outputs": [
    {
     "data": {
      "text/plain": [
       "text     0.0\n",
       "toxic    0.0\n",
       "dtype: float64"
      ]
     },
     "execution_count": 16,
     "metadata": {},
     "output_type": "execute_result"
    }
   ],
   "source": [
    "# определим, есть ли пропуски в стобцах датасета\n",
    "data.isna().sum() / data.shape[0] * 100"
   ]
  },
  {
   "cell_type": "markdown",
   "metadata": {
    "id": "rGe056-ZSElu"
   },
   "source": [
    "Пропущенных значений в датасете нет."
   ]
  },
  {
   "cell_type": "code",
   "execution_count": 17,
   "metadata": {
    "colab": {
     "base_uri": "https://localhost:8080/"
    },
    "id": "6hZA4xgy4K63",
    "outputId": "12975931-f6b1-49e7-c210-b05369413fb2"
   },
   "outputs": [
    {
     "data": {
      "text/plain": [
       "0"
      ]
     },
     "execution_count": 17,
     "metadata": {},
     "output_type": "execute_result"
    }
   ],
   "source": [
    "# проверим датасет на наличие явных дубликатов\n",
    "data.duplicated().sum()"
   ]
  },
  {
   "cell_type": "markdown",
   "metadata": {
    "id": "aMvqGxGVSYsA"
   },
   "source": [
    "Явных дубликатов в датасете нет."
   ]
  },
  {
   "cell_type": "code",
   "execution_count": 18,
   "metadata": {
    "colab": {
     "base_uri": "https://localhost:8080/",
     "height": 373
    },
    "id": "jFjxaL-ISDn3",
    "outputId": "8a3dad8d-5fa2-4477-9001-3111f25f232e"
   },
   "outputs": [
    {
     "data": {
      "image/svg+xml": [
       "<?xml version=\"1.0\" encoding=\"utf-8\" standalone=\"no\"?>\n",
       "<!DOCTYPE svg PUBLIC \"-//W3C//DTD SVG 1.1//EN\"\n",
       "  \"http://www.w3.org/Graphics/SVG/1.1/DTD/svg11.dtd\">\n",
       "<svg xmlns:xlink=\"http://www.w3.org/1999/xlink\" width=\"316.303125pt\" height=\"157.07625pt\" viewBox=\"0 0 316.303125 157.07625\" xmlns=\"http://www.w3.org/2000/svg\" version=\"1.1\">\n",
       " <metadata>\n",
       "  <rdf:RDF xmlns:dc=\"http://purl.org/dc/elements/1.1/\" xmlns:cc=\"http://creativecommons.org/ns#\" xmlns:rdf=\"http://www.w3.org/1999/02/22-rdf-syntax-ns#\">\n",
       "   <cc:Work>\n",
       "    <dc:type rdf:resource=\"http://purl.org/dc/dcmitype/StillImage\"/>\n",
       "    <dc:date>2023-09-20T21:09:34.499369</dc:date>\n",
       "    <dc:format>image/svg+xml</dc:format>\n",
       "    <dc:creator>\n",
       "     <cc:Agent>\n",
       "      <dc:title>Matplotlib v3.6.3, https://matplotlib.org/</dc:title>\n",
       "     </cc:Agent>\n",
       "    </dc:creator>\n",
       "   </cc:Work>\n",
       "  </rdf:RDF>\n",
       " </metadata>\n",
       " <defs>\n",
       "  <style type=\"text/css\">*{stroke-linejoin: round; stroke-linecap: butt}</style>\n",
       " </defs>\n",
       " <g id=\"figure_1\">\n",
       "  <g id=\"patch_1\">\n",
       "   <path d=\"M 0 157.07625 \n",
       "L 316.303125 157.07625 \n",
       "L 316.303125 0 \n",
       "L 0 0 \n",
       "z\n",
       "\" style=\"fill: #ffffff\"/>\n",
       "  </g>\n",
       "  <g id=\"axes_1\">\n",
       "   <g id=\"patch_2\">\n",
       "    <path d=\"M 30.103125 133.198125 \n",
       "L 309.103125 133.198125 \n",
       "L 309.103125 22.318125 \n",
       "L 30.103125 22.318125 \n",
       "z\n",
       "\" style=\"fill: #ffffff\"/>\n",
       "   </g>\n",
       "   <g id=\"patch_3\">\n",
       "    <path d=\"M 64.978125 133.198125 \n",
       "L 134.728125 133.198125 \n",
       "L 134.728125 27.598125 \n",
       "L 64.978125 27.598125 \n",
       "z\n",
       "\" clip-path=\"url(#pf601c5d0aa)\" style=\"fill: #f08080\"/>\n",
       "   </g>\n",
       "   <g id=\"patch_4\">\n",
       "    <path d=\"M 204.478125 133.198125 \n",
       "L 274.228125 133.198125 \n",
       "L 274.228125 121.25424 \n",
       "L 204.478125 121.25424 \n",
       "z\n",
       "\" clip-path=\"url(#pf601c5d0aa)\" style=\"fill: #f08080\"/>\n",
       "   </g>\n",
       "   <g id=\"matplotlib.axis_1\">\n",
       "    <g id=\"xtick_1\">\n",
       "     <g id=\"line2d_1\">\n",
       "      <path d=\"M 99.853125 133.198125 \n",
       "L 99.853125 22.318125 \n",
       "\" clip-path=\"url(#pf601c5d0aa)\" style=\"fill: none; stroke: #b0b0b0; stroke-width: 0.8; stroke-linecap: square\"/>\n",
       "     </g>\n",
       "     <g id=\"line2d_2\">\n",
       "      <defs>\n",
       "       <path id=\"m69247cd3c6\" d=\"M 0 0 \n",
       "L 0 3.5 \n",
       "\" style=\"stroke: #000000; stroke-width: 0.8\"/>\n",
       "      </defs>\n",
       "      <g>\n",
       "       <use xlink:href=\"#m69247cd3c6\" x=\"99.853125\" y=\"133.198125\" style=\"stroke: #000000; stroke-width: 0.8\"/>\n",
       "      </g>\n",
       "     </g>\n",
       "     <g id=\"text_1\">\n",
       "      <!-- 0 -->\n",
       "      <g transform=\"translate(96.671875 147.796563) scale(0.1 -0.1)\">\n",
       "       <defs>\n",
       "        <path id=\"DejaVuSans-30\" d=\"M 2034 4250 \n",
       "Q 1547 4250 1301 3770 \n",
       "Q 1056 3291 1056 2328 \n",
       "Q 1056 1369 1301 889 \n",
       "Q 1547 409 2034 409 \n",
       "Q 2525 409 2770 889 \n",
       "Q 3016 1369 3016 2328 \n",
       "Q 3016 3291 2770 3770 \n",
       "Q 2525 4250 2034 4250 \n",
       "z\n",
       "M 2034 4750 \n",
       "Q 2819 4750 3233 4129 \n",
       "Q 3647 3509 3647 2328 \n",
       "Q 3647 1150 3233 529 \n",
       "Q 2819 -91 2034 -91 \n",
       "Q 1250 -91 836 529 \n",
       "Q 422 1150 422 2328 \n",
       "Q 422 3509 836 4129 \n",
       "Q 1250 4750 2034 4750 \n",
       "z\n",
       "\" transform=\"scale(0.015625)\"/>\n",
       "       </defs>\n",
       "       <use xlink:href=\"#DejaVuSans-30\"/>\n",
       "      </g>\n",
       "     </g>\n",
       "    </g>\n",
       "    <g id=\"xtick_2\">\n",
       "     <g id=\"line2d_3\">\n",
       "      <path d=\"M 239.353125 133.198125 \n",
       "L 239.353125 22.318125 \n",
       "\" clip-path=\"url(#pf601c5d0aa)\" style=\"fill: none; stroke: #b0b0b0; stroke-width: 0.8; stroke-linecap: square\"/>\n",
       "     </g>\n",
       "     <g id=\"line2d_4\">\n",
       "      <g>\n",
       "       <use xlink:href=\"#m69247cd3c6\" x=\"239.353125\" y=\"133.198125\" style=\"stroke: #000000; stroke-width: 0.8\"/>\n",
       "      </g>\n",
       "     </g>\n",
       "     <g id=\"text_2\">\n",
       "      <!-- 1 -->\n",
       "      <g transform=\"translate(236.171875 147.796563) scale(0.1 -0.1)\">\n",
       "       <defs>\n",
       "        <path id=\"DejaVuSans-31\" d=\"M 794 531 \n",
       "L 1825 531 \n",
       "L 1825 4091 \n",
       "L 703 3866 \n",
       "L 703 4441 \n",
       "L 1819 4666 \n",
       "L 2450 4666 \n",
       "L 2450 531 \n",
       "L 3481 531 \n",
       "L 3481 0 \n",
       "L 794 0 \n",
       "L 794 531 \n",
       "z\n",
       "\" transform=\"scale(0.015625)\"/>\n",
       "       </defs>\n",
       "       <use xlink:href=\"#DejaVuSans-31\"/>\n",
       "      </g>\n",
       "     </g>\n",
       "    </g>\n",
       "   </g>\n",
       "   <g id=\"matplotlib.axis_2\">\n",
       "    <g id=\"ytick_1\">\n",
       "     <g id=\"line2d_5\">\n",
       "      <path d=\"M 30.103125 133.198125 \n",
       "L 309.103125 133.198125 \n",
       "\" clip-path=\"url(#pf601c5d0aa)\" style=\"fill: none; stroke: #b0b0b0; stroke-width: 0.8; stroke-linecap: square\"/>\n",
       "     </g>\n",
       "     <g id=\"line2d_6\">\n",
       "      <defs>\n",
       "       <path id=\"mbb85f00eef\" d=\"M 0 0 \n",
       "L -3.5 0 \n",
       "\" style=\"stroke: #000000; stroke-width: 0.8\"/>\n",
       "      </defs>\n",
       "      <g>\n",
       "       <use xlink:href=\"#mbb85f00eef\" x=\"30.103125\" y=\"133.198125\" style=\"stroke: #000000; stroke-width: 0.8\"/>\n",
       "      </g>\n",
       "     </g>\n",
       "     <g id=\"text_3\">\n",
       "      <!-- 0.0 -->\n",
       "      <g transform=\"translate(7.2 136.997344) scale(0.1 -0.1)\">\n",
       "       <defs>\n",
       "        <path id=\"DejaVuSans-2e\" d=\"M 684 794 \n",
       "L 1344 794 \n",
       "L 1344 0 \n",
       "L 684 0 \n",
       "L 684 794 \n",
       "z\n",
       "\" transform=\"scale(0.015625)\"/>\n",
       "       </defs>\n",
       "       <use xlink:href=\"#DejaVuSans-30\"/>\n",
       "       <use xlink:href=\"#DejaVuSans-2e\" x=\"63.623047\"/>\n",
       "       <use xlink:href=\"#DejaVuSans-30\" x=\"95.410156\"/>\n",
       "      </g>\n",
       "     </g>\n",
       "    </g>\n",
       "    <g id=\"ytick_2\">\n",
       "     <g id=\"line2d_7\">\n",
       "      <path d=\"M 30.103125 109.689348 \n",
       "L 309.103125 109.689348 \n",
       "\" clip-path=\"url(#pf601c5d0aa)\" style=\"fill: none; stroke: #b0b0b0; stroke-width: 0.8; stroke-linecap: square\"/>\n",
       "     </g>\n",
       "     <g id=\"line2d_8\">\n",
       "      <g>\n",
       "       <use xlink:href=\"#mbb85f00eef\" x=\"30.103125\" y=\"109.689348\" style=\"stroke: #000000; stroke-width: 0.8\"/>\n",
       "      </g>\n",
       "     </g>\n",
       "     <g id=\"text_4\">\n",
       "      <!-- 0.2 -->\n",
       "      <g transform=\"translate(7.2 113.488567) scale(0.1 -0.1)\">\n",
       "       <defs>\n",
       "        <path id=\"DejaVuSans-32\" d=\"M 1228 531 \n",
       "L 3431 531 \n",
       "L 3431 0 \n",
       "L 469 0 \n",
       "L 469 531 \n",
       "Q 828 903 1448 1529 \n",
       "Q 2069 2156 2228 2338 \n",
       "Q 2531 2678 2651 2914 \n",
       "Q 2772 3150 2772 3378 \n",
       "Q 2772 3750 2511 3984 \n",
       "Q 2250 4219 1831 4219 \n",
       "Q 1534 4219 1204 4116 \n",
       "Q 875 4013 500 3803 \n",
       "L 500 4441 \n",
       "Q 881 4594 1212 4672 \n",
       "Q 1544 4750 1819 4750 \n",
       "Q 2544 4750 2975 4387 \n",
       "Q 3406 4025 3406 3419 \n",
       "Q 3406 3131 3298 2873 \n",
       "Q 3191 2616 2906 2266 \n",
       "Q 2828 2175 2409 1742 \n",
       "Q 1991 1309 1228 531 \n",
       "z\n",
       "\" transform=\"scale(0.015625)\"/>\n",
       "       </defs>\n",
       "       <use xlink:href=\"#DejaVuSans-30\"/>\n",
       "       <use xlink:href=\"#DejaVuSans-2e\" x=\"63.623047\"/>\n",
       "       <use xlink:href=\"#DejaVuSans-32\" x=\"95.410156\"/>\n",
       "      </g>\n",
       "     </g>\n",
       "    </g>\n",
       "    <g id=\"ytick_3\">\n",
       "     <g id=\"line2d_9\">\n",
       "      <path d=\"M 30.103125 86.180571 \n",
       "L 309.103125 86.180571 \n",
       "\" clip-path=\"url(#pf601c5d0aa)\" style=\"fill: none; stroke: #b0b0b0; stroke-width: 0.8; stroke-linecap: square\"/>\n",
       "     </g>\n",
       "     <g id=\"line2d_10\">\n",
       "      <g>\n",
       "       <use xlink:href=\"#mbb85f00eef\" x=\"30.103125\" y=\"86.180571\" style=\"stroke: #000000; stroke-width: 0.8\"/>\n",
       "      </g>\n",
       "     </g>\n",
       "     <g id=\"text_5\">\n",
       "      <!-- 0.4 -->\n",
       "      <g transform=\"translate(7.2 89.97979) scale(0.1 -0.1)\">\n",
       "       <defs>\n",
       "        <path id=\"DejaVuSans-34\" d=\"M 2419 4116 \n",
       "L 825 1625 \n",
       "L 2419 1625 \n",
       "L 2419 4116 \n",
       "z\n",
       "M 2253 4666 \n",
       "L 3047 4666 \n",
       "L 3047 1625 \n",
       "L 3713 1625 \n",
       "L 3713 1100 \n",
       "L 3047 1100 \n",
       "L 3047 0 \n",
       "L 2419 0 \n",
       "L 2419 1100 \n",
       "L 313 1100 \n",
       "L 313 1709 \n",
       "L 2253 4666 \n",
       "z\n",
       "\" transform=\"scale(0.015625)\"/>\n",
       "       </defs>\n",
       "       <use xlink:href=\"#DejaVuSans-30\"/>\n",
       "       <use xlink:href=\"#DejaVuSans-2e\" x=\"63.623047\"/>\n",
       "       <use xlink:href=\"#DejaVuSans-34\" x=\"95.410156\"/>\n",
       "      </g>\n",
       "     </g>\n",
       "    </g>\n",
       "    <g id=\"ytick_4\">\n",
       "     <g id=\"line2d_11\">\n",
       "      <path d=\"M 30.103125 62.671794 \n",
       "L 309.103125 62.671794 \n",
       "\" clip-path=\"url(#pf601c5d0aa)\" style=\"fill: none; stroke: #b0b0b0; stroke-width: 0.8; stroke-linecap: square\"/>\n",
       "     </g>\n",
       "     <g id=\"line2d_12\">\n",
       "      <g>\n",
       "       <use xlink:href=\"#mbb85f00eef\" x=\"30.103125\" y=\"62.671794\" style=\"stroke: #000000; stroke-width: 0.8\"/>\n",
       "      </g>\n",
       "     </g>\n",
       "     <g id=\"text_6\">\n",
       "      <!-- 0.6 -->\n",
       "      <g transform=\"translate(7.2 66.471013) scale(0.1 -0.1)\">\n",
       "       <defs>\n",
       "        <path id=\"DejaVuSans-36\" d=\"M 2113 2584 \n",
       "Q 1688 2584 1439 2293 \n",
       "Q 1191 2003 1191 1497 \n",
       "Q 1191 994 1439 701 \n",
       "Q 1688 409 2113 409 \n",
       "Q 2538 409 2786 701 \n",
       "Q 3034 994 3034 1497 \n",
       "Q 3034 2003 2786 2293 \n",
       "Q 2538 2584 2113 2584 \n",
       "z\n",
       "M 3366 4563 \n",
       "L 3366 3988 \n",
       "Q 3128 4100 2886 4159 \n",
       "Q 2644 4219 2406 4219 \n",
       "Q 1781 4219 1451 3797 \n",
       "Q 1122 3375 1075 2522 \n",
       "Q 1259 2794 1537 2939 \n",
       "Q 1816 3084 2150 3084 \n",
       "Q 2853 3084 3261 2657 \n",
       "Q 3669 2231 3669 1497 \n",
       "Q 3669 778 3244 343 \n",
       "Q 2819 -91 2113 -91 \n",
       "Q 1303 -91 875 529 \n",
       "Q 447 1150 447 2328 \n",
       "Q 447 3434 972 4092 \n",
       "Q 1497 4750 2381 4750 \n",
       "Q 2619 4750 2861 4703 \n",
       "Q 3103 4656 3366 4563 \n",
       "z\n",
       "\" transform=\"scale(0.015625)\"/>\n",
       "       </defs>\n",
       "       <use xlink:href=\"#DejaVuSans-30\"/>\n",
       "       <use xlink:href=\"#DejaVuSans-2e\" x=\"63.623047\"/>\n",
       "       <use xlink:href=\"#DejaVuSans-36\" x=\"95.410156\"/>\n",
       "      </g>\n",
       "     </g>\n",
       "    </g>\n",
       "    <g id=\"ytick_5\">\n",
       "     <g id=\"line2d_13\">\n",
       "      <path d=\"M 30.103125 39.163017 \n",
       "L 309.103125 39.163017 \n",
       "\" clip-path=\"url(#pf601c5d0aa)\" style=\"fill: none; stroke: #b0b0b0; stroke-width: 0.8; stroke-linecap: square\"/>\n",
       "     </g>\n",
       "     <g id=\"line2d_14\">\n",
       "      <g>\n",
       "       <use xlink:href=\"#mbb85f00eef\" x=\"30.103125\" y=\"39.163017\" style=\"stroke: #000000; stroke-width: 0.8\"/>\n",
       "      </g>\n",
       "     </g>\n",
       "     <g id=\"text_7\">\n",
       "      <!-- 0.8 -->\n",
       "      <g transform=\"translate(7.2 42.962236) scale(0.1 -0.1)\">\n",
       "       <defs>\n",
       "        <path id=\"DejaVuSans-38\" d=\"M 2034 2216 \n",
       "Q 1584 2216 1326 1975 \n",
       "Q 1069 1734 1069 1313 \n",
       "Q 1069 891 1326 650 \n",
       "Q 1584 409 2034 409 \n",
       "Q 2484 409 2743 651 \n",
       "Q 3003 894 3003 1313 \n",
       "Q 3003 1734 2745 1975 \n",
       "Q 2488 2216 2034 2216 \n",
       "z\n",
       "M 1403 2484 \n",
       "Q 997 2584 770 2862 \n",
       "Q 544 3141 544 3541 \n",
       "Q 544 4100 942 4425 \n",
       "Q 1341 4750 2034 4750 \n",
       "Q 2731 4750 3128 4425 \n",
       "Q 3525 4100 3525 3541 \n",
       "Q 3525 3141 3298 2862 \n",
       "Q 3072 2584 2669 2484 \n",
       "Q 3125 2378 3379 2068 \n",
       "Q 3634 1759 3634 1313 \n",
       "Q 3634 634 3220 271 \n",
       "Q 2806 -91 2034 -91 \n",
       "Q 1263 -91 848 271 \n",
       "Q 434 634 434 1313 \n",
       "Q 434 1759 690 2068 \n",
       "Q 947 2378 1403 2484 \n",
       "z\n",
       "M 1172 3481 \n",
       "Q 1172 3119 1398 2916 \n",
       "Q 1625 2713 2034 2713 \n",
       "Q 2441 2713 2670 2916 \n",
       "Q 2900 3119 2900 3481 \n",
       "Q 2900 3844 2670 4047 \n",
       "Q 2441 4250 2034 4250 \n",
       "Q 1625 4250 1398 4047 \n",
       "Q 1172 3844 1172 3481 \n",
       "z\n",
       "\" transform=\"scale(0.015625)\"/>\n",
       "       </defs>\n",
       "       <use xlink:href=\"#DejaVuSans-30\"/>\n",
       "       <use xlink:href=\"#DejaVuSans-2e\" x=\"63.623047\"/>\n",
       "       <use xlink:href=\"#DejaVuSans-38\" x=\"95.410156\"/>\n",
       "      </g>\n",
       "     </g>\n",
       "    </g>\n",
       "   </g>\n",
       "   <g id=\"patch_5\">\n",
       "    <path d=\"M 30.103125 133.198125 \n",
       "L 30.103125 22.318125 \n",
       "\" style=\"fill: none; stroke: #000000; stroke-width: 0.8; stroke-linejoin: miter; stroke-linecap: square\"/>\n",
       "   </g>\n",
       "   <g id=\"patch_6\">\n",
       "    <path d=\"M 309.103125 133.198125 \n",
       "L 309.103125 22.318125 \n",
       "\" style=\"fill: none; stroke: #000000; stroke-width: 0.8; stroke-linejoin: miter; stroke-linecap: square\"/>\n",
       "   </g>\n",
       "   <g id=\"patch_7\">\n",
       "    <path d=\"M 30.103125 133.198125 \n",
       "L 309.103125 133.198125 \n",
       "\" style=\"fill: none; stroke: #000000; stroke-width: 0.8; stroke-linejoin: miter; stroke-linecap: square\"/>\n",
       "   </g>\n",
       "   <g id=\"patch_8\">\n",
       "    <path d=\"M 30.103125 22.318125 \n",
       "L 309.103125 22.318125 \n",
       "\" style=\"fill: none; stroke: #000000; stroke-width: 0.8; stroke-linejoin: miter; stroke-linecap: square\"/>\n",
       "   </g>\n",
       "   <g id=\"text_8\">\n",
       "    <!-- Распределение комментариев по классам -->\n",
       "    <g transform=\"translate(35.382188 16.318125) scale(0.12 -0.12)\">\n",
       "     <defs>\n",
       "      <path id=\"DejaVuSans-420\" d=\"M 1259 4147 \n",
       "L 1259 2394 \n",
       "L 2053 2394 \n",
       "Q 2494 2394 2734 2622 \n",
       "Q 2975 2850 2975 3272 \n",
       "Q 2975 3691 2734 3919 \n",
       "Q 2494 4147 2053 4147 \n",
       "L 1259 4147 \n",
       "z\n",
       "M 628 4666 \n",
       "L 2053 4666 \n",
       "Q 2838 4666 3239 4311 \n",
       "Q 3641 3956 3641 3272 \n",
       "Q 3641 2581 3239 2228 \n",
       "Q 2838 1875 2053 1875 \n",
       "L 1259 1875 \n",
       "L 1259 0 \n",
       "L 628 0 \n",
       "L 628 4666 \n",
       "z\n",
       "\" transform=\"scale(0.015625)\"/>\n",
       "      <path id=\"DejaVuSans-430\" d=\"M 2194 1759 \n",
       "Q 1497 1759 1228 1600 \n",
       "Q 959 1441 959 1056 \n",
       "Q 959 750 1161 570 \n",
       "Q 1363 391 1709 391 \n",
       "Q 2188 391 2477 730 \n",
       "Q 2766 1069 2766 1631 \n",
       "L 2766 1759 \n",
       "L 2194 1759 \n",
       "z\n",
       "M 3341 1997 \n",
       "L 3341 0 \n",
       "L 2766 0 \n",
       "L 2766 531 \n",
       "Q 2569 213 2275 61 \n",
       "Q 1981 -91 1556 -91 \n",
       "Q 1019 -91 701 211 \n",
       "Q 384 513 384 1019 \n",
       "Q 384 1609 779 1909 \n",
       "Q 1175 2209 1959 2209 \n",
       "L 2766 2209 \n",
       "L 2766 2266 \n",
       "Q 2766 2663 2505 2880 \n",
       "Q 2244 3097 1772 3097 \n",
       "Q 1472 3097 1187 3025 \n",
       "Q 903 2953 641 2809 \n",
       "L 641 3341 \n",
       "Q 956 3463 1253 3523 \n",
       "Q 1550 3584 1831 3584 \n",
       "Q 2591 3584 2966 3190 \n",
       "Q 3341 2797 3341 1997 \n",
       "z\n",
       "\" transform=\"scale(0.015625)\"/>\n",
       "      <path id=\"DejaVuSans-441\" d=\"M 3122 3366 \n",
       "L 3122 2828 \n",
       "Q 2878 2963 2633 3030 \n",
       "Q 2388 3097 2138 3097 \n",
       "Q 1578 3097 1268 2742 \n",
       "Q 959 2388 959 1747 \n",
       "Q 959 1106 1268 751 \n",
       "Q 1578 397 2138 397 \n",
       "Q 2388 397 2633 464 \n",
       "Q 2878 531 3122 666 \n",
       "L 3122 134 \n",
       "Q 2881 22 2623 -34 \n",
       "Q 2366 -91 2075 -91 \n",
       "Q 1284 -91 818 406 \n",
       "Q 353 903 353 1747 \n",
       "Q 353 2603 823 3093 \n",
       "Q 1294 3584 2113 3584 \n",
       "Q 2378 3584 2631 3529 \n",
       "Q 2884 3475 3122 3366 \n",
       "z\n",
       "\" transform=\"scale(0.015625)\"/>\n",
       "      <path id=\"DejaVuSans-43f\" d=\"M 3603 3500 \n",
       "L 3603 0 \n",
       "L 3025 0 \n",
       "L 3025 3041 \n",
       "L 1159 3041 \n",
       "L 1159 0 \n",
       "L 581 0 \n",
       "L 581 3500 \n",
       "L 3603 3500 \n",
       "z\n",
       "\" transform=\"scale(0.015625)\"/>\n",
       "      <path id=\"DejaVuSans-440\" d=\"M 1159 525 \n",
       "L 1159 -1331 \n",
       "L 581 -1331 \n",
       "L 581 3500 \n",
       "L 1159 3500 \n",
       "L 1159 2969 \n",
       "Q 1341 3281 1617 3432 \n",
       "Q 1894 3584 2278 3584 \n",
       "Q 2916 3584 3314 3078 \n",
       "Q 3713 2572 3713 1747 \n",
       "Q 3713 922 3314 415 \n",
       "Q 2916 -91 2278 -91 \n",
       "Q 1894 -91 1617 61 \n",
       "Q 1341 213 1159 525 \n",
       "z\n",
       "M 3116 1747 \n",
       "Q 3116 2381 2855 2742 \n",
       "Q 2594 3103 2138 3103 \n",
       "Q 1681 3103 1420 2742 \n",
       "Q 1159 2381 1159 1747 \n",
       "Q 1159 1113 1420 752 \n",
       "Q 1681 391 2138 391 \n",
       "Q 2594 391 2855 752 \n",
       "Q 3116 1113 3116 1747 \n",
       "z\n",
       "\" transform=\"scale(0.015625)\"/>\n",
       "      <path id=\"DejaVuSans-435\" d=\"M 3597 1894 \n",
       "L 3597 1613 \n",
       "L 953 1613 \n",
       "Q 991 1019 1311 708 \n",
       "Q 1631 397 2203 397 \n",
       "Q 2534 397 2845 478 \n",
       "Q 3156 559 3463 722 \n",
       "L 3463 178 \n",
       "Q 3153 47 2828 -22 \n",
       "Q 2503 -91 2169 -91 \n",
       "Q 1331 -91 842 396 \n",
       "Q 353 884 353 1716 \n",
       "Q 353 2575 817 3079 \n",
       "Q 1281 3584 2069 3584 \n",
       "Q 2775 3584 3186 3129 \n",
       "Q 3597 2675 3597 1894 \n",
       "z\n",
       "M 3022 2063 \n",
       "Q 3016 2534 2758 2815 \n",
       "Q 2500 3097 2075 3097 \n",
       "Q 1594 3097 1305 2825 \n",
       "Q 1016 2553 972 2059 \n",
       "L 3022 2063 \n",
       "z\n",
       "\" transform=\"scale(0.015625)\"/>\n",
       "      <path id=\"DejaVuSans-434\" d=\"M 1384 459 \n",
       "L 3053 459 \n",
       "L 3053 3041 \n",
       "L 1844 3041 \n",
       "L 1844 2603 \n",
       "Q 1844 1316 1475 628 \n",
       "L 1384 459 \n",
       "z\n",
       "M 550 459 \n",
       "Q 834 584 959 850 \n",
       "Q 1266 1509 1266 2838 \n",
       "L 1266 3500 \n",
       "L 3631 3500 \n",
       "L 3631 459 \n",
       "L 4091 459 \n",
       "L 4091 -884 \n",
       "L 3631 -884 \n",
       "L 3631 0 \n",
       "L 794 0 \n",
       "L 794 -884 \n",
       "L 334 -884 \n",
       "L 334 459 \n",
       "L 550 459 \n",
       "z\n",
       "\" transform=\"scale(0.015625)\"/>\n",
       "      <path id=\"DejaVuSans-43b\" d=\"M 238 0 \n",
       "L 238 478 \n",
       "Q 806 566 981 959 \n",
       "Q 1194 1513 1194 2928 \n",
       "L 1194 3500 \n",
       "L 3559 3500 \n",
       "L 3559 0 \n",
       "L 2984 0 \n",
       "L 2984 3041 \n",
       "L 1769 3041 \n",
       "L 1769 2694 \n",
       "Q 1769 1344 1494 738 \n",
       "Q 1200 91 238 0 \n",
       "z\n",
       "\" transform=\"scale(0.015625)\"/>\n",
       "      <path id=\"DejaVuSans-43d\" d=\"M 581 3500 \n",
       "L 1159 3500 \n",
       "L 1159 2072 \n",
       "L 3025 2072 \n",
       "L 3025 3500 \n",
       "L 3603 3500 \n",
       "L 3603 0 \n",
       "L 3025 0 \n",
       "L 3025 1613 \n",
       "L 1159 1613 \n",
       "L 1159 0 \n",
       "L 581 0 \n",
       "L 581 3500 \n",
       "z\n",
       "\" transform=\"scale(0.015625)\"/>\n",
       "      <path id=\"DejaVuSans-438\" d=\"M 3578 3500 \n",
       "L 3578 0 \n",
       "L 3006 0 \n",
       "L 3006 2809 \n",
       "L 1319 0 \n",
       "L 581 0 \n",
       "L 581 3500 \n",
       "L 1153 3500 \n",
       "L 1153 697 \n",
       "L 2838 3500 \n",
       "L 3578 3500 \n",
       "z\n",
       "\" transform=\"scale(0.015625)\"/>\n",
       "      <path id=\"DejaVuSans-20\" transform=\"scale(0.015625)\"/>\n",
       "      <path id=\"DejaVuSans-43a\" d=\"M 581 3500 \n",
       "L 1153 3500 \n",
       "L 1153 1856 \n",
       "L 2775 3500 \n",
       "L 3481 3500 \n",
       "L 2144 2147 \n",
       "L 3653 0 \n",
       "L 3009 0 \n",
       "L 1769 1766 \n",
       "L 1153 1141 \n",
       "L 1153 0 \n",
       "L 581 0 \n",
       "L 581 3500 \n",
       "z\n",
       "\" transform=\"scale(0.015625)\"/>\n",
       "      <path id=\"DejaVuSans-43e\" d=\"M 1959 3097 \n",
       "Q 1497 3097 1228 2736 \n",
       "Q 959 2375 959 1747 \n",
       "Q 959 1119 1226 758 \n",
       "Q 1494 397 1959 397 \n",
       "Q 2419 397 2687 759 \n",
       "Q 2956 1122 2956 1747 \n",
       "Q 2956 2369 2687 2733 \n",
       "Q 2419 3097 1959 3097 \n",
       "z\n",
       "M 1959 3584 \n",
       "Q 2709 3584 3137 3096 \n",
       "Q 3566 2609 3566 1747 \n",
       "Q 3566 888 3137 398 \n",
       "Q 2709 -91 1959 -91 \n",
       "Q 1206 -91 779 398 \n",
       "Q 353 888 353 1747 \n",
       "Q 353 2609 779 3096 \n",
       "Q 1206 3584 1959 3584 \n",
       "z\n",
       "\" transform=\"scale(0.015625)\"/>\n",
       "      <path id=\"DejaVuSans-43c\" d=\"M 581 3500 \n",
       "L 1422 3500 \n",
       "L 2416 1156 \n",
       "L 3413 3500 \n",
       "L 4247 3500 \n",
       "L 4247 0 \n",
       "L 3669 0 \n",
       "L 3669 2950 \n",
       "L 2703 672 \n",
       "L 2128 672 \n",
       "L 1159 2950 \n",
       "L 1159 0 \n",
       "L 581 0 \n",
       "L 581 3500 \n",
       "z\n",
       "\" transform=\"scale(0.015625)\"/>\n",
       "      <path id=\"DejaVuSans-442\" d=\"M 188 3500 \n",
       "L 3541 3500 \n",
       "L 3541 3041 \n",
       "L 2147 3041 \n",
       "L 2147 0 \n",
       "L 1581 0 \n",
       "L 1581 3041 \n",
       "L 188 3041 \n",
       "L 188 3500 \n",
       "z\n",
       "\" transform=\"scale(0.015625)\"/>\n",
       "      <path id=\"DejaVuSans-432\" d=\"M 1156 1613 \n",
       "L 1156 459 \n",
       "L 1975 459 \n",
       "Q 2369 459 2575 607 \n",
       "Q 2781 756 2781 1038 \n",
       "Q 2781 1319 2575 1466 \n",
       "Q 2369 1613 1975 1613 \n",
       "L 1156 1613 \n",
       "z\n",
       "M 1156 3041 \n",
       "L 1156 2072 \n",
       "L 1913 2072 \n",
       "Q 2238 2072 2444 2201 \n",
       "Q 2650 2331 2650 2563 \n",
       "Q 2650 2794 2444 2917 \n",
       "Q 2238 3041 1913 3041 \n",
       "L 1156 3041 \n",
       "z\n",
       "M 581 3500 \n",
       "L 1950 3500 \n",
       "Q 2566 3500 2897 3275 \n",
       "Q 3228 3050 3228 2634 \n",
       "Q 3228 2313 3059 2123 \n",
       "Q 2891 1934 2559 1888 \n",
       "Q 2956 1813 3175 1575 \n",
       "Q 3394 1338 3394 981 \n",
       "Q 3394 513 3033 256 \n",
       "Q 2672 0 2003 0 \n",
       "L 581 0 \n",
       "L 581 3500 \n",
       "z\n",
       "\" transform=\"scale(0.015625)\"/>\n",
       "     </defs>\n",
       "     <use xlink:href=\"#DejaVuSans-420\"/>\n",
       "     <use xlink:href=\"#DejaVuSans-430\" x=\"60.302734\"/>\n",
       "     <use xlink:href=\"#DejaVuSans-441\" x=\"121.582031\"/>\n",
       "     <use xlink:href=\"#DejaVuSans-43f\" x=\"176.5625\"/>\n",
       "     <use xlink:href=\"#DejaVuSans-440\" x=\"241.943359\"/>\n",
       "     <use xlink:href=\"#DejaVuSans-435\" x=\"305.419922\"/>\n",
       "     <use xlink:href=\"#DejaVuSans-434\" x=\"366.943359\"/>\n",
       "     <use xlink:href=\"#DejaVuSans-435\" x=\"436.083984\"/>\n",
       "     <use xlink:href=\"#DejaVuSans-43b\" x=\"497.607422\"/>\n",
       "     <use xlink:href=\"#DejaVuSans-435\" x=\"561.523438\"/>\n",
       "     <use xlink:href=\"#DejaVuSans-43d\" x=\"623.046875\"/>\n",
       "     <use xlink:href=\"#DejaVuSans-438\" x=\"688.427734\"/>\n",
       "     <use xlink:href=\"#DejaVuSans-435\" x=\"753.417969\"/>\n",
       "     <use xlink:href=\"#DejaVuSans-20\" x=\"814.941406\"/>\n",
       "     <use xlink:href=\"#DejaVuSans-43a\" x=\"846.728516\"/>\n",
       "     <use xlink:href=\"#DejaVuSans-43e\" x=\"907.128906\"/>\n",
       "     <use xlink:href=\"#DejaVuSans-43c\" x=\"968.310547\"/>\n",
       "     <use xlink:href=\"#DejaVuSans-43c\" x=\"1043.75\"/>\n",
       "     <use xlink:href=\"#DejaVuSans-435\" x=\"1119.189453\"/>\n",
       "     <use xlink:href=\"#DejaVuSans-43d\" x=\"1180.712891\"/>\n",
       "     <use xlink:href=\"#DejaVuSans-442\" x=\"1246.09375\"/>\n",
       "     <use xlink:href=\"#DejaVuSans-430\" x=\"1304.345703\"/>\n",
       "     <use xlink:href=\"#DejaVuSans-440\" x=\"1365.625\"/>\n",
       "     <use xlink:href=\"#DejaVuSans-438\" x=\"1429.101562\"/>\n",
       "     <use xlink:href=\"#DejaVuSans-435\" x=\"1494.091797\"/>\n",
       "     <use xlink:href=\"#DejaVuSans-432\" x=\"1555.615234\"/>\n",
       "     <use xlink:href=\"#DejaVuSans-20\" x=\"1614.550781\"/>\n",
       "     <use xlink:href=\"#DejaVuSans-43f\" x=\"1646.337891\"/>\n",
       "     <use xlink:href=\"#DejaVuSans-43e\" x=\"1711.71875\"/>\n",
       "     <use xlink:href=\"#DejaVuSans-20\" x=\"1772.900391\"/>\n",
       "     <use xlink:href=\"#DejaVuSans-43a\" x=\"1804.6875\"/>\n",
       "     <use xlink:href=\"#DejaVuSans-43b\" x=\"1865.087891\"/>\n",
       "     <use xlink:href=\"#DejaVuSans-430\" x=\"1929.003906\"/>\n",
       "     <use xlink:href=\"#DejaVuSans-441\" x=\"1990.283203\"/>\n",
       "     <use xlink:href=\"#DejaVuSans-441\" x=\"2045.263672\"/>\n",
       "     <use xlink:href=\"#DejaVuSans-430\" x=\"2100.244141\"/>\n",
       "     <use xlink:href=\"#DejaVuSans-43c\" x=\"2161.523438\"/>\n",
       "    </g>\n",
       "   </g>\n",
       "  </g>\n",
       " </g>\n",
       " <defs>\n",
       "  <clipPath id=\"pf601c5d0aa\">\n",
       "   <rect x=\"30.103125\" y=\"22.318125\" width=\"279\" height=\"110.88\"/>\n",
       "  </clipPath>\n",
       " </defs>\n",
       "</svg>\n"
      ],
      "text/plain": [
       "<Figure size 5000x2000 with 1 Axes>"
      ]
     },
     "metadata": {},
     "output_type": "display_data"
    }
   ],
   "source": [
    "# проверим распределение классов '0' и '1' в целевом признаке\n",
    "plt.figure(figsize = (5, 2))\n",
    "data.toxic.value_counts(normalize = True).plot(kind = 'bar',\n",
    "        color = 'lightcoral',\n",
    "        grid = True)\n",
    "plt.title('Распределение комментариев по классам')\n",
    "plt.xticks(rotation = 0)\n",
    "plt.show()"
   ]
  },
  {
   "cell_type": "code",
   "execution_count": 19,
   "metadata": {
    "colab": {
     "base_uri": "https://localhost:8080/"
    },
    "id": "7IGhNDZ5SDuN",
    "outputId": "c154a5a1-d0b2-4cff-b346-d3984375d4a1"
   },
   "outputs": [
    {
     "data": {
      "text/plain": [
       "0    0.898388\n",
       "1    0.101612\n",
       "Name: toxic, dtype: float64"
      ]
     },
     "execution_count": 19,
     "metadata": {},
     "output_type": "execute_result"
    }
   ],
   "source": [
    "# выведем значение доли каждого класса комментариев\n",
    "data.toxic.value_counts(normalize = True)"
   ]
  },
  {
   "cell_type": "code",
   "execution_count": 20,
   "metadata": {
    "colab": {
     "base_uri": "https://localhost:8080/"
    },
    "id": "oFZoI1MDSDxX",
    "outputId": "0d73bd06-0fd6-4b5b-b543-c654ceefb385"
   },
   "outputs": [
    {
     "data": {
      "text/plain": [
       "0    143106\n",
       "1     16186\n",
       "Name: toxic, dtype: int64"
      ]
     },
     "execution_count": 20,
     "metadata": {},
     "output_type": "execute_result"
    }
   ],
   "source": [
    "# выведем количество нейтральных ('0')\n",
    "# и негативных ('1') комментариев\n",
    "data.toxic.value_counts()"
   ]
  },
  {
   "cell_type": "markdown",
   "metadata": {
    "id": "iFLcoeVKW69N"
   },
   "source": [
    "Примерно один из десяти комментариев 'токсичный'. Классы не сбалансированы. При разбиении исходной выборки на обучающий и тестовый комплект проведем стратификацию по целевому признаку."
   ]
  },
  {
   "cell_type": "code",
   "execution_count": 21,
   "metadata": {
    "colab": {
     "base_uri": "https://localhost:8080/"
    },
    "id": "ap18VAHzPLfT",
    "outputId": "f1c4890d-9b8e-470f-c4b0-0a44ae414ffd"
   },
   "outputs": [
    {
     "name": "stdout",
     "output_type": "stream",
     "text": [
      "Количество букв в самом длинном комментарии:\n",
      " 5000\n"
     ]
    }
   ],
   "source": [
    "# вычислим количество букв в самом длинном комментарии пользователя\n",
    "max_length = len(max(data['text'], key=len))\n",
    "print(f'Количество букв в самом длинном комментарии:\\n {max_length}')"
   ]
  },
  {
   "cell_type": "code",
   "execution_count": 22,
   "metadata": {
    "id": "oELGtc_9QxxP"
   },
   "outputs": [],
   "source": [
    "# вычислим количество букв в самом длинном комментарии пользователя\n",
    "# word_max_length = int(data['text'].astype(bytes).str.len().max())\n",
    "# print('Размер самого длинного сообщения:', word_max_length, 'букв')"
   ]
  },
  {
   "cell_type": "code",
   "execution_count": 23,
   "metadata": {
    "colab": {
     "base_uri": "https://localhost:8080/"
    },
    "id": "Fak1S74lREX6",
    "outputId": "1ada3095-189d-4810-8a1a-a0dcc30f8699",
    "scrolled": true
   },
   "outputs": [
    {
     "name": "stdout",
     "output_type": "stream",
     "text": [
      "Индекс самого длинного сообщения:\n",
      " [  4167   6190   8685   9651  10746  12869  16612  18151  22334  25647\n",
      "  27087  28794  34352  35244  41969  46096  46480  47612  53300  55953\n",
      "  56331  56724  57063  63278  70421  72066  74623  75033  76052  82496\n",
      "  86104  86382  93787  96100 121512 123354 128558 131497 133018 155754\n",
      " 156158 158691]\n"
     ]
    }
   ],
   "source": [
    "# выведем на экран индекс самого длинного\n",
    "# сообщения пользователя\n",
    "max_length = data.text.str.len()\n",
    "argmax = np.where(max_length == max_length.max())[0]\n",
    "print(f'Индекс самого длинного сообщения:\\n {argmax}')"
   ]
  },
  {
   "cell_type": "markdown",
   "metadata": {
    "id": "s67MxtI-FR7-"
   },
   "source": [
    "Целых 42 сообщения имеют максимальную длину в 5000 символов. Скорее всего было установленно ограничение длины комментария на сайте, с которого была сформирована база комментариев.\n",
    "\n",
    "Выведение разных сообщений по индексу показывает, что большинтсво из самых длинных сообщений представляют собой обыкновенный 'copy/paste' ограниченного количества слов, - до максимально возможного размера.\n",
    "\n",
    "В результате перебора попробуем выбрать среди самых длинных комментариев то, которое является авторским и включает большое количество шумовой информации - для иллюстрации устранения шума после предобработки текста."
   ]
  },
  {
   "cell_type": "code",
   "execution_count": 24,
   "metadata": {
    "colab": {
     "base_uri": "https://localhost:8080/",
     "height": 227
    },
    "id": "P-hdbn8DR0uI",
    "outputId": "457f2f30-b0af-4f75-820e-769dec224780"
   },
   "outputs": [
    {
     "data": {
      "text/plain": [
       "'AH HAAHHAHAHAH YAAA BITCH YAAAA!@!!!!!!AH HAAHHAHAHAH YAAA BITCH YAAAA!@!!!!!!AH HAAHHAHAHAH YAAA BITCH YAAAA!@!!!!!!AH HAAHHAHAHAH YAAA BITCH YAAAA!@!!!!!!AH HAAHHAHAHAH YAAA BITCH YAAAA!@!!!!!!AH HAAHHAHAHAH YAAA BITCH YAAAA!@!!!!!!AH HAAHHAHAHAH YAAA BITCH YAAAA!@!!!!!!AH HAAHHAHAHAH YAAA BITCH YAAAA!@!!!!!!AH HAAHHAHAHAH YAAA BITCH YAAAA!@!!!!!!AH HAAHHAHAHAH YAAA BITCH YAAAA!@!!!!!!AH HAAHHAHAHAH YAAA BITCH YAAAA!@!!!!!!AH HAAHHAHAHAH YAAA BITCH YAAAA!@!!!!!!AH HAAHHAHAHAH YAAA BITCH YAAAA!@!!!!!!AH HAAHHAHAHAH YAAA BITCH YAAAA!@!!!!!!AH HAAHHAHAHAH YAAA BITCH YAAAA!@!!!!!!AH HAAHHAHAHAH YAAA BITCH YAAAA!@!!!!!!AH HAAHHAHAHAH YAAA BITCH YAAAA!@!!!!!!AH HAAHHAHAHAH YAAA BITCH YAAAA!@!!!!!!AH HAAHHAHAHAH YAAA BITCH YAAAA!@!!!!!!AH HAAHHAHAHAH YAAA BITCH YAAAA!@!!!!!!AH HAAHHAHAHAH YAAA BITCH YAAAA!@!!!!!!AH HAAHHAHAHAH YAAA BITCH YAAAA!@!!!!!!AH HAAHHAHAHAH YAAA BITCH YAAAA!@!!!!!!AH HAAHHAHAHAH YAAA BITCH YAAAA!@!!!!!!AH HAAHHAHAHAH YAAA BITCH YAAAA!@!!!!!!AH HAAHHAHAHAH YAAA BITCH YAAAA!@!!!!!!AH HAAHHAHAHAH YAAA BITCH YAAAA!@!!!!!!AH HAAHHAHAHAH YAAA BITCH YAAAA!@!!!!!!AH HAAHHAHAHAH YAAA BITCH YAAAA!@!!!!!!AH HAAHHAHAHAH YAAA BITCH YAAAA!@!!!!!!AH HAAHHAHAHAH YAAA BITCH YAAAA!@!!!!!!AH HAAHHAHAHAH YAAA BITCH YAAAA!@!!!!!!AH HAAHHAHAHAH YAAA BITCH YAAAA!@!!!!!!AH HAAHHAHAHAH YAAA BITCH YAAAA!@!!!!!!AH HAAHHAHAHAH YAAA BITCH YAAAA!@!!!!!!AH HAAHHAHAHAH YAAA BITCH YAAAA!@!!!!!!AH HAAHHAHAHAH YAAA BITCH YAAAA!@!!!!!!AH HAAHHAHAHAH YAAA BITCH YAAAA!@!!!!!!AH HAAHHAHAHAH YAAA BITCH YAAAA!@!!!!!!AH HAAHHAHAHAH YAAA BITCH YAAAA!@!!!!!!AH HAAHHAHAHAH YAAA BITCH YAAAA!@!!!!!!AH HAAHHAHAHAH YAAA BITCH YAAAA!@!!!!!!AH HAAHHAHAHAH YAAA BITCH YAAAA!@!!!!!!AH HAAHHAHAHAH YAAA BITCH YAAAA!@!!!!!!AH HAAHHAHAHAH YAAA BITCH YAAAA!@!!!!!!AH HAAHHAHAHAH YAAA BITCH YAAAA!@!!!!!!AH HAAHHAHAHAH YAAA BITCH YAAAA!@!!!!!!AH HAAHHAHAHAH YAAA BITCH YAAAA!@!!!!!!AH HAAHHAHAHAH YAAA BITCH YAAAA!@!!!!!!AH HAAHHAHAHAH YAAA BITCH YAAAA!@!!!!!!AH HAAHHAHAHAH YAAA BITCH YAAAA!@!!!!!!AH HAAHHAHAHAH YAAA BITCH YAAAA!@!!!!!!AH HAAHHAHAHAH YAAA BITCH YAAAA!@!!!!!!AH HAAHHAHAHAH YAAA BITCH YAAAA!@!!!!!!AH HAAHHAHAHAH YAAA BITCH YAAAA!@!!!!!!AH HAAHHAHAHAH YAAA BITCH YAAAA!@!!!!!!AH HAAHHAHAHAH YAAA BITCH YAAAA!@!!!!!!AH HAAHHAHAHAH YAAA BITCH YAAAA!@!!!!!!AH HAAHHAHAHAH YAAA BITCH YAAAA!@!!!!!!AH HAAHHAHAHAH YAAA BITCH YAAAA!@!!!!!!AH HAAHHAHAHAH YAAA BITCH YAAAA!@!!!!!!AH HAAHHAHAHAH YAAA BITCH YAAAA!@!!!!!!AH HAAHHAHAHAH YAAA BITCH YAAAA!@!!!!!!AH HAAHHAHAHAH YAAA BITCH YAAAA!@!!!!!!AH HAAHHAHAHAH YAAA BITCH YAAAA!@!!!!!!AH HAAHHAHAHAH YAAA BITCH YAAAA!@!!!!!!AH HAAHHAHAHAH YAAA BITCH YAAAA!@!!!!!!AH HAAHHAHAHAH YAAA BITCH YAAAA!@!!!!!!AH HAAHHAHAHAH YAAA BITCH YAAAA!@!!!!!!AH HAAHHAHAHAH YAAA BITCH YAAAA!@!!!!!!AH HAAHHAHAHAH YAAA BITCH YAAAA!@!!!!!!AH HAAHHAHAHAH YAAA BITCH YAAAA!@!!!!!!AH HAAHHAHAHAH YAAA BITCH YAAAA!@!!!!!!AH HAAHHAHAHAH YAAA BITCH YAAAA!@!!!!!!AH HAAHHAHAHAH YAAA BITCH YAAAA!@!!!!!!AH HAAHHAHAHAH YAAA BITCH YAAAA!@!!!!!!AH HAAHHAHAHAH YAAA BITCH YAAAA!@!!!!!!AH HAAHHAHAHAH YAAA BITCH YAAAA!@!!!!!!AH HAAHHAHAHAH YAAA BITCH YAAAA!@!!!!!!AH HAAHHAHAHAH YAAA BITCH YAAAA!@!!!!!!AH HAAHHAHAHAH YAAA BITCH YAAAA!@!!!!!!AH HAAHHAHAHAH YAAA BITCH YAAAA!@!!!!!!AH HAAHHAHAHAH YAAA BITCH YAAAA!@!!!!!!AH HAAHHAHAHAH YAAA BITCH YAAAA!@!!!!!!AH HAAHHAHAHAH YAAA BITCH YAAAA!@!!!!!!AH HAAHHAHAHAH YAAA BITCH YAAAA!@!!!!!!AH HAAHHAHAHAH YAAA BITCH YAAAA!@!!!!!!AH HAAHHAHAHAH YAAA BITCH YAAAA!@!!!!!!AH HAAHHAHAHAH YAAA BITCH YAAAA!@!!!!!!AH HAAHHAHAHAH YAAA BITCH YAAAA!@!!!!!!AH HAAHHAHAHAH YAAA BITCH YAAAA!@!!!!!!AH HAAHHAHAHAH YAAA BITCH YAAAA!@!!!!!!AH HAAHHAHAHAH YAAA BITCH YAAAA!@!!!!!!AH HAAHHAHAHAH YAAA BITCH YAAAA!@!!!!!!AH HAAHHAHAHAH YAAA BITCH YAAAA!@!!!!!!AH HAAHHAHAHAH YAAA BITCH YAAAA!@!!!!!!AH HAAHHAHAHAH YAAA BITCH YAAAA!@!!!!!!AH HAAHHAHAHAH YAAA BITCH YAAAA!@!!!!!!AH HAAHHAHAHAH YAAA BITCH YAAAA!@!!!!!!AH HAAHHAHAHAH YAAA BITCH YAAAA!@!!!!!!AH HAAHHAHAHAH YAAA BITCH YAAAA!@!!!!!!AH HAAHHAHAHAH YAAA BITCH YAAAA!@!!!!!!AH HAAHHAHAHAH YAAA BITCH YAAAA!@!!!!!!AH HAAHHAHAHAH YAAA BITCH YAAAA!@!!!!!!AH HAAHHAHAHAH YAAA BITCH YAAAA!@!!!!!!AH HAAHHAHAHAH YAAA BITCH YAAAA!@!!!!!!AH HAAHHAHAHAH YAAA BITCH YAAAA!@!!!!!!AH HAAHHAHAHAH YAAA BITCH YAAAA!@!!!!!!AH HAAHHAHAHAH YAAA BITCH YAAAA!@!!!!!!AH HAAHHAHAHAH YAAA BITCH YAAAA!@!!!!!!AH HAAHHAHAHAH YAAA BITCH YAAAA!@!!!!!!AH HAAHHAHAHAH YAAA BITCH YAAAA!@!!!!!!AH HAAHHAHAHAH YAAA BITCH YAAAA!@!!!!!!AH HAAHHAHAHAH YAAA BITCH YAAAA!@!!!!!!AH HAAHHAHAHAH YAAA BITCH YAAAA!@!!!!!!AH HAAHHAHAHAH YAAA BITCH YAAAA!@!!!!!!AH HAAHHAHAHAH YAAA BITCH YAAAA!@!!!!!!AH HAAHHAHAHAH YAAA BITCH YAAAA!@!!!!!!AH HAAHHAHAHAH YAAA BITCH YAAAA!@!!!!!!AH HAAHHAHAHAH YAAA BITCH YAAAA!@!!!!!!AH HAAHHAHAHAH YAAA BITCH YAAAA!@!!!!!!AH HAAHHAHAHAH YAAA BITCH YAAAA!@!!!!!!AH HAAHHAHAHAH YAAA BITCH YAAAA!@!!!!!!AH HAAHHAHAHAH YAAA BITCH YAAAA!@!!!!!!AH HAAHHAHAHAH YAAA BITCH YAAAA!@!!!!!!AH HAAHHAHAHAH YAAA BITCH YAAAA!@!!!!!!AH HAAHHAHAHAH YAAA BITCH YAAAA!@!!!!!!AH HAAHHAHAHAH YAAA BITCH YAAAA!@!!!!!!AH HAAHH'"
      ]
     },
     "execution_count": 24,
     "metadata": {},
     "output_type": "execute_result"
    }
   ],
   "source": [
    "# сохраним в переменную ячейку с самым длинным\n",
    "# сообщением пользователя -\n",
    "# для сравнения после удаления шума\n",
    "longest_comment = data.iloc[55953]\n",
    "longest_comment[0]"
   ]
  },
  {
   "cell_type": "markdown",
   "metadata": {
    "id": "f5lEK3M5JtcJ"
   },
   "source": [
    "Все самые длинные комментарии не являются подходящими для иллюстрации изменений, произошедших после удаления шумовой информации. Их оставляют пользователи с явными психологическими отклонениями. Удалять эти комментарии из датасета не стоит - беглый анализ содержания 42-х самых длинных сообщений показывает, что преимущественно они являются негативными. Количество негативных комментариев в целевом признаке и без того составляет чуть больше 10%."
   ]
  },
  {
   "cell_type": "code",
   "execution_count": 25,
   "metadata": {
    "colab": {
     "base_uri": "https://localhost:8080/",
     "height": 227
    },
    "id": "ovwTkTlILSt-",
    "outputId": "4f67ce1c-1d45-4b6b-c208-cd9aa0965ac2"
   },
   "outputs": [
    {
     "data": {
      "text/plain": [
       "'\"\\n\\nBI, you said you wanted to talk\\n\\nAt the bottom of the lead section you have written:\\n\\n\"\"Its promoter speculated in 1994 that the skyhook concept could be cost competitive with what is realistically thought to be achievable using a space elevator, but the skyhook is not competitive with other rotating tether concepts. In addition, the rotating skyhook is in fact deemed \"\"not engineeringly feasible using presently available materials\"\".\"\"\\n\\nRegarding:  In addition, the rotating skyhook is in fact deemed \"\"not engineeringly feasible using presently available materials\"\"\\n\\nThat statement appears to come from Ref [3] on page 10.  The full quote is\\n\\n\"\"If the mass of the tether alone started to exceed 200 times the mass of the payload,\\nthen that was an indication the particular scenario being considered was not engineeringly\\nfeasible using presently available materials, although the application might become feasible in\\nthe near future as better materials become available with higher tensile strengths at higher\\noperational temperatures.\"\"\\n\\nIt then goes on to say\\n\\n\"\"As we shall see, presently available commercial materials will suffice to make the HASTOL\\ntethers needed. The primary message we want to leave with the Reader is:\\n“We don\\'t need magic materials like ‘Buckminster-Fuller-carbon-nanotubes’ to make\\nthe space tether facility for a HASTOL system. Existing materials will do.”\"\"\\n\\nSo it would appear that you misread your reference.  The tether mass of 200 times mass of the payload mass is the upper limit to the problem.  Systems where the tether mass is less than 200 times the payload mass can be built with \"\"presently available commercial materials.\"\"\\n\\nTo further reinforce this the Conclusion to the report states\\n\\n\"\"The fundamental conclusion of the Phase I HASTOL study effort is that the concept is\\ntechnically feasible. We have evaluated a number of alternate system configurations that will\\nallow hypersonic air-breathing vehicle technologies to be combined with orbiting, spinning space\\ntether technologies to provide a method of moving payloads from the surface of the Earth into\\nEarth orbit. For more than one HASTOL architecture concept, we have developed a design\\nsolution using existing, or near-term technologies. We expect that a number of the other\\nHASTOL architecture concepts will prove similarly technically feasible when subjected to\\ndetailed design studies. The systems are completely reusable and have the potential of drastically\\nreducing the cost of Earth-to-orbit space access.\"\"\\n\\nRegarding: \"\"but the skyhook is not competitive with other rotating tether concepts.\"\" and \\n\\n\"\"A 2000 Boeing report on the possibillity of combining skyhooks with hypersonic planes concluded that \"\"In general, the non-spinning tether HyperSkyhook concept does not look competitive with the spinning tether concepts.\"\".\"\"\\n\\nThe full quote is:\\n\\n\"\"HyperSkyhook\\n\\nIn 1995 Zubrin proposed the “Hypersonic Skyhook” as a solution to the mismatch between\\nthe attainable atmospheric speeds of a hypersonic airplane and the orbital speeds of space tethers.\\nSince the orbital speed of the space tether decreases with increasing altitu'"
      ]
     },
     "execution_count": 25,
     "metadata": {},
     "output_type": "execute_result"
    }
   ],
   "source": [
    "# для иллюстрации изменений,\n",
    "# произошедщих после удаления шума из текста,\n",
    "# сохраним выбранный наугад комментарий пользователя\n",
    "random_comment_1 = data.text[50]\n",
    "random_comment_1"
   ]
  },
  {
   "cell_type": "markdown",
   "metadata": {
    "id": "VAWyHxT6L6fL"
   },
   "source": [
    "Полная вресия сообщения с индексом 50 включает 3101 символ (с пробелами)."
   ]
  },
  {
   "cell_type": "code",
   "execution_count": 26,
   "metadata": {
    "colab": {
     "base_uri": "https://localhost:8080/"
    },
    "id": "Q2rGxmrWS94W",
    "outputId": "b87ac7f3-fe6e-42f7-9605-e1bea2086288"
   },
   "outputs": [
    {
     "data": {
      "text/plain": [
       "1274464"
      ]
     },
     "execution_count": 26,
     "metadata": {},
     "output_type": "execute_result"
    }
   ],
   "source": [
    "# выведем размер временного датасета max_length в байтах\n",
    "max_length.memory_usage(deep=True)"
   ]
  },
  {
   "cell_type": "code",
   "execution_count": 27,
   "metadata": {
    "id": "WgfCflWWTQln"
   },
   "outputs": [],
   "source": [
    "# удаляем ненужный датасет\n",
    "del max_length"
   ]
  },
  {
   "cell_type": "markdown",
   "metadata": {
    "id": "g3fGNFDyD7Gk"
   },
   "source": [
    "### **Инициализация классов, необходимых для удаления шума из текстовых данных и их предобработки**\n",
    "\n",
    "---"
   ]
  },
  {
   "cell_type": "code",
   "execution_count": 28,
   "metadata": {
    "colab": {
     "base_uri": "https://localhost:8080/"
    },
    "id": "pZeHqXWbEIa-",
    "outputId": "aace7f38-8bce-4ddd-cb09-c635a37e37c6"
   },
   "outputs": [
    {
     "name": "stderr",
     "output_type": "stream",
     "text": [
      "[nltk_data] Downloading package stopwords to\n",
      "[nltk_data]     C:\\Users\\Modern\\AppData\\Roaming\\nltk_data...\n",
      "[nltk_data]   Package stopwords is already up-to-date!\n"
     ]
    },
    {
     "data": {
      "text/plain": [
       "True"
      ]
     },
     "execution_count": 28,
     "metadata": {},
     "output_type": "execute_result"
    }
   ],
   "source": [
    "# загрузим стоп-слова\n",
    "nltk.download('stopwords')"
   ]
  },
  {
   "cell_type": "code",
   "execution_count": 29,
   "metadata": {
    "colab": {
     "base_uri": "https://localhost:8080/"
    },
    "id": "_jCKbF3C-nLL",
    "outputId": "1afbadcb-ed09-4bd3-cf37-f15738236a1a"
   },
   "outputs": [
    {
     "name": "stderr",
     "output_type": "stream",
     "text": [
      "[nltk_data] Downloading package averaged_perceptron_tagger to\n",
      "[nltk_data]     C:\\Users\\Modern\\AppData\\Roaming\\nltk_data...\n",
      "[nltk_data]   Package averaged_perceptron_tagger is already up-to-\n",
      "[nltk_data]       date!\n"
     ]
    },
    {
     "data": {
      "text/plain": [
       "True"
      ]
     },
     "execution_count": 29,
     "metadata": {},
     "output_type": "execute_result"
    }
   ],
   "source": [
    "# загрузим инструмент маркировки из библиотеки nltk,\n",
    "# который потребуется для удаления прилагательных\n",
    "nltk.download('averaged_perceptron_tagger')"
   ]
  },
  {
   "cell_type": "markdown",
   "metadata": {
    "id": "UgHm35XbAb_3"
   },
   "source": [
    " * Honnibal, M. A Good Part-of-Speech Tagger in about 200 Lines of Python / M. Honnibal // Explosion. - URL: https://explosion.ai/blog/part-of-speech-pos-tagger-in-python (accessed: 26.01.2023)"
   ]
  },
  {
   "cell_type": "code",
   "execution_count": 30,
   "metadata": {
    "colab": {
     "base_uri": "https://localhost:8080/"
    },
    "id": "JvkspmCbMc5y",
    "outputId": "1b086f81-e450-44e5-ec94-020583643e91"
   },
   "outputs": [
    {
     "name": "stderr",
     "output_type": "stream",
     "text": [
      "[nltk_data] Downloading package wordnet to\n",
      "[nltk_data]     C:\\Users\\Modern\\AppData\\Roaming\\nltk_data...\n",
      "[nltk_data]   Package wordnet is already up-to-date!\n"
     ]
    },
    {
     "data": {
      "text/plain": [
       "True"
      ]
     },
     "execution_count": 30,
     "metadata": {},
     "output_type": "execute_result"
    }
   ],
   "source": [
    "# загружаем лексическую базу данных английского языка WordNet\n",
    "# позволяющего находить концептуальные взаимосвязи между словами,\n",
    "# такими как гиперонимы, гипонимы, синонимы, антонимы и т.д.\n",
    "nltk.download('wordnet')"
   ]
  },
  {
   "cell_type": "code",
   "execution_count": 31,
   "metadata": {
    "colab": {
     "base_uri": "https://localhost:8080/"
    },
    "id": "kewc1hgAPyQf",
    "outputId": "85de8d9b-813d-41c7-d680-3b94d28ca09b"
   },
   "outputs": [
    {
     "name": "stderr",
     "output_type": "stream",
     "text": [
      "[nltk_data] Downloading package omw-1.4 to\n",
      "[nltk_data]     C:\\Users\\Modern\\AppData\\Roaming\\nltk_data...\n",
      "[nltk_data]   Package omw-1.4 is already up-to-date!\n"
     ]
    },
    {
     "data": {
      "text/plain": [
       "True"
      ]
     },
     "execution_count": 31,
     "metadata": {},
     "output_type": "execute_result"
    }
   ],
   "source": [
    "# загружаем пакет omw-1.4 библиотеки nltk\n",
    "# для корректной работы функции lemmatizer.lemmatize()\n",
    "nltk.download('omw-1.4')"
   ]
  },
  {
   "cell_type": "code",
   "execution_count": 32,
   "metadata": {
    "colab": {
     "base_uri": "https://localhost:8080/"
    },
    "id": "ZHzb1dsZTTag",
    "outputId": "6fa265b9-ac6c-46aa-b60a-9cd1b8d9415c"
   },
   "outputs": [
    {
     "name": "stderr",
     "output_type": "stream",
     "text": [
      "[nltk_data] Downloading package punkt to\n",
      "[nltk_data]     C:\\Users\\Modern\\AppData\\Roaming\\nltk_data...\n",
      "[nltk_data]   Package punkt is already up-to-date!\n"
     ]
    },
    {
     "data": {
      "text/plain": [
       "True"
      ]
     },
     "execution_count": 32,
     "metadata": {},
     "output_type": "execute_result"
    }
   ],
   "source": [
    "# загружаем пакет punkt библиотеки nltk\n",
    "# для корректной работы стеминга\n",
    "nltk.download('punkt')"
   ]
  },
  {
   "cell_type": "code",
   "execution_count": 33,
   "metadata": {
    "id": "LVomCx858zFS"
   },
   "outputs": [],
   "source": [
    "# инициализируем классы, необходимые для удаления шума\n",
    "# из текстовых данных и их предобработки\n",
    "spell = Speller()\n",
    "token = ToktokTokenizer()\n",
    "lemmatizer = WordNetLemmatizer()\n",
    "stemmer = PorterStemmer()\n",
    "charac = '!\"#$%&\\'()*+,-./:;<=>?@[\\\\]^_`{|}~0123456789'\n",
    "stop_words = set(stopwords.words(\"english\"))\n",
    "adjective_tag_list = set(['JJ','JJR', 'JJS', 'RBR', 'RBS'])"
   ]
  },
  {
   "cell_type": "code",
   "execution_count": 34,
   "metadata": {
    "colab": {
     "base_uri": "https://localhost:8080/"
    },
    "id": "vn559ATGDR1a",
    "outputId": "952a84ae-00a0-4ce7-e67a-5602d2168320"
   },
   "outputs": [
    {
     "name": "stdout",
     "output_type": "stream",
     "text": [
      "Размер обучающего признака до удаления шума:\n",
      " 95302251 байт\n"
     ]
    }
   ],
   "source": [
    "# для контроля удаления шума из текстовых сообщений пользователей\n",
    "# зафиксируем размер, который занимает обучающий признак\n",
    "# в оперативной памяти до начала пошагового удаления шума\n",
    "size_before = data['text'].memory_usage(deep = True)\n",
    "print(f'Размер обучающего признака до удаления шума:\\n {size_before} байт')"
   ]
  },
  {
   "cell_type": "markdown",
   "metadata": {
    "id": "kfcCa6oCFERR"
   },
   "source": [
    "### **Удаление шума из текстовых данных**\n",
    "\n",
    "---"
   ]
  },
  {
   "cell_type": "markdown",
   "metadata": {
    "id": "rWBZESveF3QE"
   },
   "source": [
    "#### **Удаление элементов HTML-форматирования**\n",
    "\n",
    "---"
   ]
  },
  {
   "cell_type": "code",
   "execution_count": 35,
   "metadata": {
    "colab": {
     "base_uri": "https://localhost:8080/"
    },
    "id": "MMXK1iFFIzfy",
    "outputId": "1a8b4828-7fc6-4e73-f44a-79c49df440c8"
   },
   "outputs": [
    {
     "data": {
      "text/plain": [
       "95302251"
      ]
     },
     "execution_count": 35,
     "metadata": {},
     "output_type": "execute_result"
    }
   ],
   "source": [
    "# выведем информацию о размере памяти,\n",
    "# занимаемой обучающим признаком\n",
    "# до удаления шумовых элементов html-форматирования\n",
    "before = data['text'].memory_usage(deep = True)\n",
    "before"
   ]
  },
  {
   "cell_type": "code",
   "execution_count": 36,
   "metadata": {
    "colab": {
     "base_uri": "https://localhost:8080/"
    },
    "id": "xOEWXd9t8zIC",
    "outputId": "68c3f66c-b368-406b-e70d-38b6589eabf8"
   },
   "outputs": [
    {
     "name": "stdout",
     "output_type": "stream",
     "text": [
      "CPU times: total: 12.4 s\n",
      "Wall time: 12.9 s\n"
     ]
    }
   ],
   "source": [
    "%%time\n",
    "# удаляем элементы html-форматирования\n",
    "\n",
    "data['text'] = data['text'].apply(\n",
    "    lambda x: BeautifulSoup(x, 'html.parser').get_text())"
   ]
  },
  {
   "cell_type": "code",
   "execution_count": 37,
   "metadata": {
    "colab": {
     "base_uri": "https://localhost:8080/"
    },
    "id": "9mblk_O-Df2d",
    "outputId": "6b617ee5-dc75-4976-910f-ed226e500da8"
   },
   "outputs": [
    {
     "data": {
      "text/plain": [
       "82474457"
      ]
     },
     "execution_count": 37,
     "metadata": {},
     "output_type": "execute_result"
    }
   ],
   "source": [
    "# выведем информацию о размере памяти,\n",
    "# занимаемой обучающим признаком\n",
    "# после удаления шумовых элементов html-форматирования\n",
    "after = data['text'].memory_usage(deep = True)\n",
    "after"
   ]
  },
  {
   "cell_type": "markdown",
   "metadata": {
    "id": "bTMiwfN8LVk7"
   },
   "source": [
    "Мы видим, что объем оперативной памяти, занимаемой в датасете обучающим признаком data['text'] **уменьшился на:**."
   ]
  },
  {
   "cell_type": "code",
   "execution_count": 38,
   "metadata": {
    "colab": {
     "base_uri": "https://localhost:8080/"
    },
    "id": "ZlZl5GjDOVLE",
    "outputId": "be663970-13d9-4749-8159-272dc1389ce2"
   },
   "outputs": [
    {
     "name": "stdout",
     "output_type": "stream",
     "text": [
      "12827794 байт\n"
     ]
    }
   ],
   "source": [
    "size_reducing = before - after\n",
    "print(f'{size_reducing} байт')"
   ]
  },
  {
   "cell_type": "markdown",
   "metadata": {
    "id": "m9gPpubBOVg_"
   },
   "source": [
    "Это говорит о том, что удалена шумовая информация, связанная с элементами HTML-форматирования."
   ]
  },
  {
   "cell_type": "markdown",
   "metadata": {
    "id": "h-Lf4RMVMP6t"
   },
   "source": [
    "Отдельно удалим еще ряд элементов, относящихся к HTML-форматированию, которые не были охвачены командой удаления с помощью BeautifulSoup."
   ]
  },
  {
   "cell_type": "code",
   "execution_count": 39,
   "metadata": {
    "id": "htyq8zTWDf6G"
   },
   "outputs": [],
   "source": [
    "# создем функцию для очистки текста от ненужных символов\n",
    "def clean_text(text):\n",
    "    \"\"\"\n",
    "    выявляем все апострофы,\n",
    "    затем заменяем их одним пробелом\n",
    "    \"\"\"\n",
    "    text = re.sub(r\"\\'\", \"'\", text)\n",
    "    \"\"\"\n",
    "    выявляем все шаблоны перехода на новую строку,\n",
    "    затем заменяем их на пробел\n",
    "    \"\"\"\n",
    "    text = re.sub(r\"\\n\", \" \", text)\n",
    "    \"\"\"\n",
    "    выявляем все неразрывные пробелы,\n",
    "    затем заменяем их на пробел\n",
    "    \"\"\"\n",
    "    text = re.sub(r\"\\xa0\", \" \", text)\n",
    "    \"\"\"\n",
    "    сопоставляем один или несколько пробелов,\n",
    "    затем заменяем их пробелом\n",
    "    \"\"\"\n",
    "    text = re.sub('\\s+', ' ', text) # match all one or more whitespace then replace them by a single whitespace\n",
    "    \"\"\"\n",
    "    возвращаем копию текста с удалением символа,\n",
    "    переданного в качестве аргумента\n",
    "    \"\"\"\n",
    "    text = text.strip(' ')\n",
    "    return text"
   ]
  },
  {
   "cell_type": "code",
   "execution_count": 40,
   "metadata": {
    "colab": {
     "base_uri": "https://localhost:8080/"
    },
    "id": "SFOsuZwADf9S",
    "outputId": "5cf226ce-09b5-438d-bb98-a1683df92299"
   },
   "outputs": [
    {
     "data": {
      "text/plain": [
       "82474457"
      ]
     },
     "execution_count": 40,
     "metadata": {},
     "output_type": "execute_result"
    }
   ],
   "source": [
    "# выведем информацию о размере памяти, занимаемой обучающим признаком\n",
    "# до применения функции def clean_text(text)\n",
    "before = data['text'].memory_usage(deep = True)\n",
    "before"
   ]
  },
  {
   "cell_type": "code",
   "execution_count": 41,
   "metadata": {
    "colab": {
     "base_uri": "https://localhost:8080/"
    },
    "id": "BPDemqR3DgA5",
    "outputId": "d7418b68-ba63-4d70-c76d-ca018ede5bb5"
   },
   "outputs": [
    {
     "name": "stdout",
     "output_type": "stream",
     "text": [
      "CPU times: total: 4.73 s\n",
      "Wall time: 4.8 s\n"
     ]
    }
   ],
   "source": [
    "%%time\n",
    "# удаляем ненужные символы\n",
    "data['text'] = data['text'].apply(lambda x: clean_text(x))"
   ]
  },
  {
   "cell_type": "code",
   "execution_count": 42,
   "metadata": {
    "colab": {
     "base_uri": "https://localhost:8080/"
    },
    "id": "BQbRsgsSDgET",
    "outputId": "b6c62227-f223-48ae-c59f-d1005d0cf037"
   },
   "outputs": [
    {
     "data": {
      "text/plain": [
       "81835831"
      ]
     },
     "execution_count": 42,
     "metadata": {},
     "output_type": "execute_result"
    }
   ],
   "source": [
    "# выведем информацию о размере памяти, занимаемой обучающим признаком\n",
    "# после применения функции def clean_text(text)\n",
    "after = data['text'].memory_usage(deep = True)\n",
    "after"
   ]
  },
  {
   "cell_type": "markdown",
   "metadata": {
    "id": "QTMX0HV1QWPw"
   },
   "source": [
    "После применения функции def clean_text(text) размер оперативной памяти, занимаемой признаком data['text'] **уменьшился на:**."
   ]
  },
  {
   "cell_type": "code",
   "execution_count": 43,
   "metadata": {
    "colab": {
     "base_uri": "https://localhost:8080/"
    },
    "id": "ObcPXWMrPlGZ",
    "outputId": "4ce2e151-6c0c-4a2c-889f-a18f1c1d0647"
   },
   "outputs": [
    {
     "name": "stdout",
     "output_type": "stream",
     "text": [
      "638626 байт\n"
     ]
    }
   ],
   "source": [
    "size_reducing = before - after\n",
    "print(f'{size_reducing} байт')"
   ]
  },
  {
   "cell_type": "markdown",
   "metadata": {
    "id": "PYLaKNx4SaEg"
   },
   "source": [
    "#### **Удаление сокращений**\n",
    "\n",
    "---"
   ]
  },
  {
   "cell_type": "code",
   "execution_count": 44,
   "metadata": {
    "id": "syC9Y8AXDgHa"
   },
   "outputs": [],
   "source": [
    "# создаем функцию для удаления сокращений\n",
    "def expand_contractions(text):\n",
    "    \"\"\"\n",
    "    расширяем список удаляемых сокращений,\n",
    "    включащих, например, 'don't', 'do not' и другие\n",
    "    \"\"\"\n",
    "    text = contractions.fix(text)\n",
    "    return text"
   ]
  },
  {
   "cell_type": "code",
   "execution_count": 45,
   "metadata": {
    "colab": {
     "base_uri": "https://localhost:8080/"
    },
    "id": "k31aJO1sDgKz",
    "outputId": "3fc16548-637f-4b46-eea3-ce3e4d050563"
   },
   "outputs": [
    {
     "data": {
      "text/plain": [
       "81835831"
      ]
     },
     "execution_count": 45,
     "metadata": {},
     "output_type": "execute_result"
    }
   ],
   "source": [
    "# выведем информацию о размере памяти, занимаемой обучающим признаком\n",
    "# до применения функции def expand_contractions(text)\n",
    "before = data['text'].memory_usage(deep = True)\n",
    "before"
   ]
  },
  {
   "cell_type": "code",
   "execution_count": 46,
   "metadata": {
    "colab": {
     "base_uri": "https://localhost:8080/"
    },
    "id": "bFt-9IhEDgOb",
    "outputId": "598144ce-dc23-425a-af74-cc2cbb850759"
   },
   "outputs": [
    {
     "name": "stdout",
     "output_type": "stream",
     "text": [
      "CPU times: total: 4.38 s\n",
      "Wall time: 4.39 s\n"
     ]
    }
   ],
   "source": [
    "%%time\n",
    "# удаляем сокращения из текстов комментариев пользователей\n",
    "data['text'] = data['text'].apply(lambda x: expand_contractions(x))"
   ]
  },
  {
   "cell_type": "code",
   "execution_count": 47,
   "metadata": {
    "colab": {
     "base_uri": "https://localhost:8080/"
    },
    "id": "3tV8L7qhDgRB",
    "outputId": "a5a0246b-39df-49df-ccfa-c607f1441afd"
   },
   "outputs": [
    {
     "data": {
      "text/plain": [
       "81889231"
      ]
     },
     "execution_count": 47,
     "metadata": {},
     "output_type": "execute_result"
    }
   ],
   "source": [
    "# выведем информацию о размере памяти, занимаемой обучающим признаком\n",
    "# после применения функции def expand_contractions(text)\n",
    "after = data['text'].memory_usage(deep = True)\n",
    "after"
   ]
  },
  {
   "cell_type": "markdown",
   "metadata": {
    "id": "_ZvUw6CxVoXu"
   },
   "source": [
    "После применения функции def expand_contractions(text) размер оперативной памяти, занимаемой признаком data['text'] **уменьшился на:**"
   ]
  },
  {
   "cell_type": "code",
   "execution_count": 48,
   "metadata": {
    "colab": {
     "base_uri": "https://localhost:8080/"
    },
    "id": "qiPSOYxMQKy7",
    "outputId": "3c7f9d99-90d4-4fc7-cb7e-a6f75bbf341e"
   },
   "outputs": [
    {
     "name": "stdout",
     "output_type": "stream",
     "text": [
      "-53400 байт\n"
     ]
    }
   ],
   "source": [
    "size_reducing = before - after\n",
    "print(f'{size_reducing} байт')"
   ]
  },
  {
   "cell_type": "markdown",
   "metadata": {
    "id": "1NlxVyT5RyWo"
   },
   "source": [
    "Мы видим, что после удаления сокращений, объем оперативной памяти, занимаемой признаком data['text'] не уменьшился, а, наоборот, **увеличился**.\n",
    "\n",
    "Так и должно быть, поскольку строго говоря речь не идет об удалении сокращений в прямом смысле, а об их преобразовании в полную форму. Например, 'you're' заменяется на полную форму 'you are'"
   ]
  },
  {
   "cell_type": "markdown",
   "metadata": {
    "id": "pYsf9lRDS0UK"
   },
   "source": [
    " * contractions // GitHub. - URL: https://github.com/kootenpv/contractions (accessed: 26.01.2023)"
   ]
  },
  {
   "cell_type": "markdown",
   "metadata": {
    "id": "CPOUBudiYgPz"
   },
   "source": [
    "#### **Перевод текста в нижний регистр**\n",
    "\n",
    "---"
   ]
  },
  {
   "cell_type": "markdown",
   "metadata": {
    "id": "VtSLABBwZ6Dz"
   },
   "source": [
    "Перевод текста в нижний регистр рекомендован в случае удаления сокращений, т.к. пакет сокращений может вернуть некоторые заглавные буквы обратно при удалении сокращений.\n",
    "\n",
    "Перевод текста в нижний регистр является классическим и доказавшим свою полезность шагом удаления шума (нормализации текста), т.к. в итоге он сокращает словарный запас корпуса текста и одновременно очень дешев в плане затрачиваемых на проект ресурсов системы."
   ]
  },
  {
   "cell_type": "code",
   "execution_count": 49,
   "metadata": {
    "colab": {
     "base_uri": "https://localhost:8080/"
    },
    "id": "v0Qp7E0TSEAc",
    "outputId": "05ab93d4-7a01-495d-93d6-85b1cf70155c"
   },
   "outputs": [
    {
     "name": "stdout",
     "output_type": "stream",
     "text": [
      "CPU times: total: 188 ms\n",
      "Wall time: 169 ms\n"
     ]
    }
   ],
   "source": [
    "%%time\n",
    "# переводим весь текст в нижний регистр\n",
    "data['text'] = data['text'].str.lower()"
   ]
  },
  {
   "cell_type": "markdown",
   "metadata": {
    "id": "QjTixkpuC83P"
   },
   "source": [
    "#### **Удаление повторяющихся символов в словах и повторяющихся знаков препинания**\n",
    "\n",
    "---"
   ]
  },
  {
   "cell_type": "markdown",
   "metadata": {
    "id": "dU8-yVniC83P"
   },
   "source": [
    "Удаление повторяющихся символов является важным шагом предобработки данных, т.к. исправление орфографии не может их обнаружить. Именно поэтому важно удалить повторяющиеся символы до исправления орфографии. Нередкими являются случаи, когда по много раз повторяются знаки препинания. Хотя удаление пунктуации было выполнено ранее, не будет лишним провести дополнительную проверку.\n",
    "\n",
    "Наличие повторяющихся символов чаще всего связано с желанием пользователя выразить свои эмоции и подчеркнуть свою мысль более ярко. Например:\n",
    "\n",
    "**Cheeeeeerrrrrrss !!!!!!**"
   ]
  },
  {
   "cell_type": "markdown",
   "metadata": {
    "id": "qf7CmPM6C83Q"
   },
   "source": [
    "Кроме того, ранее было убедительно доказано, что самые большие сообщения, достигающие предельного размера в 5000 символов, сформированы за счет многократного повторения одних и тех же символов. Удаление повторяющихся символов не обязательно решит все эти проблемы, но любое удаление шума будет полезным для машинного обучения моделей."
   ]
  },
  {
   "cell_type": "markdown",
   "metadata": {
    "id": "5VAmM2vZC83Q"
   },
   "source": [
    "На входе функция получает текст, например, такого вида:\n",
    "\n",
    "**Realllllllllyyyyy,        Greeeeaaaatttt   !!!!?....;;;;:)**\n",
    "\n",
    "Возвращает:\n",
    "\n",
    "**Reallyy, Greeaatt !?.;:)**"
   ]
  },
  {
   "cell_type": "markdown",
   "metadata": {
    "id": "-2nHM3hpC83Q"
   },
   "source": [
    "В результате применения функция сократит повторение до двух символов для алфавитов и до одного символа для знаков препинания."
   ]
  },
  {
   "cell_type": "code",
   "execution_count": 50,
   "metadata": {
    "id": "rRiQH0AmC83Q"
   },
   "outputs": [],
   "source": [
    "def reducing_incorrect_character_repeatation(text):\n",
    "    \"\"\"\n",
    "    устанавливаем соответствие шаблону\n",
    "    для всех регистров алфавита\n",
    "    \"\"\"\n",
    "    pattern_alpha = re.compile(r\"([A-Za-z])\\1{1,}\", re.DOTALL)\n",
    "    \"\"\"\n",
    "    органичиваем все повторения до двух символов\n",
    "    \"\"\"\n",
    "    text = pattern_alpha.sub(r\"\\1\\1\", text)\n",
    "    \"\"\"\n",
    "    устанавливаем шаблон для всех знаков препинания,\n",
    "    котоыре могут встретиться в тексте\n",
    "    \"\"\"\n",
    "    pattern_punct = re.compile(r'([.,/#!$%^&*?;:{}=_`~()+-])\\1{1,}')\n",
    "    \"\"\"\n",
    "    ограничиваем количество знаков препинания одним символом\n",
    "    \"\"\"\n",
    "    text = pattern_punct.sub(r'\\1', text)\n",
    "    \"\"\"\n",
    "    заменяем многократное повторение пробелов на один пробел\n",
    "    \"\"\"\n",
    "    text = re.sub(' {2,}',' ', text)\n",
    "    return text"
   ]
  },
  {
   "cell_type": "code",
   "execution_count": 51,
   "metadata": {
    "id": "8Ac5gYMPC83Q",
    "outputId": "9742805e-4f6d-493f-b6ef-cf203400bf9d"
   },
   "outputs": [
    {
     "data": {
      "text/plain": [
       "81889285"
      ]
     },
     "execution_count": 51,
     "metadata": {},
     "output_type": "execute_result"
    }
   ],
   "source": [
    "# выведем информацию о размере памяти, занимаемой обучающим признаком\n",
    "# до применения функции, удаляющей повторяющиеся символы\n",
    "before = data['text'].memory_usage(deep = True)\n",
    "before"
   ]
  },
  {
   "cell_type": "code",
   "execution_count": 52,
   "metadata": {
    "id": "TXiQMNYEC83R",
    "outputId": "9f1d920b-c387-4c80-9eed-92538a323ad9"
   },
   "outputs": [
    {
     "name": "stdout",
     "output_type": "stream",
     "text": [
      "CPU times: total: 6.06 s\n",
      "Wall time: 6.14 s\n"
     ]
    }
   ],
   "source": [
    "%%time\n",
    "# удаляем повторяющиеся символы\n",
    "data['text'] = data['text'].apply(\n",
    "    lambda x: reducing_incorrect_character_repeatation(x))"
   ]
  },
  {
   "cell_type": "code",
   "execution_count": 53,
   "metadata": {
    "id": "nS4HgYY9C83R",
    "outputId": "315cc2a9-2801-4c1f-88dc-9155b06dc589"
   },
   "outputs": [
    {
     "data": {
      "text/plain": [
       "81671076"
      ]
     },
     "execution_count": 53,
     "metadata": {},
     "output_type": "execute_result"
    }
   ],
   "source": [
    "# выведем информацию о размере памяти, занимаемой обучающим признаком\n",
    "# после применения функции, удаляющей повторяющиеся символы\n",
    "after = data['text'].memory_usage(deep = True)\n",
    "after"
   ]
  },
  {
   "cell_type": "markdown",
   "metadata": {
    "id": "RoQcFjoEC83R"
   },
   "source": [
    "После применения функции, удаляющей повторяющиеся символы, размер оперативной памяти, занимаемой признаком data['text'] **уменьшился на:**"
   ]
  },
  {
   "cell_type": "code",
   "execution_count": 54,
   "metadata": {
    "id": "SgZutqGmC83R",
    "outputId": "08cb4f32-5e5b-4590-9e19-34d16a0e07a6"
   },
   "outputs": [
    {
     "name": "stdout",
     "output_type": "stream",
     "text": [
      "218209 байт\n"
     ]
    }
   ],
   "source": [
    "size_reducing = before - after\n",
    "print(f'{size_reducing} байт')"
   ]
  },
  {
   "cell_type": "markdown",
   "metadata": {
    "id": "VsszvsUVC83S"
   },
   "source": [
    "#### **Удаление повторяющихся слов в текстах комментариев**\n",
    "\n",
    "---"
   ]
  },
  {
   "cell_type": "markdown",
   "metadata": {
    "id": "oiGC_hb5C83S"
   },
   "source": [
    "В текстах комментариев пользователей могут повторяться не только буквы в словах и знаки препинания, но и сами слова тоже могут повторяться многократно, что является шумом для машинного обучения модели. Повторяющиеся слова необходимо удалить с помощью функции."
   ]
  },
  {
   "cell_type": "markdown",
   "metadata": {
    "id": "F4diFoa9C83S"
   },
   "source": [
    "Как и в предыдущем подразделе, это не решит на 100% проблему комментариев пользователей, достигающих 5000 знаков, т.к. многие из них написаны без пробелов и функция не сможет применить к ним split(). Однако шума в комментариях станет меньше, что, как и в предыдущих подразделах, будет проверено по изменения размера в байтах обучающего признака."
   ]
  },
  {
   "cell_type": "code",
   "execution_count": 55,
   "metadata": {
    "id": "l3O4unBhC83S"
   },
   "outputs": [],
   "source": [
    "# создадим функцию для удаления повторяющихся слов\n",
    "def remov_duplicates(text):\n",
    "    \"\"\"\n",
    "    разделяем входную строку по пробелу\n",
    "    \"\"\"\n",
    "    text = text.split(' ')\n",
    "    \"\"\"\n",
    "    создаем словарь, используя метод счеткика Counter(),\n",
    "    котоырй будет иметь строковые значения в качестве ключа\n",
    "    и их частоты в качестве значения\n",
    "    \"\"\"\n",
    "    UniqW = Counter(text)\n",
    "    \"\"\"\n",
    "    объединяем два соседних элемента итеративным способом\n",
    "    \"\"\"\n",
    "    text = ' '.join(UniqW.keys())\n",
    "    return text"
   ]
  },
  {
   "cell_type": "code",
   "execution_count": 56,
   "metadata": {
    "id": "2YyMSOC4C83S",
    "outputId": "af801db1-03ab-4f7c-f683-dfe4f8ed2869"
   },
   "outputs": [
    {
     "data": {
      "text/plain": [
       "81671076"
      ]
     },
     "execution_count": 56,
     "metadata": {},
     "output_type": "execute_result"
    }
   ],
   "source": [
    "# выведем информацию о размере памяти, занимаемой обучающим признаком\n",
    "# до применения функции, удаляющей повторяющиеся слова\n",
    "before = data['text'].memory_usage(deep = True)\n",
    "before"
   ]
  },
  {
   "cell_type": "code",
   "execution_count": 57,
   "metadata": {
    "id": "ifXMubZ2C83T",
    "outputId": "a39788fa-3f97-4a08-8907-1357042b6343"
   },
   "outputs": [
    {
     "name": "stdout",
     "output_type": "stream",
     "text": [
      "CPU times: total: 2.39 s\n",
      "Wall time: 2.4 s\n"
     ]
    }
   ],
   "source": [
    "%%time\n",
    "# удаляем повторяющиеся слова\n",
    "data['text'] = data['text'].apply(\n",
    "    lambda x: remov_duplicates(x))"
   ]
  },
  {
   "cell_type": "code",
   "execution_count": 58,
   "metadata": {
    "id": "Mv1P5AofC83T",
    "outputId": "e63e942f-4ebd-419c-faf2-c843f4675207"
   },
   "outputs": [
    {
     "data": {
      "text/plain": [
       "63841978"
      ]
     },
     "execution_count": 58,
     "metadata": {},
     "output_type": "execute_result"
    }
   ],
   "source": [
    "# выведем информацию о размере памяти, занимаемой обучающим признаком\n",
    "# после применения функции, удаляющей повторяющиеся слова\n",
    "after = data['text'].memory_usage(deep = True)\n",
    "after"
   ]
  },
  {
   "cell_type": "markdown",
   "metadata": {
    "id": "MZn2S81AC83T"
   },
   "source": [
    "После применения функции, удаляющей повторяющиеся слова, размер оперативной памяти, занимаемой признаком data['text'] **уменьшился на:**"
   ]
  },
  {
   "cell_type": "code",
   "execution_count": 59,
   "metadata": {
    "id": "N2ueV3eUC83T",
    "outputId": "f1e98b88-e125-4661-84a0-37710b56b844"
   },
   "outputs": [
    {
     "name": "stdout",
     "output_type": "stream",
     "text": [
      "17829098 байт\n"
     ]
    }
   ],
   "source": [
    "size_reducing = before - after\n",
    "print(f'{size_reducing} байт')"
   ]
  },
  {
   "cell_type": "markdown",
   "metadata": {
    "id": "c2BsFh1MC83T"
   },
   "source": [
    "#### **Удаление эмодзи**\n",
    "\n",
    "---"
   ]
  },
  {
   "cell_type": "markdown",
   "metadata": {
    "id": "XqDvv6WqC83U"
   },
   "source": [
    "Специфическим и характерным для интернет-комментариев пользователей являются эмодзи. Если на текущем шаге предобработки сообщения пользователей содержат эмодзи, удалим их."
   ]
  },
  {
   "cell_type": "code",
   "execution_count": 60,
   "metadata": {
    "id": "SQOET8CuC83U"
   },
   "outputs": [],
   "source": [
    "# создадим функцию, удаляющую эмодзи\n",
    "def remove_emoji(text):\n",
    "    emoji_pattern = re.compile('['\n",
    "    u'U0001F600-U0001F64F' # смайлики\n",
    "    u'U0001F300-U0001F5FF' # символы и пиктограммы\n",
    "    u'U0001F680-U0001F6FF' # транспортные и картографич. символы\n",
    "    u'U0001F1E0-U0001F1FF' # флажки iOS\n",
    "    u'U00002702-U000027B0'\n",
    "    u'U000024C2-U0001F251'\n",
    "    ']+', flags=re.UNICODE)\n",
    "    return emoji_pattern.sub(r'', text)"
   ]
  },
  {
   "cell_type": "code",
   "execution_count": 61,
   "metadata": {
    "id": "wqQWQiAKC83U",
    "outputId": "541031d8-cda3-4193-ead1-19b1ba9155f8"
   },
   "outputs": [
    {
     "data": {
      "text/plain": [
       "63841978"
      ]
     },
     "execution_count": 61,
     "metadata": {},
     "output_type": "execute_result"
    }
   ],
   "source": [
    "# выведем информацию о размере памяти, занимаемой обучающим признаком\n",
    "# до применения функции, удаляющей эмодзи\n",
    "before = data['text'].memory_usage(deep = True)\n",
    "before"
   ]
  },
  {
   "cell_type": "code",
   "execution_count": 62,
   "metadata": {
    "id": "gzPkbJmiC83U",
    "outputId": "bcf998d7-c884-45c6-8ab4-19b997757250"
   },
   "outputs": [
    {
     "name": "stdout",
     "output_type": "stream",
     "text": [
      "CPU times: total: 1.34 s\n",
      "Wall time: 1.36 s\n"
     ]
    }
   ],
   "source": [
    "%%time\n",
    "# удаляем эмодзи\n",
    "data['text'] = data['text'].apply(\n",
    "    lambda x: remove_emoji(x))"
   ]
  },
  {
   "cell_type": "code",
   "execution_count": 63,
   "metadata": {
    "id": "DpXeerjTC83U",
    "outputId": "92aeddb3-deb3-4c2f-e529-3be0b1855d34"
   },
   "outputs": [
    {
     "data": {
      "text/plain": [
       "63069207"
      ]
     },
     "execution_count": 63,
     "metadata": {},
     "output_type": "execute_result"
    }
   ],
   "source": [
    "# выведем информацию о размере памяти, занимаемой обучающим признаком\n",
    "# после применения функции, удаляющей эмодзи\n",
    "after = data['text'].memory_usage(deep = True)\n",
    "after"
   ]
  },
  {
   "cell_type": "markdown",
   "metadata": {
    "id": "tRJgpwpuC83V"
   },
   "source": [
    "После применения функции, удаляющей эмодзи, размер оперативной памяти, занимаемой признаком data['text'] **уменьшился на:**"
   ]
  },
  {
   "cell_type": "code",
   "execution_count": 64,
   "metadata": {
    "id": "oDvJqQr3C83V",
    "outputId": "7082369d-751a-46ff-cb03-70bcb469cf55"
   },
   "outputs": [
    {
     "name": "stdout",
     "output_type": "stream",
     "text": [
      "772771 байт\n"
     ]
    }
   ],
   "source": [
    "size_reducing = before - after\n",
    "print(f'{size_reducing} байт')"
   ]
  },
  {
   "cell_type": "markdown",
   "metadata": {
    "id": "MJn2w-g6GGNB"
   },
   "source": [
    "### **Удаление специальных символов**\n",
    "\n",
    "---\n"
   ]
  },
  {
   "cell_type": "markdown",
   "metadata": {
    "id": "FdW6eykKGL3t"
   },
   "source": [
    "#### **Удаление всех небуквенных символов**\n",
    "\n",
    "---"
   ]
  },
  {
   "cell_type": "markdown",
   "metadata": {
    "id": "87lAxOy-HiXd"
   },
   "source": [
    "В рамках предобработки из текстовых сообщений пользователей будут удалены **все неалфавитные символы** (включая знаки препинания, цифры и специальные символы). Знаки препинания в большинстве случаев мешают маркировке, а числа как правило бесполезны и не несут асоциальной окраски."
   ]
  },
  {
   "cell_type": "code",
   "execution_count": 65,
   "metadata": {
    "id": "QnGwisqPYsdl"
   },
   "outputs": [],
   "source": [
    "# создадим функцию для удаления знаков препинания и чисел\n",
    "def remove_punctuation_and_number(text):\n",
    "    return text.translate(str.maketrans(\" \", \" \", charac))"
   ]
  },
  {
   "cell_type": "code",
   "execution_count": 66,
   "metadata": {
    "id": "3rVDsDYxYsgb"
   },
   "outputs": [],
   "source": [
    "# создадим функцию для удаления иных, помимо чисел и знаков препинания,\n",
    "# небуквенных символов\n",
    "def remove_non_alphabetical_character(text):\n",
    "    \"\"\"\n",
    "    удаляем все небуквенные символы\n",
    "    \"\"\"\n",
    "    text = re.sub(\"[^a-z]+\", \" \", text)\n",
    "    \"\"\"\n",
    "    удаляем пробелы, оставшиеся после выполнения\n",
    "    предыдущей команды\n",
    "    \"\"\"\n",
    "    text = re.sub(\"\\s+\", \" \", text) # удаление пробелов, оставшихся после последней операции\n",
    "    return text"
   ]
  },
  {
   "cell_type": "code",
   "execution_count": 67,
   "metadata": {
    "colab": {
     "base_uri": "https://localhost:8080/"
    },
    "id": "Z8_8UTCSZMtq",
    "outputId": "68d930a3-a73f-44a1-b5d5-de99ea8ad208"
   },
   "outputs": [
    {
     "data": {
      "text/plain": [
       "63069207"
      ]
     },
     "execution_count": 67,
     "metadata": {},
     "output_type": "execute_result"
    }
   ],
   "source": [
    "# выведем информацию о размере памяти, занимаемой обучающим признаком\n",
    "# до применения двух функций, удаляющих небуквенные символы\n",
    "before = data['text'].memory_usage(deep = True)\n",
    "before"
   ]
  },
  {
   "cell_type": "code",
   "execution_count": 68,
   "metadata": {
    "colab": {
     "base_uri": "https://localhost:8080/"
    },
    "id": "Sh9MQVKZYsmO",
    "outputId": "de936137-6e13-46d6-b9b9-096b737cc7f6"
   },
   "outputs": [
    {
     "name": "stdout",
     "output_type": "stream",
     "text": [
      "CPU times: total: 1.22 s\n",
      "Wall time: 1.24 s\n"
     ]
    }
   ],
   "source": [
    "%%time\n",
    "# применяем функцию для удаления знаков препинания и чисел\n",
    "data['text'] = data['text'].apply(\n",
    "    lambda x: remove_punctuation_and_number(x))"
   ]
  },
  {
   "cell_type": "code",
   "execution_count": 69,
   "metadata": {
    "colab": {
     "base_uri": "https://localhost:8080/"
    },
    "id": "iEDZ8fqEYspD",
    "outputId": "8117807f-5bdd-4f4f-ad0b-df5c2cb43c36"
   },
   "outputs": [
    {
     "name": "stdout",
     "output_type": "stream",
     "text": [
      "CPU times: total: 5.12 s\n",
      "Wall time: 5.16 s\n"
     ]
    }
   ],
   "source": [
    "%%time\n",
    "# применяем функцию для удаления иных, помимо чисел и знаков препинания,\n",
    "# небуквенных символов\n",
    "data['text'] = data['text'].apply(\n",
    "    lambda x: remove_non_alphabetical_character(x))"
   ]
  },
  {
   "cell_type": "code",
   "execution_count": 70,
   "metadata": {
    "colab": {
     "base_uri": "https://localhost:8080/"
    },
    "id": "3RmAe5TXZMw6",
    "outputId": "3756f6a8-6264-4515-e99e-1f8a94137e9a"
   },
   "outputs": [
    {
     "data": {
      "text/plain": [
       "53647251"
      ]
     },
     "execution_count": 70,
     "metadata": {},
     "output_type": "execute_result"
    }
   ],
   "source": [
    "# выведем информацию о размере памяти, занимаемой обучающим признаком\n",
    "# после применения двух функций, удаляющих небуквенные символы\n",
    "after = data['text'].memory_usage(deep = True)\n",
    "after"
   ]
  },
  {
   "cell_type": "markdown",
   "metadata": {
    "id": "CPgGtZ4RaKKt"
   },
   "source": [
    "После применения двух функций, удаляющих все небуквенные символы, размер оперативной памяти, занимаемой признаком data['text'] **уменьшился на:**"
   ]
  },
  {
   "cell_type": "code",
   "execution_count": 71,
   "metadata": {
    "colab": {
     "base_uri": "https://localhost:8080/"
    },
    "id": "RAoPWMpFZM0r",
    "outputId": "5724a872-4528-465f-f2ca-c1b3cd5ffdfa"
   },
   "outputs": [
    {
     "name": "stdout",
     "output_type": "stream",
     "text": [
      "9421956 байт\n"
     ]
    }
   ],
   "source": [
    "size_reducing = before - after\n",
    "print(f'{size_reducing} байт')"
   ]
  },
  {
   "cell_type": "markdown",
   "metadata": {
    "id": "3Br_L_arLCfS"
   },
   "source": [
    "#### **Удаление одиночных буквенных символов**\n",
    "\n",
    "---"
   ]
  },
  {
   "cell_type": "markdown",
   "metadata": {
    "id": "3D3PORMsL25p"
   },
   "source": [
    "Практика показывает, что нередко одиночный буквенный символ может использоваться в качестве имени переменной. Например: ‘x’, ‘y’, ‘z’ и т.д. Поэтому в качестве дополнительной меры снижения шума в текстовых данных может быть реализовано удаление одиночных буквенных символов."
   ]
  },
  {
   "cell_type": "code",
   "execution_count": 72,
   "metadata": {
    "id": "HFYFJVKoYsvH"
   },
   "outputs": [],
   "source": [
    "# создадим функцию для удаления одиночных буквенных символов\n",
    "def remove_single_letter(text):\n",
    "    \"\"\"\n",
    "    удаляем все одиночные буквенные символы\n",
    "    \"\"\"\n",
    "    text = re.sub(r\"\\b\\w{1}\\b\", \"\", text)\n",
    "    \"\"\"\n",
    "    удаляем пробелы, оставшиеся после выполнения\n",
    "    предыдущей команды\n",
    "    \"\"\"\n",
    "    text = re.sub(\"\\s+\", \" \", text)\n",
    "    \"\"\"\n",
    "    возвращаем копию текста с удалением символа,\n",
    "    переданного в качестве аргумента\n",
    "    \"\"\"\n",
    "    text = text.strip(' ')\n",
    "    return text"
   ]
  },
  {
   "cell_type": "code",
   "execution_count": 73,
   "metadata": {
    "colab": {
     "base_uri": "https://localhost:8080/"
    },
    "id": "XugE-YVnatnu",
    "outputId": "83f6fba4-ee54-4f9d-e01d-9153a60cb1dd"
   },
   "outputs": [
    {
     "data": {
      "text/plain": [
       "53647251"
      ]
     },
     "execution_count": 73,
     "metadata": {},
     "output_type": "execute_result"
    }
   ],
   "source": [
    "# выведем информацию о размере памяти, занимаемой обучающим признаком\n",
    "# до удаления одиночных буквенных символов\n",
    "before = data['text'].memory_usage(deep = True)\n",
    "before"
   ]
  },
  {
   "cell_type": "code",
   "execution_count": 74,
   "metadata": {
    "colab": {
     "base_uri": "https://localhost:8080/"
    },
    "id": "WAO6aOYfK9Ax",
    "outputId": "5d254540-0a43-4957-bee5-e6893ea3002d"
   },
   "outputs": [
    {
     "name": "stdout",
     "output_type": "stream",
     "text": [
      "CPU times: total: 4.03 s\n",
      "Wall time: 4.09 s\n"
     ]
    }
   ],
   "source": [
    "%%time\n",
    "# удаляем все одиночные буквенные символы\n",
    "data['text'] = data['text'].apply(\n",
    "    lambda x: remove_single_letter(x))"
   ]
  },
  {
   "cell_type": "code",
   "execution_count": 75,
   "metadata": {
    "colab": {
     "base_uri": "https://localhost:8080/"
    },
    "id": "sg1OV-XbatrH",
    "outputId": "1dc02f3e-8480-475b-95bb-fe579fb9ade5"
   },
   "outputs": [
    {
     "data": {
      "text/plain": [
       "53181343"
      ]
     },
     "execution_count": 75,
     "metadata": {},
     "output_type": "execute_result"
    }
   ],
   "source": [
    "# выведем информацию о размере памяти, занимаемой обучающим признаком\n",
    "# после удаления одиночных буквенных символов\n",
    "after = data['text'].memory_usage(deep = True)\n",
    "after"
   ]
  },
  {
   "cell_type": "markdown",
   "metadata": {
    "id": "NSVkp7zPbeL4"
   },
   "source": [
    "После применения функции, удаляющей все одиночные буквенные символы, размер оперативной памяти, занимаемой признаком data['text'] **уменьшился на:**"
   ]
  },
  {
   "cell_type": "code",
   "execution_count": 76,
   "metadata": {
    "colab": {
     "base_uri": "https://localhost:8080/"
    },
    "id": "p_xeTtU7beL4",
    "outputId": "11625c4b-36bf-4bd3-a429-8d2a113ebeb3"
   },
   "outputs": [
    {
     "name": "stdout",
     "output_type": "stream",
     "text": [
      "465908 байт\n"
     ]
    }
   ],
   "source": [
    "size_reducing = before - after\n",
    "print(f'{size_reducing} байт')"
   ]
  },
  {
   "cell_type": "markdown",
   "metadata": {
    "id": "Jp-zF07R0jU1"
   },
   "source": [
    "### **Удаление стоп-слов (самых часто встречающихся слов)**\n",
    "\n",
    "---"
   ]
  },
  {
   "cell_type": "markdown",
   "metadata": {
    "id": "3UOF7Bed2_oq"
   },
   "source": [
    "Удаление наиболее часто встречающихся слов является классическим шагом в NLP. Наиболее часто встречающиеся слова в большинстве случаев не добавляют много информации, поскольку они есть почти в каждом предложении. Удаление этих слов создает больше ‘пространства’ для других слов, которые могут содержать больше полезной информации.\n",
    "\n",
    "В п. 2.1 убедительно доказано, что все самые длинные по числу символов комментарии пользователей в абсолютном большинстве представляют многократное повторение ограниченного количества слов, которые являются шумом. Эмоциональная окраска комментария видна по выделенному из длинного ряда ‘copy/paste’ отдельно взятому повторяющемуся словосочетанию. Все остальные копии комментария только занимают оперативную память и повышают вычислительную нагрузку проекта, снижают обучение модели.\n",
    "\n",
    "Кроме того, датасет может содержать большое число сообщений, не достигших максимальной длины в 5000 знаков, которые были составлены пользователями с использованием аналогичного алгоритма.\n",
    "\n",
    "Особо подчеркнем, что **удаление самых часто встречающихся слов с помощью доступных библиотек не означает, что мы вычистим от лишних слов все комментарии, которые созданы с помощью многократного повторения ‘copy/paste’ короткого словосочетания**. Мы лишь удаляем те часто встречающиеся слова, которые есть в конкретной библиотеке. Это не идеальное, однако, приемлемое решение."
   ]
  },
  {
   "cell_type": "code",
   "execution_count": 77,
   "metadata": {
    "id": "skjtyizcatvC"
   },
   "outputs": [],
   "source": [
    "# создадим функцию для удаления наиболее часто встречающихся слов\n",
    "def remove_stopwords(text):\n",
    "    \"\"\"\n",
    "    удаляем часто встречающиеся англоязычные слова,\n",
    "    используся список из nltk.corpus\n",
    "    \"\"\"\n",
    "    words = token.tokenize(text)\n",
    "    filtered = [w for w in words if not w in stop_words]\n",
    "    \"\"\"\n",
    "    возвращаем нетокенизированный текст\n",
    "    \"\"\"\n",
    "    return ' '.join(map(str, filtered))"
   ]
  },
  {
   "cell_type": "code",
   "execution_count": 78,
   "metadata": {
    "colab": {
     "base_uri": "https://localhost:8080/"
    },
    "id": "_ahezeUxK9EK",
    "outputId": "3440afea-e85b-4ac4-f2a6-76fc831d798c"
   },
   "outputs": [
    {
     "data": {
      "text/plain": [
       "53181343"
      ]
     },
     "execution_count": 78,
     "metadata": {},
     "output_type": "execute_result"
    }
   ],
   "source": [
    "# выведем информацию о размере памяти, занимаемой обучающим признаком\n",
    "# до удаления часто встречающихся англоязычных слов\n",
    "before = data['text'].memory_usage(deep = True)\n",
    "before"
   ]
  },
  {
   "cell_type": "code",
   "execution_count": 79,
   "metadata": {
    "colab": {
     "base_uri": "https://localhost:8080/"
    },
    "id": "oViT5yV4K9HC",
    "outputId": "5ca7c3df-15a5-47c7-9a00-7eda56e34f28"
   },
   "outputs": [
    {
     "name": "stdout",
     "output_type": "stream",
     "text": [
      "CPU times: total: 12.2 s\n",
      "Wall time: 12.3 s\n"
     ]
    }
   ],
   "source": [
    "%%time\n",
    "# удаляем часто встречающиеся англоязычные слова\n",
    "data['text'] = data['text'].apply(lambda x: remove_stopwords(x))"
   ]
  },
  {
   "cell_type": "code",
   "execution_count": 80,
   "metadata": {
    "colab": {
     "base_uri": "https://localhost:8080/"
    },
    "id": "jAcMM6fbK9NS",
    "outputId": "b44cbc9f-7d47-4d1c-ffcf-11326733033f"
   },
   "outputs": [
    {
     "data": {
      "text/plain": [
       "42590557"
      ]
     },
     "execution_count": 80,
     "metadata": {},
     "output_type": "execute_result"
    }
   ],
   "source": [
    "# выведем информацию о размере памяти, занимаемой обучающим признаком\n",
    "# после удаления часто встречающихся англоязычных слов\n",
    "after = data['text'].memory_usage(deep = True)\n",
    "after"
   ]
  },
  {
   "cell_type": "markdown",
   "metadata": {
    "id": "gKovOWvI6AJj"
   },
   "source": [
    "После применения функции, удаляющей все наиболее часто встречающиеся англоязычные слова (по версии списка стоп-слов из библиотеки nltk), размер оперативной памяти, занимаемой признаком data['text'] **уменьшился на:**"
   ]
  },
  {
   "cell_type": "code",
   "execution_count": 81,
   "metadata": {
    "colab": {
     "base_uri": "https://localhost:8080/"
    },
    "id": "75L_1Kp56AJl",
    "outputId": "4a4b41c3-f23e-405a-c68e-0152ed19b383"
   },
   "outputs": [
    {
     "name": "stdout",
     "output_type": "stream",
     "text": [
      "10590786 байт\n"
     ]
    }
   ],
   "source": [
    "size_reducing = before - after\n",
    "print(f'{size_reducing} байт')"
   ]
  },
  {
   "cell_type": "markdown",
   "metadata": {
    "id": "nwTj7xFUB36L"
   },
   "source": [
    "### **Стэмминг и лемматизация**\n",
    "\n",
    "---"
   ]
  },
  {
   "cell_type": "markdown",
   "metadata": {
    "id": "HydvpR2aCO7z"
   },
   "source": [
    "Стэмминг и лемматизация это операции, которые:\n",
    "\n",
    " * помогают снизить временные затраты на вычисления за счет сокращения словарного запаса\n",
    "\n",
    "* помогают применить обобщение, группируя слова вместе. Например, ‘am’, ‘are’, ‘be’ и т.д. преобразуются в ‘be’ благодаря лемматизации"
   ]
  },
  {
   "cell_type": "markdown",
   "metadata": {
    "id": "z8arahy3MG72"
   },
   "source": [
    "**Стеммирование** – это процесс приведения изменяемых слов к их словообразовательной основе, основанию или корневой форме – как правило, к письменной словоформе (‘fishing’, ‘fished’, ‘fisher’ к основе ‘fish’). Обычно он работает путем удаления аффикса в слове. Аффикс может быть суффиксом или префиксом (например, ‘-ed’, ‘-ing’ и т.д.). Прием не сработает для ‘неправильных’ слов (например, ‘ran’ и ‘run’).\n",
    "\n",
    "Стемминг – это более простая операция, чем лемматизация. Нередко для предобработки текста достаточно применить именно стемминг.\n",
    "\n",
    "\n",
    "\n"
   ]
  },
  {
   "cell_type": "code",
   "execution_count": 82,
   "metadata": {
    "colab": {
     "base_uri": "https://localhost:8080/"
    },
    "id": "nsmZQDLNOmc8",
    "outputId": "1e5218e1-a22c-4374-8394-4a02efbd56d0"
   },
   "outputs": [
    {
     "name": "stdout",
     "output_type": "stream",
     "text": [
      "program  :  program\n",
      "programs  :  program\n",
      "programer  :  program\n",
      "programing  :  program\n",
      "programers  :  program\n"
     ]
    }
   ],
   "source": [
    "# проиллюстрируем работу стемминга\n",
    "words = ['program', 'programs', 'programer', 'programing', 'programers']\n",
    "\n",
    "for w in words:\n",
    "    print(w, \" : \", stemmer.stem(w))"
   ]
  },
  {
   "cell_type": "markdown",
   "metadata": {
    "id": "xiyTV4XtOmpL"
   },
   "source": [
    "**Лемматизация** – это процесс замены изменяемой формы слова на его лемму (каноническую форму или словарную форму). Но в некоторых случаях лемматизатор может не найти правильный корень, если не был указан точный тип слова. Например:"
   ]
  },
  {
   "cell_type": "code",
   "execution_count": 83,
   "metadata": {
    "colab": {
     "base_uri": "https://localhost:8080/"
    },
    "id": "1x_fsQG_MKm9",
    "outputId": "f8f9aa73-0857-453a-9c86-d0494c7100ab"
   },
   "outputs": [
    {
     "name": "stdout",
     "output_type": "stream",
     "text": [
      "strip\n",
      "stripe\n",
      "are\n",
      "be\n"
     ]
    }
   ],
   "source": [
    "print(lemmatizer.lemmatize(\"stripes\", \"v\"))\n",
    "print(lemmatizer.lemmatize(\"stripes\", \"n\"))\n",
    "print(lemmatizer.lemmatize(\"are\"))\n",
    "print(lemmatizer.lemmatize(\"are\", \"v\"))"
   ]
  },
  {
   "cell_type": "markdown",
   "metadata": {
    "id": "8wakHigUMKwM"
   },
   "source": [
    "Способ обойти эту проблему – использовать теггер (tagger) и передать тип слова в функции lemmatize. Это немного дороже в плане вычислительных затрат проекта. Стемминг или простая лемматизация (без указания точного типа слова) в плане сокращения затрат более эффективны.\n",
    "\n",
    "В этом проекте выбор сделан в пользу лемматизации, учитывающей тип слова: на текущем этапе объем обучающего признака в байтах сократился почти в два раза за счет удаления шумовой информации, что расширяет возможности применения более ресурсоемких команд."
   ]
  },
  {
   "cell_type": "code",
   "execution_count": 84,
   "metadata": {
    "id": "JCLUAYN6W516"
   },
   "outputs": [],
   "source": [
    "# создадим функцию для лемматизации датасета\n",
    "def lemmatize_text(text):\n",
    "    \"\"\"токенизируем текст и возвращаем кортеж [токен, nltk_tag]\"\"\"\n",
    "    tokens_tagged = nltk.pos_tag(nltk.word_tokenize(text))\n",
    "    lemmatized_text = []\n",
    "    for word, tag in tokens_tagged:\n",
    "        if tag.startswith('J'):\n",
    "            \"\"\"лемматизация прилагательных\"\"\"\n",
    "            lemmatized_text.append(lemmatizer.lemmatize(word,'a'))\n",
    "        elif tag.startswith('V'):\n",
    "            \"\"\"лемматизация глаголов\"\"\"\n",
    "            lemmatized_text.append(lemmatizer.lemmatize(word,'v'))\n",
    "        elif tag.startswith('N'):\n",
    "            \"\"\"лемматизация существительных\"\"\"\n",
    "            lemmatized_text.append(lemmatizer.lemmatize(word,'n'))\n",
    "        elif tag.startswith('R'):\n",
    "            \"\"\"лемматизация наречий\"\"\"\n",
    "            lemmatized_text.append(lemmatizer.lemmatize(word,'r'))\n",
    "        else:\n",
    "            \"\"\"если тэги не найдены, выполнить неспецифическую лемматизацию\"\"\"\n",
    "            lemmatized_text.append(lemmatizer.lemmatize(word))\n",
    "    \"\"\"возвращаем нетокенизированный текст\"\"\"\n",
    "    return \" \".join(lemmatized_text)"
   ]
  },
  {
   "cell_type": "code",
   "execution_count": 85,
   "metadata": {
    "colab": {
     "base_uri": "https://localhost:8080/"
    },
    "id": "940ZUL_oOt6P",
    "outputId": "6d01f475-3125-415c-ea19-58951dd610be"
   },
   "outputs": [
    {
     "data": {
      "text/plain": [
       "42590557"
      ]
     },
     "execution_count": 85,
     "metadata": {},
     "output_type": "execute_result"
    }
   ],
   "source": [
    "# выведем информацию о размере памяти, занимаемой обучающим признаком\n",
    "# до лемматизации\n",
    "before = data['text'].memory_usage(deep = True)\n",
    "before"
   ]
  },
  {
   "cell_type": "code",
   "execution_count": 86,
   "metadata": {
    "colab": {
     "base_uri": "https://localhost:8080/"
    },
    "id": "nj-CvXEn6avH",
    "outputId": "c46a3430-b0b7-40dd-d709-7f23fedbb938"
   },
   "outputs": [
    {
     "name": "stdout",
     "output_type": "stream",
     "text": [
      "CPU times: total: 7min 4s\n",
      "Wall time: 7min 14s\n"
     ]
    }
   ],
   "source": [
    "%%time\n",
    "# лемматизируем текст сообщений обучающего признака\n",
    "data['text'] = data['text'].apply(lambda x: lemmatize_text(x))"
   ]
  },
  {
   "cell_type": "code",
   "execution_count": 87,
   "metadata": {
    "colab": {
     "base_uri": "https://localhost:8080/"
    },
    "id": "59le53gxO9YH",
    "outputId": "eb065c8d-96a4-471e-d3db-553363a1263b"
   },
   "outputs": [
    {
     "data": {
      "text/plain": [
       "41113692"
      ]
     },
     "execution_count": 87,
     "metadata": {},
     "output_type": "execute_result"
    }
   ],
   "source": [
    "# выведем информацию о размере памяти, занимаемой обучающим признаком\n",
    "# после лемматизации\n",
    "after = data['text'].memory_usage(deep = True)\n",
    "after"
   ]
  },
  {
   "cell_type": "markdown",
   "metadata": {
    "id": "71DubleOO9YJ"
   },
   "source": [
    "После применения функции лемматизации размер оперативной памяти, занимаемой признаком data['text'] **уменьшился на:**"
   ]
  },
  {
   "cell_type": "code",
   "execution_count": 88,
   "metadata": {
    "colab": {
     "base_uri": "https://localhost:8080/"
    },
    "id": "lJ9PfkyQO9YK",
    "outputId": "6b5525cb-51cc-4082-e830-807b6f655147"
   },
   "outputs": [
    {
     "name": "stdout",
     "output_type": "stream",
     "text": [
      "1476865 байт\n"
     ]
    }
   ],
   "source": [
    "size_reducing = before - after\n",
    "print(f'{size_reducing} байт')"
   ]
  },
  {
   "cell_type": "markdown",
   "metadata": {
    "id": "dyeZF6VMekog"
   },
   "source": [
    "### **Проверка устранения шума на примере текста из наблюдения data.text[50]**"
   ]
  },
  {
   "cell_type": "code",
   "execution_count": 89,
   "metadata": {
    "colab": {
     "base_uri": "https://localhost:8080/",
     "height": 227
    },
    "id": "aZg1dxVs6ayC",
    "outputId": "b19cc473-5717-4372-fb96-e54b33b0d9d2"
   },
   "outputs": [
    {
     "data": {
      "text/plain": [
       "'\"\\n\\nBI, you said you wanted to talk\\n\\nAt the bottom of the lead section you have written:\\n\\n\"\"Its promoter speculated in 1994 that the skyhook concept could be cost competitive with what is realistically thought to be achievable using a space elevator, but the skyhook is not competitive with other rotating tether concepts. In addition, the rotating skyhook is in fact deemed \"\"not engineeringly feasible using presently available materials\"\".\"\"\\n\\nRegarding:  In addition, the rotating skyhook is in fact deemed \"\"not engineeringly feasible using presently available materials\"\"\\n\\nThat statement appears to come from Ref [3] on page 10.  The full quote is\\n\\n\"\"If the mass of the tether alone started to exceed 200 times the mass of the payload,\\nthen that was an indication the particular scenario being considered was not engineeringly\\nfeasible using presently available materials, although the application might become feasible in\\nthe near future as better materials become available with higher tensile strengths at higher\\noperational temperatures.\"\"\\n\\nIt then goes on to say\\n\\n\"\"As we shall see, presently available commercial materials will suffice to make the HASTOL\\ntethers needed. The primary message we want to leave with the Reader is:\\n“We don\\'t need magic materials like ‘Buckminster-Fuller-carbon-nanotubes’ to make\\nthe space tether facility for a HASTOL system. Existing materials will do.”\"\"\\n\\nSo it would appear that you misread your reference.  The tether mass of 200 times mass of the payload mass is the upper limit to the problem.  Systems where the tether mass is less than 200 times the payload mass can be built with \"\"presently available commercial materials.\"\"\\n\\nTo further reinforce this the Conclusion to the report states\\n\\n\"\"The fundamental conclusion of the Phase I HASTOL study effort is that the concept is\\ntechnically feasible. We have evaluated a number of alternate system configurations that will\\nallow hypersonic air-breathing vehicle technologies to be combined with orbiting, spinning space\\ntether technologies to provide a method of moving payloads from the surface of the Earth into\\nEarth orbit. For more than one HASTOL architecture concept, we have developed a design\\nsolution using existing, or near-term technologies. We expect that a number of the other\\nHASTOL architecture concepts will prove similarly technically feasible when subjected to\\ndetailed design studies. The systems are completely reusable and have the potential of drastically\\nreducing the cost of Earth-to-orbit space access.\"\"\\n\\nRegarding: \"\"but the skyhook is not competitive with other rotating tether concepts.\"\" and \\n\\n\"\"A 2000 Boeing report on the possibillity of combining skyhooks with hypersonic planes concluded that \"\"In general, the non-spinning tether HyperSkyhook concept does not look competitive with the spinning tether concepts.\"\".\"\"\\n\\nThe full quote is:\\n\\n\"\"HyperSkyhook\\n\\nIn 1995 Zubrin proposed the “Hypersonic Skyhook” as a solution to the mismatch between\\nthe attainable atmospheric speeds of a hypersonic airplane and the orbital speeds of space tethers.\\nSince the orbital speed of the space tether decreases with increasing altitu'"
      ]
     },
     "execution_count": 89,
     "metadata": {},
     "output_type": "execute_result"
    }
   ],
   "source": [
    "# выведем первоначальное содержание ячейки data.text[50]\n",
    "random_comment_1"
   ]
  },
  {
   "cell_type": "code",
   "execution_count": 90,
   "metadata": {
    "colab": {
     "base_uri": "https://localhost:8080/"
    },
    "id": "7c8HKSs6sxd4",
    "outputId": "17f3812c-f7bf-4751-deff-457a0cd54d61"
   },
   "outputs": [
    {
     "name": "stdout",
     "output_type": "stream",
     "text": [
      "Количество символов в контрольной ячейке\n",
      "до удаления информационного шума:\n",
      " 3150\n"
     ]
    }
   ],
   "source": [
    "# выведем количество символов (с пробелами) в ячейке data.text[50]\n",
    "# до удаления информационного шума\n",
    "cell_size_before = len(random_comment_1)\n",
    "print(f'Количество символов в контрольной ячейке\\n'\n",
    "f'до удаления информационного шума:\\n {cell_size_before}')"
   ]
  },
  {
   "cell_type": "code",
   "execution_count": 91,
   "metadata": {
    "colab": {
     "base_uri": "https://localhost:8080/",
     "height": 227
    },
    "id": "EEMfSiQsfAdj",
    "outputId": "bebc010d-9f86-42c9-cfc5-8d35e709fd73"
   },
   "outputs": [
    {
     "data": {
      "text/plain": [
       "'bi say wanted talk bottom lead section write promoter speculate skyhook concept could cost competitive realistically think achievable use space elevator rotate tether concept addition fact deem engineeringly feasible presently available material regard material statement appear come ref page full quote mass alone start exceed time payload indication particular scenario consider material although application might become near future good material higher tensile strength operational temperature go say shall see commercial suffice make hastol tether need primary message want leave reader need magic like buckminsterfullercarbonnanotubes facility system exist would appear misread reference payload upper limit problem system less build presently material reinforce conclusion report state fundamental phase study effort technically feasible evaluated number alternate system configuration allow hypersonic airbreathing vehicle technology combine orbit spin provide method move payload surface earth orbit one architecture concept develop design solution exist nearterm technology expect concept prove similarly subject detailed study completely reusable potential drastically reduce earthtoorbit access concept boeing possibillity combine skyhook plane conclude general nonspinning hyperskyhook look concept hyperskyhook zubrin propose hypersonic skyhook mismatch attainable atmospheric speed airplane orbital tether since speed decrease increase altitu'"
      ]
     },
     "execution_count": 91,
     "metadata": {},
     "output_type": "execute_result"
    }
   ],
   "source": [
    "# выведем содержание ячейки data.text[50]\n",
    "# после устранения шума\n",
    "data.text[50]"
   ]
  },
  {
   "cell_type": "code",
   "execution_count": 92,
   "metadata": {
    "colab": {
     "base_uri": "https://localhost:8080/"
    },
    "id": "-M8ixyrDoOtZ",
    "outputId": "57e04aab-98b0-4b63-c86e-1329b34116f6"
   },
   "outputs": [
    {
     "name": "stdout",
     "output_type": "stream",
     "text": [
      "Количество символов в контрольной ячейке\n",
      "после удаления информационного шума:\n",
      " 1457\n"
     ]
    }
   ],
   "source": [
    "# выведем количество символов (с пробелами) в ячейке data.text[50]\n",
    "# после удаления информационного шума\n",
    "cell_size_after = len(data['text'][50])\n",
    "print(f'Количество символов в контрольной ячейке\\n'\n",
    "f'после удаления информационного шума:\\n {cell_size_after}')"
   ]
  },
  {
   "cell_type": "markdown",
   "metadata": {
    "id": "r7dqnXhnga9n"
   },
   "source": [
    "Определим, насколько сократился в байтах размер обучающего признака после удаления шумовой информации из текстов комментариев пользователей."
   ]
  },
  {
   "cell_type": "code",
   "execution_count": 93,
   "metadata": {
    "colab": {
     "base_uri": "https://localhost:8080/"
    },
    "id": "VDW5EuZ5fAht",
    "outputId": "aad069af-9855-4dc1-bd4d-16fa37288b78"
   },
   "outputs": [
    {
     "data": {
      "text/plain": [
       "41113692"
      ]
     },
     "execution_count": 93,
     "metadata": {},
     "output_type": "execute_result"
    }
   ],
   "source": [
    "# вычислим окончательный размер в байтах обучающего признака\n",
    "# после удаления шумовой информации\n",
    "size_after_del_noise = data['text'].memory_usage(deep = True)\n",
    "size_after_del_noise"
   ]
  },
  {
   "cell_type": "code",
   "execution_count": 94,
   "metadata": {
    "colab": {
     "base_uri": "https://localhost:8080/"
    },
    "id": "lIoYTcJddn7U",
    "outputId": "e4c1ad21-0b84-4808-fa4e-684e4cd8c73f"
   },
   "outputs": [
    {
     "name": "stdout",
     "output_type": "stream",
     "text": [
      "Объем удаленной шумовой информации:\n",
      " 56.86 %\n"
     ]
    }
   ],
   "source": [
    "# расчитаем объем удаленной шумовой информации\n",
    "remote_inf_noise = round((1 - size_after_del_noise / size_before) * 100, 2)\n",
    "print(f'Объем удаленной шумовой информации:\\n {remote_inf_noise} %')"
   ]
  },
  {
   "cell_type": "markdown",
   "metadata": {
    "id": "R8HNQAi9tWG9"
   },
   "source": [
    "Мы видим, что информационный шум из текстов сообщений пользователей был успешно удален."
   ]
  },
  {
   "cell_type": "markdown",
   "metadata": {
    "id": "68o-PpKxM2_v"
   },
   "source": [
    "### **Устранение дисбаланса классов в задаче ML для текстов**\n",
    "\n",
    "---"
   ]
  },
  {
   "cell_type": "markdown",
   "metadata": {
    "id": "FgER4DmAPVs4"
   },
   "source": [
    "Как было проиллюстрировано выше, целевой признак сильно не сбалансирован: на один негативный комментарий приходится 9 нейтральных/позитивных комментариев.\n",
    "\n",
    "Существуют различные подходы устранения дисбаланса классов в задачах ML для текстов:\n",
    "\n",
    "1 - установка порогового значения и удаление класса / значений класса, которые ниже порогового уровня\n",
    "\n",
    "2 - генерация синтетических значений целевого признака с помощью метода SMOTE и аналогичных ему\n",
    "\n",
    "3 - указание class_weights в качестве параметра обучения модели\n"
   ]
  },
  {
   "cell_type": "markdown",
   "metadata": {
    "id": "hPgSaj9ZPY5c"
   },
   "source": [
    " * Imbalanced dataset in text classification // Kaggle. - URL: https://www.kaggle.com/general/205128"
   ]
  },
  {
   "cell_type": "markdown",
   "metadata": {
    "id": "tlnhGuNWP3Tb"
   },
   "source": [
    "Фактически указанные выше подходы являются гиперпараметрами машинного обучения. **Устранение дисбаланса классов будет выполнено с помощью class_weight**.\n",
    "\n",
    "Подготовим параметр class_weight для обучения моделей."
   ]
  },
  {
   "cell_type": "code",
   "execution_count": 95,
   "metadata": {
    "colab": {
     "base_uri": "https://localhost:8080/"
    },
    "id": "jGMs6_CeR0CE",
    "outputId": "3995ffc1-52eb-4c04-b9b6-ec410db24d03"
   },
   "outputs": [
    {
     "data": {
      "text/plain": [
       "((159292,), (159292,))"
      ]
     },
     "execution_count": 95,
     "metadata": {},
     "output_type": "execute_result"
    }
   ],
   "source": [
    "# выделим обучающий признак и целевой признак\n",
    "feature = data.text\n",
    "target = data.toxic\n",
    "\n",
    "# выведем размер признаков\n",
    "feature.shape, target.shape"
   ]
  },
  {
   "cell_type": "code",
   "execution_count": 96,
   "metadata": {
    "id": "kPtf8tQfM2gG"
   },
   "outputs": [],
   "source": [
    "# объявляем объект class_weights\n",
    "class_weights = list(\n",
    "    class_weight.compute_class_weight('balanced',\n",
    "                                      classes = np.unique(data['toxic']),\n",
    "                                      y = data['toxic'])\n",
    ")"
   ]
  },
  {
   "cell_type": "code",
   "execution_count": 97,
   "metadata": {
    "id": "QQUTfdqXM2jK"
   },
   "outputs": [],
   "source": [
    "# создаем словарь весов\n",
    "weights={}\n",
    "for index, weight in enumerate(class_weights):\n",
    "  weights[index] = weight"
   ]
  },
  {
   "cell_type": "code",
   "execution_count": 98,
   "metadata": {
    "colab": {
     "base_uri": "https://localhost:8080/"
    },
    "id": "OjNO4MlnM2mn",
    "outputId": "98559a61-b1ea-43a8-88ad-bbaf55c8087f"
   },
   "outputs": [
    {
     "data": {
      "text/plain": [
       "{0: 0.5565524855701368, 1: 4.9206721858396145}"
      ]
     },
     "execution_count": 98,
     "metadata": {},
     "output_type": "execute_result"
    }
   ],
   "source": [
    "# выведем значения полученных весов\n",
    "weights"
   ]
  },
  {
   "cell_type": "markdown",
   "metadata": {
    "id": "I0wywcy0UpKZ"
   },
   "source": [
    "Как видим, нейтральным/позитивным комментариям (преобладающему классу) будет присвоен вес 0.55. Токсичным комментариям (минорному классу) будет присвоен вес 4.92. Это позволит устранить проблему несбалансированных классов в целевом признаке.\n",
    "\n",
    "При обучении моделей гиперпараметру **class_weights** будет передаваться словарь **weights**."
   ]
  },
  {
   "cell_type": "markdown",
   "metadata": {
    "id": "wMalRMgZXctt"
   },
   "source": [
    "### **Формирование обучающего и тестового комплекта**\n",
    "\n",
    "---"
   ]
  },
  {
   "cell_type": "markdown",
   "metadata": {
    "id": "_fKoOOdPXqhz"
   },
   "source": [
    "При формировании обучающего и тестового комплекта проведем стратификацию по целевому признаку."
   ]
  },
  {
   "cell_type": "code",
   "execution_count": 99,
   "metadata": {
    "colab": {
     "base_uri": "https://localhost:8080/"
    },
    "id": "UL8cyfVBVPZe",
    "outputId": "125e74aa-d17d-4f22-cbca-f4cadf85c1a5"
   },
   "outputs": [
    {
     "data": {
      "text/plain": [
       "((159292,), (159292,))"
      ]
     },
     "execution_count": 99,
     "metadata": {},
     "output_type": "execute_result"
    }
   ],
   "source": [
    "# проверим размеры обучающего признака и целевого признака\n",
    "# до формирования обучающего и тестового комплекта\n",
    "feature.shape, target.shape"
   ]
  },
  {
   "cell_type": "code",
   "execution_count": 100,
   "metadata": {
    "id": "pIoF8ZkFVPcU"
   },
   "outputs": [],
   "source": [
    "# сформируем обучающий и тестовый комплекты\n",
    "feature_train, feature_test, \\\n",
    "target_train, target_test = train_test_split(\n",
    "    feature,\n",
    "    target,\n",
    "    test_size = 0.2,\n",
    "    random_state = 1,\n",
    "    stratify = target\n",
    ")"
   ]
  },
  {
   "cell_type": "code",
   "execution_count": 101,
   "metadata": {
    "colab": {
     "base_uri": "https://localhost:8080/"
    },
    "id": "8t--_iR4PQSB",
    "outputId": "2aee1985-3d0a-4927-ed94-48db4652905b"
   },
   "outputs": [
    {
     "data": {
      "text/plain": [
       "((127433,), (127433,))"
      ]
     },
     "execution_count": 101,
     "metadata": {},
     "output_type": "execute_result"
    }
   ],
   "source": [
    "# проверим размер датасетов обучающего комплекта\n",
    "feature_train.shape, target_train.shape"
   ]
  },
  {
   "cell_type": "code",
   "execution_count": 102,
   "metadata": {
    "colab": {
     "base_uri": "https://localhost:8080/"
    },
    "id": "pGuk6FmKPQZM",
    "outputId": "273f7aa7-b40c-4bab-bcfb-4f45d28617b3"
   },
   "outputs": [
    {
     "data": {
      "text/plain": [
       "((31859,), (31859,))"
      ]
     },
     "execution_count": 102,
     "metadata": {},
     "output_type": "execute_result"
    }
   ],
   "source": [
    "# проверим размер датасетов тестового комплекта\n",
    "feature_test.shape, target_test.shape"
   ]
  },
  {
   "cell_type": "markdown",
   "metadata": {
    "id": "LGH1xz2jf67G"
   },
   "source": [
    "Проверим, одинаково ли распределение классов в целевом признаке в обучающем и тестовом комплекте."
   ]
  },
  {
   "cell_type": "code",
   "execution_count": 103,
   "metadata": {
    "colab": {
     "base_uri": "https://localhost:8080/"
    },
    "id": "IEVDUjgSPQcb",
    "outputId": "e3663218-7ff2-4de9-eba4-aba8b56c8eb8"
   },
   "outputs": [
    {
     "data": {
      "text/plain": [
       "0    0.898386\n",
       "1    0.101614\n",
       "Name: toxic, dtype: float64"
      ]
     },
     "execution_count": 103,
     "metadata": {},
     "output_type": "execute_result"
    }
   ],
   "source": [
    "# определим распределение классов\n",
    "# в целевом признаке обучающего комплекта\n",
    "target_train.value_counts(normalize = True)"
   ]
  },
  {
   "cell_type": "code",
   "execution_count": 104,
   "metadata": {
    "colab": {
     "base_uri": "https://localhost:8080/"
    },
    "id": "8r1YOx_LPQfa",
    "outputId": "f2bc79ca-a11a-4459-d00e-37256bfa7a59"
   },
   "outputs": [
    {
     "data": {
      "text/plain": [
       "0    0.898396\n",
       "1    0.101604\n",
       "Name: toxic, dtype: float64"
      ]
     },
     "execution_count": 104,
     "metadata": {},
     "output_type": "execute_result"
    }
   ],
   "source": [
    "# определим распределение классов\n",
    "# в целевом признаке тестового комплекта\n",
    "target_test.value_counts(normalize = True)"
   ]
  },
  {
   "cell_type": "markdown",
   "metadata": {
    "id": "z9Oh8hRRoPxV"
   },
   "source": [
    "**<font color='mediumblue'>ВЫВОДЫ по 3 Исследовательский анализ данных</font>**\n",
    "\n",
    "---"
   ]
  },
  {
   "cell_type": "markdown",
   "metadata": {
    "id": "pN_uSrOOoW_j"
   },
   "source": [
    "**(1)** в результате предобработки данных для машинного обучения тексты сообщений пользователей с помощью специально подготовленных функций были обработаны:\n",
    "\n",
    " * удалены элементы HTML-форматирования\n",
    "\n",
    " * сокращения трансформированы в полную лексическую форму\n",
    "\n",
    " * все слова текстов переведены в нижний регистр\n",
    "\n",
    " * удалены повторяющиеся символы в словах и повторяющиеся знаки препинания\n",
    "\n",
    " * удалены повторяющиеся слова\n",
    "\n",
    " * удалены эмодзи\n",
    "\n",
    " * удалены все небуквенные символы\n",
    "\n",
    " * удалены одиночные буквенные символы\n",
    "\n",
    " * удалены стоп-слова\n",
    "\n",
    " * проведена лемматизация\n",
    "\n",
    "**(2)** в результате предобработки из обучающего признака удалено 56.86% информации, которая является информационным шумом\n",
    "\n",
    "**(3)** для устранения выявленного в целевом признаке дисбаланса классов создана функция class_weigts\n",
    "\n",
    "**(4)** сформированы обучающий и тестовый комплекты для машинного обучения моделей"
   ]
  },
  {
   "cell_type": "markdown",
   "metadata": {
    "id": "fOr6da_xoXJL"
   },
   "source": [
    "## <font color='green'>**Машинное обучение моделей**</font>\n",
    "\n",
    "---"
   ]
  },
  {
   "cell_type": "markdown",
   "metadata": {
    "id": "phR0gns5KwC9"
   },
   "source": [
    "### **Обучение модели LogisticRegression на признаках, подготовленных с помощью CountVectorizer()**\n",
    "\n",
    "---"
   ]
  },
  {
   "cell_type": "code",
   "execution_count": 105,
   "metadata": {
    "id": "m1OBT5hRMGWm"
   },
   "outputs": [],
   "source": [
    "# для снижения возможного переобучения модели при кросс-валидации\n",
    "# добавим перемешивание данных (созданная переменная cv\n",
    "# будет использована при обучении всех моделей в этом проекте)\n",
    "cv = KFold(5, shuffle=True, random_state=1)"
   ]
  },
  {
   "cell_type": "code",
   "execution_count": 106,
   "metadata": {
    "id": "4J6HczqCC83m"
   },
   "outputs": [],
   "source": [
    "# объявляем объект конвейера\n",
    "pipe_bow = Pipeline([\n",
    "    ('vect', CountVectorizer(ngram_range=(1, 2))),\n",
    "    ('model', LogisticRegression(\n",
    "        random_state = 1,\n",
    "        class_weight = weights))\n",
    "])"
   ]
  },
  {
   "cell_type": "code",
   "execution_count": 107,
   "metadata": {
    "id": "0C_aBcqEC83m",
    "outputId": "4c265820-f94f-4978-bbef-3b9887776670"
   },
   "outputs": [
    {
     "data": {
      "text/plain": [
       "0                       memory\n",
       "1                        steps\n",
       "2                      verbose\n",
       "3                         vect\n",
       "4                        model\n",
       "5               vect__analyzer\n",
       "6                 vect__binary\n",
       "7           vect__decode_error\n",
       "8                  vect__dtype\n",
       "9               vect__encoding\n",
       "10                 vect__input\n",
       "11             vect__lowercase\n",
       "12                vect__max_df\n",
       "13          vect__max_features\n",
       "14                vect__min_df\n",
       "15           vect__ngram_range\n",
       "16          vect__preprocessor\n",
       "17            vect__stop_words\n",
       "18         vect__strip_accents\n",
       "19         vect__token_pattern\n",
       "20             vect__tokenizer\n",
       "21            vect__vocabulary\n",
       "22                    model__C\n",
       "23         model__class_weight\n",
       "24                 model__dual\n",
       "25        model__fit_intercept\n",
       "26    model__intercept_scaling\n",
       "27             model__l1_ratio\n",
       "28             model__max_iter\n",
       "29          model__multi_class\n",
       "30               model__n_jobs\n",
       "31              model__penalty\n",
       "32         model__random_state\n",
       "33               model__solver\n",
       "34                  model__tol\n",
       "35              model__verbose\n",
       "36           model__warm_start\n",
       "dtype: object"
      ]
     },
     "execution_count": 107,
     "metadata": {},
     "output_type": "execute_result"
    }
   ],
   "source": [
    "# выведем списоек доступных гиперпараметров модели из конвейера\n",
    "pd.Series(pipe_bow.get_params().keys())"
   ]
  },
  {
   "cell_type": "code",
   "execution_count": 108,
   "metadata": {
    "id": "ity7SCJ8C83m"
   },
   "outputs": [],
   "source": [
    "# создаем словарь с гиперпараметрами\n",
    "params_lr_bow = {\n",
    "    'model__penalty': ['l1', 'l2', 'elasticnet', None]\n",
    "    }"
   ]
  },
  {
   "cell_type": "code",
   "execution_count": 109,
   "metadata": {
    "id": "o3Svfi7CC83m"
   },
   "outputs": [],
   "source": [
    "# создаем объект RandomizedSearchCV\n",
    "random_model_lr_bow = RandomizedSearchCV(\n",
    "    pipe_bow,\n",
    "    params_lr_bow,\n",
    "    scoring = 'f1',\n",
    "    refit = True,\n",
    "    cv = cv,\n",
    "    random_state = 1\n",
    ")"
   ]
  },
  {
   "cell_type": "code",
   "execution_count": 110,
   "metadata": {
    "colab": {
     "base_uri": "https://localhost:8080/"
    },
    "id": "s1mWagyrmDQ4",
    "outputId": "4fc271fe-76cc-4bf0-9771-2458dab41efe"
   },
   "outputs": [
    {
     "name": "stdout",
     "output_type": "stream",
     "text": [
      "CPU times: total: 12min 39s\n",
      "Wall time: 11min 47s\n"
     ]
    },
    {
     "data": {
      "text/html": [
       "<style>#sk-container-id-1 {color: black;background-color: white;}#sk-container-id-1 pre{padding: 0;}#sk-container-id-1 div.sk-toggleable {background-color: white;}#sk-container-id-1 label.sk-toggleable__label {cursor: pointer;display: block;width: 100%;margin-bottom: 0;padding: 0.3em;box-sizing: border-box;text-align: center;}#sk-container-id-1 label.sk-toggleable__label-arrow:before {content: \"▸\";float: left;margin-right: 0.25em;color: #696969;}#sk-container-id-1 label.sk-toggleable__label-arrow:hover:before {color: black;}#sk-container-id-1 div.sk-estimator:hover label.sk-toggleable__label-arrow:before {color: black;}#sk-container-id-1 div.sk-toggleable__content {max-height: 0;max-width: 0;overflow: hidden;text-align: left;background-color: #f0f8ff;}#sk-container-id-1 div.sk-toggleable__content pre {margin: 0.2em;color: black;border-radius: 0.25em;background-color: #f0f8ff;}#sk-container-id-1 input.sk-toggleable__control:checked~div.sk-toggleable__content {max-height: 200px;max-width: 100%;overflow: auto;}#sk-container-id-1 input.sk-toggleable__control:checked~label.sk-toggleable__label-arrow:before {content: \"▾\";}#sk-container-id-1 div.sk-estimator input.sk-toggleable__control:checked~label.sk-toggleable__label {background-color: #d4ebff;}#sk-container-id-1 div.sk-label input.sk-toggleable__control:checked~label.sk-toggleable__label {background-color: #d4ebff;}#sk-container-id-1 input.sk-hidden--visually {border: 0;clip: rect(1px 1px 1px 1px);clip: rect(1px, 1px, 1px, 1px);height: 1px;margin: -1px;overflow: hidden;padding: 0;position: absolute;width: 1px;}#sk-container-id-1 div.sk-estimator {font-family: monospace;background-color: #f0f8ff;border: 1px dotted black;border-radius: 0.25em;box-sizing: border-box;margin-bottom: 0.5em;}#sk-container-id-1 div.sk-estimator:hover {background-color: #d4ebff;}#sk-container-id-1 div.sk-parallel-item::after {content: \"\";width: 100%;border-bottom: 1px solid gray;flex-grow: 1;}#sk-container-id-1 div.sk-label:hover label.sk-toggleable__label {background-color: #d4ebff;}#sk-container-id-1 div.sk-serial::before {content: \"\";position: absolute;border-left: 1px solid gray;box-sizing: border-box;top: 0;bottom: 0;left: 50%;z-index: 0;}#sk-container-id-1 div.sk-serial {display: flex;flex-direction: column;align-items: center;background-color: white;padding-right: 0.2em;padding-left: 0.2em;position: relative;}#sk-container-id-1 div.sk-item {position: relative;z-index: 1;}#sk-container-id-1 div.sk-parallel {display: flex;align-items: stretch;justify-content: center;background-color: white;position: relative;}#sk-container-id-1 div.sk-item::before, #sk-container-id-1 div.sk-parallel-item::before {content: \"\";position: absolute;border-left: 1px solid gray;box-sizing: border-box;top: 0;bottom: 0;left: 50%;z-index: -1;}#sk-container-id-1 div.sk-parallel-item {display: flex;flex-direction: column;z-index: 1;position: relative;background-color: white;}#sk-container-id-1 div.sk-parallel-item:first-child::after {align-self: flex-end;width: 50%;}#sk-container-id-1 div.sk-parallel-item:last-child::after {align-self: flex-start;width: 50%;}#sk-container-id-1 div.sk-parallel-item:only-child::after {width: 0;}#sk-container-id-1 div.sk-dashed-wrapped {border: 1px dashed gray;margin: 0 0.4em 0.5em 0.4em;box-sizing: border-box;padding-bottom: 0.4em;background-color: white;}#sk-container-id-1 div.sk-label label {font-family: monospace;font-weight: bold;display: inline-block;line-height: 1.2em;}#sk-container-id-1 div.sk-label-container {text-align: center;}#sk-container-id-1 div.sk-container {/* jupyter's `normalize.less` sets `[hidden] { display: none; }` but bootstrap.min.css set `[hidden] { display: none !important; }` so we also need the `!important` here to be able to override the default hidden behavior on the sphinx rendered scikit-learn.org. See: https://github.com/scikit-learn/scikit-learn/issues/21755 */display: inline-block !important;position: relative;}#sk-container-id-1 div.sk-text-repr-fallback {display: none;}</style><div id=\"sk-container-id-1\" class=\"sk-top-container\"><div class=\"sk-text-repr-fallback\"><pre>RandomizedSearchCV(cv=KFold(n_splits=5, random_state=1, shuffle=True),\n",
       "                   estimator=Pipeline(steps=[(&#x27;vect&#x27;,\n",
       "                                              CountVectorizer(ngram_range=(1,\n",
       "                                                                           2))),\n",
       "                                             (&#x27;model&#x27;,\n",
       "                                              LogisticRegression(class_weight={0: 0.5565524855701368,\n",
       "                                                                               1: 4.9206721858396145},\n",
       "                                                                 random_state=1))]),\n",
       "                   param_distributions={&#x27;model__penalty&#x27;: [&#x27;l1&#x27;, &#x27;l2&#x27;,\n",
       "                                                           &#x27;elasticnet&#x27;,\n",
       "                                                           None]},\n",
       "                   random_state=1, scoring=&#x27;f1&#x27;)</pre><b>In a Jupyter environment, please rerun this cell to show the HTML representation or trust the notebook. <br />On GitHub, the HTML representation is unable to render, please try loading this page with nbviewer.org.</b></div><div class=\"sk-container\" hidden><div class=\"sk-item sk-dashed-wrapped\"><div class=\"sk-label-container\"><div class=\"sk-label sk-toggleable\"><input class=\"sk-toggleable__control sk-hidden--visually\" id=\"sk-estimator-id-1\" type=\"checkbox\" ><label for=\"sk-estimator-id-1\" class=\"sk-toggleable__label sk-toggleable__label-arrow\">RandomizedSearchCV</label><div class=\"sk-toggleable__content\"><pre>RandomizedSearchCV(cv=KFold(n_splits=5, random_state=1, shuffle=True),\n",
       "                   estimator=Pipeline(steps=[(&#x27;vect&#x27;,\n",
       "                                              CountVectorizer(ngram_range=(1,\n",
       "                                                                           2))),\n",
       "                                             (&#x27;model&#x27;,\n",
       "                                              LogisticRegression(class_weight={0: 0.5565524855701368,\n",
       "                                                                               1: 4.9206721858396145},\n",
       "                                                                 random_state=1))]),\n",
       "                   param_distributions={&#x27;model__penalty&#x27;: [&#x27;l1&#x27;, &#x27;l2&#x27;,\n",
       "                                                           &#x27;elasticnet&#x27;,\n",
       "                                                           None]},\n",
       "                   random_state=1, scoring=&#x27;f1&#x27;)</pre></div></div></div><div class=\"sk-parallel\"><div class=\"sk-parallel-item\"><div class=\"sk-item\"><div class=\"sk-label-container\"><div class=\"sk-label sk-toggleable\"><input class=\"sk-toggleable__control sk-hidden--visually\" id=\"sk-estimator-id-2\" type=\"checkbox\" ><label for=\"sk-estimator-id-2\" class=\"sk-toggleable__label sk-toggleable__label-arrow\">estimator: Pipeline</label><div class=\"sk-toggleable__content\"><pre>Pipeline(steps=[(&#x27;vect&#x27;, CountVectorizer(ngram_range=(1, 2))),\n",
       "                (&#x27;model&#x27;,\n",
       "                 LogisticRegression(class_weight={0: 0.5565524855701368,\n",
       "                                                  1: 4.9206721858396145},\n",
       "                                    random_state=1))])</pre></div></div></div><div class=\"sk-serial\"><div class=\"sk-item\"><div class=\"sk-serial\"><div class=\"sk-item\"><div class=\"sk-estimator sk-toggleable\"><input class=\"sk-toggleable__control sk-hidden--visually\" id=\"sk-estimator-id-3\" type=\"checkbox\" ><label for=\"sk-estimator-id-3\" class=\"sk-toggleable__label sk-toggleable__label-arrow\">CountVectorizer</label><div class=\"sk-toggleable__content\"><pre>CountVectorizer(ngram_range=(1, 2))</pre></div></div></div><div class=\"sk-item\"><div class=\"sk-estimator sk-toggleable\"><input class=\"sk-toggleable__control sk-hidden--visually\" id=\"sk-estimator-id-4\" type=\"checkbox\" ><label for=\"sk-estimator-id-4\" class=\"sk-toggleable__label sk-toggleable__label-arrow\">LogisticRegression</label><div class=\"sk-toggleable__content\"><pre>LogisticRegression(class_weight={0: 0.5565524855701368, 1: 4.9206721858396145},\n",
       "                   random_state=1)</pre></div></div></div></div></div></div></div></div></div></div></div></div>"
      ],
      "text/plain": [
       "RandomizedSearchCV(cv=KFold(n_splits=5, random_state=1, shuffle=True),\n",
       "                   estimator=Pipeline(steps=[('vect',\n",
       "                                              CountVectorizer(ngram_range=(1,\n",
       "                                                                           2))),\n",
       "                                             ('model',\n",
       "                                              LogisticRegression(class_weight={0: 0.5565524855701368,\n",
       "                                                                               1: 4.9206721858396145},\n",
       "                                                                 random_state=1))]),\n",
       "                   param_distributions={'model__penalty': ['l1', 'l2',\n",
       "                                                           'elasticnet',\n",
       "                                                           None]},\n",
       "                   random_state=1, scoring='f1')"
      ]
     },
     "execution_count": 110,
     "metadata": {},
     "output_type": "execute_result"
    }
   ],
   "source": [
    "%%time\n",
    "# обучаем модель\n",
    "random_model_lr_bow.fit(feature_train, target_train)"
   ]
  },
  {
   "cell_type": "code",
   "execution_count": 111,
   "metadata": {
    "id": "p3m4AjY1C83n",
    "outputId": "69059c45-25c3-4bd4-bf3d-e719237836fc"
   },
   "outputs": [
    {
     "data": {
      "text/html": [
       "<style>#sk-container-id-2 {color: black;background-color: white;}#sk-container-id-2 pre{padding: 0;}#sk-container-id-2 div.sk-toggleable {background-color: white;}#sk-container-id-2 label.sk-toggleable__label {cursor: pointer;display: block;width: 100%;margin-bottom: 0;padding: 0.3em;box-sizing: border-box;text-align: center;}#sk-container-id-2 label.sk-toggleable__label-arrow:before {content: \"▸\";float: left;margin-right: 0.25em;color: #696969;}#sk-container-id-2 label.sk-toggleable__label-arrow:hover:before {color: black;}#sk-container-id-2 div.sk-estimator:hover label.sk-toggleable__label-arrow:before {color: black;}#sk-container-id-2 div.sk-toggleable__content {max-height: 0;max-width: 0;overflow: hidden;text-align: left;background-color: #f0f8ff;}#sk-container-id-2 div.sk-toggleable__content pre {margin: 0.2em;color: black;border-radius: 0.25em;background-color: #f0f8ff;}#sk-container-id-2 input.sk-toggleable__control:checked~div.sk-toggleable__content {max-height: 200px;max-width: 100%;overflow: auto;}#sk-container-id-2 input.sk-toggleable__control:checked~label.sk-toggleable__label-arrow:before {content: \"▾\";}#sk-container-id-2 div.sk-estimator input.sk-toggleable__control:checked~label.sk-toggleable__label {background-color: #d4ebff;}#sk-container-id-2 div.sk-label input.sk-toggleable__control:checked~label.sk-toggleable__label {background-color: #d4ebff;}#sk-container-id-2 input.sk-hidden--visually {border: 0;clip: rect(1px 1px 1px 1px);clip: rect(1px, 1px, 1px, 1px);height: 1px;margin: -1px;overflow: hidden;padding: 0;position: absolute;width: 1px;}#sk-container-id-2 div.sk-estimator {font-family: monospace;background-color: #f0f8ff;border: 1px dotted black;border-radius: 0.25em;box-sizing: border-box;margin-bottom: 0.5em;}#sk-container-id-2 div.sk-estimator:hover {background-color: #d4ebff;}#sk-container-id-2 div.sk-parallel-item::after {content: \"\";width: 100%;border-bottom: 1px solid gray;flex-grow: 1;}#sk-container-id-2 div.sk-label:hover label.sk-toggleable__label {background-color: #d4ebff;}#sk-container-id-2 div.sk-serial::before {content: \"\";position: absolute;border-left: 1px solid gray;box-sizing: border-box;top: 0;bottom: 0;left: 50%;z-index: 0;}#sk-container-id-2 div.sk-serial {display: flex;flex-direction: column;align-items: center;background-color: white;padding-right: 0.2em;padding-left: 0.2em;position: relative;}#sk-container-id-2 div.sk-item {position: relative;z-index: 1;}#sk-container-id-2 div.sk-parallel {display: flex;align-items: stretch;justify-content: center;background-color: white;position: relative;}#sk-container-id-2 div.sk-item::before, #sk-container-id-2 div.sk-parallel-item::before {content: \"\";position: absolute;border-left: 1px solid gray;box-sizing: border-box;top: 0;bottom: 0;left: 50%;z-index: -1;}#sk-container-id-2 div.sk-parallel-item {display: flex;flex-direction: column;z-index: 1;position: relative;background-color: white;}#sk-container-id-2 div.sk-parallel-item:first-child::after {align-self: flex-end;width: 50%;}#sk-container-id-2 div.sk-parallel-item:last-child::after {align-self: flex-start;width: 50%;}#sk-container-id-2 div.sk-parallel-item:only-child::after {width: 0;}#sk-container-id-2 div.sk-dashed-wrapped {border: 1px dashed gray;margin: 0 0.4em 0.5em 0.4em;box-sizing: border-box;padding-bottom: 0.4em;background-color: white;}#sk-container-id-2 div.sk-label label {font-family: monospace;font-weight: bold;display: inline-block;line-height: 1.2em;}#sk-container-id-2 div.sk-label-container {text-align: center;}#sk-container-id-2 div.sk-container {/* jupyter's `normalize.less` sets `[hidden] { display: none; }` but bootstrap.min.css set `[hidden] { display: none !important; }` so we also need the `!important` here to be able to override the default hidden behavior on the sphinx rendered scikit-learn.org. See: https://github.com/scikit-learn/scikit-learn/issues/21755 */display: inline-block !important;position: relative;}#sk-container-id-2 div.sk-text-repr-fallback {display: none;}</style><div id=\"sk-container-id-2\" class=\"sk-top-container\"><div class=\"sk-text-repr-fallback\"><pre>Pipeline(steps=[(&#x27;vect&#x27;, CountVectorizer(ngram_range=(1, 2))),\n",
       "                (&#x27;model&#x27;,\n",
       "                 LogisticRegression(class_weight={0: 0.5565524855701368,\n",
       "                                                  1: 4.9206721858396145},\n",
       "                                    random_state=1))])</pre><b>In a Jupyter environment, please rerun this cell to show the HTML representation or trust the notebook. <br />On GitHub, the HTML representation is unable to render, please try loading this page with nbviewer.org.</b></div><div class=\"sk-container\" hidden><div class=\"sk-item sk-dashed-wrapped\"><div class=\"sk-label-container\"><div class=\"sk-label sk-toggleable\"><input class=\"sk-toggleable__control sk-hidden--visually\" id=\"sk-estimator-id-5\" type=\"checkbox\" ><label for=\"sk-estimator-id-5\" class=\"sk-toggleable__label sk-toggleable__label-arrow\">Pipeline</label><div class=\"sk-toggleable__content\"><pre>Pipeline(steps=[(&#x27;vect&#x27;, CountVectorizer(ngram_range=(1, 2))),\n",
       "                (&#x27;model&#x27;,\n",
       "                 LogisticRegression(class_weight={0: 0.5565524855701368,\n",
       "                                                  1: 4.9206721858396145},\n",
       "                                    random_state=1))])</pre></div></div></div><div class=\"sk-serial\"><div class=\"sk-item\"><div class=\"sk-estimator sk-toggleable\"><input class=\"sk-toggleable__control sk-hidden--visually\" id=\"sk-estimator-id-6\" type=\"checkbox\" ><label for=\"sk-estimator-id-6\" class=\"sk-toggleable__label sk-toggleable__label-arrow\">CountVectorizer</label><div class=\"sk-toggleable__content\"><pre>CountVectorizer(ngram_range=(1, 2))</pre></div></div></div><div class=\"sk-item\"><div class=\"sk-estimator sk-toggleable\"><input class=\"sk-toggleable__control sk-hidden--visually\" id=\"sk-estimator-id-7\" type=\"checkbox\" ><label for=\"sk-estimator-id-7\" class=\"sk-toggleable__label sk-toggleable__label-arrow\">LogisticRegression</label><div class=\"sk-toggleable__content\"><pre>LogisticRegression(class_weight={0: 0.5565524855701368, 1: 4.9206721858396145},\n",
       "                   random_state=1)</pre></div></div></div></div></div></div></div>"
      ],
      "text/plain": [
       "Pipeline(steps=[('vect', CountVectorizer(ngram_range=(1, 2))),\n",
       "                ('model',\n",
       "                 LogisticRegression(class_weight={0: 0.5565524855701368,\n",
       "                                                  1: 4.9206721858396145},\n",
       "                                    random_state=1))])"
      ]
     },
     "execution_count": 111,
     "metadata": {},
     "output_type": "execute_result"
    }
   ],
   "source": [
    "# сохраним лучшую модель в переменную\n",
    "best_model_lr_bow = random_model_lr_bow.best_estimator_\n",
    "best_model_lr_bow"
   ]
  },
  {
   "cell_type": "code",
   "execution_count": 112,
   "metadata": {
    "id": "54b-ubrpC83q",
    "outputId": "78bc36d0-4cbb-4346-b56b-d1cd405ac9fc"
   },
   "outputs": [
    {
     "data": {
      "text/plain": [
       "{'model__penalty': 'l2'}"
      ]
     },
     "execution_count": 112,
     "metadata": {},
     "output_type": "execute_result"
    }
   ],
   "source": [
    "# выведем на экран гиперпараметры лучшей модели\n",
    "random_model_lr_bow.best_params_"
   ]
  },
  {
   "cell_type": "code",
   "execution_count": 113,
   "metadata": {
    "id": "tONWlHHrC83r",
    "outputId": "ea034b21-5770-453f-b2da-e7c901924996"
   },
   "outputs": [
    {
     "name": "stdout",
     "output_type": "stream",
     "text": [
      "f1 модели LogisticRegression:\n",
      " 0.788\n"
     ]
    }
   ],
   "source": [
    "# получим значение метрики f1\n",
    "f1_lr_bow = round(abs(random_model_lr_bow.best_score_), 3)\n",
    "print('f1 модели LogisticRegression:\\n', \\\n",
    "      f1_lr_bow)"
   ]
  },
  {
   "cell_type": "markdown",
   "metadata": {
    "id": "5tkVZ8OHTWXh"
   },
   "source": [
    "### **Обучение модели LogisticRegression на признаках, подготовленных с помощью TfidfVectorizer()**\n",
    "\n",
    "---"
   ]
  },
  {
   "cell_type": "code",
   "execution_count": 114,
   "metadata": {
    "id": "FJtqengxC83s"
   },
   "outputs": [],
   "source": [
    "# объявляем объект конвейера\n",
    "pipe_tfidf = Pipeline([\n",
    "    ('tfidf_vect', TfidfVectorizer(ngram_range=(1, 2))),\n",
    "    ('model', LogisticRegression(\n",
    "        random_state = 1,\n",
    "        class_weight = weights))\n",
    "])"
   ]
  },
  {
   "cell_type": "code",
   "execution_count": 115,
   "metadata": {
    "id": "60UdJJQDTWXk"
   },
   "outputs": [],
   "source": [
    "# создаем словарь с гиперпараметрами\n",
    "params_lr_tfidf = {\n",
    "    'model__penalty': ['l1', 'l2', 'elasticnet', None]\n",
    "    }"
   ]
  },
  {
   "cell_type": "code",
   "execution_count": 116,
   "metadata": {
    "id": "-IeK5IW8TWXk"
   },
   "outputs": [],
   "source": [
    "# создаем объект RandomizedSearchCV\n",
    "random_model_lr_tfidf = RandomizedSearchCV(\n",
    "    pipe_tfidf,\n",
    "    params_lr_tfidf,\n",
    "    scoring = 'f1',\n",
    "    refit = True,\n",
    "    cv = cv,\n",
    "    random_state = 1\n",
    ")"
   ]
  },
  {
   "cell_type": "code",
   "execution_count": 117,
   "metadata": {
    "colab": {
     "base_uri": "https://localhost:8080/"
    },
    "id": "7UFMlrkyTWXl",
    "outputId": "8b861adf-3f11-44f3-9503-ddca76a6f073"
   },
   "outputs": [
    {
     "name": "stdout",
     "output_type": "stream",
     "text": [
      "CPU times: total: 13min 28s\n",
      "Wall time: 12min 40s\n"
     ]
    },
    {
     "data": {
      "text/html": [
       "<style>#sk-container-id-3 {color: black;background-color: white;}#sk-container-id-3 pre{padding: 0;}#sk-container-id-3 div.sk-toggleable {background-color: white;}#sk-container-id-3 label.sk-toggleable__label {cursor: pointer;display: block;width: 100%;margin-bottom: 0;padding: 0.3em;box-sizing: border-box;text-align: center;}#sk-container-id-3 label.sk-toggleable__label-arrow:before {content: \"▸\";float: left;margin-right: 0.25em;color: #696969;}#sk-container-id-3 label.sk-toggleable__label-arrow:hover:before {color: black;}#sk-container-id-3 div.sk-estimator:hover label.sk-toggleable__label-arrow:before {color: black;}#sk-container-id-3 div.sk-toggleable__content {max-height: 0;max-width: 0;overflow: hidden;text-align: left;background-color: #f0f8ff;}#sk-container-id-3 div.sk-toggleable__content pre {margin: 0.2em;color: black;border-radius: 0.25em;background-color: #f0f8ff;}#sk-container-id-3 input.sk-toggleable__control:checked~div.sk-toggleable__content {max-height: 200px;max-width: 100%;overflow: auto;}#sk-container-id-3 input.sk-toggleable__control:checked~label.sk-toggleable__label-arrow:before {content: \"▾\";}#sk-container-id-3 div.sk-estimator input.sk-toggleable__control:checked~label.sk-toggleable__label {background-color: #d4ebff;}#sk-container-id-3 div.sk-label input.sk-toggleable__control:checked~label.sk-toggleable__label {background-color: #d4ebff;}#sk-container-id-3 input.sk-hidden--visually {border: 0;clip: rect(1px 1px 1px 1px);clip: rect(1px, 1px, 1px, 1px);height: 1px;margin: -1px;overflow: hidden;padding: 0;position: absolute;width: 1px;}#sk-container-id-3 div.sk-estimator {font-family: monospace;background-color: #f0f8ff;border: 1px dotted black;border-radius: 0.25em;box-sizing: border-box;margin-bottom: 0.5em;}#sk-container-id-3 div.sk-estimator:hover {background-color: #d4ebff;}#sk-container-id-3 div.sk-parallel-item::after {content: \"\";width: 100%;border-bottom: 1px solid gray;flex-grow: 1;}#sk-container-id-3 div.sk-label:hover label.sk-toggleable__label {background-color: #d4ebff;}#sk-container-id-3 div.sk-serial::before {content: \"\";position: absolute;border-left: 1px solid gray;box-sizing: border-box;top: 0;bottom: 0;left: 50%;z-index: 0;}#sk-container-id-3 div.sk-serial {display: flex;flex-direction: column;align-items: center;background-color: white;padding-right: 0.2em;padding-left: 0.2em;position: relative;}#sk-container-id-3 div.sk-item {position: relative;z-index: 1;}#sk-container-id-3 div.sk-parallel {display: flex;align-items: stretch;justify-content: center;background-color: white;position: relative;}#sk-container-id-3 div.sk-item::before, #sk-container-id-3 div.sk-parallel-item::before {content: \"\";position: absolute;border-left: 1px solid gray;box-sizing: border-box;top: 0;bottom: 0;left: 50%;z-index: -1;}#sk-container-id-3 div.sk-parallel-item {display: flex;flex-direction: column;z-index: 1;position: relative;background-color: white;}#sk-container-id-3 div.sk-parallel-item:first-child::after {align-self: flex-end;width: 50%;}#sk-container-id-3 div.sk-parallel-item:last-child::after {align-self: flex-start;width: 50%;}#sk-container-id-3 div.sk-parallel-item:only-child::after {width: 0;}#sk-container-id-3 div.sk-dashed-wrapped {border: 1px dashed gray;margin: 0 0.4em 0.5em 0.4em;box-sizing: border-box;padding-bottom: 0.4em;background-color: white;}#sk-container-id-3 div.sk-label label {font-family: monospace;font-weight: bold;display: inline-block;line-height: 1.2em;}#sk-container-id-3 div.sk-label-container {text-align: center;}#sk-container-id-3 div.sk-container {/* jupyter's `normalize.less` sets `[hidden] { display: none; }` but bootstrap.min.css set `[hidden] { display: none !important; }` so we also need the `!important` here to be able to override the default hidden behavior on the sphinx rendered scikit-learn.org. See: https://github.com/scikit-learn/scikit-learn/issues/21755 */display: inline-block !important;position: relative;}#sk-container-id-3 div.sk-text-repr-fallback {display: none;}</style><div id=\"sk-container-id-3\" class=\"sk-top-container\"><div class=\"sk-text-repr-fallback\"><pre>RandomizedSearchCV(cv=KFold(n_splits=5, random_state=1, shuffle=True),\n",
       "                   estimator=Pipeline(steps=[(&#x27;tfidf_vect&#x27;,\n",
       "                                              TfidfVectorizer(ngram_range=(1,\n",
       "                                                                           2))),\n",
       "                                             (&#x27;model&#x27;,\n",
       "                                              LogisticRegression(class_weight={0: 0.5565524855701368,\n",
       "                                                                               1: 4.9206721858396145},\n",
       "                                                                 random_state=1))]),\n",
       "                   param_distributions={&#x27;model__penalty&#x27;: [&#x27;l1&#x27;, &#x27;l2&#x27;,\n",
       "                                                           &#x27;elasticnet&#x27;,\n",
       "                                                           None]},\n",
       "                   random_state=1, scoring=&#x27;f1&#x27;)</pre><b>In a Jupyter environment, please rerun this cell to show the HTML representation or trust the notebook. <br />On GitHub, the HTML representation is unable to render, please try loading this page with nbviewer.org.</b></div><div class=\"sk-container\" hidden><div class=\"sk-item sk-dashed-wrapped\"><div class=\"sk-label-container\"><div class=\"sk-label sk-toggleable\"><input class=\"sk-toggleable__control sk-hidden--visually\" id=\"sk-estimator-id-8\" type=\"checkbox\" ><label for=\"sk-estimator-id-8\" class=\"sk-toggleable__label sk-toggleable__label-arrow\">RandomizedSearchCV</label><div class=\"sk-toggleable__content\"><pre>RandomizedSearchCV(cv=KFold(n_splits=5, random_state=1, shuffle=True),\n",
       "                   estimator=Pipeline(steps=[(&#x27;tfidf_vect&#x27;,\n",
       "                                              TfidfVectorizer(ngram_range=(1,\n",
       "                                                                           2))),\n",
       "                                             (&#x27;model&#x27;,\n",
       "                                              LogisticRegression(class_weight={0: 0.5565524855701368,\n",
       "                                                                               1: 4.9206721858396145},\n",
       "                                                                 random_state=1))]),\n",
       "                   param_distributions={&#x27;model__penalty&#x27;: [&#x27;l1&#x27;, &#x27;l2&#x27;,\n",
       "                                                           &#x27;elasticnet&#x27;,\n",
       "                                                           None]},\n",
       "                   random_state=1, scoring=&#x27;f1&#x27;)</pre></div></div></div><div class=\"sk-parallel\"><div class=\"sk-parallel-item\"><div class=\"sk-item\"><div class=\"sk-label-container\"><div class=\"sk-label sk-toggleable\"><input class=\"sk-toggleable__control sk-hidden--visually\" id=\"sk-estimator-id-9\" type=\"checkbox\" ><label for=\"sk-estimator-id-9\" class=\"sk-toggleable__label sk-toggleable__label-arrow\">estimator: Pipeline</label><div class=\"sk-toggleable__content\"><pre>Pipeline(steps=[(&#x27;tfidf_vect&#x27;, TfidfVectorizer(ngram_range=(1, 2))),\n",
       "                (&#x27;model&#x27;,\n",
       "                 LogisticRegression(class_weight={0: 0.5565524855701368,\n",
       "                                                  1: 4.9206721858396145},\n",
       "                                    random_state=1))])</pre></div></div></div><div class=\"sk-serial\"><div class=\"sk-item\"><div class=\"sk-serial\"><div class=\"sk-item\"><div class=\"sk-estimator sk-toggleable\"><input class=\"sk-toggleable__control sk-hidden--visually\" id=\"sk-estimator-id-10\" type=\"checkbox\" ><label for=\"sk-estimator-id-10\" class=\"sk-toggleable__label sk-toggleable__label-arrow\">TfidfVectorizer</label><div class=\"sk-toggleable__content\"><pre>TfidfVectorizer(ngram_range=(1, 2))</pre></div></div></div><div class=\"sk-item\"><div class=\"sk-estimator sk-toggleable\"><input class=\"sk-toggleable__control sk-hidden--visually\" id=\"sk-estimator-id-11\" type=\"checkbox\" ><label for=\"sk-estimator-id-11\" class=\"sk-toggleable__label sk-toggleable__label-arrow\">LogisticRegression</label><div class=\"sk-toggleable__content\"><pre>LogisticRegression(class_weight={0: 0.5565524855701368, 1: 4.9206721858396145},\n",
       "                   random_state=1)</pre></div></div></div></div></div></div></div></div></div></div></div></div>"
      ],
      "text/plain": [
       "RandomizedSearchCV(cv=KFold(n_splits=5, random_state=1, shuffle=True),\n",
       "                   estimator=Pipeline(steps=[('tfidf_vect',\n",
       "                                              TfidfVectorizer(ngram_range=(1,\n",
       "                                                                           2))),\n",
       "                                             ('model',\n",
       "                                              LogisticRegression(class_weight={0: 0.5565524855701368,\n",
       "                                                                               1: 4.9206721858396145},\n",
       "                                                                 random_state=1))]),\n",
       "                   param_distributions={'model__penalty': ['l1', 'l2',\n",
       "                                                           'elasticnet',\n",
       "                                                           None]},\n",
       "                   random_state=1, scoring='f1')"
      ]
     },
     "execution_count": 117,
     "metadata": {},
     "output_type": "execute_result"
    }
   ],
   "source": [
    "%%time\n",
    "# обучаем модель\n",
    "random_model_lr_tfidf.fit(feature_train, target_train)"
   ]
  },
  {
   "cell_type": "code",
   "execution_count": 118,
   "metadata": {
    "colab": {
     "base_uri": "https://localhost:8080/"
    },
    "id": "Mn_f4yh6TWXm",
    "outputId": "4945611e-866d-4643-915d-1a900d1236c8"
   },
   "outputs": [
    {
     "data": {
      "text/html": [
       "<style>#sk-container-id-4 {color: black;background-color: white;}#sk-container-id-4 pre{padding: 0;}#sk-container-id-4 div.sk-toggleable {background-color: white;}#sk-container-id-4 label.sk-toggleable__label {cursor: pointer;display: block;width: 100%;margin-bottom: 0;padding: 0.3em;box-sizing: border-box;text-align: center;}#sk-container-id-4 label.sk-toggleable__label-arrow:before {content: \"▸\";float: left;margin-right: 0.25em;color: #696969;}#sk-container-id-4 label.sk-toggleable__label-arrow:hover:before {color: black;}#sk-container-id-4 div.sk-estimator:hover label.sk-toggleable__label-arrow:before {color: black;}#sk-container-id-4 div.sk-toggleable__content {max-height: 0;max-width: 0;overflow: hidden;text-align: left;background-color: #f0f8ff;}#sk-container-id-4 div.sk-toggleable__content pre {margin: 0.2em;color: black;border-radius: 0.25em;background-color: #f0f8ff;}#sk-container-id-4 input.sk-toggleable__control:checked~div.sk-toggleable__content {max-height: 200px;max-width: 100%;overflow: auto;}#sk-container-id-4 input.sk-toggleable__control:checked~label.sk-toggleable__label-arrow:before {content: \"▾\";}#sk-container-id-4 div.sk-estimator input.sk-toggleable__control:checked~label.sk-toggleable__label {background-color: #d4ebff;}#sk-container-id-4 div.sk-label input.sk-toggleable__control:checked~label.sk-toggleable__label {background-color: #d4ebff;}#sk-container-id-4 input.sk-hidden--visually {border: 0;clip: rect(1px 1px 1px 1px);clip: rect(1px, 1px, 1px, 1px);height: 1px;margin: -1px;overflow: hidden;padding: 0;position: absolute;width: 1px;}#sk-container-id-4 div.sk-estimator {font-family: monospace;background-color: #f0f8ff;border: 1px dotted black;border-radius: 0.25em;box-sizing: border-box;margin-bottom: 0.5em;}#sk-container-id-4 div.sk-estimator:hover {background-color: #d4ebff;}#sk-container-id-4 div.sk-parallel-item::after {content: \"\";width: 100%;border-bottom: 1px solid gray;flex-grow: 1;}#sk-container-id-4 div.sk-label:hover label.sk-toggleable__label {background-color: #d4ebff;}#sk-container-id-4 div.sk-serial::before {content: \"\";position: absolute;border-left: 1px solid gray;box-sizing: border-box;top: 0;bottom: 0;left: 50%;z-index: 0;}#sk-container-id-4 div.sk-serial {display: flex;flex-direction: column;align-items: center;background-color: white;padding-right: 0.2em;padding-left: 0.2em;position: relative;}#sk-container-id-4 div.sk-item {position: relative;z-index: 1;}#sk-container-id-4 div.sk-parallel {display: flex;align-items: stretch;justify-content: center;background-color: white;position: relative;}#sk-container-id-4 div.sk-item::before, #sk-container-id-4 div.sk-parallel-item::before {content: \"\";position: absolute;border-left: 1px solid gray;box-sizing: border-box;top: 0;bottom: 0;left: 50%;z-index: -1;}#sk-container-id-4 div.sk-parallel-item {display: flex;flex-direction: column;z-index: 1;position: relative;background-color: white;}#sk-container-id-4 div.sk-parallel-item:first-child::after {align-self: flex-end;width: 50%;}#sk-container-id-4 div.sk-parallel-item:last-child::after {align-self: flex-start;width: 50%;}#sk-container-id-4 div.sk-parallel-item:only-child::after {width: 0;}#sk-container-id-4 div.sk-dashed-wrapped {border: 1px dashed gray;margin: 0 0.4em 0.5em 0.4em;box-sizing: border-box;padding-bottom: 0.4em;background-color: white;}#sk-container-id-4 div.sk-label label {font-family: monospace;font-weight: bold;display: inline-block;line-height: 1.2em;}#sk-container-id-4 div.sk-label-container {text-align: center;}#sk-container-id-4 div.sk-container {/* jupyter's `normalize.less` sets `[hidden] { display: none; }` but bootstrap.min.css set `[hidden] { display: none !important; }` so we also need the `!important` here to be able to override the default hidden behavior on the sphinx rendered scikit-learn.org. See: https://github.com/scikit-learn/scikit-learn/issues/21755 */display: inline-block !important;position: relative;}#sk-container-id-4 div.sk-text-repr-fallback {display: none;}</style><div id=\"sk-container-id-4\" class=\"sk-top-container\"><div class=\"sk-text-repr-fallback\"><pre>Pipeline(steps=[(&#x27;tfidf_vect&#x27;, TfidfVectorizer(ngram_range=(1, 2))),\n",
       "                (&#x27;model&#x27;,\n",
       "                 LogisticRegression(class_weight={0: 0.5565524855701368,\n",
       "                                                  1: 4.9206721858396145},\n",
       "                                    penalty=None, random_state=1))])</pre><b>In a Jupyter environment, please rerun this cell to show the HTML representation or trust the notebook. <br />On GitHub, the HTML representation is unable to render, please try loading this page with nbviewer.org.</b></div><div class=\"sk-container\" hidden><div class=\"sk-item sk-dashed-wrapped\"><div class=\"sk-label-container\"><div class=\"sk-label sk-toggleable\"><input class=\"sk-toggleable__control sk-hidden--visually\" id=\"sk-estimator-id-12\" type=\"checkbox\" ><label for=\"sk-estimator-id-12\" class=\"sk-toggleable__label sk-toggleable__label-arrow\">Pipeline</label><div class=\"sk-toggleable__content\"><pre>Pipeline(steps=[(&#x27;tfidf_vect&#x27;, TfidfVectorizer(ngram_range=(1, 2))),\n",
       "                (&#x27;model&#x27;,\n",
       "                 LogisticRegression(class_weight={0: 0.5565524855701368,\n",
       "                                                  1: 4.9206721858396145},\n",
       "                                    penalty=None, random_state=1))])</pre></div></div></div><div class=\"sk-serial\"><div class=\"sk-item\"><div class=\"sk-estimator sk-toggleable\"><input class=\"sk-toggleable__control sk-hidden--visually\" id=\"sk-estimator-id-13\" type=\"checkbox\" ><label for=\"sk-estimator-id-13\" class=\"sk-toggleable__label sk-toggleable__label-arrow\">TfidfVectorizer</label><div class=\"sk-toggleable__content\"><pre>TfidfVectorizer(ngram_range=(1, 2))</pre></div></div></div><div class=\"sk-item\"><div class=\"sk-estimator sk-toggleable\"><input class=\"sk-toggleable__control sk-hidden--visually\" id=\"sk-estimator-id-14\" type=\"checkbox\" ><label for=\"sk-estimator-id-14\" class=\"sk-toggleable__label sk-toggleable__label-arrow\">LogisticRegression</label><div class=\"sk-toggleable__content\"><pre>LogisticRegression(class_weight={0: 0.5565524855701368, 1: 4.9206721858396145},\n",
       "                   penalty=None, random_state=1)</pre></div></div></div></div></div></div></div>"
      ],
      "text/plain": [
       "Pipeline(steps=[('tfidf_vect', TfidfVectorizer(ngram_range=(1, 2))),\n",
       "                ('model',\n",
       "                 LogisticRegression(class_weight={0: 0.5565524855701368,\n",
       "                                                  1: 4.9206721858396145},\n",
       "                                    penalty=None, random_state=1))])"
      ]
     },
     "execution_count": 118,
     "metadata": {},
     "output_type": "execute_result"
    }
   ],
   "source": [
    "# сохраним лучшую модель в переменную\n",
    "best_model_lr_tfidf = random_model_lr_tfidf.best_estimator_\n",
    "best_model_lr_tfidf"
   ]
  },
  {
   "cell_type": "code",
   "execution_count": 119,
   "metadata": {
    "colab": {
     "base_uri": "https://localhost:8080/"
    },
    "id": "0aMxsPqkTWXm",
    "outputId": "d453856f-6ea9-483d-a3c6-acbb9f86761c"
   },
   "outputs": [
    {
     "data": {
      "text/plain": [
       "{'model__penalty': None}"
      ]
     },
     "execution_count": 119,
     "metadata": {},
     "output_type": "execute_result"
    }
   ],
   "source": [
    "# выведем на экран гиперпараметры лучшей модели\n",
    "random_model_lr_tfidf.best_params_"
   ]
  },
  {
   "cell_type": "code",
   "execution_count": 120,
   "metadata": {
    "colab": {
     "base_uri": "https://localhost:8080/"
    },
    "id": "4eRvT1pyTWXn",
    "outputId": "68f639a4-2f62-42fd-8ca8-5bf935a3462d"
   },
   "outputs": [
    {
     "name": "stdout",
     "output_type": "stream",
     "text": [
      "f1 модели LogisticRegression:\n",
      " 0.751\n"
     ]
    }
   ],
   "source": [
    "# получим значение метрики f1\n",
    "f1_lr_tfidf = round(abs(random_model_lr_tfidf.best_score_), 3)\n",
    "print('f1 модели LogisticRegression:\\n', \\\n",
    "      f1_lr_tfidf)"
   ]
  },
  {
   "cell_type": "markdown",
   "metadata": {
    "id": "i7we86U0fsGB"
   },
   "source": [
    "### **Обучение модели CatBoost на признаках, подготовленных с помощью CountVectorizer()**\n",
    "\n",
    "---"
   ]
  },
  {
   "cell_type": "code",
   "execution_count": 121,
   "metadata": {
    "id": "knn6t-YgC83u"
   },
   "outputs": [],
   "source": [
    "# объявляем объект конвейера\n",
    "pipe_catboost_bow = Pipeline([\n",
    "    ('vect', CountVectorizer(ngram_range=(1, 2))),\n",
    "    ('model', CatBoostClassifier(\n",
    "    random_state = 1,\n",
    "    class_weights = weights,\n",
    "    logging_level = 'Silent'))\n",
    "])"
   ]
  },
  {
   "cell_type": "code",
   "execution_count": 122,
   "metadata": {
    "id": "2DWTFAaJNw7s"
   },
   "outputs": [],
   "source": [
    "# создаем словарь с гиперпараметрами\n",
    "params_catboost_bow = {\n",
    "    'model__n_estimators': [50, 100]\n",
    "        }"
   ]
  },
  {
   "cell_type": "code",
   "execution_count": 123,
   "metadata": {
    "id": "hVrDVgN9NxHh"
   },
   "outputs": [],
   "source": [
    "# создаем объект RandomizedSearchCV\n",
    "random_model_catboost_bow = RandomizedSearchCV(\n",
    "    pipe_catboost_bow,\n",
    "    params_catboost_bow,\n",
    "    scoring = 'f1',\n",
    "    refit = True,\n",
    "    cv = cv,\n",
    "    random_state = 1\n",
    ")"
   ]
  },
  {
   "cell_type": "code",
   "execution_count": 124,
   "metadata": {
    "id": "dI5XLPjcI8kv",
    "outputId": "6df14270-b704-445f-804c-82799116b7a9"
   },
   "outputs": [
    {
     "name": "stdout",
     "output_type": "stream",
     "text": [
      "CPU times: total: 6h 18min 57s\n",
      "Wall time: 3h 56min 34s\n"
     ]
    },
    {
     "data": {
      "text/html": [
       "<style>#sk-container-id-5 {color: black;background-color: white;}#sk-container-id-5 pre{padding: 0;}#sk-container-id-5 div.sk-toggleable {background-color: white;}#sk-container-id-5 label.sk-toggleable__label {cursor: pointer;display: block;width: 100%;margin-bottom: 0;padding: 0.3em;box-sizing: border-box;text-align: center;}#sk-container-id-5 label.sk-toggleable__label-arrow:before {content: \"▸\";float: left;margin-right: 0.25em;color: #696969;}#sk-container-id-5 label.sk-toggleable__label-arrow:hover:before {color: black;}#sk-container-id-5 div.sk-estimator:hover label.sk-toggleable__label-arrow:before {color: black;}#sk-container-id-5 div.sk-toggleable__content {max-height: 0;max-width: 0;overflow: hidden;text-align: left;background-color: #f0f8ff;}#sk-container-id-5 div.sk-toggleable__content pre {margin: 0.2em;color: black;border-radius: 0.25em;background-color: #f0f8ff;}#sk-container-id-5 input.sk-toggleable__control:checked~div.sk-toggleable__content {max-height: 200px;max-width: 100%;overflow: auto;}#sk-container-id-5 input.sk-toggleable__control:checked~label.sk-toggleable__label-arrow:before {content: \"▾\";}#sk-container-id-5 div.sk-estimator input.sk-toggleable__control:checked~label.sk-toggleable__label {background-color: #d4ebff;}#sk-container-id-5 div.sk-label input.sk-toggleable__control:checked~label.sk-toggleable__label {background-color: #d4ebff;}#sk-container-id-5 input.sk-hidden--visually {border: 0;clip: rect(1px 1px 1px 1px);clip: rect(1px, 1px, 1px, 1px);height: 1px;margin: -1px;overflow: hidden;padding: 0;position: absolute;width: 1px;}#sk-container-id-5 div.sk-estimator {font-family: monospace;background-color: #f0f8ff;border: 1px dotted black;border-radius: 0.25em;box-sizing: border-box;margin-bottom: 0.5em;}#sk-container-id-5 div.sk-estimator:hover {background-color: #d4ebff;}#sk-container-id-5 div.sk-parallel-item::after {content: \"\";width: 100%;border-bottom: 1px solid gray;flex-grow: 1;}#sk-container-id-5 div.sk-label:hover label.sk-toggleable__label {background-color: #d4ebff;}#sk-container-id-5 div.sk-serial::before {content: \"\";position: absolute;border-left: 1px solid gray;box-sizing: border-box;top: 0;bottom: 0;left: 50%;z-index: 0;}#sk-container-id-5 div.sk-serial {display: flex;flex-direction: column;align-items: center;background-color: white;padding-right: 0.2em;padding-left: 0.2em;position: relative;}#sk-container-id-5 div.sk-item {position: relative;z-index: 1;}#sk-container-id-5 div.sk-parallel {display: flex;align-items: stretch;justify-content: center;background-color: white;position: relative;}#sk-container-id-5 div.sk-item::before, #sk-container-id-5 div.sk-parallel-item::before {content: \"\";position: absolute;border-left: 1px solid gray;box-sizing: border-box;top: 0;bottom: 0;left: 50%;z-index: -1;}#sk-container-id-5 div.sk-parallel-item {display: flex;flex-direction: column;z-index: 1;position: relative;background-color: white;}#sk-container-id-5 div.sk-parallel-item:first-child::after {align-self: flex-end;width: 50%;}#sk-container-id-5 div.sk-parallel-item:last-child::after {align-self: flex-start;width: 50%;}#sk-container-id-5 div.sk-parallel-item:only-child::after {width: 0;}#sk-container-id-5 div.sk-dashed-wrapped {border: 1px dashed gray;margin: 0 0.4em 0.5em 0.4em;box-sizing: border-box;padding-bottom: 0.4em;background-color: white;}#sk-container-id-5 div.sk-label label {font-family: monospace;font-weight: bold;display: inline-block;line-height: 1.2em;}#sk-container-id-5 div.sk-label-container {text-align: center;}#sk-container-id-5 div.sk-container {/* jupyter's `normalize.less` sets `[hidden] { display: none; }` but bootstrap.min.css set `[hidden] { display: none !important; }` so we also need the `!important` here to be able to override the default hidden behavior on the sphinx rendered scikit-learn.org. See: https://github.com/scikit-learn/scikit-learn/issues/21755 */display: inline-block !important;position: relative;}#sk-container-id-5 div.sk-text-repr-fallback {display: none;}</style><div id=\"sk-container-id-5\" class=\"sk-top-container\"><div class=\"sk-text-repr-fallback\"><pre>RandomizedSearchCV(cv=KFold(n_splits=5, random_state=1, shuffle=True),\n",
       "                   estimator=Pipeline(steps=[(&#x27;vect&#x27;,\n",
       "                                              CountVectorizer(ngram_range=(1,\n",
       "                                                                           2))),\n",
       "                                             (&#x27;model&#x27;,\n",
       "                                              &lt;catboost.core.CatBoostClassifier object at 0x00000241C23BC610&gt;)]),\n",
       "                   param_distributions={&#x27;model__n_estimators&#x27;: [50, 100]},\n",
       "                   random_state=1, scoring=&#x27;f1&#x27;)</pre><b>In a Jupyter environment, please rerun this cell to show the HTML representation or trust the notebook. <br />On GitHub, the HTML representation is unable to render, please try loading this page with nbviewer.org.</b></div><div class=\"sk-container\" hidden><div class=\"sk-item sk-dashed-wrapped\"><div class=\"sk-label-container\"><div class=\"sk-label sk-toggleable\"><input class=\"sk-toggleable__control sk-hidden--visually\" id=\"sk-estimator-id-15\" type=\"checkbox\" ><label for=\"sk-estimator-id-15\" class=\"sk-toggleable__label sk-toggleable__label-arrow\">RandomizedSearchCV</label><div class=\"sk-toggleable__content\"><pre>RandomizedSearchCV(cv=KFold(n_splits=5, random_state=1, shuffle=True),\n",
       "                   estimator=Pipeline(steps=[(&#x27;vect&#x27;,\n",
       "                                              CountVectorizer(ngram_range=(1,\n",
       "                                                                           2))),\n",
       "                                             (&#x27;model&#x27;,\n",
       "                                              &lt;catboost.core.CatBoostClassifier object at 0x00000241C23BC610&gt;)]),\n",
       "                   param_distributions={&#x27;model__n_estimators&#x27;: [50, 100]},\n",
       "                   random_state=1, scoring=&#x27;f1&#x27;)</pre></div></div></div><div class=\"sk-parallel\"><div class=\"sk-parallel-item\"><div class=\"sk-item\"><div class=\"sk-label-container\"><div class=\"sk-label sk-toggleable\"><input class=\"sk-toggleable__control sk-hidden--visually\" id=\"sk-estimator-id-16\" type=\"checkbox\" ><label for=\"sk-estimator-id-16\" class=\"sk-toggleable__label sk-toggleable__label-arrow\">estimator: Pipeline</label><div class=\"sk-toggleable__content\"><pre>Pipeline(steps=[(&#x27;vect&#x27;, CountVectorizer(ngram_range=(1, 2))),\n",
       "                (&#x27;model&#x27;,\n",
       "                 &lt;catboost.core.CatBoostClassifier object at 0x00000241C23BC610&gt;)])</pre></div></div></div><div class=\"sk-serial\"><div class=\"sk-item\"><div class=\"sk-serial\"><div class=\"sk-item\"><div class=\"sk-estimator sk-toggleable\"><input class=\"sk-toggleable__control sk-hidden--visually\" id=\"sk-estimator-id-17\" type=\"checkbox\" ><label for=\"sk-estimator-id-17\" class=\"sk-toggleable__label sk-toggleable__label-arrow\">CountVectorizer</label><div class=\"sk-toggleable__content\"><pre>CountVectorizer(ngram_range=(1, 2))</pre></div></div></div><div class=\"sk-item\"><div class=\"sk-estimator sk-toggleable\"><input class=\"sk-toggleable__control sk-hidden--visually\" id=\"sk-estimator-id-18\" type=\"checkbox\" ><label for=\"sk-estimator-id-18\" class=\"sk-toggleable__label sk-toggleable__label-arrow\">CatBoostClassifier</label><div class=\"sk-toggleable__content\"><pre>&lt;catboost.core.CatBoostClassifier object at 0x00000241C23BC610&gt;</pre></div></div></div></div></div></div></div></div></div></div></div></div>"
      ],
      "text/plain": [
       "RandomizedSearchCV(cv=KFold(n_splits=5, random_state=1, shuffle=True),\n",
       "                   estimator=Pipeline(steps=[('vect',\n",
       "                                              CountVectorizer(ngram_range=(1,\n",
       "                                                                           2))),\n",
       "                                             ('model',\n",
       "                                              <catboost.core.CatBoostClassifier object at 0x00000241C23BC610>)]),\n",
       "                   param_distributions={'model__n_estimators': [50, 100]},\n",
       "                   random_state=1, scoring='f1')"
      ]
     },
     "execution_count": 124,
     "metadata": {},
     "output_type": "execute_result"
    }
   ],
   "source": [
    "%%time\n",
    "# обучаем RandomizedSearchCV-модель с помощью функции fit()\n",
    "random_model_catboost_bow.fit(feature_train, target_train)"
   ]
  },
  {
   "cell_type": "code",
   "execution_count": 125,
   "metadata": {
    "id": "iIgxpTAAIYXf",
    "outputId": "3f42e838-eb8e-4ff4-f382-d507bb76b83a"
   },
   "outputs": [
    {
     "data": {
      "text/html": [
       "<style>#sk-container-id-6 {color: black;background-color: white;}#sk-container-id-6 pre{padding: 0;}#sk-container-id-6 div.sk-toggleable {background-color: white;}#sk-container-id-6 label.sk-toggleable__label {cursor: pointer;display: block;width: 100%;margin-bottom: 0;padding: 0.3em;box-sizing: border-box;text-align: center;}#sk-container-id-6 label.sk-toggleable__label-arrow:before {content: \"▸\";float: left;margin-right: 0.25em;color: #696969;}#sk-container-id-6 label.sk-toggleable__label-arrow:hover:before {color: black;}#sk-container-id-6 div.sk-estimator:hover label.sk-toggleable__label-arrow:before {color: black;}#sk-container-id-6 div.sk-toggleable__content {max-height: 0;max-width: 0;overflow: hidden;text-align: left;background-color: #f0f8ff;}#sk-container-id-6 div.sk-toggleable__content pre {margin: 0.2em;color: black;border-radius: 0.25em;background-color: #f0f8ff;}#sk-container-id-6 input.sk-toggleable__control:checked~div.sk-toggleable__content {max-height: 200px;max-width: 100%;overflow: auto;}#sk-container-id-6 input.sk-toggleable__control:checked~label.sk-toggleable__label-arrow:before {content: \"▾\";}#sk-container-id-6 div.sk-estimator input.sk-toggleable__control:checked~label.sk-toggleable__label {background-color: #d4ebff;}#sk-container-id-6 div.sk-label input.sk-toggleable__control:checked~label.sk-toggleable__label {background-color: #d4ebff;}#sk-container-id-6 input.sk-hidden--visually {border: 0;clip: rect(1px 1px 1px 1px);clip: rect(1px, 1px, 1px, 1px);height: 1px;margin: -1px;overflow: hidden;padding: 0;position: absolute;width: 1px;}#sk-container-id-6 div.sk-estimator {font-family: monospace;background-color: #f0f8ff;border: 1px dotted black;border-radius: 0.25em;box-sizing: border-box;margin-bottom: 0.5em;}#sk-container-id-6 div.sk-estimator:hover {background-color: #d4ebff;}#sk-container-id-6 div.sk-parallel-item::after {content: \"\";width: 100%;border-bottom: 1px solid gray;flex-grow: 1;}#sk-container-id-6 div.sk-label:hover label.sk-toggleable__label {background-color: #d4ebff;}#sk-container-id-6 div.sk-serial::before {content: \"\";position: absolute;border-left: 1px solid gray;box-sizing: border-box;top: 0;bottom: 0;left: 50%;z-index: 0;}#sk-container-id-6 div.sk-serial {display: flex;flex-direction: column;align-items: center;background-color: white;padding-right: 0.2em;padding-left: 0.2em;position: relative;}#sk-container-id-6 div.sk-item {position: relative;z-index: 1;}#sk-container-id-6 div.sk-parallel {display: flex;align-items: stretch;justify-content: center;background-color: white;position: relative;}#sk-container-id-6 div.sk-item::before, #sk-container-id-6 div.sk-parallel-item::before {content: \"\";position: absolute;border-left: 1px solid gray;box-sizing: border-box;top: 0;bottom: 0;left: 50%;z-index: -1;}#sk-container-id-6 div.sk-parallel-item {display: flex;flex-direction: column;z-index: 1;position: relative;background-color: white;}#sk-container-id-6 div.sk-parallel-item:first-child::after {align-self: flex-end;width: 50%;}#sk-container-id-6 div.sk-parallel-item:last-child::after {align-self: flex-start;width: 50%;}#sk-container-id-6 div.sk-parallel-item:only-child::after {width: 0;}#sk-container-id-6 div.sk-dashed-wrapped {border: 1px dashed gray;margin: 0 0.4em 0.5em 0.4em;box-sizing: border-box;padding-bottom: 0.4em;background-color: white;}#sk-container-id-6 div.sk-label label {font-family: monospace;font-weight: bold;display: inline-block;line-height: 1.2em;}#sk-container-id-6 div.sk-label-container {text-align: center;}#sk-container-id-6 div.sk-container {/* jupyter's `normalize.less` sets `[hidden] { display: none; }` but bootstrap.min.css set `[hidden] { display: none !important; }` so we also need the `!important` here to be able to override the default hidden behavior on the sphinx rendered scikit-learn.org. See: https://github.com/scikit-learn/scikit-learn/issues/21755 */display: inline-block !important;position: relative;}#sk-container-id-6 div.sk-text-repr-fallback {display: none;}</style><div id=\"sk-container-id-6\" class=\"sk-top-container\"><div class=\"sk-text-repr-fallback\"><pre>Pipeline(steps=[(&#x27;vect&#x27;, CountVectorizer(ngram_range=(1, 2))),\n",
       "                (&#x27;model&#x27;,\n",
       "                 &lt;catboost.core.CatBoostClassifier object at 0x00000241C2276BB0&gt;)])</pre><b>In a Jupyter environment, please rerun this cell to show the HTML representation or trust the notebook. <br />On GitHub, the HTML representation is unable to render, please try loading this page with nbviewer.org.</b></div><div class=\"sk-container\" hidden><div class=\"sk-item sk-dashed-wrapped\"><div class=\"sk-label-container\"><div class=\"sk-label sk-toggleable\"><input class=\"sk-toggleable__control sk-hidden--visually\" id=\"sk-estimator-id-19\" type=\"checkbox\" ><label for=\"sk-estimator-id-19\" class=\"sk-toggleable__label sk-toggleable__label-arrow\">Pipeline</label><div class=\"sk-toggleable__content\"><pre>Pipeline(steps=[(&#x27;vect&#x27;, CountVectorizer(ngram_range=(1, 2))),\n",
       "                (&#x27;model&#x27;,\n",
       "                 &lt;catboost.core.CatBoostClassifier object at 0x00000241C2276BB0&gt;)])</pre></div></div></div><div class=\"sk-serial\"><div class=\"sk-item\"><div class=\"sk-estimator sk-toggleable\"><input class=\"sk-toggleable__control sk-hidden--visually\" id=\"sk-estimator-id-20\" type=\"checkbox\" ><label for=\"sk-estimator-id-20\" class=\"sk-toggleable__label sk-toggleable__label-arrow\">CountVectorizer</label><div class=\"sk-toggleable__content\"><pre>CountVectorizer(ngram_range=(1, 2))</pre></div></div></div><div class=\"sk-item\"><div class=\"sk-estimator sk-toggleable\"><input class=\"sk-toggleable__control sk-hidden--visually\" id=\"sk-estimator-id-21\" type=\"checkbox\" ><label for=\"sk-estimator-id-21\" class=\"sk-toggleable__label sk-toggleable__label-arrow\">CatBoostClassifier</label><div class=\"sk-toggleable__content\"><pre>&lt;catboost.core.CatBoostClassifier object at 0x00000241C2276BB0&gt;</pre></div></div></div></div></div></div></div>"
      ],
      "text/plain": [
       "Pipeline(steps=[('vect', CountVectorizer(ngram_range=(1, 2))),\n",
       "                ('model',\n",
       "                 <catboost.core.CatBoostClassifier object at 0x00000241C2276BB0>)])"
      ]
     },
     "execution_count": 125,
     "metadata": {},
     "output_type": "execute_result"
    }
   ],
   "source": [
    "# сохраним лучшую модель в переменную\n",
    "best_model_catboost_bow = random_model_catboost_bow.best_estimator_\n",
    "best_model_catboost_bow"
   ]
  },
  {
   "cell_type": "code",
   "execution_count": 126,
   "metadata": {
    "id": "8duCUcdSIYXh",
    "outputId": "d0e5ed1b-4581-471b-a3e2-c56e99dcdf4b"
   },
   "outputs": [
    {
     "data": {
      "text/plain": [
       "{'model__n_estimators': 100}"
      ]
     },
     "execution_count": 126,
     "metadata": {},
     "output_type": "execute_result"
    }
   ],
   "source": [
    "# выведем на экран гиперпараметры лучшей модели\n",
    "random_model_catboost_bow.best_params_"
   ]
  },
  {
   "cell_type": "code",
   "execution_count": 127,
   "metadata": {
    "id": "WH6ypwcFIYXh",
    "outputId": "515cfa80-74cf-46ec-e279-56a7ffc51a32"
   },
   "outputs": [
    {
     "name": "stdout",
     "output_type": "stream",
     "text": [
      "f1 модели CatBoost:\n",
      " 0.738\n"
     ]
    }
   ],
   "source": [
    "# получим значение метрики f1\n",
    "f1_catboost_bow = round(abs(random_model_catboost_bow.best_score_), 3)\n",
    "print('f1 модели CatBoost:\\n', \\\n",
    "      f1_catboost_bow)"
   ]
  },
  {
   "cell_type": "markdown",
   "metadata": {
    "id": "DDcAqIT0pMEz"
   },
   "source": [
    "### **Обучение модели CatBoost на признаках, подготовленных с помощью TfidfVectorizer()**\n",
    "\n",
    "---"
   ]
  },
  {
   "cell_type": "markdown",
   "metadata": {
    "id": "LVq04BZZC83w"
   },
   "source": [
    "Применение гиперпараметра ngram_range=(1, 2) при обучении модели CatBoost с помощью CountVectorizer() не оправдало себя: значение метрики f1 увеличилось с 0.735 до 0.738. При этом время обучения модели увеличилось с примерно 20 минут до 6 часов. Поэтому обучение этой же модели с использованием TfidfVectorizer() будет проведено без использования гиперпараметра ngram_range=(1, 2)."
   ]
  },
  {
   "cell_type": "code",
   "execution_count": 128,
   "metadata": {
    "id": "eeADOYV6C83w"
   },
   "outputs": [],
   "source": [
    "# объявляем объект конвейера\n",
    "pipe_catboost_tfidf = Pipeline([\n",
    "    ('vect', TfidfVectorizer()),\n",
    "    ('model', CatBoostClassifier(\n",
    "    random_state = 1,\n",
    "    class_weights = weights,\n",
    "    logging_level = 'Silent'))\n",
    "])"
   ]
  },
  {
   "cell_type": "code",
   "execution_count": 129,
   "metadata": {
    "id": "mny32PzApVLg"
   },
   "outputs": [],
   "source": [
    "# создаем словарь с гиперпараметрами\n",
    "params_catboost_tfidf = {\n",
    "   'model__n_estimators': [50, 100]\n",
    "        }"
   ]
  },
  {
   "cell_type": "code",
   "execution_count": 130,
   "metadata": {
    "id": "ARFLWEQHpVLg"
   },
   "outputs": [],
   "source": [
    "# создаем объект RandomizedSearchCV\n",
    "random_model_catboost_tfidf = RandomizedSearchCV(\n",
    "    pipe_catboost_tfidf,\n",
    "    params_catboost_tfidf,\n",
    "    scoring = 'f1',\n",
    "    refit = True,\n",
    "    cv = cv,\n",
    "    random_state = 1\n",
    ")"
   ]
  },
  {
   "cell_type": "code",
   "execution_count": 131,
   "metadata": {
    "id": "NdlW6oukQIXv",
    "outputId": "c9e1e1b2-24b2-4ae5-fa65-c85fc018a8ad"
   },
   "outputs": [
    {
     "name": "stdout",
     "output_type": "stream",
     "text": [
      "CPU times: total: 58min 47s\n",
      "Wall time: 20min 46s\n"
     ]
    },
    {
     "data": {
      "text/html": [
       "<style>#sk-container-id-7 {color: black;background-color: white;}#sk-container-id-7 pre{padding: 0;}#sk-container-id-7 div.sk-toggleable {background-color: white;}#sk-container-id-7 label.sk-toggleable__label {cursor: pointer;display: block;width: 100%;margin-bottom: 0;padding: 0.3em;box-sizing: border-box;text-align: center;}#sk-container-id-7 label.sk-toggleable__label-arrow:before {content: \"▸\";float: left;margin-right: 0.25em;color: #696969;}#sk-container-id-7 label.sk-toggleable__label-arrow:hover:before {color: black;}#sk-container-id-7 div.sk-estimator:hover label.sk-toggleable__label-arrow:before {color: black;}#sk-container-id-7 div.sk-toggleable__content {max-height: 0;max-width: 0;overflow: hidden;text-align: left;background-color: #f0f8ff;}#sk-container-id-7 div.sk-toggleable__content pre {margin: 0.2em;color: black;border-radius: 0.25em;background-color: #f0f8ff;}#sk-container-id-7 input.sk-toggleable__control:checked~div.sk-toggleable__content {max-height: 200px;max-width: 100%;overflow: auto;}#sk-container-id-7 input.sk-toggleable__control:checked~label.sk-toggleable__label-arrow:before {content: \"▾\";}#sk-container-id-7 div.sk-estimator input.sk-toggleable__control:checked~label.sk-toggleable__label {background-color: #d4ebff;}#sk-container-id-7 div.sk-label input.sk-toggleable__control:checked~label.sk-toggleable__label {background-color: #d4ebff;}#sk-container-id-7 input.sk-hidden--visually {border: 0;clip: rect(1px 1px 1px 1px);clip: rect(1px, 1px, 1px, 1px);height: 1px;margin: -1px;overflow: hidden;padding: 0;position: absolute;width: 1px;}#sk-container-id-7 div.sk-estimator {font-family: monospace;background-color: #f0f8ff;border: 1px dotted black;border-radius: 0.25em;box-sizing: border-box;margin-bottom: 0.5em;}#sk-container-id-7 div.sk-estimator:hover {background-color: #d4ebff;}#sk-container-id-7 div.sk-parallel-item::after {content: \"\";width: 100%;border-bottom: 1px solid gray;flex-grow: 1;}#sk-container-id-7 div.sk-label:hover label.sk-toggleable__label {background-color: #d4ebff;}#sk-container-id-7 div.sk-serial::before {content: \"\";position: absolute;border-left: 1px solid gray;box-sizing: border-box;top: 0;bottom: 0;left: 50%;z-index: 0;}#sk-container-id-7 div.sk-serial {display: flex;flex-direction: column;align-items: center;background-color: white;padding-right: 0.2em;padding-left: 0.2em;position: relative;}#sk-container-id-7 div.sk-item {position: relative;z-index: 1;}#sk-container-id-7 div.sk-parallel {display: flex;align-items: stretch;justify-content: center;background-color: white;position: relative;}#sk-container-id-7 div.sk-item::before, #sk-container-id-7 div.sk-parallel-item::before {content: \"\";position: absolute;border-left: 1px solid gray;box-sizing: border-box;top: 0;bottom: 0;left: 50%;z-index: -1;}#sk-container-id-7 div.sk-parallel-item {display: flex;flex-direction: column;z-index: 1;position: relative;background-color: white;}#sk-container-id-7 div.sk-parallel-item:first-child::after {align-self: flex-end;width: 50%;}#sk-container-id-7 div.sk-parallel-item:last-child::after {align-self: flex-start;width: 50%;}#sk-container-id-7 div.sk-parallel-item:only-child::after {width: 0;}#sk-container-id-7 div.sk-dashed-wrapped {border: 1px dashed gray;margin: 0 0.4em 0.5em 0.4em;box-sizing: border-box;padding-bottom: 0.4em;background-color: white;}#sk-container-id-7 div.sk-label label {font-family: monospace;font-weight: bold;display: inline-block;line-height: 1.2em;}#sk-container-id-7 div.sk-label-container {text-align: center;}#sk-container-id-7 div.sk-container {/* jupyter's `normalize.less` sets `[hidden] { display: none; }` but bootstrap.min.css set `[hidden] { display: none !important; }` so we also need the `!important` here to be able to override the default hidden behavior on the sphinx rendered scikit-learn.org. See: https://github.com/scikit-learn/scikit-learn/issues/21755 */display: inline-block !important;position: relative;}#sk-container-id-7 div.sk-text-repr-fallback {display: none;}</style><div id=\"sk-container-id-7\" class=\"sk-top-container\"><div class=\"sk-text-repr-fallback\"><pre>RandomizedSearchCV(cv=KFold(n_splits=5, random_state=1, shuffle=True),\n",
       "                   estimator=Pipeline(steps=[(&#x27;vect&#x27;, TfidfVectorizer()),\n",
       "                                             (&#x27;model&#x27;,\n",
       "                                              &lt;catboost.core.CatBoostClassifier object at 0x00000241C23BCFD0&gt;)]),\n",
       "                   param_distributions={&#x27;model__n_estimators&#x27;: [50, 100]},\n",
       "                   random_state=1, scoring=&#x27;f1&#x27;)</pre><b>In a Jupyter environment, please rerun this cell to show the HTML representation or trust the notebook. <br />On GitHub, the HTML representation is unable to render, please try loading this page with nbviewer.org.</b></div><div class=\"sk-container\" hidden><div class=\"sk-item sk-dashed-wrapped\"><div class=\"sk-label-container\"><div class=\"sk-label sk-toggleable\"><input class=\"sk-toggleable__control sk-hidden--visually\" id=\"sk-estimator-id-22\" type=\"checkbox\" ><label for=\"sk-estimator-id-22\" class=\"sk-toggleable__label sk-toggleable__label-arrow\">RandomizedSearchCV</label><div class=\"sk-toggleable__content\"><pre>RandomizedSearchCV(cv=KFold(n_splits=5, random_state=1, shuffle=True),\n",
       "                   estimator=Pipeline(steps=[(&#x27;vect&#x27;, TfidfVectorizer()),\n",
       "                                             (&#x27;model&#x27;,\n",
       "                                              &lt;catboost.core.CatBoostClassifier object at 0x00000241C23BCFD0&gt;)]),\n",
       "                   param_distributions={&#x27;model__n_estimators&#x27;: [50, 100]},\n",
       "                   random_state=1, scoring=&#x27;f1&#x27;)</pre></div></div></div><div class=\"sk-parallel\"><div class=\"sk-parallel-item\"><div class=\"sk-item\"><div class=\"sk-label-container\"><div class=\"sk-label sk-toggleable\"><input class=\"sk-toggleable__control sk-hidden--visually\" id=\"sk-estimator-id-23\" type=\"checkbox\" ><label for=\"sk-estimator-id-23\" class=\"sk-toggleable__label sk-toggleable__label-arrow\">estimator: Pipeline</label><div class=\"sk-toggleable__content\"><pre>Pipeline(steps=[(&#x27;vect&#x27;, TfidfVectorizer()),\n",
       "                (&#x27;model&#x27;,\n",
       "                 &lt;catboost.core.CatBoostClassifier object at 0x00000241C23BCFD0&gt;)])</pre></div></div></div><div class=\"sk-serial\"><div class=\"sk-item\"><div class=\"sk-serial\"><div class=\"sk-item\"><div class=\"sk-estimator sk-toggleable\"><input class=\"sk-toggleable__control sk-hidden--visually\" id=\"sk-estimator-id-24\" type=\"checkbox\" ><label for=\"sk-estimator-id-24\" class=\"sk-toggleable__label sk-toggleable__label-arrow\">TfidfVectorizer</label><div class=\"sk-toggleable__content\"><pre>TfidfVectorizer()</pre></div></div></div><div class=\"sk-item\"><div class=\"sk-estimator sk-toggleable\"><input class=\"sk-toggleable__control sk-hidden--visually\" id=\"sk-estimator-id-25\" type=\"checkbox\" ><label for=\"sk-estimator-id-25\" class=\"sk-toggleable__label sk-toggleable__label-arrow\">CatBoostClassifier</label><div class=\"sk-toggleable__content\"><pre>&lt;catboost.core.CatBoostClassifier object at 0x00000241C23BCFD0&gt;</pre></div></div></div></div></div></div></div></div></div></div></div></div>"
      ],
      "text/plain": [
       "RandomizedSearchCV(cv=KFold(n_splits=5, random_state=1, shuffle=True),\n",
       "                   estimator=Pipeline(steps=[('vect', TfidfVectorizer()),\n",
       "                                             ('model',\n",
       "                                              <catboost.core.CatBoostClassifier object at 0x00000241C23BCFD0>)]),\n",
       "                   param_distributions={'model__n_estimators': [50, 100]},\n",
       "                   random_state=1, scoring='f1')"
      ]
     },
     "execution_count": 131,
     "metadata": {},
     "output_type": "execute_result"
    }
   ],
   "source": [
    "%%time\n",
    "# обучаем RandomizedSearchCV-модель с помощью функции fit()\n",
    "random_model_catboost_tfidf.fit(feature_train, target_train)"
   ]
  },
  {
   "cell_type": "code",
   "execution_count": 132,
   "metadata": {
    "id": "aiYffT9GqAsm",
    "outputId": "d879a2e3-9c15-4125-ab45-bec2f98b3223"
   },
   "outputs": [
    {
     "data": {
      "text/html": [
       "<style>#sk-container-id-8 {color: black;background-color: white;}#sk-container-id-8 pre{padding: 0;}#sk-container-id-8 div.sk-toggleable {background-color: white;}#sk-container-id-8 label.sk-toggleable__label {cursor: pointer;display: block;width: 100%;margin-bottom: 0;padding: 0.3em;box-sizing: border-box;text-align: center;}#sk-container-id-8 label.sk-toggleable__label-arrow:before {content: \"▸\";float: left;margin-right: 0.25em;color: #696969;}#sk-container-id-8 label.sk-toggleable__label-arrow:hover:before {color: black;}#sk-container-id-8 div.sk-estimator:hover label.sk-toggleable__label-arrow:before {color: black;}#sk-container-id-8 div.sk-toggleable__content {max-height: 0;max-width: 0;overflow: hidden;text-align: left;background-color: #f0f8ff;}#sk-container-id-8 div.sk-toggleable__content pre {margin: 0.2em;color: black;border-radius: 0.25em;background-color: #f0f8ff;}#sk-container-id-8 input.sk-toggleable__control:checked~div.sk-toggleable__content {max-height: 200px;max-width: 100%;overflow: auto;}#sk-container-id-8 input.sk-toggleable__control:checked~label.sk-toggleable__label-arrow:before {content: \"▾\";}#sk-container-id-8 div.sk-estimator input.sk-toggleable__control:checked~label.sk-toggleable__label {background-color: #d4ebff;}#sk-container-id-8 div.sk-label input.sk-toggleable__control:checked~label.sk-toggleable__label {background-color: #d4ebff;}#sk-container-id-8 input.sk-hidden--visually {border: 0;clip: rect(1px 1px 1px 1px);clip: rect(1px, 1px, 1px, 1px);height: 1px;margin: -1px;overflow: hidden;padding: 0;position: absolute;width: 1px;}#sk-container-id-8 div.sk-estimator {font-family: monospace;background-color: #f0f8ff;border: 1px dotted black;border-radius: 0.25em;box-sizing: border-box;margin-bottom: 0.5em;}#sk-container-id-8 div.sk-estimator:hover {background-color: #d4ebff;}#sk-container-id-8 div.sk-parallel-item::after {content: \"\";width: 100%;border-bottom: 1px solid gray;flex-grow: 1;}#sk-container-id-8 div.sk-label:hover label.sk-toggleable__label {background-color: #d4ebff;}#sk-container-id-8 div.sk-serial::before {content: \"\";position: absolute;border-left: 1px solid gray;box-sizing: border-box;top: 0;bottom: 0;left: 50%;z-index: 0;}#sk-container-id-8 div.sk-serial {display: flex;flex-direction: column;align-items: center;background-color: white;padding-right: 0.2em;padding-left: 0.2em;position: relative;}#sk-container-id-8 div.sk-item {position: relative;z-index: 1;}#sk-container-id-8 div.sk-parallel {display: flex;align-items: stretch;justify-content: center;background-color: white;position: relative;}#sk-container-id-8 div.sk-item::before, #sk-container-id-8 div.sk-parallel-item::before {content: \"\";position: absolute;border-left: 1px solid gray;box-sizing: border-box;top: 0;bottom: 0;left: 50%;z-index: -1;}#sk-container-id-8 div.sk-parallel-item {display: flex;flex-direction: column;z-index: 1;position: relative;background-color: white;}#sk-container-id-8 div.sk-parallel-item:first-child::after {align-self: flex-end;width: 50%;}#sk-container-id-8 div.sk-parallel-item:last-child::after {align-self: flex-start;width: 50%;}#sk-container-id-8 div.sk-parallel-item:only-child::after {width: 0;}#sk-container-id-8 div.sk-dashed-wrapped {border: 1px dashed gray;margin: 0 0.4em 0.5em 0.4em;box-sizing: border-box;padding-bottom: 0.4em;background-color: white;}#sk-container-id-8 div.sk-label label {font-family: monospace;font-weight: bold;display: inline-block;line-height: 1.2em;}#sk-container-id-8 div.sk-label-container {text-align: center;}#sk-container-id-8 div.sk-container {/* jupyter's `normalize.less` sets `[hidden] { display: none; }` but bootstrap.min.css set `[hidden] { display: none !important; }` so we also need the `!important` here to be able to override the default hidden behavior on the sphinx rendered scikit-learn.org. See: https://github.com/scikit-learn/scikit-learn/issues/21755 */display: inline-block !important;position: relative;}#sk-container-id-8 div.sk-text-repr-fallback {display: none;}</style><div id=\"sk-container-id-8\" class=\"sk-top-container\"><div class=\"sk-text-repr-fallback\"><pre>Pipeline(steps=[(&#x27;vect&#x27;, TfidfVectorizer()),\n",
       "                (&#x27;model&#x27;,\n",
       "                 &lt;catboost.core.CatBoostClassifier object at 0x00000241C0B66DF0&gt;)])</pre><b>In a Jupyter environment, please rerun this cell to show the HTML representation or trust the notebook. <br />On GitHub, the HTML representation is unable to render, please try loading this page with nbviewer.org.</b></div><div class=\"sk-container\" hidden><div class=\"sk-item sk-dashed-wrapped\"><div class=\"sk-label-container\"><div class=\"sk-label sk-toggleable\"><input class=\"sk-toggleable__control sk-hidden--visually\" id=\"sk-estimator-id-26\" type=\"checkbox\" ><label for=\"sk-estimator-id-26\" class=\"sk-toggleable__label sk-toggleable__label-arrow\">Pipeline</label><div class=\"sk-toggleable__content\"><pre>Pipeline(steps=[(&#x27;vect&#x27;, TfidfVectorizer()),\n",
       "                (&#x27;model&#x27;,\n",
       "                 &lt;catboost.core.CatBoostClassifier object at 0x00000241C0B66DF0&gt;)])</pre></div></div></div><div class=\"sk-serial\"><div class=\"sk-item\"><div class=\"sk-estimator sk-toggleable\"><input class=\"sk-toggleable__control sk-hidden--visually\" id=\"sk-estimator-id-27\" type=\"checkbox\" ><label for=\"sk-estimator-id-27\" class=\"sk-toggleable__label sk-toggleable__label-arrow\">TfidfVectorizer</label><div class=\"sk-toggleable__content\"><pre>TfidfVectorizer()</pre></div></div></div><div class=\"sk-item\"><div class=\"sk-estimator sk-toggleable\"><input class=\"sk-toggleable__control sk-hidden--visually\" id=\"sk-estimator-id-28\" type=\"checkbox\" ><label for=\"sk-estimator-id-28\" class=\"sk-toggleable__label sk-toggleable__label-arrow\">CatBoostClassifier</label><div class=\"sk-toggleable__content\"><pre>&lt;catboost.core.CatBoostClassifier object at 0x00000241C0B66DF0&gt;</pre></div></div></div></div></div></div></div>"
      ],
      "text/plain": [
       "Pipeline(steps=[('vect', TfidfVectorizer()),\n",
       "                ('model',\n",
       "                 <catboost.core.CatBoostClassifier object at 0x00000241C0B66DF0>)])"
      ]
     },
     "execution_count": 132,
     "metadata": {},
     "output_type": "execute_result"
    }
   ],
   "source": [
    "# сохраним лучшую модель в переменную\n",
    "best_model_catboost_tfidf = random_model_catboost_tfidf.best_estimator_\n",
    "best_model_catboost_tfidf"
   ]
  },
  {
   "cell_type": "code",
   "execution_count": 133,
   "metadata": {
    "id": "P4fL-hGoqAso",
    "outputId": "3683fc4f-1c0a-48ca-b70b-2e3bb098678b"
   },
   "outputs": [
    {
     "data": {
      "text/plain": [
       "{'model__n_estimators': 100}"
      ]
     },
     "execution_count": 133,
     "metadata": {},
     "output_type": "execute_result"
    }
   ],
   "source": [
    "# выведем на экран гиперпараметры лучшей модели\n",
    "random_model_catboost_tfidf.best_params_"
   ]
  },
  {
   "cell_type": "code",
   "execution_count": 134,
   "metadata": {
    "id": "R_8-rCjjqAsp",
    "outputId": "adb962d3-6d48-423d-9481-92aec2a26818"
   },
   "outputs": [
    {
     "name": "stdout",
     "output_type": "stream",
     "text": [
      "f1 модели CatBoost:\n",
      " 0.732\n"
     ]
    }
   ],
   "source": [
    "# получим значение метрики f1\n",
    "f1_catboost_tfidf = round(abs(random_model_catboost_tfidf.best_score_), 3)\n",
    "print('f1 модели CatBoost:\\n', \\\n",
    "      f1_catboost_tfidf)"
   ]
  },
  {
   "cell_type": "markdown",
   "metadata": {
    "id": "Wq49LFmIpuh8"
   },
   "source": [
    "### **Обучение модели DecisionTreeClassifier на признаках, подготовленных с помощью CountVectorizer()**\n",
    "\n",
    "---"
   ]
  },
  {
   "cell_type": "code",
   "execution_count": 135,
   "metadata": {
    "id": "CDuzpZXRC83y"
   },
   "outputs": [],
   "source": [
    "# объявляем объект конвейера\n",
    "pipe_tree_bow = Pipeline([\n",
    "    ('vect', CountVectorizer(ngram_range=(1, 2))),\n",
    "    ('model', DecisionTreeClassifier(\n",
    "    random_state = 1,\n",
    "    class_weight = weights))\n",
    "])"
   ]
  },
  {
   "cell_type": "code",
   "execution_count": 136,
   "metadata": {
    "id": "SwjmoDBcrqtw"
   },
   "outputs": [],
   "source": [
    "# создаем словарь с гиперпараметрами\n",
    "params_tree_bow =  {'model__max_depth': [10, 30, 50]\n",
    "                  }"
   ]
  },
  {
   "cell_type": "code",
   "execution_count": 137,
   "metadata": {
    "id": "zeSAyYq3rqwq"
   },
   "outputs": [],
   "source": [
    "# создаем объект RandomizedSearchCV\n",
    "random_model_tree_bow = RandomizedSearchCV(\n",
    "    pipe_tree_bow,\n",
    "    params_tree_bow,\n",
    "    scoring = 'f1',\n",
    "    refit = True,\n",
    "    cv = cv,\n",
    "    random_state = 1\n",
    "    )"
   ]
  },
  {
   "cell_type": "code",
   "execution_count": 138,
   "metadata": {
    "colab": {
     "base_uri": "https://localhost:8080/"
    },
    "id": "J3VkGmherqzY",
    "outputId": "ff0068cb-cdf3-4f42-aefa-90112ae2e152"
   },
   "outputs": [
    {
     "name": "stdout",
     "output_type": "stream",
     "text": [
      "CPU times: total: 51min 57s\n",
      "Wall time: 51min 58s\n"
     ]
    },
    {
     "data": {
      "text/html": [
       "<style>#sk-container-id-9 {color: black;background-color: white;}#sk-container-id-9 pre{padding: 0;}#sk-container-id-9 div.sk-toggleable {background-color: white;}#sk-container-id-9 label.sk-toggleable__label {cursor: pointer;display: block;width: 100%;margin-bottom: 0;padding: 0.3em;box-sizing: border-box;text-align: center;}#sk-container-id-9 label.sk-toggleable__label-arrow:before {content: \"▸\";float: left;margin-right: 0.25em;color: #696969;}#sk-container-id-9 label.sk-toggleable__label-arrow:hover:before {color: black;}#sk-container-id-9 div.sk-estimator:hover label.sk-toggleable__label-arrow:before {color: black;}#sk-container-id-9 div.sk-toggleable__content {max-height: 0;max-width: 0;overflow: hidden;text-align: left;background-color: #f0f8ff;}#sk-container-id-9 div.sk-toggleable__content pre {margin: 0.2em;color: black;border-radius: 0.25em;background-color: #f0f8ff;}#sk-container-id-9 input.sk-toggleable__control:checked~div.sk-toggleable__content {max-height: 200px;max-width: 100%;overflow: auto;}#sk-container-id-9 input.sk-toggleable__control:checked~label.sk-toggleable__label-arrow:before {content: \"▾\";}#sk-container-id-9 div.sk-estimator input.sk-toggleable__control:checked~label.sk-toggleable__label {background-color: #d4ebff;}#sk-container-id-9 div.sk-label input.sk-toggleable__control:checked~label.sk-toggleable__label {background-color: #d4ebff;}#sk-container-id-9 input.sk-hidden--visually {border: 0;clip: rect(1px 1px 1px 1px);clip: rect(1px, 1px, 1px, 1px);height: 1px;margin: -1px;overflow: hidden;padding: 0;position: absolute;width: 1px;}#sk-container-id-9 div.sk-estimator {font-family: monospace;background-color: #f0f8ff;border: 1px dotted black;border-radius: 0.25em;box-sizing: border-box;margin-bottom: 0.5em;}#sk-container-id-9 div.sk-estimator:hover {background-color: #d4ebff;}#sk-container-id-9 div.sk-parallel-item::after {content: \"\";width: 100%;border-bottom: 1px solid gray;flex-grow: 1;}#sk-container-id-9 div.sk-label:hover label.sk-toggleable__label {background-color: #d4ebff;}#sk-container-id-9 div.sk-serial::before {content: \"\";position: absolute;border-left: 1px solid gray;box-sizing: border-box;top: 0;bottom: 0;left: 50%;z-index: 0;}#sk-container-id-9 div.sk-serial {display: flex;flex-direction: column;align-items: center;background-color: white;padding-right: 0.2em;padding-left: 0.2em;position: relative;}#sk-container-id-9 div.sk-item {position: relative;z-index: 1;}#sk-container-id-9 div.sk-parallel {display: flex;align-items: stretch;justify-content: center;background-color: white;position: relative;}#sk-container-id-9 div.sk-item::before, #sk-container-id-9 div.sk-parallel-item::before {content: \"\";position: absolute;border-left: 1px solid gray;box-sizing: border-box;top: 0;bottom: 0;left: 50%;z-index: -1;}#sk-container-id-9 div.sk-parallel-item {display: flex;flex-direction: column;z-index: 1;position: relative;background-color: white;}#sk-container-id-9 div.sk-parallel-item:first-child::after {align-self: flex-end;width: 50%;}#sk-container-id-9 div.sk-parallel-item:last-child::after {align-self: flex-start;width: 50%;}#sk-container-id-9 div.sk-parallel-item:only-child::after {width: 0;}#sk-container-id-9 div.sk-dashed-wrapped {border: 1px dashed gray;margin: 0 0.4em 0.5em 0.4em;box-sizing: border-box;padding-bottom: 0.4em;background-color: white;}#sk-container-id-9 div.sk-label label {font-family: monospace;font-weight: bold;display: inline-block;line-height: 1.2em;}#sk-container-id-9 div.sk-label-container {text-align: center;}#sk-container-id-9 div.sk-container {/* jupyter's `normalize.less` sets `[hidden] { display: none; }` but bootstrap.min.css set `[hidden] { display: none !important; }` so we also need the `!important` here to be able to override the default hidden behavior on the sphinx rendered scikit-learn.org. See: https://github.com/scikit-learn/scikit-learn/issues/21755 */display: inline-block !important;position: relative;}#sk-container-id-9 div.sk-text-repr-fallback {display: none;}</style><div id=\"sk-container-id-9\" class=\"sk-top-container\"><div class=\"sk-text-repr-fallback\"><pre>RandomizedSearchCV(cv=KFold(n_splits=5, random_state=1, shuffle=True),\n",
       "                   estimator=Pipeline(steps=[(&#x27;vect&#x27;,\n",
       "                                              CountVectorizer(ngram_range=(1,\n",
       "                                                                           2))),\n",
       "                                             (&#x27;model&#x27;,\n",
       "                                              DecisionTreeClassifier(class_weight={0: 0.5565524855701368,\n",
       "                                                                                   1: 4.9206721858396145},\n",
       "                                                                     random_state=1))]),\n",
       "                   param_distributions={&#x27;model__max_depth&#x27;: [10, 30, 50]},\n",
       "                   random_state=1, scoring=&#x27;f1&#x27;)</pre><b>In a Jupyter environment, please rerun this cell to show the HTML representation or trust the notebook. <br />On GitHub, the HTML representation is unable to render, please try loading this page with nbviewer.org.</b></div><div class=\"sk-container\" hidden><div class=\"sk-item sk-dashed-wrapped\"><div class=\"sk-label-container\"><div class=\"sk-label sk-toggleable\"><input class=\"sk-toggleable__control sk-hidden--visually\" id=\"sk-estimator-id-29\" type=\"checkbox\" ><label for=\"sk-estimator-id-29\" class=\"sk-toggleable__label sk-toggleable__label-arrow\">RandomizedSearchCV</label><div class=\"sk-toggleable__content\"><pre>RandomizedSearchCV(cv=KFold(n_splits=5, random_state=1, shuffle=True),\n",
       "                   estimator=Pipeline(steps=[(&#x27;vect&#x27;,\n",
       "                                              CountVectorizer(ngram_range=(1,\n",
       "                                                                           2))),\n",
       "                                             (&#x27;model&#x27;,\n",
       "                                              DecisionTreeClassifier(class_weight={0: 0.5565524855701368,\n",
       "                                                                                   1: 4.9206721858396145},\n",
       "                                                                     random_state=1))]),\n",
       "                   param_distributions={&#x27;model__max_depth&#x27;: [10, 30, 50]},\n",
       "                   random_state=1, scoring=&#x27;f1&#x27;)</pre></div></div></div><div class=\"sk-parallel\"><div class=\"sk-parallel-item\"><div class=\"sk-item\"><div class=\"sk-label-container\"><div class=\"sk-label sk-toggleable\"><input class=\"sk-toggleable__control sk-hidden--visually\" id=\"sk-estimator-id-30\" type=\"checkbox\" ><label for=\"sk-estimator-id-30\" class=\"sk-toggleable__label sk-toggleable__label-arrow\">estimator: Pipeline</label><div class=\"sk-toggleable__content\"><pre>Pipeline(steps=[(&#x27;vect&#x27;, CountVectorizer(ngram_range=(1, 2))),\n",
       "                (&#x27;model&#x27;,\n",
       "                 DecisionTreeClassifier(class_weight={0: 0.5565524855701368,\n",
       "                                                      1: 4.9206721858396145},\n",
       "                                        random_state=1))])</pre></div></div></div><div class=\"sk-serial\"><div class=\"sk-item\"><div class=\"sk-serial\"><div class=\"sk-item\"><div class=\"sk-estimator sk-toggleable\"><input class=\"sk-toggleable__control sk-hidden--visually\" id=\"sk-estimator-id-31\" type=\"checkbox\" ><label for=\"sk-estimator-id-31\" class=\"sk-toggleable__label sk-toggleable__label-arrow\">CountVectorizer</label><div class=\"sk-toggleable__content\"><pre>CountVectorizer(ngram_range=(1, 2))</pre></div></div></div><div class=\"sk-item\"><div class=\"sk-estimator sk-toggleable\"><input class=\"sk-toggleable__control sk-hidden--visually\" id=\"sk-estimator-id-32\" type=\"checkbox\" ><label for=\"sk-estimator-id-32\" class=\"sk-toggleable__label sk-toggleable__label-arrow\">DecisionTreeClassifier</label><div class=\"sk-toggleable__content\"><pre>DecisionTreeClassifier(class_weight={0: 0.5565524855701368,\n",
       "                                     1: 4.9206721858396145},\n",
       "                       random_state=1)</pre></div></div></div></div></div></div></div></div></div></div></div></div>"
      ],
      "text/plain": [
       "RandomizedSearchCV(cv=KFold(n_splits=5, random_state=1, shuffle=True),\n",
       "                   estimator=Pipeline(steps=[('vect',\n",
       "                                              CountVectorizer(ngram_range=(1,\n",
       "                                                                           2))),\n",
       "                                             ('model',\n",
       "                                              DecisionTreeClassifier(class_weight={0: 0.5565524855701368,\n",
       "                                                                                   1: 4.9206721858396145},\n",
       "                                                                     random_state=1))]),\n",
       "                   param_distributions={'model__max_depth': [10, 30, 50]},\n",
       "                   random_state=1, scoring='f1')"
      ]
     },
     "execution_count": 138,
     "metadata": {},
     "output_type": "execute_result"
    }
   ],
   "source": [
    "%%time\n",
    "# обучаем RandomizedSearchCV-модель с помощью функции fit()\n",
    "random_model_tree_bow.fit(feature_train, target_train)"
   ]
  },
  {
   "cell_type": "code",
   "execution_count": 139,
   "metadata": {
    "colab": {
     "base_uri": "https://localhost:8080/"
    },
    "id": "F-ihzLVomfIi",
    "outputId": "1e283996-adf8-47fd-81ed-a3adceb82649"
   },
   "outputs": [
    {
     "data": {
      "text/html": [
       "<style>#sk-container-id-10 {color: black;background-color: white;}#sk-container-id-10 pre{padding: 0;}#sk-container-id-10 div.sk-toggleable {background-color: white;}#sk-container-id-10 label.sk-toggleable__label {cursor: pointer;display: block;width: 100%;margin-bottom: 0;padding: 0.3em;box-sizing: border-box;text-align: center;}#sk-container-id-10 label.sk-toggleable__label-arrow:before {content: \"▸\";float: left;margin-right: 0.25em;color: #696969;}#sk-container-id-10 label.sk-toggleable__label-arrow:hover:before {color: black;}#sk-container-id-10 div.sk-estimator:hover label.sk-toggleable__label-arrow:before {color: black;}#sk-container-id-10 div.sk-toggleable__content {max-height: 0;max-width: 0;overflow: hidden;text-align: left;background-color: #f0f8ff;}#sk-container-id-10 div.sk-toggleable__content pre {margin: 0.2em;color: black;border-radius: 0.25em;background-color: #f0f8ff;}#sk-container-id-10 input.sk-toggleable__control:checked~div.sk-toggleable__content {max-height: 200px;max-width: 100%;overflow: auto;}#sk-container-id-10 input.sk-toggleable__control:checked~label.sk-toggleable__label-arrow:before {content: \"▾\";}#sk-container-id-10 div.sk-estimator input.sk-toggleable__control:checked~label.sk-toggleable__label {background-color: #d4ebff;}#sk-container-id-10 div.sk-label input.sk-toggleable__control:checked~label.sk-toggleable__label {background-color: #d4ebff;}#sk-container-id-10 input.sk-hidden--visually {border: 0;clip: rect(1px 1px 1px 1px);clip: rect(1px, 1px, 1px, 1px);height: 1px;margin: -1px;overflow: hidden;padding: 0;position: absolute;width: 1px;}#sk-container-id-10 div.sk-estimator {font-family: monospace;background-color: #f0f8ff;border: 1px dotted black;border-radius: 0.25em;box-sizing: border-box;margin-bottom: 0.5em;}#sk-container-id-10 div.sk-estimator:hover {background-color: #d4ebff;}#sk-container-id-10 div.sk-parallel-item::after {content: \"\";width: 100%;border-bottom: 1px solid gray;flex-grow: 1;}#sk-container-id-10 div.sk-label:hover label.sk-toggleable__label {background-color: #d4ebff;}#sk-container-id-10 div.sk-serial::before {content: \"\";position: absolute;border-left: 1px solid gray;box-sizing: border-box;top: 0;bottom: 0;left: 50%;z-index: 0;}#sk-container-id-10 div.sk-serial {display: flex;flex-direction: column;align-items: center;background-color: white;padding-right: 0.2em;padding-left: 0.2em;position: relative;}#sk-container-id-10 div.sk-item {position: relative;z-index: 1;}#sk-container-id-10 div.sk-parallel {display: flex;align-items: stretch;justify-content: center;background-color: white;position: relative;}#sk-container-id-10 div.sk-item::before, #sk-container-id-10 div.sk-parallel-item::before {content: \"\";position: absolute;border-left: 1px solid gray;box-sizing: border-box;top: 0;bottom: 0;left: 50%;z-index: -1;}#sk-container-id-10 div.sk-parallel-item {display: flex;flex-direction: column;z-index: 1;position: relative;background-color: white;}#sk-container-id-10 div.sk-parallel-item:first-child::after {align-self: flex-end;width: 50%;}#sk-container-id-10 div.sk-parallel-item:last-child::after {align-self: flex-start;width: 50%;}#sk-container-id-10 div.sk-parallel-item:only-child::after {width: 0;}#sk-container-id-10 div.sk-dashed-wrapped {border: 1px dashed gray;margin: 0 0.4em 0.5em 0.4em;box-sizing: border-box;padding-bottom: 0.4em;background-color: white;}#sk-container-id-10 div.sk-label label {font-family: monospace;font-weight: bold;display: inline-block;line-height: 1.2em;}#sk-container-id-10 div.sk-label-container {text-align: center;}#sk-container-id-10 div.sk-container {/* jupyter's `normalize.less` sets `[hidden] { display: none; }` but bootstrap.min.css set `[hidden] { display: none !important; }` so we also need the `!important` here to be able to override the default hidden behavior on the sphinx rendered scikit-learn.org. See: https://github.com/scikit-learn/scikit-learn/issues/21755 */display: inline-block !important;position: relative;}#sk-container-id-10 div.sk-text-repr-fallback {display: none;}</style><div id=\"sk-container-id-10\" class=\"sk-top-container\"><div class=\"sk-text-repr-fallback\"><pre>Pipeline(steps=[(&#x27;vect&#x27;, CountVectorizer(ngram_range=(1, 2))),\n",
       "                (&#x27;model&#x27;,\n",
       "                 DecisionTreeClassifier(class_weight={0: 0.5565524855701368,\n",
       "                                                      1: 4.9206721858396145},\n",
       "                                        max_depth=50, random_state=1))])</pre><b>In a Jupyter environment, please rerun this cell to show the HTML representation or trust the notebook. <br />On GitHub, the HTML representation is unable to render, please try loading this page with nbviewer.org.</b></div><div class=\"sk-container\" hidden><div class=\"sk-item sk-dashed-wrapped\"><div class=\"sk-label-container\"><div class=\"sk-label sk-toggleable\"><input class=\"sk-toggleable__control sk-hidden--visually\" id=\"sk-estimator-id-33\" type=\"checkbox\" ><label for=\"sk-estimator-id-33\" class=\"sk-toggleable__label sk-toggleable__label-arrow\">Pipeline</label><div class=\"sk-toggleable__content\"><pre>Pipeline(steps=[(&#x27;vect&#x27;, CountVectorizer(ngram_range=(1, 2))),\n",
       "                (&#x27;model&#x27;,\n",
       "                 DecisionTreeClassifier(class_weight={0: 0.5565524855701368,\n",
       "                                                      1: 4.9206721858396145},\n",
       "                                        max_depth=50, random_state=1))])</pre></div></div></div><div class=\"sk-serial\"><div class=\"sk-item\"><div class=\"sk-estimator sk-toggleable\"><input class=\"sk-toggleable__control sk-hidden--visually\" id=\"sk-estimator-id-34\" type=\"checkbox\" ><label for=\"sk-estimator-id-34\" class=\"sk-toggleable__label sk-toggleable__label-arrow\">CountVectorizer</label><div class=\"sk-toggleable__content\"><pre>CountVectorizer(ngram_range=(1, 2))</pre></div></div></div><div class=\"sk-item\"><div class=\"sk-estimator sk-toggleable\"><input class=\"sk-toggleable__control sk-hidden--visually\" id=\"sk-estimator-id-35\" type=\"checkbox\" ><label for=\"sk-estimator-id-35\" class=\"sk-toggleable__label sk-toggleable__label-arrow\">DecisionTreeClassifier</label><div class=\"sk-toggleable__content\"><pre>DecisionTreeClassifier(class_weight={0: 0.5565524855701368,\n",
       "                                     1: 4.9206721858396145},\n",
       "                       max_depth=50, random_state=1)</pre></div></div></div></div></div></div></div>"
      ],
      "text/plain": [
       "Pipeline(steps=[('vect', CountVectorizer(ngram_range=(1, 2))),\n",
       "                ('model',\n",
       "                 DecisionTreeClassifier(class_weight={0: 0.5565524855701368,\n",
       "                                                      1: 4.9206721858396145},\n",
       "                                        max_depth=50, random_state=1))])"
      ]
     },
     "execution_count": 139,
     "metadata": {},
     "output_type": "execute_result"
    }
   ],
   "source": [
    "# сохраним лучшую модель в переменную\n",
    "best_model_tree_bow = random_model_tree_bow.best_estimator_\n",
    "best_model_tree_bow"
   ]
  },
  {
   "cell_type": "code",
   "execution_count": 140,
   "metadata": {
    "colab": {
     "base_uri": "https://localhost:8080/"
    },
    "id": "eJB_87gq2bCo",
    "outputId": "3568fa32-9bdf-498d-99da-b29805987f93"
   },
   "outputs": [
    {
     "data": {
      "text/plain": [
       "{'model__max_depth': 50}"
      ]
     },
     "execution_count": 140,
     "metadata": {},
     "output_type": "execute_result"
    }
   ],
   "source": [
    "# выведем на экран гиперпараметры лучшей модели\n",
    "random_model_tree_bow.best_params_"
   ]
  },
  {
   "cell_type": "code",
   "execution_count": 141,
   "metadata": {
    "colab": {
     "base_uri": "https://localhost:8080/"
    },
    "id": "vFMxEmW12bCo",
    "outputId": "2176c02c-f80b-4971-8dab-74c1ec9dc6f9"
   },
   "outputs": [
    {
     "name": "stdout",
     "output_type": "stream",
     "text": [
      "f1 модели DecisionTreeClassifier:\n",
      " 0.661\n"
     ]
    }
   ],
   "source": [
    "# получим значение метрики f1\n",
    "f1_tree_bow = round(abs(random_model_tree_bow.best_score_), 3)\n",
    "print('f1 модели DecisionTreeClassifier:\\n', \\\n",
    "      f1_tree_bow)"
   ]
  },
  {
   "cell_type": "markdown",
   "metadata": {
    "id": "n3H89Cmur77Z"
   },
   "source": [
    "### **Обучение модели DecisionTreeClassifier на признаках, подготовленных с помощью TfidfVectorizer()**\n",
    "\n",
    "---"
   ]
  },
  {
   "cell_type": "code",
   "execution_count": 142,
   "metadata": {
    "id": "0keeeogAC830"
   },
   "outputs": [],
   "source": [
    "# объявляем объект конвейера\n",
    "pipe_tree_tfidf = Pipeline([\n",
    "    ('vect', TfidfVectorizer(ngram_range=(1, 2))),\n",
    "    ('model', DecisionTreeClassifier(\n",
    "    random_state = 1,\n",
    "    class_weight = weights))\n",
    "])"
   ]
  },
  {
   "cell_type": "code",
   "execution_count": 143,
   "metadata": {
    "id": "CylK2-qSr77b"
   },
   "outputs": [],
   "source": [
    "# создаем словарь с гиперпараметрами\n",
    "params_tree_tfidf =  {'model__max_depth': [10, 30, 50]\n",
    "                  }"
   ]
  },
  {
   "cell_type": "code",
   "execution_count": 144,
   "metadata": {
    "id": "zbSYQEGar77c"
   },
   "outputs": [],
   "source": [
    "# создаем объект RandomizedSearchCV\n",
    "random_model_tree_tfidf = RandomizedSearchCV(\n",
    "    pipe_tree_tfidf,\n",
    "    params_tree_tfidf,\n",
    "    scoring = 'f1',\n",
    "    refit = True,\n",
    "    cv = cv,\n",
    "    random_state = 1\n",
    "    )"
   ]
  },
  {
   "cell_type": "code",
   "execution_count": 145,
   "metadata": {
    "colab": {
     "base_uri": "https://localhost:8080/"
    },
    "id": "Yy-PZ0iVL2ka",
    "outputId": "bffc6720-ba16-427b-970d-f0afdffaddc5"
   },
   "outputs": [
    {
     "name": "stdout",
     "output_type": "stream",
     "text": [
      "CPU times: total: 53min 30s\n",
      "Wall time: 53min 32s\n"
     ]
    },
    {
     "data": {
      "text/html": [
       "<style>#sk-container-id-11 {color: black;background-color: white;}#sk-container-id-11 pre{padding: 0;}#sk-container-id-11 div.sk-toggleable {background-color: white;}#sk-container-id-11 label.sk-toggleable__label {cursor: pointer;display: block;width: 100%;margin-bottom: 0;padding: 0.3em;box-sizing: border-box;text-align: center;}#sk-container-id-11 label.sk-toggleable__label-arrow:before {content: \"▸\";float: left;margin-right: 0.25em;color: #696969;}#sk-container-id-11 label.sk-toggleable__label-arrow:hover:before {color: black;}#sk-container-id-11 div.sk-estimator:hover label.sk-toggleable__label-arrow:before {color: black;}#sk-container-id-11 div.sk-toggleable__content {max-height: 0;max-width: 0;overflow: hidden;text-align: left;background-color: #f0f8ff;}#sk-container-id-11 div.sk-toggleable__content pre {margin: 0.2em;color: black;border-radius: 0.25em;background-color: #f0f8ff;}#sk-container-id-11 input.sk-toggleable__control:checked~div.sk-toggleable__content {max-height: 200px;max-width: 100%;overflow: auto;}#sk-container-id-11 input.sk-toggleable__control:checked~label.sk-toggleable__label-arrow:before {content: \"▾\";}#sk-container-id-11 div.sk-estimator input.sk-toggleable__control:checked~label.sk-toggleable__label {background-color: #d4ebff;}#sk-container-id-11 div.sk-label input.sk-toggleable__control:checked~label.sk-toggleable__label {background-color: #d4ebff;}#sk-container-id-11 input.sk-hidden--visually {border: 0;clip: rect(1px 1px 1px 1px);clip: rect(1px, 1px, 1px, 1px);height: 1px;margin: -1px;overflow: hidden;padding: 0;position: absolute;width: 1px;}#sk-container-id-11 div.sk-estimator {font-family: monospace;background-color: #f0f8ff;border: 1px dotted black;border-radius: 0.25em;box-sizing: border-box;margin-bottom: 0.5em;}#sk-container-id-11 div.sk-estimator:hover {background-color: #d4ebff;}#sk-container-id-11 div.sk-parallel-item::after {content: \"\";width: 100%;border-bottom: 1px solid gray;flex-grow: 1;}#sk-container-id-11 div.sk-label:hover label.sk-toggleable__label {background-color: #d4ebff;}#sk-container-id-11 div.sk-serial::before {content: \"\";position: absolute;border-left: 1px solid gray;box-sizing: border-box;top: 0;bottom: 0;left: 50%;z-index: 0;}#sk-container-id-11 div.sk-serial {display: flex;flex-direction: column;align-items: center;background-color: white;padding-right: 0.2em;padding-left: 0.2em;position: relative;}#sk-container-id-11 div.sk-item {position: relative;z-index: 1;}#sk-container-id-11 div.sk-parallel {display: flex;align-items: stretch;justify-content: center;background-color: white;position: relative;}#sk-container-id-11 div.sk-item::before, #sk-container-id-11 div.sk-parallel-item::before {content: \"\";position: absolute;border-left: 1px solid gray;box-sizing: border-box;top: 0;bottom: 0;left: 50%;z-index: -1;}#sk-container-id-11 div.sk-parallel-item {display: flex;flex-direction: column;z-index: 1;position: relative;background-color: white;}#sk-container-id-11 div.sk-parallel-item:first-child::after {align-self: flex-end;width: 50%;}#sk-container-id-11 div.sk-parallel-item:last-child::after {align-self: flex-start;width: 50%;}#sk-container-id-11 div.sk-parallel-item:only-child::after {width: 0;}#sk-container-id-11 div.sk-dashed-wrapped {border: 1px dashed gray;margin: 0 0.4em 0.5em 0.4em;box-sizing: border-box;padding-bottom: 0.4em;background-color: white;}#sk-container-id-11 div.sk-label label {font-family: monospace;font-weight: bold;display: inline-block;line-height: 1.2em;}#sk-container-id-11 div.sk-label-container {text-align: center;}#sk-container-id-11 div.sk-container {/* jupyter's `normalize.less` sets `[hidden] { display: none; }` but bootstrap.min.css set `[hidden] { display: none !important; }` so we also need the `!important` here to be able to override the default hidden behavior on the sphinx rendered scikit-learn.org. See: https://github.com/scikit-learn/scikit-learn/issues/21755 */display: inline-block !important;position: relative;}#sk-container-id-11 div.sk-text-repr-fallback {display: none;}</style><div id=\"sk-container-id-11\" class=\"sk-top-container\"><div class=\"sk-text-repr-fallback\"><pre>RandomizedSearchCV(cv=KFold(n_splits=5, random_state=1, shuffle=True),\n",
       "                   estimator=Pipeline(steps=[(&#x27;vect&#x27;,\n",
       "                                              TfidfVectorizer(ngram_range=(1,\n",
       "                                                                           2))),\n",
       "                                             (&#x27;model&#x27;,\n",
       "                                              DecisionTreeClassifier(class_weight={0: 0.5565524855701368,\n",
       "                                                                                   1: 4.9206721858396145},\n",
       "                                                                     random_state=1))]),\n",
       "                   param_distributions={&#x27;model__max_depth&#x27;: [10, 30, 50]},\n",
       "                   random_state=1, scoring=&#x27;f1&#x27;)</pre><b>In a Jupyter environment, please rerun this cell to show the HTML representation or trust the notebook. <br />On GitHub, the HTML representation is unable to render, please try loading this page with nbviewer.org.</b></div><div class=\"sk-container\" hidden><div class=\"sk-item sk-dashed-wrapped\"><div class=\"sk-label-container\"><div class=\"sk-label sk-toggleable\"><input class=\"sk-toggleable__control sk-hidden--visually\" id=\"sk-estimator-id-36\" type=\"checkbox\" ><label for=\"sk-estimator-id-36\" class=\"sk-toggleable__label sk-toggleable__label-arrow\">RandomizedSearchCV</label><div class=\"sk-toggleable__content\"><pre>RandomizedSearchCV(cv=KFold(n_splits=5, random_state=1, shuffle=True),\n",
       "                   estimator=Pipeline(steps=[(&#x27;vect&#x27;,\n",
       "                                              TfidfVectorizer(ngram_range=(1,\n",
       "                                                                           2))),\n",
       "                                             (&#x27;model&#x27;,\n",
       "                                              DecisionTreeClassifier(class_weight={0: 0.5565524855701368,\n",
       "                                                                                   1: 4.9206721858396145},\n",
       "                                                                     random_state=1))]),\n",
       "                   param_distributions={&#x27;model__max_depth&#x27;: [10, 30, 50]},\n",
       "                   random_state=1, scoring=&#x27;f1&#x27;)</pre></div></div></div><div class=\"sk-parallel\"><div class=\"sk-parallel-item\"><div class=\"sk-item\"><div class=\"sk-label-container\"><div class=\"sk-label sk-toggleable\"><input class=\"sk-toggleable__control sk-hidden--visually\" id=\"sk-estimator-id-37\" type=\"checkbox\" ><label for=\"sk-estimator-id-37\" class=\"sk-toggleable__label sk-toggleable__label-arrow\">estimator: Pipeline</label><div class=\"sk-toggleable__content\"><pre>Pipeline(steps=[(&#x27;vect&#x27;, TfidfVectorizer(ngram_range=(1, 2))),\n",
       "                (&#x27;model&#x27;,\n",
       "                 DecisionTreeClassifier(class_weight={0: 0.5565524855701368,\n",
       "                                                      1: 4.9206721858396145},\n",
       "                                        random_state=1))])</pre></div></div></div><div class=\"sk-serial\"><div class=\"sk-item\"><div class=\"sk-serial\"><div class=\"sk-item\"><div class=\"sk-estimator sk-toggleable\"><input class=\"sk-toggleable__control sk-hidden--visually\" id=\"sk-estimator-id-38\" type=\"checkbox\" ><label for=\"sk-estimator-id-38\" class=\"sk-toggleable__label sk-toggleable__label-arrow\">TfidfVectorizer</label><div class=\"sk-toggleable__content\"><pre>TfidfVectorizer(ngram_range=(1, 2))</pre></div></div></div><div class=\"sk-item\"><div class=\"sk-estimator sk-toggleable\"><input class=\"sk-toggleable__control sk-hidden--visually\" id=\"sk-estimator-id-39\" type=\"checkbox\" ><label for=\"sk-estimator-id-39\" class=\"sk-toggleable__label sk-toggleable__label-arrow\">DecisionTreeClassifier</label><div class=\"sk-toggleable__content\"><pre>DecisionTreeClassifier(class_weight={0: 0.5565524855701368,\n",
       "                                     1: 4.9206721858396145},\n",
       "                       random_state=1)</pre></div></div></div></div></div></div></div></div></div></div></div></div>"
      ],
      "text/plain": [
       "RandomizedSearchCV(cv=KFold(n_splits=5, random_state=1, shuffle=True),\n",
       "                   estimator=Pipeline(steps=[('vect',\n",
       "                                              TfidfVectorizer(ngram_range=(1,\n",
       "                                                                           2))),\n",
       "                                             ('model',\n",
       "                                              DecisionTreeClassifier(class_weight={0: 0.5565524855701368,\n",
       "                                                                                   1: 4.9206721858396145},\n",
       "                                                                     random_state=1))]),\n",
       "                   param_distributions={'model__max_depth': [10, 30, 50]},\n",
       "                   random_state=1, scoring='f1')"
      ]
     },
     "execution_count": 145,
     "metadata": {},
     "output_type": "execute_result"
    }
   ],
   "source": [
    "%%time\n",
    "# обучаем RandomizedSearchCV-модель с помощью функции fit()\n",
    "random_model_tree_tfidf.fit(feature_train, target_train)"
   ]
  },
  {
   "cell_type": "code",
   "execution_count": 146,
   "metadata": {
    "colab": {
     "base_uri": "https://localhost:8080/"
    },
    "id": "h0hVLv6rsbCQ",
    "outputId": "d778cd04-6353-40fe-8d29-6e026ba1a659"
   },
   "outputs": [
    {
     "data": {
      "text/html": [
       "<style>#sk-container-id-12 {color: black;background-color: white;}#sk-container-id-12 pre{padding: 0;}#sk-container-id-12 div.sk-toggleable {background-color: white;}#sk-container-id-12 label.sk-toggleable__label {cursor: pointer;display: block;width: 100%;margin-bottom: 0;padding: 0.3em;box-sizing: border-box;text-align: center;}#sk-container-id-12 label.sk-toggleable__label-arrow:before {content: \"▸\";float: left;margin-right: 0.25em;color: #696969;}#sk-container-id-12 label.sk-toggleable__label-arrow:hover:before {color: black;}#sk-container-id-12 div.sk-estimator:hover label.sk-toggleable__label-arrow:before {color: black;}#sk-container-id-12 div.sk-toggleable__content {max-height: 0;max-width: 0;overflow: hidden;text-align: left;background-color: #f0f8ff;}#sk-container-id-12 div.sk-toggleable__content pre {margin: 0.2em;color: black;border-radius: 0.25em;background-color: #f0f8ff;}#sk-container-id-12 input.sk-toggleable__control:checked~div.sk-toggleable__content {max-height: 200px;max-width: 100%;overflow: auto;}#sk-container-id-12 input.sk-toggleable__control:checked~label.sk-toggleable__label-arrow:before {content: \"▾\";}#sk-container-id-12 div.sk-estimator input.sk-toggleable__control:checked~label.sk-toggleable__label {background-color: #d4ebff;}#sk-container-id-12 div.sk-label input.sk-toggleable__control:checked~label.sk-toggleable__label {background-color: #d4ebff;}#sk-container-id-12 input.sk-hidden--visually {border: 0;clip: rect(1px 1px 1px 1px);clip: rect(1px, 1px, 1px, 1px);height: 1px;margin: -1px;overflow: hidden;padding: 0;position: absolute;width: 1px;}#sk-container-id-12 div.sk-estimator {font-family: monospace;background-color: #f0f8ff;border: 1px dotted black;border-radius: 0.25em;box-sizing: border-box;margin-bottom: 0.5em;}#sk-container-id-12 div.sk-estimator:hover {background-color: #d4ebff;}#sk-container-id-12 div.sk-parallel-item::after {content: \"\";width: 100%;border-bottom: 1px solid gray;flex-grow: 1;}#sk-container-id-12 div.sk-label:hover label.sk-toggleable__label {background-color: #d4ebff;}#sk-container-id-12 div.sk-serial::before {content: \"\";position: absolute;border-left: 1px solid gray;box-sizing: border-box;top: 0;bottom: 0;left: 50%;z-index: 0;}#sk-container-id-12 div.sk-serial {display: flex;flex-direction: column;align-items: center;background-color: white;padding-right: 0.2em;padding-left: 0.2em;position: relative;}#sk-container-id-12 div.sk-item {position: relative;z-index: 1;}#sk-container-id-12 div.sk-parallel {display: flex;align-items: stretch;justify-content: center;background-color: white;position: relative;}#sk-container-id-12 div.sk-item::before, #sk-container-id-12 div.sk-parallel-item::before {content: \"\";position: absolute;border-left: 1px solid gray;box-sizing: border-box;top: 0;bottom: 0;left: 50%;z-index: -1;}#sk-container-id-12 div.sk-parallel-item {display: flex;flex-direction: column;z-index: 1;position: relative;background-color: white;}#sk-container-id-12 div.sk-parallel-item:first-child::after {align-self: flex-end;width: 50%;}#sk-container-id-12 div.sk-parallel-item:last-child::after {align-self: flex-start;width: 50%;}#sk-container-id-12 div.sk-parallel-item:only-child::after {width: 0;}#sk-container-id-12 div.sk-dashed-wrapped {border: 1px dashed gray;margin: 0 0.4em 0.5em 0.4em;box-sizing: border-box;padding-bottom: 0.4em;background-color: white;}#sk-container-id-12 div.sk-label label {font-family: monospace;font-weight: bold;display: inline-block;line-height: 1.2em;}#sk-container-id-12 div.sk-label-container {text-align: center;}#sk-container-id-12 div.sk-container {/* jupyter's `normalize.less` sets `[hidden] { display: none; }` but bootstrap.min.css set `[hidden] { display: none !important; }` so we also need the `!important` here to be able to override the default hidden behavior on the sphinx rendered scikit-learn.org. See: https://github.com/scikit-learn/scikit-learn/issues/21755 */display: inline-block !important;position: relative;}#sk-container-id-12 div.sk-text-repr-fallback {display: none;}</style><div id=\"sk-container-id-12\" class=\"sk-top-container\"><div class=\"sk-text-repr-fallback\"><pre>Pipeline(steps=[(&#x27;vect&#x27;, TfidfVectorizer(ngram_range=(1, 2))),\n",
       "                (&#x27;model&#x27;,\n",
       "                 DecisionTreeClassifier(class_weight={0: 0.5565524855701368,\n",
       "                                                      1: 4.9206721858396145},\n",
       "                                        max_depth=30, random_state=1))])</pre><b>In a Jupyter environment, please rerun this cell to show the HTML representation or trust the notebook. <br />On GitHub, the HTML representation is unable to render, please try loading this page with nbviewer.org.</b></div><div class=\"sk-container\" hidden><div class=\"sk-item sk-dashed-wrapped\"><div class=\"sk-label-container\"><div class=\"sk-label sk-toggleable\"><input class=\"sk-toggleable__control sk-hidden--visually\" id=\"sk-estimator-id-40\" type=\"checkbox\" ><label for=\"sk-estimator-id-40\" class=\"sk-toggleable__label sk-toggleable__label-arrow\">Pipeline</label><div class=\"sk-toggleable__content\"><pre>Pipeline(steps=[(&#x27;vect&#x27;, TfidfVectorizer(ngram_range=(1, 2))),\n",
       "                (&#x27;model&#x27;,\n",
       "                 DecisionTreeClassifier(class_weight={0: 0.5565524855701368,\n",
       "                                                      1: 4.9206721858396145},\n",
       "                                        max_depth=30, random_state=1))])</pre></div></div></div><div class=\"sk-serial\"><div class=\"sk-item\"><div class=\"sk-estimator sk-toggleable\"><input class=\"sk-toggleable__control sk-hidden--visually\" id=\"sk-estimator-id-41\" type=\"checkbox\" ><label for=\"sk-estimator-id-41\" class=\"sk-toggleable__label sk-toggleable__label-arrow\">TfidfVectorizer</label><div class=\"sk-toggleable__content\"><pre>TfidfVectorizer(ngram_range=(1, 2))</pre></div></div></div><div class=\"sk-item\"><div class=\"sk-estimator sk-toggleable\"><input class=\"sk-toggleable__control sk-hidden--visually\" id=\"sk-estimator-id-42\" type=\"checkbox\" ><label for=\"sk-estimator-id-42\" class=\"sk-toggleable__label sk-toggleable__label-arrow\">DecisionTreeClassifier</label><div class=\"sk-toggleable__content\"><pre>DecisionTreeClassifier(class_weight={0: 0.5565524855701368,\n",
       "                                     1: 4.9206721858396145},\n",
       "                       max_depth=30, random_state=1)</pre></div></div></div></div></div></div></div>"
      ],
      "text/plain": [
       "Pipeline(steps=[('vect', TfidfVectorizer(ngram_range=(1, 2))),\n",
       "                ('model',\n",
       "                 DecisionTreeClassifier(class_weight={0: 0.5565524855701368,\n",
       "                                                      1: 4.9206721858396145},\n",
       "                                        max_depth=30, random_state=1))])"
      ]
     },
     "execution_count": 146,
     "metadata": {},
     "output_type": "execute_result"
    }
   ],
   "source": [
    "# сохраним лучшую модель в переменную\n",
    "best_model_tree_tfidf = random_model_tree_tfidf.best_estimator_\n",
    "best_model_tree_tfidf"
   ]
  },
  {
   "cell_type": "code",
   "execution_count": 147,
   "metadata": {
    "colab": {
     "base_uri": "https://localhost:8080/"
    },
    "id": "b2Vb5CgosbCS",
    "outputId": "c32953c6-3af1-4e13-a668-6c4784635ea4"
   },
   "outputs": [
    {
     "data": {
      "text/plain": [
       "{'model__max_depth': 30}"
      ]
     },
     "execution_count": 147,
     "metadata": {},
     "output_type": "execute_result"
    }
   ],
   "source": [
    "# выведем на экран гиперпараметры лучшей модели\n",
    "random_model_tree_tfidf.best_params_"
   ]
  },
  {
   "cell_type": "code",
   "execution_count": 148,
   "metadata": {
    "colab": {
     "base_uri": "https://localhost:8080/"
    },
    "id": "HWUHBGA0sbCT",
    "outputId": "a6549f8d-3a0b-456f-ac26-30be85bf3087"
   },
   "outputs": [
    {
     "name": "stdout",
     "output_type": "stream",
     "text": [
      "f1 модели DecisionTreeClassifier:\n",
      " 0.621\n"
     ]
    }
   ],
   "source": [
    "# получим значение метрики f1\n",
    "f1_tree_tfidf = round(abs(random_model_tree_tfidf.best_score_), 3)\n",
    "print('f1 модели DecisionTreeClassifier:\\n', \\\n",
    "      f1_tree_tfidf)"
   ]
  },
  {
   "cell_type": "markdown",
   "metadata": {
    "id": "NWhe7qFQbZtu"
   },
   "source": [
    "### **Обучение модели LinearSVC на признаках, подготовленных с помощью CountVectorizer()**\n",
    "\n",
    "---"
   ]
  },
  {
   "cell_type": "code",
   "execution_count": 149,
   "metadata": {
    "id": "TLOwKxk-C832"
   },
   "outputs": [],
   "source": [
    "# объявляем объект конвейера\n",
    "pipe_svc_bow = Pipeline([\n",
    "    ('vect', CountVectorizer(ngram_range=(1, 2))),\n",
    "    ('model', LinearSVC(\n",
    "    random_state = 1,\n",
    "    class_weight = weights))\n",
    "])"
   ]
  },
  {
   "cell_type": "code",
   "execution_count": 150,
   "metadata": {
    "id": "YXlhPMYIbZtx"
   },
   "outputs": [],
   "source": [
    "# создаем словарь с гиперпараметрами\n",
    "params_svc_bow =  {'model__C': [0.01, 0.1, 1]\n",
    "                  }"
   ]
  },
  {
   "cell_type": "code",
   "execution_count": 151,
   "metadata": {
    "id": "g9dGRfqFbZty"
   },
   "outputs": [],
   "source": [
    "# создаем объект RandomizedSearchCV\n",
    "random_model_svс_bow = RandomizedSearchCV(\n",
    "    pipe_svc_bow,\n",
    "    params_svc_bow,\n",
    "    scoring = 'f1',\n",
    "    refit = True,\n",
    "    cv = cv,\n",
    "    random_state = 1\n",
    "    )"
   ]
  },
  {
   "cell_type": "code",
   "execution_count": 152,
   "metadata": {
    "colab": {
     "base_uri": "https://localhost:8080/"
    },
    "id": "MDO84hqqbZty",
    "outputId": "05b29fdb-3a6c-4b93-c404-4dd36f835f66"
   },
   "outputs": [
    {
     "name": "stdout",
     "output_type": "stream",
     "text": [
      "CPU times: total: 7min 6s\n",
      "Wall time: 7min 7s\n"
     ]
    },
    {
     "data": {
      "text/html": [
       "<style>#sk-container-id-13 {color: black;background-color: white;}#sk-container-id-13 pre{padding: 0;}#sk-container-id-13 div.sk-toggleable {background-color: white;}#sk-container-id-13 label.sk-toggleable__label {cursor: pointer;display: block;width: 100%;margin-bottom: 0;padding: 0.3em;box-sizing: border-box;text-align: center;}#sk-container-id-13 label.sk-toggleable__label-arrow:before {content: \"▸\";float: left;margin-right: 0.25em;color: #696969;}#sk-container-id-13 label.sk-toggleable__label-arrow:hover:before {color: black;}#sk-container-id-13 div.sk-estimator:hover label.sk-toggleable__label-arrow:before {color: black;}#sk-container-id-13 div.sk-toggleable__content {max-height: 0;max-width: 0;overflow: hidden;text-align: left;background-color: #f0f8ff;}#sk-container-id-13 div.sk-toggleable__content pre {margin: 0.2em;color: black;border-radius: 0.25em;background-color: #f0f8ff;}#sk-container-id-13 input.sk-toggleable__control:checked~div.sk-toggleable__content {max-height: 200px;max-width: 100%;overflow: auto;}#sk-container-id-13 input.sk-toggleable__control:checked~label.sk-toggleable__label-arrow:before {content: \"▾\";}#sk-container-id-13 div.sk-estimator input.sk-toggleable__control:checked~label.sk-toggleable__label {background-color: #d4ebff;}#sk-container-id-13 div.sk-label input.sk-toggleable__control:checked~label.sk-toggleable__label {background-color: #d4ebff;}#sk-container-id-13 input.sk-hidden--visually {border: 0;clip: rect(1px 1px 1px 1px);clip: rect(1px, 1px, 1px, 1px);height: 1px;margin: -1px;overflow: hidden;padding: 0;position: absolute;width: 1px;}#sk-container-id-13 div.sk-estimator {font-family: monospace;background-color: #f0f8ff;border: 1px dotted black;border-radius: 0.25em;box-sizing: border-box;margin-bottom: 0.5em;}#sk-container-id-13 div.sk-estimator:hover {background-color: #d4ebff;}#sk-container-id-13 div.sk-parallel-item::after {content: \"\";width: 100%;border-bottom: 1px solid gray;flex-grow: 1;}#sk-container-id-13 div.sk-label:hover label.sk-toggleable__label {background-color: #d4ebff;}#sk-container-id-13 div.sk-serial::before {content: \"\";position: absolute;border-left: 1px solid gray;box-sizing: border-box;top: 0;bottom: 0;left: 50%;z-index: 0;}#sk-container-id-13 div.sk-serial {display: flex;flex-direction: column;align-items: center;background-color: white;padding-right: 0.2em;padding-left: 0.2em;position: relative;}#sk-container-id-13 div.sk-item {position: relative;z-index: 1;}#sk-container-id-13 div.sk-parallel {display: flex;align-items: stretch;justify-content: center;background-color: white;position: relative;}#sk-container-id-13 div.sk-item::before, #sk-container-id-13 div.sk-parallel-item::before {content: \"\";position: absolute;border-left: 1px solid gray;box-sizing: border-box;top: 0;bottom: 0;left: 50%;z-index: -1;}#sk-container-id-13 div.sk-parallel-item {display: flex;flex-direction: column;z-index: 1;position: relative;background-color: white;}#sk-container-id-13 div.sk-parallel-item:first-child::after {align-self: flex-end;width: 50%;}#sk-container-id-13 div.sk-parallel-item:last-child::after {align-self: flex-start;width: 50%;}#sk-container-id-13 div.sk-parallel-item:only-child::after {width: 0;}#sk-container-id-13 div.sk-dashed-wrapped {border: 1px dashed gray;margin: 0 0.4em 0.5em 0.4em;box-sizing: border-box;padding-bottom: 0.4em;background-color: white;}#sk-container-id-13 div.sk-label label {font-family: monospace;font-weight: bold;display: inline-block;line-height: 1.2em;}#sk-container-id-13 div.sk-label-container {text-align: center;}#sk-container-id-13 div.sk-container {/* jupyter's `normalize.less` sets `[hidden] { display: none; }` but bootstrap.min.css set `[hidden] { display: none !important; }` so we also need the `!important` here to be able to override the default hidden behavior on the sphinx rendered scikit-learn.org. See: https://github.com/scikit-learn/scikit-learn/issues/21755 */display: inline-block !important;position: relative;}#sk-container-id-13 div.sk-text-repr-fallback {display: none;}</style><div id=\"sk-container-id-13\" class=\"sk-top-container\"><div class=\"sk-text-repr-fallback\"><pre>RandomizedSearchCV(cv=KFold(n_splits=5, random_state=1, shuffle=True),\n",
       "                   estimator=Pipeline(steps=[(&#x27;vect&#x27;,\n",
       "                                              CountVectorizer(ngram_range=(1,\n",
       "                                                                           2))),\n",
       "                                             (&#x27;model&#x27;,\n",
       "                                              LinearSVC(class_weight={0: 0.5565524855701368,\n",
       "                                                                      1: 4.9206721858396145},\n",
       "                                                        random_state=1))]),\n",
       "                   param_distributions={&#x27;model__C&#x27;: [0.01, 0.1, 1]},\n",
       "                   random_state=1, scoring=&#x27;f1&#x27;)</pre><b>In a Jupyter environment, please rerun this cell to show the HTML representation or trust the notebook. <br />On GitHub, the HTML representation is unable to render, please try loading this page with nbviewer.org.</b></div><div class=\"sk-container\" hidden><div class=\"sk-item sk-dashed-wrapped\"><div class=\"sk-label-container\"><div class=\"sk-label sk-toggleable\"><input class=\"sk-toggleable__control sk-hidden--visually\" id=\"sk-estimator-id-43\" type=\"checkbox\" ><label for=\"sk-estimator-id-43\" class=\"sk-toggleable__label sk-toggleable__label-arrow\">RandomizedSearchCV</label><div class=\"sk-toggleable__content\"><pre>RandomizedSearchCV(cv=KFold(n_splits=5, random_state=1, shuffle=True),\n",
       "                   estimator=Pipeline(steps=[(&#x27;vect&#x27;,\n",
       "                                              CountVectorizer(ngram_range=(1,\n",
       "                                                                           2))),\n",
       "                                             (&#x27;model&#x27;,\n",
       "                                              LinearSVC(class_weight={0: 0.5565524855701368,\n",
       "                                                                      1: 4.9206721858396145},\n",
       "                                                        random_state=1))]),\n",
       "                   param_distributions={&#x27;model__C&#x27;: [0.01, 0.1, 1]},\n",
       "                   random_state=1, scoring=&#x27;f1&#x27;)</pre></div></div></div><div class=\"sk-parallel\"><div class=\"sk-parallel-item\"><div class=\"sk-item\"><div class=\"sk-label-container\"><div class=\"sk-label sk-toggleable\"><input class=\"sk-toggleable__control sk-hidden--visually\" id=\"sk-estimator-id-44\" type=\"checkbox\" ><label for=\"sk-estimator-id-44\" class=\"sk-toggleable__label sk-toggleable__label-arrow\">estimator: Pipeline</label><div class=\"sk-toggleable__content\"><pre>Pipeline(steps=[(&#x27;vect&#x27;, CountVectorizer(ngram_range=(1, 2))),\n",
       "                (&#x27;model&#x27;,\n",
       "                 LinearSVC(class_weight={0: 0.5565524855701368,\n",
       "                                         1: 4.9206721858396145},\n",
       "                           random_state=1))])</pre></div></div></div><div class=\"sk-serial\"><div class=\"sk-item\"><div class=\"sk-serial\"><div class=\"sk-item\"><div class=\"sk-estimator sk-toggleable\"><input class=\"sk-toggleable__control sk-hidden--visually\" id=\"sk-estimator-id-45\" type=\"checkbox\" ><label for=\"sk-estimator-id-45\" class=\"sk-toggleable__label sk-toggleable__label-arrow\">CountVectorizer</label><div class=\"sk-toggleable__content\"><pre>CountVectorizer(ngram_range=(1, 2))</pre></div></div></div><div class=\"sk-item\"><div class=\"sk-estimator sk-toggleable\"><input class=\"sk-toggleable__control sk-hidden--visually\" id=\"sk-estimator-id-46\" type=\"checkbox\" ><label for=\"sk-estimator-id-46\" class=\"sk-toggleable__label sk-toggleable__label-arrow\">LinearSVC</label><div class=\"sk-toggleable__content\"><pre>LinearSVC(class_weight={0: 0.5565524855701368, 1: 4.9206721858396145},\n",
       "          random_state=1)</pre></div></div></div></div></div></div></div></div></div></div></div></div>"
      ],
      "text/plain": [
       "RandomizedSearchCV(cv=KFold(n_splits=5, random_state=1, shuffle=True),\n",
       "                   estimator=Pipeline(steps=[('vect',\n",
       "                                              CountVectorizer(ngram_range=(1,\n",
       "                                                                           2))),\n",
       "                                             ('model',\n",
       "                                              LinearSVC(class_weight={0: 0.5565524855701368,\n",
       "                                                                      1: 4.9206721858396145},\n",
       "                                                        random_state=1))]),\n",
       "                   param_distributions={'model__C': [0.01, 0.1, 1]},\n",
       "                   random_state=1, scoring='f1')"
      ]
     },
     "execution_count": 152,
     "metadata": {},
     "output_type": "execute_result"
    }
   ],
   "source": [
    "%%time\n",
    "# обучаем RandomizedSearchCV-модель с помощью функции fit()\n",
    "random_model_svс_bow.fit(feature_train, target_train)"
   ]
  },
  {
   "cell_type": "code",
   "execution_count": 153,
   "metadata": {
    "colab": {
     "base_uri": "https://localhost:8080/"
    },
    "id": "qxKUbWQrbZtz",
    "outputId": "9ef20480-9318-4e3a-c49c-568433706b33"
   },
   "outputs": [
    {
     "data": {
      "text/html": [
       "<style>#sk-container-id-14 {color: black;background-color: white;}#sk-container-id-14 pre{padding: 0;}#sk-container-id-14 div.sk-toggleable {background-color: white;}#sk-container-id-14 label.sk-toggleable__label {cursor: pointer;display: block;width: 100%;margin-bottom: 0;padding: 0.3em;box-sizing: border-box;text-align: center;}#sk-container-id-14 label.sk-toggleable__label-arrow:before {content: \"▸\";float: left;margin-right: 0.25em;color: #696969;}#sk-container-id-14 label.sk-toggleable__label-arrow:hover:before {color: black;}#sk-container-id-14 div.sk-estimator:hover label.sk-toggleable__label-arrow:before {color: black;}#sk-container-id-14 div.sk-toggleable__content {max-height: 0;max-width: 0;overflow: hidden;text-align: left;background-color: #f0f8ff;}#sk-container-id-14 div.sk-toggleable__content pre {margin: 0.2em;color: black;border-radius: 0.25em;background-color: #f0f8ff;}#sk-container-id-14 input.sk-toggleable__control:checked~div.sk-toggleable__content {max-height: 200px;max-width: 100%;overflow: auto;}#sk-container-id-14 input.sk-toggleable__control:checked~label.sk-toggleable__label-arrow:before {content: \"▾\";}#sk-container-id-14 div.sk-estimator input.sk-toggleable__control:checked~label.sk-toggleable__label {background-color: #d4ebff;}#sk-container-id-14 div.sk-label input.sk-toggleable__control:checked~label.sk-toggleable__label {background-color: #d4ebff;}#sk-container-id-14 input.sk-hidden--visually {border: 0;clip: rect(1px 1px 1px 1px);clip: rect(1px, 1px, 1px, 1px);height: 1px;margin: -1px;overflow: hidden;padding: 0;position: absolute;width: 1px;}#sk-container-id-14 div.sk-estimator {font-family: monospace;background-color: #f0f8ff;border: 1px dotted black;border-radius: 0.25em;box-sizing: border-box;margin-bottom: 0.5em;}#sk-container-id-14 div.sk-estimator:hover {background-color: #d4ebff;}#sk-container-id-14 div.sk-parallel-item::after {content: \"\";width: 100%;border-bottom: 1px solid gray;flex-grow: 1;}#sk-container-id-14 div.sk-label:hover label.sk-toggleable__label {background-color: #d4ebff;}#sk-container-id-14 div.sk-serial::before {content: \"\";position: absolute;border-left: 1px solid gray;box-sizing: border-box;top: 0;bottom: 0;left: 50%;z-index: 0;}#sk-container-id-14 div.sk-serial {display: flex;flex-direction: column;align-items: center;background-color: white;padding-right: 0.2em;padding-left: 0.2em;position: relative;}#sk-container-id-14 div.sk-item {position: relative;z-index: 1;}#sk-container-id-14 div.sk-parallel {display: flex;align-items: stretch;justify-content: center;background-color: white;position: relative;}#sk-container-id-14 div.sk-item::before, #sk-container-id-14 div.sk-parallel-item::before {content: \"\";position: absolute;border-left: 1px solid gray;box-sizing: border-box;top: 0;bottom: 0;left: 50%;z-index: -1;}#sk-container-id-14 div.sk-parallel-item {display: flex;flex-direction: column;z-index: 1;position: relative;background-color: white;}#sk-container-id-14 div.sk-parallel-item:first-child::after {align-self: flex-end;width: 50%;}#sk-container-id-14 div.sk-parallel-item:last-child::after {align-self: flex-start;width: 50%;}#sk-container-id-14 div.sk-parallel-item:only-child::after {width: 0;}#sk-container-id-14 div.sk-dashed-wrapped {border: 1px dashed gray;margin: 0 0.4em 0.5em 0.4em;box-sizing: border-box;padding-bottom: 0.4em;background-color: white;}#sk-container-id-14 div.sk-label label {font-family: monospace;font-weight: bold;display: inline-block;line-height: 1.2em;}#sk-container-id-14 div.sk-label-container {text-align: center;}#sk-container-id-14 div.sk-container {/* jupyter's `normalize.less` sets `[hidden] { display: none; }` but bootstrap.min.css set `[hidden] { display: none !important; }` so we also need the `!important` here to be able to override the default hidden behavior on the sphinx rendered scikit-learn.org. See: https://github.com/scikit-learn/scikit-learn/issues/21755 */display: inline-block !important;position: relative;}#sk-container-id-14 div.sk-text-repr-fallback {display: none;}</style><div id=\"sk-container-id-14\" class=\"sk-top-container\"><div class=\"sk-text-repr-fallback\"><pre>Pipeline(steps=[(&#x27;vect&#x27;, CountVectorizer(ngram_range=(1, 2))),\n",
       "                (&#x27;model&#x27;,\n",
       "                 LinearSVC(C=0.1,\n",
       "                           class_weight={0: 0.5565524855701368,\n",
       "                                         1: 4.9206721858396145},\n",
       "                           random_state=1))])</pre><b>In a Jupyter environment, please rerun this cell to show the HTML representation or trust the notebook. <br />On GitHub, the HTML representation is unable to render, please try loading this page with nbviewer.org.</b></div><div class=\"sk-container\" hidden><div class=\"sk-item sk-dashed-wrapped\"><div class=\"sk-label-container\"><div class=\"sk-label sk-toggleable\"><input class=\"sk-toggleable__control sk-hidden--visually\" id=\"sk-estimator-id-47\" type=\"checkbox\" ><label for=\"sk-estimator-id-47\" class=\"sk-toggleable__label sk-toggleable__label-arrow\">Pipeline</label><div class=\"sk-toggleable__content\"><pre>Pipeline(steps=[(&#x27;vect&#x27;, CountVectorizer(ngram_range=(1, 2))),\n",
       "                (&#x27;model&#x27;,\n",
       "                 LinearSVC(C=0.1,\n",
       "                           class_weight={0: 0.5565524855701368,\n",
       "                                         1: 4.9206721858396145},\n",
       "                           random_state=1))])</pre></div></div></div><div class=\"sk-serial\"><div class=\"sk-item\"><div class=\"sk-estimator sk-toggleable\"><input class=\"sk-toggleable__control sk-hidden--visually\" id=\"sk-estimator-id-48\" type=\"checkbox\" ><label for=\"sk-estimator-id-48\" class=\"sk-toggleable__label sk-toggleable__label-arrow\">CountVectorizer</label><div class=\"sk-toggleable__content\"><pre>CountVectorizer(ngram_range=(1, 2))</pre></div></div></div><div class=\"sk-item\"><div class=\"sk-estimator sk-toggleable\"><input class=\"sk-toggleable__control sk-hidden--visually\" id=\"sk-estimator-id-49\" type=\"checkbox\" ><label for=\"sk-estimator-id-49\" class=\"sk-toggleable__label sk-toggleable__label-arrow\">LinearSVC</label><div class=\"sk-toggleable__content\"><pre>LinearSVC(C=0.1, class_weight={0: 0.5565524855701368, 1: 4.9206721858396145},\n",
       "          random_state=1)</pre></div></div></div></div></div></div></div>"
      ],
      "text/plain": [
       "Pipeline(steps=[('vect', CountVectorizer(ngram_range=(1, 2))),\n",
       "                ('model',\n",
       "                 LinearSVC(C=0.1,\n",
       "                           class_weight={0: 0.5565524855701368,\n",
       "                                         1: 4.9206721858396145},\n",
       "                           random_state=1))])"
      ]
     },
     "execution_count": 153,
     "metadata": {},
     "output_type": "execute_result"
    }
   ],
   "source": [
    "# сохраним лучшую модель в переменную\n",
    "best_model_svc_bow = random_model_svс_bow.best_estimator_\n",
    "best_model_svc_bow"
   ]
  },
  {
   "cell_type": "code",
   "execution_count": 154,
   "metadata": {
    "colab": {
     "base_uri": "https://localhost:8080/"
    },
    "id": "2pUKihAObZt0",
    "outputId": "c62b6a36-234f-4be5-8eee-22521eb28fbf"
   },
   "outputs": [
    {
     "data": {
      "text/plain": [
       "{'model__C': 0.1}"
      ]
     },
     "execution_count": 154,
     "metadata": {},
     "output_type": "execute_result"
    }
   ],
   "source": [
    "# выведем на экран гиперпараметры лучшей модели\n",
    "random_model_svс_bow.best_params_"
   ]
  },
  {
   "cell_type": "code",
   "execution_count": 155,
   "metadata": {
    "colab": {
     "base_uri": "https://localhost:8080/"
    },
    "id": "eYo_ZhBEbZt1",
    "outputId": "a02aba74-f92c-4e0e-b03a-16fb250edf3f"
   },
   "outputs": [
    {
     "name": "stdout",
     "output_type": "stream",
     "text": [
      "f1 модели LinearSVC:\n",
      " 0.787\n"
     ]
    }
   ],
   "source": [
    "# получим значение метрики f1\n",
    "f1_svc_bow = round(abs(random_model_svс_bow.best_score_), 3)\n",
    "print('f1 модели LinearSVC:\\n', \\\n",
    "      f1_svc_bow)"
   ]
  },
  {
   "cell_type": "markdown",
   "metadata": {
    "id": "-_ARNA2cjSSv"
   },
   "source": [
    "### **Обучение модели LinearSVC на признаках, подготовленных с помощью TfidfVectorizer()**\n",
    "\n",
    "---"
   ]
  },
  {
   "cell_type": "code",
   "execution_count": 156,
   "metadata": {
    "id": "eDjTJJGWC834"
   },
   "outputs": [],
   "source": [
    "# объявляем объект конвейера\n",
    "pipe_svc_tfidf = Pipeline([\n",
    "    ('vect', TfidfVectorizer(ngram_range=(1, 2))),\n",
    "    ('model', LinearSVC(\n",
    "    random_state = 1,\n",
    "    class_weight = weights))\n",
    "])"
   ]
  },
  {
   "cell_type": "code",
   "execution_count": 157,
   "metadata": {
    "id": "ZMXuC2RxjSSy"
   },
   "outputs": [],
   "source": [
    "# создаем словарь с гиперпараметрами\n",
    "params_svc_tfidf =  {'model__C': [0.01, 0.1, 1]\n",
    "                  }"
   ]
  },
  {
   "cell_type": "code",
   "execution_count": 158,
   "metadata": {
    "id": "6xFmA8Y3jSSy"
   },
   "outputs": [],
   "source": [
    "# создаем объект RandomizedSearchCV\n",
    "random_model_svс_tfidf = RandomizedSearchCV(\n",
    "    pipe_svc_tfidf,\n",
    "    params_svc_tfidf,\n",
    "    scoring = 'f1',\n",
    "    refit = True,\n",
    "    cv = cv,\n",
    "    random_state = 1\n",
    "    )"
   ]
  },
  {
   "cell_type": "code",
   "execution_count": 159,
   "metadata": {
    "colab": {
     "base_uri": "https://localhost:8080/"
    },
    "id": "o7JrYsCIjSSz",
    "outputId": "8de1af08-d1ac-4c1b-ddff-3010b2849cbb"
   },
   "outputs": [
    {
     "name": "stdout",
     "output_type": "stream",
     "text": [
      "CPU times: total: 4min 57s\n",
      "Wall time: 4min 57s\n"
     ]
    },
    {
     "data": {
      "text/html": [
       "<style>#sk-container-id-15 {color: black;background-color: white;}#sk-container-id-15 pre{padding: 0;}#sk-container-id-15 div.sk-toggleable {background-color: white;}#sk-container-id-15 label.sk-toggleable__label {cursor: pointer;display: block;width: 100%;margin-bottom: 0;padding: 0.3em;box-sizing: border-box;text-align: center;}#sk-container-id-15 label.sk-toggleable__label-arrow:before {content: \"▸\";float: left;margin-right: 0.25em;color: #696969;}#sk-container-id-15 label.sk-toggleable__label-arrow:hover:before {color: black;}#sk-container-id-15 div.sk-estimator:hover label.sk-toggleable__label-arrow:before {color: black;}#sk-container-id-15 div.sk-toggleable__content {max-height: 0;max-width: 0;overflow: hidden;text-align: left;background-color: #f0f8ff;}#sk-container-id-15 div.sk-toggleable__content pre {margin: 0.2em;color: black;border-radius: 0.25em;background-color: #f0f8ff;}#sk-container-id-15 input.sk-toggleable__control:checked~div.sk-toggleable__content {max-height: 200px;max-width: 100%;overflow: auto;}#sk-container-id-15 input.sk-toggleable__control:checked~label.sk-toggleable__label-arrow:before {content: \"▾\";}#sk-container-id-15 div.sk-estimator input.sk-toggleable__control:checked~label.sk-toggleable__label {background-color: #d4ebff;}#sk-container-id-15 div.sk-label input.sk-toggleable__control:checked~label.sk-toggleable__label {background-color: #d4ebff;}#sk-container-id-15 input.sk-hidden--visually {border: 0;clip: rect(1px 1px 1px 1px);clip: rect(1px, 1px, 1px, 1px);height: 1px;margin: -1px;overflow: hidden;padding: 0;position: absolute;width: 1px;}#sk-container-id-15 div.sk-estimator {font-family: monospace;background-color: #f0f8ff;border: 1px dotted black;border-radius: 0.25em;box-sizing: border-box;margin-bottom: 0.5em;}#sk-container-id-15 div.sk-estimator:hover {background-color: #d4ebff;}#sk-container-id-15 div.sk-parallel-item::after {content: \"\";width: 100%;border-bottom: 1px solid gray;flex-grow: 1;}#sk-container-id-15 div.sk-label:hover label.sk-toggleable__label {background-color: #d4ebff;}#sk-container-id-15 div.sk-serial::before {content: \"\";position: absolute;border-left: 1px solid gray;box-sizing: border-box;top: 0;bottom: 0;left: 50%;z-index: 0;}#sk-container-id-15 div.sk-serial {display: flex;flex-direction: column;align-items: center;background-color: white;padding-right: 0.2em;padding-left: 0.2em;position: relative;}#sk-container-id-15 div.sk-item {position: relative;z-index: 1;}#sk-container-id-15 div.sk-parallel {display: flex;align-items: stretch;justify-content: center;background-color: white;position: relative;}#sk-container-id-15 div.sk-item::before, #sk-container-id-15 div.sk-parallel-item::before {content: \"\";position: absolute;border-left: 1px solid gray;box-sizing: border-box;top: 0;bottom: 0;left: 50%;z-index: -1;}#sk-container-id-15 div.sk-parallel-item {display: flex;flex-direction: column;z-index: 1;position: relative;background-color: white;}#sk-container-id-15 div.sk-parallel-item:first-child::after {align-self: flex-end;width: 50%;}#sk-container-id-15 div.sk-parallel-item:last-child::after {align-self: flex-start;width: 50%;}#sk-container-id-15 div.sk-parallel-item:only-child::after {width: 0;}#sk-container-id-15 div.sk-dashed-wrapped {border: 1px dashed gray;margin: 0 0.4em 0.5em 0.4em;box-sizing: border-box;padding-bottom: 0.4em;background-color: white;}#sk-container-id-15 div.sk-label label {font-family: monospace;font-weight: bold;display: inline-block;line-height: 1.2em;}#sk-container-id-15 div.sk-label-container {text-align: center;}#sk-container-id-15 div.sk-container {/* jupyter's `normalize.less` sets `[hidden] { display: none; }` but bootstrap.min.css set `[hidden] { display: none !important; }` so we also need the `!important` here to be able to override the default hidden behavior on the sphinx rendered scikit-learn.org. See: https://github.com/scikit-learn/scikit-learn/issues/21755 */display: inline-block !important;position: relative;}#sk-container-id-15 div.sk-text-repr-fallback {display: none;}</style><div id=\"sk-container-id-15\" class=\"sk-top-container\"><div class=\"sk-text-repr-fallback\"><pre>RandomizedSearchCV(cv=KFold(n_splits=5, random_state=1, shuffle=True),\n",
       "                   estimator=Pipeline(steps=[(&#x27;vect&#x27;,\n",
       "                                              TfidfVectorizer(ngram_range=(1,\n",
       "                                                                           2))),\n",
       "                                             (&#x27;model&#x27;,\n",
       "                                              LinearSVC(class_weight={0: 0.5565524855701368,\n",
       "                                                                      1: 4.9206721858396145},\n",
       "                                                        random_state=1))]),\n",
       "                   param_distributions={&#x27;model__C&#x27;: [0.01, 0.1, 1]},\n",
       "                   random_state=1, scoring=&#x27;f1&#x27;)</pre><b>In a Jupyter environment, please rerun this cell to show the HTML representation or trust the notebook. <br />On GitHub, the HTML representation is unable to render, please try loading this page with nbviewer.org.</b></div><div class=\"sk-container\" hidden><div class=\"sk-item sk-dashed-wrapped\"><div class=\"sk-label-container\"><div class=\"sk-label sk-toggleable\"><input class=\"sk-toggleable__control sk-hidden--visually\" id=\"sk-estimator-id-50\" type=\"checkbox\" ><label for=\"sk-estimator-id-50\" class=\"sk-toggleable__label sk-toggleable__label-arrow\">RandomizedSearchCV</label><div class=\"sk-toggleable__content\"><pre>RandomizedSearchCV(cv=KFold(n_splits=5, random_state=1, shuffle=True),\n",
       "                   estimator=Pipeline(steps=[(&#x27;vect&#x27;,\n",
       "                                              TfidfVectorizer(ngram_range=(1,\n",
       "                                                                           2))),\n",
       "                                             (&#x27;model&#x27;,\n",
       "                                              LinearSVC(class_weight={0: 0.5565524855701368,\n",
       "                                                                      1: 4.9206721858396145},\n",
       "                                                        random_state=1))]),\n",
       "                   param_distributions={&#x27;model__C&#x27;: [0.01, 0.1, 1]},\n",
       "                   random_state=1, scoring=&#x27;f1&#x27;)</pre></div></div></div><div class=\"sk-parallel\"><div class=\"sk-parallel-item\"><div class=\"sk-item\"><div class=\"sk-label-container\"><div class=\"sk-label sk-toggleable\"><input class=\"sk-toggleable__control sk-hidden--visually\" id=\"sk-estimator-id-51\" type=\"checkbox\" ><label for=\"sk-estimator-id-51\" class=\"sk-toggleable__label sk-toggleable__label-arrow\">estimator: Pipeline</label><div class=\"sk-toggleable__content\"><pre>Pipeline(steps=[(&#x27;vect&#x27;, TfidfVectorizer(ngram_range=(1, 2))),\n",
       "                (&#x27;model&#x27;,\n",
       "                 LinearSVC(class_weight={0: 0.5565524855701368,\n",
       "                                         1: 4.9206721858396145},\n",
       "                           random_state=1))])</pre></div></div></div><div class=\"sk-serial\"><div class=\"sk-item\"><div class=\"sk-serial\"><div class=\"sk-item\"><div class=\"sk-estimator sk-toggleable\"><input class=\"sk-toggleable__control sk-hidden--visually\" id=\"sk-estimator-id-52\" type=\"checkbox\" ><label for=\"sk-estimator-id-52\" class=\"sk-toggleable__label sk-toggleable__label-arrow\">TfidfVectorizer</label><div class=\"sk-toggleable__content\"><pre>TfidfVectorizer(ngram_range=(1, 2))</pre></div></div></div><div class=\"sk-item\"><div class=\"sk-estimator sk-toggleable\"><input class=\"sk-toggleable__control sk-hidden--visually\" id=\"sk-estimator-id-53\" type=\"checkbox\" ><label for=\"sk-estimator-id-53\" class=\"sk-toggleable__label sk-toggleable__label-arrow\">LinearSVC</label><div class=\"sk-toggleable__content\"><pre>LinearSVC(class_weight={0: 0.5565524855701368, 1: 4.9206721858396145},\n",
       "          random_state=1)</pre></div></div></div></div></div></div></div></div></div></div></div></div>"
      ],
      "text/plain": [
       "RandomizedSearchCV(cv=KFold(n_splits=5, random_state=1, shuffle=True),\n",
       "                   estimator=Pipeline(steps=[('vect',\n",
       "                                              TfidfVectorizer(ngram_range=(1,\n",
       "                                                                           2))),\n",
       "                                             ('model',\n",
       "                                              LinearSVC(class_weight={0: 0.5565524855701368,\n",
       "                                                                      1: 4.9206721858396145},\n",
       "                                                        random_state=1))]),\n",
       "                   param_distributions={'model__C': [0.01, 0.1, 1]},\n",
       "                   random_state=1, scoring='f1')"
      ]
     },
     "execution_count": 159,
     "metadata": {},
     "output_type": "execute_result"
    }
   ],
   "source": [
    "%%time\n",
    "# обучаем RandomizedSearchCV-модель с помощью функции fit()\n",
    "random_model_svс_tfidf.fit(feature_train, target_train)"
   ]
  },
  {
   "cell_type": "code",
   "execution_count": 160,
   "metadata": {
    "colab": {
     "base_uri": "https://localhost:8080/"
    },
    "id": "jEYIgHJCjSS0",
    "outputId": "67c97e58-4bcb-4c9a-8ce4-37fe1d0a9044"
   },
   "outputs": [
    {
     "data": {
      "text/html": [
       "<style>#sk-container-id-16 {color: black;background-color: white;}#sk-container-id-16 pre{padding: 0;}#sk-container-id-16 div.sk-toggleable {background-color: white;}#sk-container-id-16 label.sk-toggleable__label {cursor: pointer;display: block;width: 100%;margin-bottom: 0;padding: 0.3em;box-sizing: border-box;text-align: center;}#sk-container-id-16 label.sk-toggleable__label-arrow:before {content: \"▸\";float: left;margin-right: 0.25em;color: #696969;}#sk-container-id-16 label.sk-toggleable__label-arrow:hover:before {color: black;}#sk-container-id-16 div.sk-estimator:hover label.sk-toggleable__label-arrow:before {color: black;}#sk-container-id-16 div.sk-toggleable__content {max-height: 0;max-width: 0;overflow: hidden;text-align: left;background-color: #f0f8ff;}#sk-container-id-16 div.sk-toggleable__content pre {margin: 0.2em;color: black;border-radius: 0.25em;background-color: #f0f8ff;}#sk-container-id-16 input.sk-toggleable__control:checked~div.sk-toggleable__content {max-height: 200px;max-width: 100%;overflow: auto;}#sk-container-id-16 input.sk-toggleable__control:checked~label.sk-toggleable__label-arrow:before {content: \"▾\";}#sk-container-id-16 div.sk-estimator input.sk-toggleable__control:checked~label.sk-toggleable__label {background-color: #d4ebff;}#sk-container-id-16 div.sk-label input.sk-toggleable__control:checked~label.sk-toggleable__label {background-color: #d4ebff;}#sk-container-id-16 input.sk-hidden--visually {border: 0;clip: rect(1px 1px 1px 1px);clip: rect(1px, 1px, 1px, 1px);height: 1px;margin: -1px;overflow: hidden;padding: 0;position: absolute;width: 1px;}#sk-container-id-16 div.sk-estimator {font-family: monospace;background-color: #f0f8ff;border: 1px dotted black;border-radius: 0.25em;box-sizing: border-box;margin-bottom: 0.5em;}#sk-container-id-16 div.sk-estimator:hover {background-color: #d4ebff;}#sk-container-id-16 div.sk-parallel-item::after {content: \"\";width: 100%;border-bottom: 1px solid gray;flex-grow: 1;}#sk-container-id-16 div.sk-label:hover label.sk-toggleable__label {background-color: #d4ebff;}#sk-container-id-16 div.sk-serial::before {content: \"\";position: absolute;border-left: 1px solid gray;box-sizing: border-box;top: 0;bottom: 0;left: 50%;z-index: 0;}#sk-container-id-16 div.sk-serial {display: flex;flex-direction: column;align-items: center;background-color: white;padding-right: 0.2em;padding-left: 0.2em;position: relative;}#sk-container-id-16 div.sk-item {position: relative;z-index: 1;}#sk-container-id-16 div.sk-parallel {display: flex;align-items: stretch;justify-content: center;background-color: white;position: relative;}#sk-container-id-16 div.sk-item::before, #sk-container-id-16 div.sk-parallel-item::before {content: \"\";position: absolute;border-left: 1px solid gray;box-sizing: border-box;top: 0;bottom: 0;left: 50%;z-index: -1;}#sk-container-id-16 div.sk-parallel-item {display: flex;flex-direction: column;z-index: 1;position: relative;background-color: white;}#sk-container-id-16 div.sk-parallel-item:first-child::after {align-self: flex-end;width: 50%;}#sk-container-id-16 div.sk-parallel-item:last-child::after {align-self: flex-start;width: 50%;}#sk-container-id-16 div.sk-parallel-item:only-child::after {width: 0;}#sk-container-id-16 div.sk-dashed-wrapped {border: 1px dashed gray;margin: 0 0.4em 0.5em 0.4em;box-sizing: border-box;padding-bottom: 0.4em;background-color: white;}#sk-container-id-16 div.sk-label label {font-family: monospace;font-weight: bold;display: inline-block;line-height: 1.2em;}#sk-container-id-16 div.sk-label-container {text-align: center;}#sk-container-id-16 div.sk-container {/* jupyter's `normalize.less` sets `[hidden] { display: none; }` but bootstrap.min.css set `[hidden] { display: none !important; }` so we also need the `!important` here to be able to override the default hidden behavior on the sphinx rendered scikit-learn.org. See: https://github.com/scikit-learn/scikit-learn/issues/21755 */display: inline-block !important;position: relative;}#sk-container-id-16 div.sk-text-repr-fallback {display: none;}</style><div id=\"sk-container-id-16\" class=\"sk-top-container\"><div class=\"sk-text-repr-fallback\"><pre>Pipeline(steps=[(&#x27;vect&#x27;, TfidfVectorizer(ngram_range=(1, 2))),\n",
       "                (&#x27;model&#x27;,\n",
       "                 LinearSVC(C=1,\n",
       "                           class_weight={0: 0.5565524855701368,\n",
       "                                         1: 4.9206721858396145},\n",
       "                           random_state=1))])</pre><b>In a Jupyter environment, please rerun this cell to show the HTML representation or trust the notebook. <br />On GitHub, the HTML representation is unable to render, please try loading this page with nbviewer.org.</b></div><div class=\"sk-container\" hidden><div class=\"sk-item sk-dashed-wrapped\"><div class=\"sk-label-container\"><div class=\"sk-label sk-toggleable\"><input class=\"sk-toggleable__control sk-hidden--visually\" id=\"sk-estimator-id-54\" type=\"checkbox\" ><label for=\"sk-estimator-id-54\" class=\"sk-toggleable__label sk-toggleable__label-arrow\">Pipeline</label><div class=\"sk-toggleable__content\"><pre>Pipeline(steps=[(&#x27;vect&#x27;, TfidfVectorizer(ngram_range=(1, 2))),\n",
       "                (&#x27;model&#x27;,\n",
       "                 LinearSVC(C=1,\n",
       "                           class_weight={0: 0.5565524855701368,\n",
       "                                         1: 4.9206721858396145},\n",
       "                           random_state=1))])</pre></div></div></div><div class=\"sk-serial\"><div class=\"sk-item\"><div class=\"sk-estimator sk-toggleable\"><input class=\"sk-toggleable__control sk-hidden--visually\" id=\"sk-estimator-id-55\" type=\"checkbox\" ><label for=\"sk-estimator-id-55\" class=\"sk-toggleable__label sk-toggleable__label-arrow\">TfidfVectorizer</label><div class=\"sk-toggleable__content\"><pre>TfidfVectorizer(ngram_range=(1, 2))</pre></div></div></div><div class=\"sk-item\"><div class=\"sk-estimator sk-toggleable\"><input class=\"sk-toggleable__control sk-hidden--visually\" id=\"sk-estimator-id-56\" type=\"checkbox\" ><label for=\"sk-estimator-id-56\" class=\"sk-toggleable__label sk-toggleable__label-arrow\">LinearSVC</label><div class=\"sk-toggleable__content\"><pre>LinearSVC(C=1, class_weight={0: 0.5565524855701368, 1: 4.9206721858396145},\n",
       "          random_state=1)</pre></div></div></div></div></div></div></div>"
      ],
      "text/plain": [
       "Pipeline(steps=[('vect', TfidfVectorizer(ngram_range=(1, 2))),\n",
       "                ('model',\n",
       "                 LinearSVC(C=1,\n",
       "                           class_weight={0: 0.5565524855701368,\n",
       "                                         1: 4.9206721858396145},\n",
       "                           random_state=1))])"
      ]
     },
     "execution_count": 160,
     "metadata": {},
     "output_type": "execute_result"
    }
   ],
   "source": [
    "# сохраним лучшую модель в переменную\n",
    "best_model_svc_tfidf = random_model_svс_tfidf.best_estimator_\n",
    "best_model_svc_tfidf"
   ]
  },
  {
   "cell_type": "code",
   "execution_count": 161,
   "metadata": {
    "colab": {
     "base_uri": "https://localhost:8080/"
    },
    "id": "pILyTDC6jSS1",
    "outputId": "c7110929-0058-44ca-93bd-125360797af8"
   },
   "outputs": [
    {
     "data": {
      "text/plain": [
       "{'model__C': 1}"
      ]
     },
     "execution_count": 161,
     "metadata": {},
     "output_type": "execute_result"
    }
   ],
   "source": [
    "# выведем на экран гиперпараметры лучшей модели\n",
    "random_model_svс_tfidf.best_params_"
   ]
  },
  {
   "cell_type": "code",
   "execution_count": 162,
   "metadata": {
    "colab": {
     "base_uri": "https://localhost:8080/"
    },
    "id": "MwC6mKtqjSS2",
    "outputId": "0bb1a823-98d1-4398-f4ad-de00ab2f6145"
   },
   "outputs": [
    {
     "name": "stdout",
     "output_type": "stream",
     "text": [
      "f1 модели LinearSVC:\n",
      " 0.793\n"
     ]
    }
   ],
   "source": [
    "# получим значение метрики f1\n",
    "f1_svc_tfidf = round(abs(random_model_svс_tfidf.best_score_), 3)\n",
    "print('f1 модели LinearSVC:\\n', \\\n",
    "      f1_svc_tfidf)"
   ]
  },
  {
   "cell_type": "markdown",
   "metadata": {
    "id": "vHAvC2rEC835"
   },
   "source": [
    "### **Обобщение результатов обучения моделей**"
   ]
  },
  {
   "cell_type": "markdown",
   "metadata": {
    "id": "RY8VGaQ3C835"
   },
   "source": [
    "Результаты отбора лучшей модели на обучающей выборке отразим в сводной таблице."
   ]
  },
  {
   "cell_type": "code",
   "execution_count": 163,
   "metadata": {
    "id": "NjT-ifAKC835",
    "outputId": "8a55e4c4-25de-40f1-ef8a-e5c656e0c7fb"
   },
   "outputs": [
    {
     "data": {
      "text/html": [
       "<div>\n",
       "<style scoped>\n",
       "    .dataframe tbody tr th:only-of-type {\n",
       "        vertical-align: middle;\n",
       "    }\n",
       "\n",
       "    .dataframe tbody tr th {\n",
       "        vertical-align: top;\n",
       "    }\n",
       "\n",
       "    .dataframe thead th {\n",
       "        text-align: right;\n",
       "    }\n",
       "</style>\n",
       "<table border=\"1\" class=\"dataframe\">\n",
       "  <thead>\n",
       "    <tr style=\"text-align: right;\">\n",
       "      <th></th>\n",
       "      <th>Модель</th>\n",
       "      <th>f1</th>\n",
       "    </tr>\n",
       "  </thead>\n",
       "  <tbody>\n",
       "    <tr>\n",
       "      <th>7</th>\n",
       "      <td>LinearSVC (tfidf)</td>\n",
       "      <td>0.793</td>\n",
       "    </tr>\n",
       "    <tr>\n",
       "      <th>0</th>\n",
       "      <td>LogReg (count_v)</td>\n",
       "      <td>0.788</td>\n",
       "    </tr>\n",
       "    <tr>\n",
       "      <th>6</th>\n",
       "      <td>LinearSVC (count_v)</td>\n",
       "      <td>0.787</td>\n",
       "    </tr>\n",
       "    <tr>\n",
       "      <th>1</th>\n",
       "      <td>LogReg (tfidf)</td>\n",
       "      <td>0.751</td>\n",
       "    </tr>\n",
       "    <tr>\n",
       "      <th>2</th>\n",
       "      <td>CatBoost (count_v)</td>\n",
       "      <td>0.738</td>\n",
       "    </tr>\n",
       "    <tr>\n",
       "      <th>3</th>\n",
       "      <td>CatBoost (tfidf)</td>\n",
       "      <td>0.732</td>\n",
       "    </tr>\n",
       "    <tr>\n",
       "      <th>4</th>\n",
       "      <td>DTreeClf (count_v)</td>\n",
       "      <td>0.661</td>\n",
       "    </tr>\n",
       "    <tr>\n",
       "      <th>5</th>\n",
       "      <td>DTreeClf (tfidf)</td>\n",
       "      <td>0.621</td>\n",
       "    </tr>\n",
       "  </tbody>\n",
       "</table>\n",
       "</div>"
      ],
      "text/plain": [
       "                Модель     f1\n",
       "7    LinearSVC (tfidf)  0.793\n",
       "0     LogReg (count_v)  0.788\n",
       "6  LinearSVC (count_v)  0.787\n",
       "1       LogReg (tfidf)  0.751\n",
       "2   CatBoost (count_v)  0.738\n",
       "3     CatBoost (tfidf)  0.732\n",
       "4   DTreeClf (count_v)  0.661\n",
       "5     DTreeClf (tfidf)  0.621"
      ]
     },
     "execution_count": 163,
     "metadata": {},
     "output_type": "execute_result"
    }
   ],
   "source": [
    "# в сводной таблице представим результаты обучения моделей\n",
    "ml_results = pd.DataFrame([\n",
    "    ['LogReg (count_v)', f1_lr_bow],\n",
    "    ['LogReg (tfidf)', f1_lr_tfidf],\n",
    "    ['CatBoost (count_v)', f1_catboost_bow],\n",
    "    ['CatBoost (tfidf)', f1_catboost_tfidf],\n",
    "    ['DTreeClf (count_v)', f1_tree_bow],\n",
    "    ['DTreeClf (tfidf)', f1_tree_tfidf],\n",
    "    ['LinearSVC (count_v)', f1_svc_bow],\n",
    "    ['LinearSVC (tfidf)', f1_svc_tfidf]\n",
    "],\n",
    "columns = ['Модель', 'f1'])\n",
    "\n",
    "# выведем таблицу на экран\n",
    "ml_results = ml_results.sort_values(by = 'f1', ascending = False)\n",
    "ml_results"
   ]
  },
  {
   "cell_type": "code",
   "execution_count": 164,
   "metadata": {
    "id": "rUClEHWkC836",
    "outputId": "674ecb04-7fc6-4096-8281-9b7157024eee"
   },
   "outputs": [
    {
     "data": {
      "image/svg+xml": [
       "<?xml version=\"1.0\" encoding=\"utf-8\" standalone=\"no\"?>\n",
       "<!DOCTYPE svg PUBLIC \"-//W3C//DTD SVG 1.1//EN\"\n",
       "  \"http://www.w3.org/Graphics/SVG/1.1/DTD/svg11.dtd\">\n",
       "<svg xmlns:xlink=\"http://www.w3.org/1999/xlink\" width=\"420.4005pt\" height=\"341.789446pt\" viewBox=\"0 0 420.4005 341.789446\" xmlns=\"http://www.w3.org/2000/svg\" version=\"1.1\">\n",
       " <metadata>\n",
       "  <rdf:RDF xmlns:dc=\"http://purl.org/dc/elements/1.1/\" xmlns:cc=\"http://creativecommons.org/ns#\" xmlns:rdf=\"http://www.w3.org/1999/02/22-rdf-syntax-ns#\">\n",
       "   <cc:Work>\n",
       "    <dc:type rdf:resource=\"http://purl.org/dc/dcmitype/StillImage\"/>\n",
       "    <dc:date>2023-09-21T03:57:16.643095</dc:date>\n",
       "    <dc:format>image/svg+xml</dc:format>\n",
       "    <dc:creator>\n",
       "     <cc:Agent>\n",
       "      <dc:title>Matplotlib v3.6.3, https://matplotlib.org/</dc:title>\n",
       "     </cc:Agent>\n",
       "    </dc:creator>\n",
       "   </cc:Work>\n",
       "  </rdf:RDF>\n",
       " </metadata>\n",
       " <defs>\n",
       "  <style type=\"text/css\">*{stroke-linejoin: round; stroke-linecap: butt}</style>\n",
       " </defs>\n",
       " <g id=\"figure_1\">\n",
       "  <g id=\"patch_1\">\n",
       "   <path d=\"M 0 341.789446 \n",
       "L 420.4005 341.789446 \n",
       "L 420.4005 0 \n",
       "L 0 0 \n",
       "z\n",
       "\" style=\"fill: #ffffff\"/>\n",
       "  </g>\n",
       "  <g id=\"axes_1\">\n",
       "   <g id=\"patch_2\">\n",
       "    <path d=\"M 122.6625 263.7396 \n",
       "L 413.2005 263.7396 \n",
       "L 413.2005 31.37 \n",
       "L 122.6625 31.37 \n",
       "z\n",
       "\" style=\"fill: #eaeaf2\"/>\n",
       "   </g>\n",
       "   <g id=\"matplotlib.axis_1\">\n",
       "    <g id=\"xtick_1\">\n",
       "     <g id=\"line2d_1\">\n",
       "      <path d=\"M 122.6625 263.7396 \n",
       "L 122.6625 31.37 \n",
       "\" clip-path=\"url(#p5534fad32f)\" style=\"fill: none; stroke: #ffffff; stroke-linecap: round\"/>\n",
       "     </g>\n",
       "     <g id=\"text_1\">\n",
       "      <!-- 0.0 -->\n",
       "      <g style=\"fill: #262626\" transform=\"translate(115.7125 280.397413) scale(0.1 -0.1)\">\n",
       "       <defs>\n",
       "        <path id=\"ArialMT-30\" d=\"M 266 2259 \n",
       "Q 266 3072 433 3567 \n",
       "Q 600 4063 929 4331 \n",
       "Q 1259 4600 1759 4600 \n",
       "Q 2128 4600 2406 4451 \n",
       "Q 2684 4303 2865 4023 \n",
       "Q 3047 3744 3150 3342 \n",
       "Q 3253 2941 3253 2259 \n",
       "Q 3253 1453 3087 958 \n",
       "Q 2922 463 2592 192 \n",
       "Q 2263 -78 1759 -78 \n",
       "Q 1097 -78 719 397 \n",
       "Q 266 969 266 2259 \n",
       "z\n",
       "M 844 2259 \n",
       "Q 844 1131 1108 757 \n",
       "Q 1372 384 1759 384 \n",
       "Q 2147 384 2411 759 \n",
       "Q 2675 1134 2675 2259 \n",
       "Q 2675 3391 2411 3762 \n",
       "Q 2147 4134 1753 4134 \n",
       "Q 1366 4134 1134 3806 \n",
       "Q 844 3388 844 2259 \n",
       "z\n",
       "\" transform=\"scale(0.015625)\"/>\n",
       "        <path id=\"ArialMT-2e\" d=\"M 581 0 \n",
       "L 581 641 \n",
       "L 1222 641 \n",
       "L 1222 0 \n",
       "L 581 0 \n",
       "z\n",
       "\" transform=\"scale(0.015625)\"/>\n",
       "       </defs>\n",
       "       <use xlink:href=\"#ArialMT-30\"/>\n",
       "       <use xlink:href=\"#ArialMT-2e\" x=\"55.615234\"/>\n",
       "       <use xlink:href=\"#ArialMT-30\" x=\"83.398438\"/>\n",
       "      </g>\n",
       "     </g>\n",
       "    </g>\n",
       "    <g id=\"xtick_2\">\n",
       "     <g id=\"line2d_2\">\n",
       "      <path d=\"M 157.555672 263.7396 \n",
       "L 157.555672 31.37 \n",
       "\" clip-path=\"url(#p5534fad32f)\" style=\"fill: none; stroke: #ffffff; stroke-linecap: round\"/>\n",
       "     </g>\n",
       "     <g id=\"text_2\">\n",
       "      <!-- 0.1 -->\n",
       "      <g style=\"fill: #262626\" transform=\"translate(150.605672 280.397413) scale(0.1 -0.1)\">\n",
       "       <defs>\n",
       "        <path id=\"ArialMT-31\" d=\"M 2384 0 \n",
       "L 1822 0 \n",
       "L 1822 3584 \n",
       "Q 1619 3391 1289 3197 \n",
       "Q 959 3003 697 2906 \n",
       "L 697 3450 \n",
       "Q 1169 3672 1522 3987 \n",
       "Q 1875 4303 2022 4600 \n",
       "L 2384 4600 \n",
       "L 2384 0 \n",
       "z\n",
       "\" transform=\"scale(0.015625)\"/>\n",
       "       </defs>\n",
       "       <use xlink:href=\"#ArialMT-30\"/>\n",
       "       <use xlink:href=\"#ArialMT-2e\" x=\"55.615234\"/>\n",
       "       <use xlink:href=\"#ArialMT-31\" x=\"83.398438\"/>\n",
       "      </g>\n",
       "     </g>\n",
       "    </g>\n",
       "    <g id=\"xtick_3\">\n",
       "     <g id=\"line2d_3\">\n",
       "      <path d=\"M 192.448845 263.7396 \n",
       "L 192.448845 31.37 \n",
       "\" clip-path=\"url(#p5534fad32f)\" style=\"fill: none; stroke: #ffffff; stroke-linecap: round\"/>\n",
       "     </g>\n",
       "     <g id=\"text_3\">\n",
       "      <!-- 0.2 -->\n",
       "      <g style=\"fill: #262626\" transform=\"translate(185.498845 280.397413) scale(0.1 -0.1)\">\n",
       "       <defs>\n",
       "        <path id=\"ArialMT-32\" d=\"M 3222 541 \n",
       "L 3222 0 \n",
       "L 194 0 \n",
       "Q 188 203 259 391 \n",
       "Q 375 700 629 1000 \n",
       "Q 884 1300 1366 1694 \n",
       "Q 2113 2306 2375 2664 \n",
       "Q 2638 3022 2638 3341 \n",
       "Q 2638 3675 2398 3904 \n",
       "Q 2159 4134 1775 4134 \n",
       "Q 1369 4134 1125 3890 \n",
       "Q 881 3647 878 3216 \n",
       "L 300 3275 \n",
       "Q 359 3922 746 4261 \n",
       "Q 1134 4600 1788 4600 \n",
       "Q 2447 4600 2831 4234 \n",
       "Q 3216 3869 3216 3328 \n",
       "Q 3216 3053 3103 2787 \n",
       "Q 2991 2522 2730 2228 \n",
       "Q 2469 1934 1863 1422 \n",
       "Q 1356 997 1212 845 \n",
       "Q 1069 694 975 541 \n",
       "L 3222 541 \n",
       "z\n",
       "\" transform=\"scale(0.015625)\"/>\n",
       "       </defs>\n",
       "       <use xlink:href=\"#ArialMT-30\"/>\n",
       "       <use xlink:href=\"#ArialMT-2e\" x=\"55.615234\"/>\n",
       "       <use xlink:href=\"#ArialMT-32\" x=\"83.398438\"/>\n",
       "      </g>\n",
       "     </g>\n",
       "    </g>\n",
       "    <g id=\"xtick_4\">\n",
       "     <g id=\"line2d_4\">\n",
       "      <path d=\"M 227.342017 263.7396 \n",
       "L 227.342017 31.37 \n",
       "\" clip-path=\"url(#p5534fad32f)\" style=\"fill: none; stroke: #ffffff; stroke-linecap: round\"/>\n",
       "     </g>\n",
       "     <g id=\"text_4\">\n",
       "      <!-- 0.3 -->\n",
       "      <g style=\"fill: #262626\" transform=\"translate(220.392017 280.397413) scale(0.1 -0.1)\">\n",
       "       <defs>\n",
       "        <path id=\"ArialMT-33\" d=\"M 269 1209 \n",
       "L 831 1284 \n",
       "Q 928 806 1161 595 \n",
       "Q 1394 384 1728 384 \n",
       "Q 2125 384 2398 659 \n",
       "Q 2672 934 2672 1341 \n",
       "Q 2672 1728 2419 1979 \n",
       "Q 2166 2231 1775 2231 \n",
       "Q 1616 2231 1378 2169 \n",
       "L 1441 2663 \n",
       "Q 1497 2656 1531 2656 \n",
       "Q 1891 2656 2178 2843 \n",
       "Q 2466 3031 2466 3422 \n",
       "Q 2466 3731 2256 3934 \n",
       "Q 2047 4138 1716 4138 \n",
       "Q 1388 4138 1169 3931 \n",
       "Q 950 3725 888 3313 \n",
       "L 325 3413 \n",
       "Q 428 3978 793 4289 \n",
       "Q 1159 4600 1703 4600 \n",
       "Q 2078 4600 2393 4439 \n",
       "Q 2709 4278 2876 4000 \n",
       "Q 3044 3722 3044 3409 \n",
       "Q 3044 3113 2884 2869 \n",
       "Q 2725 2625 2413 2481 \n",
       "Q 2819 2388 3044 2092 \n",
       "Q 3269 1797 3269 1353 \n",
       "Q 3269 753 2831 336 \n",
       "Q 2394 -81 1725 -81 \n",
       "Q 1122 -81 723 278 \n",
       "Q 325 638 269 1209 \n",
       "z\n",
       "\" transform=\"scale(0.015625)\"/>\n",
       "       </defs>\n",
       "       <use xlink:href=\"#ArialMT-30\"/>\n",
       "       <use xlink:href=\"#ArialMT-2e\" x=\"55.615234\"/>\n",
       "       <use xlink:href=\"#ArialMT-33\" x=\"83.398438\"/>\n",
       "      </g>\n",
       "     </g>\n",
       "    </g>\n",
       "    <g id=\"xtick_5\">\n",
       "     <g id=\"line2d_5\">\n",
       "      <path d=\"M 262.23519 263.7396 \n",
       "L 262.23519 31.37 \n",
       "\" clip-path=\"url(#p5534fad32f)\" style=\"fill: none; stroke: #ffffff; stroke-linecap: round\"/>\n",
       "     </g>\n",
       "     <g id=\"text_5\">\n",
       "      <!-- 0.4 -->\n",
       "      <g style=\"fill: #262626\" transform=\"translate(255.28519 280.397413) scale(0.1 -0.1)\">\n",
       "       <defs>\n",
       "        <path id=\"ArialMT-34\" d=\"M 2069 0 \n",
       "L 2069 1097 \n",
       "L 81 1097 \n",
       "L 81 1613 \n",
       "L 2172 4581 \n",
       "L 2631 4581 \n",
       "L 2631 1613 \n",
       "L 3250 1613 \n",
       "L 3250 1097 \n",
       "L 2631 1097 \n",
       "L 2631 0 \n",
       "L 2069 0 \n",
       "z\n",
       "M 2069 1613 \n",
       "L 2069 3678 \n",
       "L 634 1613 \n",
       "L 2069 1613 \n",
       "z\n",
       "\" transform=\"scale(0.015625)\"/>\n",
       "       </defs>\n",
       "       <use xlink:href=\"#ArialMT-30\"/>\n",
       "       <use xlink:href=\"#ArialMT-2e\" x=\"55.615234\"/>\n",
       "       <use xlink:href=\"#ArialMT-34\" x=\"83.398438\"/>\n",
       "      </g>\n",
       "     </g>\n",
       "    </g>\n",
       "    <g id=\"xtick_6\">\n",
       "     <g id=\"line2d_6\">\n",
       "      <path d=\"M 297.128362 263.7396 \n",
       "L 297.128362 31.37 \n",
       "\" clip-path=\"url(#p5534fad32f)\" style=\"fill: none; stroke: #ffffff; stroke-linecap: round\"/>\n",
       "     </g>\n",
       "     <g id=\"text_6\">\n",
       "      <!-- 0.5 -->\n",
       "      <g style=\"fill: #262626\" transform=\"translate(290.178362 280.397413) scale(0.1 -0.1)\">\n",
       "       <defs>\n",
       "        <path id=\"ArialMT-35\" d=\"M 266 1200 \n",
       "L 856 1250 \n",
       "Q 922 819 1161 601 \n",
       "Q 1400 384 1738 384 \n",
       "Q 2144 384 2425 690 \n",
       "Q 2706 997 2706 1503 \n",
       "Q 2706 1984 2436 2262 \n",
       "Q 2166 2541 1728 2541 \n",
       "Q 1456 2541 1237 2417 \n",
       "Q 1019 2294 894 2097 \n",
       "L 366 2166 \n",
       "L 809 4519 \n",
       "L 3088 4519 \n",
       "L 3088 3981 \n",
       "L 1259 3981 \n",
       "L 1013 2750 \n",
       "Q 1425 3038 1878 3038 \n",
       "Q 2478 3038 2890 2622 \n",
       "Q 3303 2206 3303 1553 \n",
       "Q 3303 931 2941 478 \n",
       "Q 2500 -78 1738 -78 \n",
       "Q 1113 -78 717 272 \n",
       "Q 322 622 266 1200 \n",
       "z\n",
       "\" transform=\"scale(0.015625)\"/>\n",
       "       </defs>\n",
       "       <use xlink:href=\"#ArialMT-30\"/>\n",
       "       <use xlink:href=\"#ArialMT-2e\" x=\"55.615234\"/>\n",
       "       <use xlink:href=\"#ArialMT-35\" x=\"83.398438\"/>\n",
       "      </g>\n",
       "     </g>\n",
       "    </g>\n",
       "    <g id=\"xtick_7\">\n",
       "     <g id=\"line2d_7\">\n",
       "      <path d=\"M 332.021534 263.7396 \n",
       "L 332.021534 31.37 \n",
       "\" clip-path=\"url(#p5534fad32f)\" style=\"fill: none; stroke: #ffffff; stroke-linecap: round\"/>\n",
       "     </g>\n",
       "     <g id=\"text_7\">\n",
       "      <!-- 0.6 -->\n",
       "      <g style=\"fill: #262626\" transform=\"translate(325.071534 280.397413) scale(0.1 -0.1)\">\n",
       "       <defs>\n",
       "        <path id=\"ArialMT-36\" d=\"M 3184 3459 \n",
       "L 2625 3416 \n",
       "Q 2550 3747 2413 3897 \n",
       "Q 2184 4138 1850 4138 \n",
       "Q 1581 4138 1378 3988 \n",
       "Q 1113 3794 959 3422 \n",
       "Q 806 3050 800 2363 \n",
       "Q 1003 2672 1297 2822 \n",
       "Q 1591 2972 1913 2972 \n",
       "Q 2475 2972 2870 2558 \n",
       "Q 3266 2144 3266 1488 \n",
       "Q 3266 1056 3080 686 \n",
       "Q 2894 316 2569 119 \n",
       "Q 2244 -78 1831 -78 \n",
       "Q 1128 -78 684 439 \n",
       "Q 241 956 241 2144 \n",
       "Q 241 3472 731 4075 \n",
       "Q 1159 4600 1884 4600 \n",
       "Q 2425 4600 2770 4297 \n",
       "Q 3116 3994 3184 3459 \n",
       "z\n",
       "M 888 1484 \n",
       "Q 888 1194 1011 928 \n",
       "Q 1134 663 1356 523 \n",
       "Q 1578 384 1822 384 \n",
       "Q 2178 384 2434 671 \n",
       "Q 2691 959 2691 1453 \n",
       "Q 2691 1928 2437 2201 \n",
       "Q 2184 2475 1800 2475 \n",
       "Q 1419 2475 1153 2201 \n",
       "Q 888 1928 888 1484 \n",
       "z\n",
       "\" transform=\"scale(0.015625)\"/>\n",
       "       </defs>\n",
       "       <use xlink:href=\"#ArialMT-30\"/>\n",
       "       <use xlink:href=\"#ArialMT-2e\" x=\"55.615234\"/>\n",
       "       <use xlink:href=\"#ArialMT-36\" x=\"83.398438\"/>\n",
       "      </g>\n",
       "     </g>\n",
       "    </g>\n",
       "    <g id=\"xtick_8\">\n",
       "     <g id=\"line2d_8\">\n",
       "      <path d=\"M 366.914707 263.7396 \n",
       "L 366.914707 31.37 \n",
       "\" clip-path=\"url(#p5534fad32f)\" style=\"fill: none; stroke: #ffffff; stroke-linecap: round\"/>\n",
       "     </g>\n",
       "     <g id=\"text_8\">\n",
       "      <!-- 0.7 -->\n",
       "      <g style=\"fill: #262626\" transform=\"translate(359.964707 280.397413) scale(0.1 -0.1)\">\n",
       "       <defs>\n",
       "        <path id=\"ArialMT-37\" d=\"M 303 3981 \n",
       "L 303 4522 \n",
       "L 3269 4522 \n",
       "L 3269 4084 \n",
       "Q 2831 3619 2401 2847 \n",
       "Q 1972 2075 1738 1259 \n",
       "Q 1569 684 1522 0 \n",
       "L 944 0 \n",
       "Q 953 541 1156 1306 \n",
       "Q 1359 2072 1739 2783 \n",
       "Q 2119 3494 2547 3981 \n",
       "L 303 3981 \n",
       "z\n",
       "\" transform=\"scale(0.015625)\"/>\n",
       "       </defs>\n",
       "       <use xlink:href=\"#ArialMT-30\"/>\n",
       "       <use xlink:href=\"#ArialMT-2e\" x=\"55.615234\"/>\n",
       "       <use xlink:href=\"#ArialMT-37\" x=\"83.398438\"/>\n",
       "      </g>\n",
       "     </g>\n",
       "    </g>\n",
       "    <g id=\"xtick_9\">\n",
       "     <g id=\"line2d_9\">\n",
       "      <path d=\"M 401.807879 263.7396 \n",
       "L 401.807879 31.37 \n",
       "\" clip-path=\"url(#p5534fad32f)\" style=\"fill: none; stroke: #ffffff; stroke-linecap: round\"/>\n",
       "     </g>\n",
       "     <g id=\"text_9\">\n",
       "      <!-- 0.8 -->\n",
       "      <g style=\"fill: #262626\" transform=\"translate(394.857879 280.397413) scale(0.1 -0.1)\">\n",
       "       <defs>\n",
       "        <path id=\"ArialMT-38\" d=\"M 1131 2484 \n",
       "Q 781 2613 612 2850 \n",
       "Q 444 3088 444 3419 \n",
       "Q 444 3919 803 4259 \n",
       "Q 1163 4600 1759 4600 \n",
       "Q 2359 4600 2725 4251 \n",
       "Q 3091 3903 3091 3403 \n",
       "Q 3091 3084 2923 2848 \n",
       "Q 2756 2613 2416 2484 \n",
       "Q 2838 2347 3058 2040 \n",
       "Q 3278 1734 3278 1309 \n",
       "Q 3278 722 2862 322 \n",
       "Q 2447 -78 1769 -78 \n",
       "Q 1091 -78 675 323 \n",
       "Q 259 725 259 1325 \n",
       "Q 259 1772 486 2073 \n",
       "Q 713 2375 1131 2484 \n",
       "z\n",
       "M 1019 3438 \n",
       "Q 1019 3113 1228 2906 \n",
       "Q 1438 2700 1772 2700 \n",
       "Q 2097 2700 2305 2904 \n",
       "Q 2513 3109 2513 3406 \n",
       "Q 2513 3716 2298 3927 \n",
       "Q 2084 4138 1766 4138 \n",
       "Q 1444 4138 1231 3931 \n",
       "Q 1019 3725 1019 3438 \n",
       "z\n",
       "M 838 1322 \n",
       "Q 838 1081 952 856 \n",
       "Q 1066 631 1291 507 \n",
       "Q 1516 384 1775 384 \n",
       "Q 2178 384 2440 643 \n",
       "Q 2703 903 2703 1303 \n",
       "Q 2703 1709 2433 1975 \n",
       "Q 2163 2241 1756 2241 \n",
       "Q 1359 2241 1098 1978 \n",
       "Q 838 1716 838 1322 \n",
       "z\n",
       "\" transform=\"scale(0.015625)\"/>\n",
       "       </defs>\n",
       "       <use xlink:href=\"#ArialMT-30\"/>\n",
       "       <use xlink:href=\"#ArialMT-2e\" x=\"55.615234\"/>\n",
       "       <use xlink:href=\"#ArialMT-38\" x=\"83.398438\"/>\n",
       "      </g>\n",
       "     </g>\n",
       "    </g>\n",
       "    <g id=\"text_10\">\n",
       "     <!-- Значение метрики f1 -->\n",
       "     <g style=\"fill: #262626\" transform=\"translate(219.922125 293.6646) scale(0.1 -0.1)\">\n",
       "      <defs>\n",
       "       <path id=\"ArialMT-417\" d=\"M 244 1294 \n",
       "L 822 1444 \n",
       "Q 888 1109 1173 775 \n",
       "Q 1459 441 1931 441 \n",
       "Q 2413 441 2691 687 \n",
       "Q 2969 934 2969 1284 \n",
       "Q 2969 1663 2675 1886 \n",
       "Q 2381 2109 1875 2109 \n",
       "L 1584 2109 \n",
       "L 1584 2638 \n",
       "Q 2003 2638 2225 2686 \n",
       "Q 2447 2734 2617 2932 \n",
       "Q 2788 3131 2788 3384 \n",
       "Q 2788 3684 2555 3906 \n",
       "Q 2322 4128 1925 4128 \n",
       "Q 1578 4128 1333 3954 \n",
       "Q 1088 3781 994 3495 \n",
       "Q 900 3209 900 3069 \n",
       "L 319 3200 \n",
       "Q 534 4659 1931 4659 \n",
       "Q 2603 4659 2997 4286 \n",
       "Q 3391 3913 3391 3413 \n",
       "Q 3391 2772 2784 2419 \n",
       "Q 3134 2322 3370 2023 \n",
       "Q 3606 1725 3606 1309 \n",
       "Q 3606 719 3148 320 \n",
       "Q 2691 -78 1934 -78 \n",
       "Q 634 -78 244 1294 \n",
       "z\n",
       "\" transform=\"scale(0.015625)\"/>\n",
       "       <path id=\"ArialMT-43d\" d=\"M 425 3319 \n",
       "L 988 3319 \n",
       "L 988 1938 \n",
       "L 2547 1938 \n",
       "L 2547 3319 \n",
       "L 3109 3319 \n",
       "L 3109 0 \n",
       "L 2547 0 \n",
       "L 2547 1472 \n",
       "L 988 1472 \n",
       "L 988 0 \n",
       "L 425 0 \n",
       "L 425 3319 \n",
       "z\n",
       "\" transform=\"scale(0.015625)\"/>\n",
       "       <path id=\"ArialMT-430\" d=\"M 2588 409 \n",
       "Q 2275 144 1986 34 \n",
       "Q 1697 -75 1366 -75 \n",
       "Q 819 -75 525 192 \n",
       "Q 231 459 231 875 \n",
       "Q 231 1119 342 1320 \n",
       "Q 453 1522 633 1644 \n",
       "Q 813 1766 1038 1828 \n",
       "Q 1203 1872 1538 1913 \n",
       "Q 2219 1994 2541 2106 \n",
       "Q 2544 2222 2544 2253 \n",
       "Q 2544 2597 2384 2738 \n",
       "Q 2169 2928 1744 2928 \n",
       "Q 1347 2928 1158 2789 \n",
       "Q 969 2650 878 2297 \n",
       "L 328 2372 \n",
       "Q 403 2725 575 2942 \n",
       "Q 747 3159 1072 3276 \n",
       "Q 1397 3394 1825 3394 \n",
       "Q 2250 3394 2515 3294 \n",
       "Q 2781 3194 2906 3042 \n",
       "Q 3031 2891 3081 2659 \n",
       "Q 3109 2516 3109 2141 \n",
       "L 3109 1391 \n",
       "Q 3109 606 3145 398 \n",
       "Q 3181 191 3288 0 \n",
       "L 2700 0 \n",
       "Q 2613 175 2588 409 \n",
       "z\n",
       "M 2541 1666 \n",
       "Q 2234 1541 1622 1453 \n",
       "Q 1275 1403 1131 1340 \n",
       "Q 988 1278 909 1158 \n",
       "Q 831 1038 831 891 \n",
       "Q 831 666 1001 516 \n",
       "Q 1172 366 1500 366 \n",
       "Q 1825 366 2078 508 \n",
       "Q 2331 650 2450 897 \n",
       "Q 2541 1088 2541 1459 \n",
       "L 2541 1666 \n",
       "z\n",
       "\" transform=\"scale(0.015625)\"/>\n",
       "       <path id=\"ArialMT-447\" d=\"M 216 3319 \n",
       "L 778 3319 \n",
       "L 778 2691 \n",
       "Q 778 2284 826 2101 \n",
       "Q 875 1919 1059 1783 \n",
       "Q 1244 1647 1522 1647 \n",
       "Q 1841 1647 2347 1816 \n",
       "L 2347 3319 \n",
       "L 2909 3319 \n",
       "L 2909 0 \n",
       "L 2347 0 \n",
       "L 2347 1338 \n",
       "Q 1828 1175 1378 1175 \n",
       "Q 1000 1175 711 1367 \n",
       "Q 422 1559 319 1837 \n",
       "Q 216 2116 216 2450 \n",
       "L 216 3319 \n",
       "z\n",
       "\" transform=\"scale(0.015625)\"/>\n",
       "       <path id=\"ArialMT-435\" d=\"M 2694 1069 \n",
       "L 3275 997 \n",
       "Q 3138 488 2766 206 \n",
       "Q 2394 -75 1816 -75 \n",
       "Q 1088 -75 661 373 \n",
       "Q 234 822 234 1631 \n",
       "Q 234 2469 665 2931 \n",
       "Q 1097 3394 1784 3394 \n",
       "Q 2450 3394 2872 2941 \n",
       "Q 3294 2488 3294 1666 \n",
       "Q 3294 1616 3291 1516 \n",
       "L 816 1516 \n",
       "Q 847 969 1125 678 \n",
       "Q 1403 388 1819 388 \n",
       "Q 2128 388 2347 550 \n",
       "Q 2566 713 2694 1069 \n",
       "z\n",
       "M 847 1978 \n",
       "L 2700 1978 \n",
       "Q 2663 2397 2488 2606 \n",
       "Q 2219 2931 1791 2931 \n",
       "Q 1403 2931 1139 2672 \n",
       "Q 875 2413 847 1978 \n",
       "z\n",
       "\" transform=\"scale(0.015625)\"/>\n",
       "       <path id=\"ArialMT-438\" d=\"M 422 3319 \n",
       "L 984 3319 \n",
       "L 984 788 \n",
       "L 2544 3319 \n",
       "L 3150 3319 \n",
       "L 3150 0 \n",
       "L 2588 0 \n",
       "L 2588 2516 \n",
       "L 1028 0 \n",
       "L 422 0 \n",
       "L 422 3319 \n",
       "z\n",
       "\" transform=\"scale(0.015625)\"/>\n",
       "       <path id=\"ArialMT-20\" transform=\"scale(0.015625)\"/>\n",
       "       <path id=\"ArialMT-43c\" d=\"M 438 3319 \n",
       "L 1313 3319 \n",
       "L 2184 663 \n",
       "L 3153 3319 \n",
       "L 3963 3319 \n",
       "L 3963 0 \n",
       "L 3400 0 \n",
       "L 3400 2672 \n",
       "L 2419 0 \n",
       "L 1916 0 \n",
       "L 988 2800 \n",
       "L 988 0 \n",
       "L 438 0 \n",
       "L 438 3319 \n",
       "z\n",
       "\" transform=\"scale(0.015625)\"/>\n",
       "       <path id=\"ArialMT-442\" d=\"M 119 3319 \n",
       "L 2816 3319 \n",
       "L 2816 2853 \n",
       "L 1747 2853 \n",
       "L 1747 0 \n",
       "L 1188 0 \n",
       "L 1188 2853 \n",
       "L 119 2853 \n",
       "L 119 3319 \n",
       "z\n",
       "\" transform=\"scale(0.015625)\"/>\n",
       "       <path id=\"ArialMT-440\" d=\"M 422 -1272 \n",
       "L 422 3319 \n",
       "L 934 3319 \n",
       "L 934 2888 \n",
       "Q 1116 3141 1344 3267 \n",
       "Q 1572 3394 1897 3394 \n",
       "Q 2322 3394 2647 3175 \n",
       "Q 2972 2956 3137 2557 \n",
       "Q 3303 2159 3303 1684 \n",
       "Q 3303 1175 3120 767 \n",
       "Q 2938 359 2589 142 \n",
       "Q 2241 -75 1856 -75 \n",
       "Q 1575 -75 1351 44 \n",
       "Q 1128 163 984 344 \n",
       "L 984 -1272 \n",
       "L 422 -1272 \n",
       "z\n",
       "M 931 1641 \n",
       "Q 931 1000 1190 694 \n",
       "Q 1450 388 1819 388 \n",
       "Q 2194 388 2461 705 \n",
       "Q 2728 1022 2728 1688 \n",
       "Q 2728 2322 2467 2637 \n",
       "Q 2206 2953 1844 2953 \n",
       "Q 1484 2953 1207 2617 \n",
       "Q 931 2281 931 1641 \n",
       "z\n",
       "\" transform=\"scale(0.015625)\"/>\n",
       "       <path id=\"ArialMT-43a\" d=\"M 419 3319 \n",
       "L 981 3319 \n",
       "L 981 1884 \n",
       "Q 1250 1884 1358 1987 \n",
       "Q 1466 2091 1675 2588 \n",
       "Q 1841 2981 1944 3106 \n",
       "Q 2047 3231 2181 3275 \n",
       "Q 2316 3319 2613 3319 \n",
       "L 2725 3319 \n",
       "L 2725 2853 \n",
       "L 2569 2856 \n",
       "Q 2347 2856 2284 2791 \n",
       "Q 2219 2722 2084 2381 \n",
       "Q 1956 2056 1850 1931 \n",
       "Q 1744 1806 1522 1703 \n",
       "Q 1884 1606 2234 1028 \n",
       "L 2850 0 \n",
       "L 2231 0 \n",
       "L 1631 1028 \n",
       "Q 1447 1338 1309 1436 \n",
       "Q 1172 1534 981 1534 \n",
       "L 981 0 \n",
       "L 419 0 \n",
       "L 419 3319 \n",
       "z\n",
       "\" transform=\"scale(0.015625)\"/>\n",
       "       <path id=\"ArialMT-66\" d=\"M 556 0 \n",
       "L 556 2881 \n",
       "L 59 2881 \n",
       "L 59 3319 \n",
       "L 556 3319 \n",
       "L 556 3672 \n",
       "Q 556 4006 616 4169 \n",
       "Q 697 4388 901 4523 \n",
       "Q 1106 4659 1475 4659 \n",
       "Q 1713 4659 2000 4603 \n",
       "L 1916 4113 \n",
       "Q 1741 4144 1584 4144 \n",
       "Q 1328 4144 1222 4034 \n",
       "Q 1116 3925 1116 3625 \n",
       "L 1116 3319 \n",
       "L 1763 3319 \n",
       "L 1763 2881 \n",
       "L 1116 2881 \n",
       "L 1116 0 \n",
       "L 556 0 \n",
       "z\n",
       "\" transform=\"scale(0.015625)\"/>\n",
       "      </defs>\n",
       "      <use xlink:href=\"#ArialMT-417\"/>\n",
       "      <use xlink:href=\"#ArialMT-43d\" x=\"60.400391\"/>\n",
       "      <use xlink:href=\"#ArialMT-430\" x=\"115.625\"/>\n",
       "      <use xlink:href=\"#ArialMT-447\" x=\"168.990234\"/>\n",
       "      <use xlink:href=\"#ArialMT-435\" x=\"221.089844\"/>\n",
       "      <use xlink:href=\"#ArialMT-43d\" x=\"276.705078\"/>\n",
       "      <use xlink:href=\"#ArialMT-438\" x=\"331.929688\"/>\n",
       "      <use xlink:href=\"#ArialMT-435\" x=\"387.789062\"/>\n",
       "      <use xlink:href=\"#ArialMT-20\" x=\"443.404297\"/>\n",
       "      <use xlink:href=\"#ArialMT-43c\" x=\"471.1875\"/>\n",
       "      <use xlink:href=\"#ArialMT-435\" x=\"539.9375\"/>\n",
       "      <use xlink:href=\"#ArialMT-442\" x=\"592.177734\"/>\n",
       "      <use xlink:href=\"#ArialMT-440\" x=\"637.978516\"/>\n",
       "      <use xlink:href=\"#ArialMT-438\" x=\"693.59375\"/>\n",
       "      <use xlink:href=\"#ArialMT-43a\" x=\"749.453125\"/>\n",
       "      <use xlink:href=\"#ArialMT-438\" x=\"793.203125\"/>\n",
       "      <use xlink:href=\"#ArialMT-20\" x=\"849.0625\"/>\n",
       "      <use xlink:href=\"#ArialMT-66\" x=\"876.845703\"/>\n",
       "      <use xlink:href=\"#ArialMT-31\" x=\"904.628906\"/>\n",
       "     </g>\n",
       "    </g>\n",
       "   </g>\n",
       "   <g id=\"matplotlib.axis_2\">\n",
       "    <g id=\"ytick_1\">\n",
       "     <g id=\"text_11\">\n",
       "      <!-- LinearSVC (tfidf) -->\n",
       "      <g style=\"fill: #262626\" transform=\"translate(39.25 49.532944) scale(0.1 -0.1)\">\n",
       "       <defs>\n",
       "        <path id=\"ArialMT-4c\" d=\"M 469 0 \n",
       "L 469 4581 \n",
       "L 1075 4581 \n",
       "L 1075 541 \n",
       "L 3331 541 \n",
       "L 3331 0 \n",
       "L 469 0 \n",
       "z\n",
       "\" transform=\"scale(0.015625)\"/>\n",
       "        <path id=\"ArialMT-69\" d=\"M 425 3934 \n",
       "L 425 4581 \n",
       "L 988 4581 \n",
       "L 988 3934 \n",
       "L 425 3934 \n",
       "z\n",
       "M 425 0 \n",
       "L 425 3319 \n",
       "L 988 3319 \n",
       "L 988 0 \n",
       "L 425 0 \n",
       "z\n",
       "\" transform=\"scale(0.015625)\"/>\n",
       "        <path id=\"ArialMT-6e\" d=\"M 422 0 \n",
       "L 422 3319 \n",
       "L 928 3319 \n",
       "L 928 2847 \n",
       "Q 1294 3394 1984 3394 \n",
       "Q 2284 3394 2536 3286 \n",
       "Q 2788 3178 2913 3003 \n",
       "Q 3038 2828 3088 2588 \n",
       "Q 3119 2431 3119 2041 \n",
       "L 3119 0 \n",
       "L 2556 0 \n",
       "L 2556 2019 \n",
       "Q 2556 2363 2490 2533 \n",
       "Q 2425 2703 2258 2804 \n",
       "Q 2091 2906 1866 2906 \n",
       "Q 1506 2906 1245 2678 \n",
       "Q 984 2450 984 1813 \n",
       "L 984 0 \n",
       "L 422 0 \n",
       "z\n",
       "\" transform=\"scale(0.015625)\"/>\n",
       "        <path id=\"ArialMT-65\" d=\"M 2694 1069 \n",
       "L 3275 997 \n",
       "Q 3138 488 2766 206 \n",
       "Q 2394 -75 1816 -75 \n",
       "Q 1088 -75 661 373 \n",
       "Q 234 822 234 1631 \n",
       "Q 234 2469 665 2931 \n",
       "Q 1097 3394 1784 3394 \n",
       "Q 2450 3394 2872 2941 \n",
       "Q 3294 2488 3294 1666 \n",
       "Q 3294 1616 3291 1516 \n",
       "L 816 1516 \n",
       "Q 847 969 1125 678 \n",
       "Q 1403 388 1819 388 \n",
       "Q 2128 388 2347 550 \n",
       "Q 2566 713 2694 1069 \n",
       "z\n",
       "M 847 1978 \n",
       "L 2700 1978 \n",
       "Q 2663 2397 2488 2606 \n",
       "Q 2219 2931 1791 2931 \n",
       "Q 1403 2931 1139 2672 \n",
       "Q 875 2413 847 1978 \n",
       "z\n",
       "\" transform=\"scale(0.015625)\"/>\n",
       "        <path id=\"ArialMT-61\" d=\"M 2588 409 \n",
       "Q 2275 144 1986 34 \n",
       "Q 1697 -75 1366 -75 \n",
       "Q 819 -75 525 192 \n",
       "Q 231 459 231 875 \n",
       "Q 231 1119 342 1320 \n",
       "Q 453 1522 633 1644 \n",
       "Q 813 1766 1038 1828 \n",
       "Q 1203 1872 1538 1913 \n",
       "Q 2219 1994 2541 2106 \n",
       "Q 2544 2222 2544 2253 \n",
       "Q 2544 2597 2384 2738 \n",
       "Q 2169 2928 1744 2928 \n",
       "Q 1347 2928 1158 2789 \n",
       "Q 969 2650 878 2297 \n",
       "L 328 2372 \n",
       "Q 403 2725 575 2942 \n",
       "Q 747 3159 1072 3276 \n",
       "Q 1397 3394 1825 3394 \n",
       "Q 2250 3394 2515 3294 \n",
       "Q 2781 3194 2906 3042 \n",
       "Q 3031 2891 3081 2659 \n",
       "Q 3109 2516 3109 2141 \n",
       "L 3109 1391 \n",
       "Q 3109 606 3145 398 \n",
       "Q 3181 191 3288 0 \n",
       "L 2700 0 \n",
       "Q 2613 175 2588 409 \n",
       "z\n",
       "M 2541 1666 \n",
       "Q 2234 1541 1622 1453 \n",
       "Q 1275 1403 1131 1340 \n",
       "Q 988 1278 909 1158 \n",
       "Q 831 1038 831 891 \n",
       "Q 831 666 1001 516 \n",
       "Q 1172 366 1500 366 \n",
       "Q 1825 366 2078 508 \n",
       "Q 2331 650 2450 897 \n",
       "Q 2541 1088 2541 1459 \n",
       "L 2541 1666 \n",
       "z\n",
       "\" transform=\"scale(0.015625)\"/>\n",
       "        <path id=\"ArialMT-72\" d=\"M 416 0 \n",
       "L 416 3319 \n",
       "L 922 3319 \n",
       "L 922 2816 \n",
       "Q 1116 3169 1280 3281 \n",
       "Q 1444 3394 1641 3394 \n",
       "Q 1925 3394 2219 3213 \n",
       "L 2025 2691 \n",
       "Q 1819 2813 1613 2813 \n",
       "Q 1428 2813 1281 2702 \n",
       "Q 1134 2591 1072 2394 \n",
       "Q 978 2094 978 1738 \n",
       "L 978 0 \n",
       "L 416 0 \n",
       "z\n",
       "\" transform=\"scale(0.015625)\"/>\n",
       "        <path id=\"ArialMT-53\" d=\"M 288 1472 \n",
       "L 859 1522 \n",
       "Q 900 1178 1048 958 \n",
       "Q 1197 738 1509 602 \n",
       "Q 1822 466 2213 466 \n",
       "Q 2559 466 2825 569 \n",
       "Q 3091 672 3220 851 \n",
       "Q 3350 1031 3350 1244 \n",
       "Q 3350 1459 3225 1620 \n",
       "Q 3100 1781 2813 1891 \n",
       "Q 2628 1963 1997 2114 \n",
       "Q 1366 2266 1113 2400 \n",
       "Q 784 2572 623 2826 \n",
       "Q 463 3081 463 3397 \n",
       "Q 463 3744 659 4045 \n",
       "Q 856 4347 1234 4503 \n",
       "Q 1613 4659 2075 4659 \n",
       "Q 2584 4659 2973 4495 \n",
       "Q 3363 4331 3572 4012 \n",
       "Q 3781 3694 3797 3291 \n",
       "L 3216 3247 \n",
       "Q 3169 3681 2898 3903 \n",
       "Q 2628 4125 2100 4125 \n",
       "Q 1550 4125 1298 3923 \n",
       "Q 1047 3722 1047 3438 \n",
       "Q 1047 3191 1225 3031 \n",
       "Q 1400 2872 2139 2705 \n",
       "Q 2878 2538 3153 2413 \n",
       "Q 3553 2228 3743 1945 \n",
       "Q 3934 1663 3934 1294 \n",
       "Q 3934 928 3725 604 \n",
       "Q 3516 281 3123 101 \n",
       "Q 2731 -78 2241 -78 \n",
       "Q 1619 -78 1198 103 \n",
       "Q 778 284 539 648 \n",
       "Q 300 1013 288 1472 \n",
       "z\n",
       "\" transform=\"scale(0.015625)\"/>\n",
       "        <path id=\"ArialMT-56\" d=\"M 1803 0 \n",
       "L 28 4581 \n",
       "L 684 4581 \n",
       "L 1875 1253 \n",
       "Q 2019 853 2116 503 \n",
       "Q 2222 878 2363 1253 \n",
       "L 3600 4581 \n",
       "L 4219 4581 \n",
       "L 2425 0 \n",
       "L 1803 0 \n",
       "z\n",
       "\" transform=\"scale(0.015625)\"/>\n",
       "        <path id=\"ArialMT-43\" d=\"M 3763 1606 \n",
       "L 4369 1453 \n",
       "Q 4178 706 3683 314 \n",
       "Q 3188 -78 2472 -78 \n",
       "Q 1731 -78 1267 223 \n",
       "Q 803 525 561 1097 \n",
       "Q 319 1669 319 2325 \n",
       "Q 319 3041 592 3573 \n",
       "Q 866 4106 1370 4382 \n",
       "Q 1875 4659 2481 4659 \n",
       "Q 3169 4659 3637 4309 \n",
       "Q 4106 3959 4291 3325 \n",
       "L 3694 3184 \n",
       "Q 3534 3684 3231 3912 \n",
       "Q 2928 4141 2469 4141 \n",
       "Q 1941 4141 1586 3887 \n",
       "Q 1231 3634 1087 3207 \n",
       "Q 944 2781 944 2328 \n",
       "Q 944 1744 1114 1308 \n",
       "Q 1284 872 1643 656 \n",
       "Q 2003 441 2422 441 \n",
       "Q 2931 441 3284 734 \n",
       "Q 3638 1028 3763 1606 \n",
       "z\n",
       "\" transform=\"scale(0.015625)\"/>\n",
       "        <path id=\"ArialMT-28\" d=\"M 1497 -1347 \n",
       "Q 1031 -759 709 28 \n",
       "Q 388 816 388 1659 \n",
       "Q 388 2403 628 3084 \n",
       "Q 909 3875 1497 4659 \n",
       "L 1900 4659 \n",
       "Q 1522 4009 1400 3731 \n",
       "Q 1209 3300 1100 2831 \n",
       "Q 966 2247 966 1656 \n",
       "Q 966 153 1900 -1347 \n",
       "L 1497 -1347 \n",
       "z\n",
       "\" transform=\"scale(0.015625)\"/>\n",
       "        <path id=\"ArialMT-74\" d=\"M 1650 503 \n",
       "L 1731 6 \n",
       "Q 1494 -44 1306 -44 \n",
       "Q 1000 -44 831 53 \n",
       "Q 663 150 594 308 \n",
       "Q 525 466 525 972 \n",
       "L 525 2881 \n",
       "L 113 2881 \n",
       "L 113 3319 \n",
       "L 525 3319 \n",
       "L 525 4141 \n",
       "L 1084 4478 \n",
       "L 1084 3319 \n",
       "L 1650 3319 \n",
       "L 1650 2881 \n",
       "L 1084 2881 \n",
       "L 1084 941 \n",
       "Q 1084 700 1114 631 \n",
       "Q 1144 563 1211 522 \n",
       "Q 1278 481 1403 481 \n",
       "Q 1497 481 1650 503 \n",
       "z\n",
       "\" transform=\"scale(0.015625)\"/>\n",
       "        <path id=\"ArialMT-64\" d=\"M 2575 0 \n",
       "L 2575 419 \n",
       "Q 2259 -75 1647 -75 \n",
       "Q 1250 -75 917 144 \n",
       "Q 584 363 401 755 \n",
       "Q 219 1147 219 1656 \n",
       "Q 219 2153 384 2558 \n",
       "Q 550 2963 881 3178 \n",
       "Q 1213 3394 1622 3394 \n",
       "Q 1922 3394 2156 3267 \n",
       "Q 2391 3141 2538 2938 \n",
       "L 2538 4581 \n",
       "L 3097 4581 \n",
       "L 3097 0 \n",
       "L 2575 0 \n",
       "z\n",
       "M 797 1656 \n",
       "Q 797 1019 1065 703 \n",
       "Q 1334 388 1700 388 \n",
       "Q 2069 388 2326 689 \n",
       "Q 2584 991 2584 1609 \n",
       "Q 2584 2291 2321 2609 \n",
       "Q 2059 2928 1675 2928 \n",
       "Q 1300 2928 1048 2622 \n",
       "Q 797 2316 797 1656 \n",
       "z\n",
       "\" transform=\"scale(0.015625)\"/>\n",
       "        <path id=\"ArialMT-29\" d=\"M 791 -1347 \n",
       "L 388 -1347 \n",
       "Q 1322 153 1322 1656 \n",
       "Q 1322 2244 1188 2822 \n",
       "Q 1081 3291 891 3722 \n",
       "Q 769 4003 388 4659 \n",
       "L 791 4659 \n",
       "Q 1378 3875 1659 3084 \n",
       "Q 1900 2403 1900 1659 \n",
       "Q 1900 816 1576 28 \n",
       "Q 1253 -759 791 -1347 \n",
       "z\n",
       "\" transform=\"scale(0.015625)\"/>\n",
       "       </defs>\n",
       "       <use xlink:href=\"#ArialMT-4c\"/>\n",
       "       <use xlink:href=\"#ArialMT-69\" x=\"55.615234\"/>\n",
       "       <use xlink:href=\"#ArialMT-6e\" x=\"77.832031\"/>\n",
       "       <use xlink:href=\"#ArialMT-65\" x=\"133.447266\"/>\n",
       "       <use xlink:href=\"#ArialMT-61\" x=\"189.0625\"/>\n",
       "       <use xlink:href=\"#ArialMT-72\" x=\"244.677734\"/>\n",
       "       <use xlink:href=\"#ArialMT-53\" x=\"277.978516\"/>\n",
       "       <use xlink:href=\"#ArialMT-56\" x=\"344.677734\"/>\n",
       "       <use xlink:href=\"#ArialMT-43\" x=\"411.376953\"/>\n",
       "       <use xlink:href=\"#ArialMT-20\" x=\"483.59375\"/>\n",
       "       <use xlink:href=\"#ArialMT-28\" x=\"511.376953\"/>\n",
       "       <use xlink:href=\"#ArialMT-74\" x=\"544.677734\"/>\n",
       "       <use xlink:href=\"#ArialMT-66\" x=\"572.460938\"/>\n",
       "       <use xlink:href=\"#ArialMT-69\" x=\"600.244141\"/>\n",
       "       <use xlink:href=\"#ArialMT-64\" x=\"622.460938\"/>\n",
       "       <use xlink:href=\"#ArialMT-66\" x=\"678.076172\"/>\n",
       "       <use xlink:href=\"#ArialMT-29\" x=\"705.859375\"/>\n",
       "      </g>\n",
       "     </g>\n",
       "    </g>\n",
       "    <g id=\"ytick_2\">\n",
       "     <g id=\"text_12\">\n",
       "      <!-- LogReg (count_v) -->\n",
       "      <g style=\"fill: #262626\" transform=\"translate(33.676563 78.579144) scale(0.1 -0.1)\">\n",
       "       <defs>\n",
       "        <path id=\"ArialMT-6f\" d=\"M 213 1659 \n",
       "Q 213 2581 725 3025 \n",
       "Q 1153 3394 1769 3394 \n",
       "Q 2453 3394 2887 2945 \n",
       "Q 3322 2497 3322 1706 \n",
       "Q 3322 1066 3130 698 \n",
       "Q 2938 331 2570 128 \n",
       "Q 2203 -75 1769 -75 \n",
       "Q 1072 -75 642 372 \n",
       "Q 213 819 213 1659 \n",
       "z\n",
       "M 791 1659 \n",
       "Q 791 1022 1069 705 \n",
       "Q 1347 388 1769 388 \n",
       "Q 2188 388 2466 706 \n",
       "Q 2744 1025 2744 1678 \n",
       "Q 2744 2294 2464 2611 \n",
       "Q 2184 2928 1769 2928 \n",
       "Q 1347 2928 1069 2612 \n",
       "Q 791 2297 791 1659 \n",
       "z\n",
       "\" transform=\"scale(0.015625)\"/>\n",
       "        <path id=\"ArialMT-67\" d=\"M 319 -275 \n",
       "L 866 -356 \n",
       "Q 900 -609 1056 -725 \n",
       "Q 1266 -881 1628 -881 \n",
       "Q 2019 -881 2231 -725 \n",
       "Q 2444 -569 2519 -288 \n",
       "Q 2563 -116 2559 434 \n",
       "Q 2191 0 1641 0 \n",
       "Q 956 0 581 494 \n",
       "Q 206 988 206 1678 \n",
       "Q 206 2153 378 2554 \n",
       "Q 550 2956 876 3175 \n",
       "Q 1203 3394 1644 3394 \n",
       "Q 2231 3394 2613 2919 \n",
       "L 2613 3319 \n",
       "L 3131 3319 \n",
       "L 3131 450 \n",
       "Q 3131 -325 2973 -648 \n",
       "Q 2816 -972 2473 -1159 \n",
       "Q 2131 -1347 1631 -1347 \n",
       "Q 1038 -1347 672 -1080 \n",
       "Q 306 -813 319 -275 \n",
       "z\n",
       "M 784 1719 \n",
       "Q 784 1066 1043 766 \n",
       "Q 1303 466 1694 466 \n",
       "Q 2081 466 2343 764 \n",
       "Q 2606 1063 2606 1700 \n",
       "Q 2606 2309 2336 2618 \n",
       "Q 2066 2928 1684 2928 \n",
       "Q 1309 2928 1046 2623 \n",
       "Q 784 2319 784 1719 \n",
       "z\n",
       "\" transform=\"scale(0.015625)\"/>\n",
       "        <path id=\"ArialMT-52\" d=\"M 503 0 \n",
       "L 503 4581 \n",
       "L 2534 4581 \n",
       "Q 3147 4581 3465 4457 \n",
       "Q 3784 4334 3975 4021 \n",
       "Q 4166 3709 4166 3331 \n",
       "Q 4166 2844 3850 2509 \n",
       "Q 3534 2175 2875 2084 \n",
       "Q 3116 1969 3241 1856 \n",
       "Q 3506 1613 3744 1247 \n",
       "L 4541 0 \n",
       "L 3778 0 \n",
       "L 3172 953 \n",
       "Q 2906 1366 2734 1584 \n",
       "Q 2563 1803 2427 1890 \n",
       "Q 2291 1978 2150 2013 \n",
       "Q 2047 2034 1813 2034 \n",
       "L 1109 2034 \n",
       "L 1109 0 \n",
       "L 503 0 \n",
       "z\n",
       "M 1109 2559 \n",
       "L 2413 2559 \n",
       "Q 2828 2559 3062 2645 \n",
       "Q 3297 2731 3419 2920 \n",
       "Q 3541 3109 3541 3331 \n",
       "Q 3541 3656 3305 3865 \n",
       "Q 3069 4075 2559 4075 \n",
       "L 1109 4075 \n",
       "L 1109 2559 \n",
       "z\n",
       "\" transform=\"scale(0.015625)\"/>\n",
       "        <path id=\"ArialMT-63\" d=\"M 2588 1216 \n",
       "L 3141 1144 \n",
       "Q 3050 572 2676 248 \n",
       "Q 2303 -75 1759 -75 \n",
       "Q 1078 -75 664 370 \n",
       "Q 250 816 250 1647 \n",
       "Q 250 2184 428 2587 \n",
       "Q 606 2991 970 3192 \n",
       "Q 1334 3394 1763 3394 \n",
       "Q 2303 3394 2647 3120 \n",
       "Q 2991 2847 3088 2344 \n",
       "L 2541 2259 \n",
       "Q 2463 2594 2264 2762 \n",
       "Q 2066 2931 1784 2931 \n",
       "Q 1359 2931 1093 2626 \n",
       "Q 828 2322 828 1663 \n",
       "Q 828 994 1084 691 \n",
       "Q 1341 388 1753 388 \n",
       "Q 2084 388 2306 591 \n",
       "Q 2528 794 2588 1216 \n",
       "z\n",
       "\" transform=\"scale(0.015625)\"/>\n",
       "        <path id=\"ArialMT-75\" d=\"M 2597 0 \n",
       "L 2597 488 \n",
       "Q 2209 -75 1544 -75 \n",
       "Q 1250 -75 995 37 \n",
       "Q 741 150 617 320 \n",
       "Q 494 491 444 738 \n",
       "Q 409 903 409 1263 \n",
       "L 409 3319 \n",
       "L 972 3319 \n",
       "L 972 1478 \n",
       "Q 972 1038 1006 884 \n",
       "Q 1059 663 1231 536 \n",
       "Q 1403 409 1656 409 \n",
       "Q 1909 409 2131 539 \n",
       "Q 2353 669 2445 892 \n",
       "Q 2538 1116 2538 1541 \n",
       "L 2538 3319 \n",
       "L 3100 3319 \n",
       "L 3100 0 \n",
       "L 2597 0 \n",
       "z\n",
       "\" transform=\"scale(0.015625)\"/>\n",
       "        <path id=\"ArialMT-5f\" d=\"M -97 -1272 \n",
       "L -97 -866 \n",
       "L 3631 -866 \n",
       "L 3631 -1272 \n",
       "L -97 -1272 \n",
       "z\n",
       "\" transform=\"scale(0.015625)\"/>\n",
       "        <path id=\"ArialMT-76\" d=\"M 1344 0 \n",
       "L 81 3319 \n",
       "L 675 3319 \n",
       "L 1388 1331 \n",
       "Q 1503 1009 1600 663 \n",
       "Q 1675 925 1809 1294 \n",
       "L 2547 3319 \n",
       "L 3125 3319 \n",
       "L 1869 0 \n",
       "L 1344 0 \n",
       "z\n",
       "\" transform=\"scale(0.015625)\"/>\n",
       "       </defs>\n",
       "       <use xlink:href=\"#ArialMT-4c\"/>\n",
       "       <use xlink:href=\"#ArialMT-6f\" x=\"55.615234\"/>\n",
       "       <use xlink:href=\"#ArialMT-67\" x=\"111.230469\"/>\n",
       "       <use xlink:href=\"#ArialMT-52\" x=\"166.845703\"/>\n",
       "       <use xlink:href=\"#ArialMT-65\" x=\"239.0625\"/>\n",
       "       <use xlink:href=\"#ArialMT-67\" x=\"294.677734\"/>\n",
       "       <use xlink:href=\"#ArialMT-20\" x=\"350.292969\"/>\n",
       "       <use xlink:href=\"#ArialMT-28\" x=\"378.076172\"/>\n",
       "       <use xlink:href=\"#ArialMT-63\" x=\"411.376953\"/>\n",
       "       <use xlink:href=\"#ArialMT-6f\" x=\"461.376953\"/>\n",
       "       <use xlink:href=\"#ArialMT-75\" x=\"516.992188\"/>\n",
       "       <use xlink:href=\"#ArialMT-6e\" x=\"572.607422\"/>\n",
       "       <use xlink:href=\"#ArialMT-74\" x=\"628.222656\"/>\n",
       "       <use xlink:href=\"#ArialMT-5f\" x=\"656.005859\"/>\n",
       "       <use xlink:href=\"#ArialMT-76\" x=\"711.621094\"/>\n",
       "       <use xlink:href=\"#ArialMT-29\" x=\"761.621094\"/>\n",
       "      </g>\n",
       "     </g>\n",
       "    </g>\n",
       "    <g id=\"ytick_3\">\n",
       "     <g id=\"text_13\">\n",
       "      <!-- LinearSVC (count_v) -->\n",
       "      <g style=\"fill: #262626\" transform=\"translate(20.345313 107.625344) scale(0.1 -0.1)\">\n",
       "       <use xlink:href=\"#ArialMT-4c\"/>\n",
       "       <use xlink:href=\"#ArialMT-69\" x=\"55.615234\"/>\n",
       "       <use xlink:href=\"#ArialMT-6e\" x=\"77.832031\"/>\n",
       "       <use xlink:href=\"#ArialMT-65\" x=\"133.447266\"/>\n",
       "       <use xlink:href=\"#ArialMT-61\" x=\"189.0625\"/>\n",
       "       <use xlink:href=\"#ArialMT-72\" x=\"244.677734\"/>\n",
       "       <use xlink:href=\"#ArialMT-53\" x=\"277.978516\"/>\n",
       "       <use xlink:href=\"#ArialMT-56\" x=\"344.677734\"/>\n",
       "       <use xlink:href=\"#ArialMT-43\" x=\"411.376953\"/>\n",
       "       <use xlink:href=\"#ArialMT-20\" x=\"483.59375\"/>\n",
       "       <use xlink:href=\"#ArialMT-28\" x=\"511.376953\"/>\n",
       "       <use xlink:href=\"#ArialMT-63\" x=\"544.677734\"/>\n",
       "       <use xlink:href=\"#ArialMT-6f\" x=\"594.677734\"/>\n",
       "       <use xlink:href=\"#ArialMT-75\" x=\"650.292969\"/>\n",
       "       <use xlink:href=\"#ArialMT-6e\" x=\"705.908203\"/>\n",
       "       <use xlink:href=\"#ArialMT-74\" x=\"761.523438\"/>\n",
       "       <use xlink:href=\"#ArialMT-5f\" x=\"789.306641\"/>\n",
       "       <use xlink:href=\"#ArialMT-76\" x=\"844.921875\"/>\n",
       "       <use xlink:href=\"#ArialMT-29\" x=\"894.921875\"/>\n",
       "      </g>\n",
       "     </g>\n",
       "    </g>\n",
       "    <g id=\"ytick_4\">\n",
       "     <g id=\"text_14\">\n",
       "      <!-- LogReg (tfidf) -->\n",
       "      <g style=\"fill: #262626\" transform=\"translate(52.58125 136.671544) scale(0.1 -0.1)\">\n",
       "       <use xlink:href=\"#ArialMT-4c\"/>\n",
       "       <use xlink:href=\"#ArialMT-6f\" x=\"55.615234\"/>\n",
       "       <use xlink:href=\"#ArialMT-67\" x=\"111.230469\"/>\n",
       "       <use xlink:href=\"#ArialMT-52\" x=\"166.845703\"/>\n",
       "       <use xlink:href=\"#ArialMT-65\" x=\"239.0625\"/>\n",
       "       <use xlink:href=\"#ArialMT-67\" x=\"294.677734\"/>\n",
       "       <use xlink:href=\"#ArialMT-20\" x=\"350.292969\"/>\n",
       "       <use xlink:href=\"#ArialMT-28\" x=\"378.076172\"/>\n",
       "       <use xlink:href=\"#ArialMT-74\" x=\"411.376953\"/>\n",
       "       <use xlink:href=\"#ArialMT-66\" x=\"439.160156\"/>\n",
       "       <use xlink:href=\"#ArialMT-69\" x=\"466.943359\"/>\n",
       "       <use xlink:href=\"#ArialMT-64\" x=\"489.160156\"/>\n",
       "       <use xlink:href=\"#ArialMT-66\" x=\"544.775391\"/>\n",
       "       <use xlink:href=\"#ArialMT-29\" x=\"572.558594\"/>\n",
       "      </g>\n",
       "     </g>\n",
       "    </g>\n",
       "    <g id=\"ytick_5\">\n",
       "     <g id=\"text_15\">\n",
       "      <!-- CatBoost (count_v) -->\n",
       "      <g style=\"fill: #262626\" transform=\"translate(27.571875 165.717744) scale(0.1 -0.1)\">\n",
       "       <defs>\n",
       "        <path id=\"ArialMT-42\" d=\"M 469 0 \n",
       "L 469 4581 \n",
       "L 2188 4581 \n",
       "Q 2713 4581 3030 4442 \n",
       "Q 3347 4303 3526 4014 \n",
       "Q 3706 3725 3706 3409 \n",
       "Q 3706 3116 3547 2856 \n",
       "Q 3388 2597 3066 2438 \n",
       "Q 3481 2316 3704 2022 \n",
       "Q 3928 1728 3928 1328 \n",
       "Q 3928 1006 3792 729 \n",
       "Q 3656 453 3456 303 \n",
       "Q 3256 153 2954 76 \n",
       "Q 2653 0 2216 0 \n",
       "L 469 0 \n",
       "z\n",
       "M 1075 2656 \n",
       "L 2066 2656 \n",
       "Q 2469 2656 2644 2709 \n",
       "Q 2875 2778 2992 2937 \n",
       "Q 3109 3097 3109 3338 \n",
       "Q 3109 3566 3000 3739 \n",
       "Q 2891 3913 2687 3977 \n",
       "Q 2484 4041 1991 4041 \n",
       "L 1075 4041 \n",
       "L 1075 2656 \n",
       "z\n",
       "M 1075 541 \n",
       "L 2216 541 \n",
       "Q 2509 541 2628 563 \n",
       "Q 2838 600 2978 687 \n",
       "Q 3119 775 3209 942 \n",
       "Q 3300 1109 3300 1328 \n",
       "Q 3300 1584 3169 1773 \n",
       "Q 3038 1963 2805 2039 \n",
       "Q 2572 2116 2134 2116 \n",
       "L 1075 2116 \n",
       "L 1075 541 \n",
       "z\n",
       "\" transform=\"scale(0.015625)\"/>\n",
       "        <path id=\"ArialMT-73\" d=\"M 197 991 \n",
       "L 753 1078 \n",
       "Q 800 744 1014 566 \n",
       "Q 1228 388 1613 388 \n",
       "Q 2000 388 2187 545 \n",
       "Q 2375 703 2375 916 \n",
       "Q 2375 1106 2209 1216 \n",
       "Q 2094 1291 1634 1406 \n",
       "Q 1016 1563 777 1677 \n",
       "Q 538 1791 414 1992 \n",
       "Q 291 2194 291 2438 \n",
       "Q 291 2659 392 2848 \n",
       "Q 494 3038 669 3163 \n",
       "Q 800 3259 1026 3326 \n",
       "Q 1253 3394 1513 3394 \n",
       "Q 1903 3394 2198 3281 \n",
       "Q 2494 3169 2634 2976 \n",
       "Q 2775 2784 2828 2463 \n",
       "L 2278 2388 \n",
       "Q 2241 2644 2061 2787 \n",
       "Q 1881 2931 1553 2931 \n",
       "Q 1166 2931 1000 2803 \n",
       "Q 834 2675 834 2503 \n",
       "Q 834 2394 903 2306 \n",
       "Q 972 2216 1119 2156 \n",
       "Q 1203 2125 1616 2013 \n",
       "Q 2213 1853 2448 1751 \n",
       "Q 2684 1650 2818 1456 \n",
       "Q 2953 1263 2953 975 \n",
       "Q 2953 694 2789 445 \n",
       "Q 2625 197 2315 61 \n",
       "Q 2006 -75 1616 -75 \n",
       "Q 969 -75 630 194 \n",
       "Q 291 463 197 991 \n",
       "z\n",
       "\" transform=\"scale(0.015625)\"/>\n",
       "       </defs>\n",
       "       <use xlink:href=\"#ArialMT-43\"/>\n",
       "       <use xlink:href=\"#ArialMT-61\" x=\"72.216797\"/>\n",
       "       <use xlink:href=\"#ArialMT-74\" x=\"127.832031\"/>\n",
       "       <use xlink:href=\"#ArialMT-42\" x=\"155.615234\"/>\n",
       "       <use xlink:href=\"#ArialMT-6f\" x=\"222.314453\"/>\n",
       "       <use xlink:href=\"#ArialMT-6f\" x=\"277.929688\"/>\n",
       "       <use xlink:href=\"#ArialMT-73\" x=\"333.544922\"/>\n",
       "       <use xlink:href=\"#ArialMT-74\" x=\"383.544922\"/>\n",
       "       <use xlink:href=\"#ArialMT-20\" x=\"411.328125\"/>\n",
       "       <use xlink:href=\"#ArialMT-28\" x=\"439.111328\"/>\n",
       "       <use xlink:href=\"#ArialMT-63\" x=\"472.412109\"/>\n",
       "       <use xlink:href=\"#ArialMT-6f\" x=\"522.412109\"/>\n",
       "       <use xlink:href=\"#ArialMT-75\" x=\"578.027344\"/>\n",
       "       <use xlink:href=\"#ArialMT-6e\" x=\"633.642578\"/>\n",
       "       <use xlink:href=\"#ArialMT-74\" x=\"689.257812\"/>\n",
       "       <use xlink:href=\"#ArialMT-5f\" x=\"717.041016\"/>\n",
       "       <use xlink:href=\"#ArialMT-76\" x=\"772.65625\"/>\n",
       "       <use xlink:href=\"#ArialMT-29\" x=\"822.65625\"/>\n",
       "      </g>\n",
       "     </g>\n",
       "    </g>\n",
       "    <g id=\"ytick_6\">\n",
       "     <g id=\"text_16\">\n",
       "      <!-- CatBoost (tfidf) -->\n",
       "      <g style=\"fill: #262626\" transform=\"translate(46.476562 194.763944) scale(0.1 -0.1)\">\n",
       "       <use xlink:href=\"#ArialMT-43\"/>\n",
       "       <use xlink:href=\"#ArialMT-61\" x=\"72.216797\"/>\n",
       "       <use xlink:href=\"#ArialMT-74\" x=\"127.832031\"/>\n",
       "       <use xlink:href=\"#ArialMT-42\" x=\"155.615234\"/>\n",
       "       <use xlink:href=\"#ArialMT-6f\" x=\"222.314453\"/>\n",
       "       <use xlink:href=\"#ArialMT-6f\" x=\"277.929688\"/>\n",
       "       <use xlink:href=\"#ArialMT-73\" x=\"333.544922\"/>\n",
       "       <use xlink:href=\"#ArialMT-74\" x=\"383.544922\"/>\n",
       "       <use xlink:href=\"#ArialMT-20\" x=\"411.328125\"/>\n",
       "       <use xlink:href=\"#ArialMT-28\" x=\"439.111328\"/>\n",
       "       <use xlink:href=\"#ArialMT-74\" x=\"472.412109\"/>\n",
       "       <use xlink:href=\"#ArialMT-66\" x=\"500.195312\"/>\n",
       "       <use xlink:href=\"#ArialMT-69\" x=\"527.978516\"/>\n",
       "       <use xlink:href=\"#ArialMT-64\" x=\"550.195312\"/>\n",
       "       <use xlink:href=\"#ArialMT-66\" x=\"605.810547\"/>\n",
       "       <use xlink:href=\"#ArialMT-29\" x=\"633.59375\"/>\n",
       "      </g>\n",
       "     </g>\n",
       "    </g>\n",
       "    <g id=\"ytick_7\">\n",
       "     <g id=\"text_17\">\n",
       "      <!-- DTreeClf (count_v) -->\n",
       "      <g style=\"fill: #262626\" transform=\"translate(29.075 223.810144) scale(0.1 -0.1)\">\n",
       "       <defs>\n",
       "        <path id=\"ArialMT-44\" d=\"M 494 0 \n",
       "L 494 4581 \n",
       "L 2072 4581 \n",
       "Q 2606 4581 2888 4516 \n",
       "Q 3281 4425 3559 4188 \n",
       "Q 3922 3881 4101 3404 \n",
       "Q 4281 2928 4281 2316 \n",
       "Q 4281 1794 4159 1391 \n",
       "Q 4038 988 3847 723 \n",
       "Q 3656 459 3429 307 \n",
       "Q 3203 156 2883 78 \n",
       "Q 2563 0 2147 0 \n",
       "L 494 0 \n",
       "z\n",
       "M 1100 541 \n",
       "L 2078 541 \n",
       "Q 2531 541 2789 625 \n",
       "Q 3047 709 3200 863 \n",
       "Q 3416 1078 3536 1442 \n",
       "Q 3656 1806 3656 2325 \n",
       "Q 3656 3044 3420 3430 \n",
       "Q 3184 3816 2847 3947 \n",
       "Q 2603 4041 2063 4041 \n",
       "L 1100 4041 \n",
       "L 1100 541 \n",
       "z\n",
       "\" transform=\"scale(0.015625)\"/>\n",
       "        <path id=\"ArialMT-54\" d=\"M 1659 0 \n",
       "L 1659 4041 \n",
       "L 150 4041 \n",
       "L 150 4581 \n",
       "L 3781 4581 \n",
       "L 3781 4041 \n",
       "L 2266 4041 \n",
       "L 2266 0 \n",
       "L 1659 0 \n",
       "z\n",
       "\" transform=\"scale(0.015625)\"/>\n",
       "        <path id=\"ArialMT-6c\" d=\"M 409 0 \n",
       "L 409 4581 \n",
       "L 972 4581 \n",
       "L 972 0 \n",
       "L 409 0 \n",
       "z\n",
       "\" transform=\"scale(0.015625)\"/>\n",
       "       </defs>\n",
       "       <use xlink:href=\"#ArialMT-44\"/>\n",
       "       <use xlink:href=\"#ArialMT-54\" x=\"72.216797\"/>\n",
       "       <use xlink:href=\"#ArialMT-72\" x=\"129.550781\"/>\n",
       "       <use xlink:href=\"#ArialMT-65\" x=\"162.851562\"/>\n",
       "       <use xlink:href=\"#ArialMT-65\" x=\"218.466797\"/>\n",
       "       <use xlink:href=\"#ArialMT-43\" x=\"274.082031\"/>\n",
       "       <use xlink:href=\"#ArialMT-6c\" x=\"346.298828\"/>\n",
       "       <use xlink:href=\"#ArialMT-66\" x=\"368.515625\"/>\n",
       "       <use xlink:href=\"#ArialMT-20\" x=\"396.298828\"/>\n",
       "       <use xlink:href=\"#ArialMT-28\" x=\"424.082031\"/>\n",
       "       <use xlink:href=\"#ArialMT-63\" x=\"457.382812\"/>\n",
       "       <use xlink:href=\"#ArialMT-6f\" x=\"507.382812\"/>\n",
       "       <use xlink:href=\"#ArialMT-75\" x=\"562.998047\"/>\n",
       "       <use xlink:href=\"#ArialMT-6e\" x=\"618.613281\"/>\n",
       "       <use xlink:href=\"#ArialMT-74\" x=\"674.228516\"/>\n",
       "       <use xlink:href=\"#ArialMT-5f\" x=\"702.011719\"/>\n",
       "       <use xlink:href=\"#ArialMT-76\" x=\"757.626953\"/>\n",
       "       <use xlink:href=\"#ArialMT-29\" x=\"807.626953\"/>\n",
       "      </g>\n",
       "     </g>\n",
       "    </g>\n",
       "    <g id=\"ytick_8\">\n",
       "     <g id=\"text_18\">\n",
       "      <!-- DTreeClf (tfidf) -->\n",
       "      <g style=\"fill: #262626\" transform=\"translate(47.979688 252.856344) scale(0.1 -0.1)\">\n",
       "       <use xlink:href=\"#ArialMT-44\"/>\n",
       "       <use xlink:href=\"#ArialMT-54\" x=\"72.216797\"/>\n",
       "       <use xlink:href=\"#ArialMT-72\" x=\"129.550781\"/>\n",
       "       <use xlink:href=\"#ArialMT-65\" x=\"162.851562\"/>\n",
       "       <use xlink:href=\"#ArialMT-65\" x=\"218.466797\"/>\n",
       "       <use xlink:href=\"#ArialMT-43\" x=\"274.082031\"/>\n",
       "       <use xlink:href=\"#ArialMT-6c\" x=\"346.298828\"/>\n",
       "       <use xlink:href=\"#ArialMT-66\" x=\"368.515625\"/>\n",
       "       <use xlink:href=\"#ArialMT-20\" x=\"396.298828\"/>\n",
       "       <use xlink:href=\"#ArialMT-28\" x=\"424.082031\"/>\n",
       "       <use xlink:href=\"#ArialMT-74\" x=\"457.382812\"/>\n",
       "       <use xlink:href=\"#ArialMT-66\" x=\"485.166016\"/>\n",
       "       <use xlink:href=\"#ArialMT-69\" x=\"512.949219\"/>\n",
       "       <use xlink:href=\"#ArialMT-64\" x=\"535.166016\"/>\n",
       "       <use xlink:href=\"#ArialMT-66\" x=\"590.78125\"/>\n",
       "       <use xlink:href=\"#ArialMT-29\" x=\"618.564453\"/>\n",
       "      </g>\n",
       "     </g>\n",
       "    </g>\n",
       "    <g id=\"text_19\">\n",
       "     <!-- Модель -->\n",
       "     <g style=\"fill: #262626\" transform=\"translate(14.357813 165.494644) rotate(-90) scale(0.1 -0.1)\">\n",
       "      <defs>\n",
       "       <path id=\"ArialMT-41c\" d=\"M 475 0 \n",
       "L 475 4581 \n",
       "L 1388 4581 \n",
       "L 2472 1338 \n",
       "Q 2622 884 2691 659 \n",
       "Q 2769 909 2934 1394 \n",
       "L 4031 4581 \n",
       "L 4847 4581 \n",
       "L 4847 0 \n",
       "L 4263 0 \n",
       "L 4263 3834 \n",
       "L 2931 0 \n",
       "L 2384 0 \n",
       "L 1059 3900 \n",
       "L 1059 0 \n",
       "L 475 0 \n",
       "z\n",
       "\" transform=\"scale(0.015625)\"/>\n",
       "       <path id=\"ArialMT-43e\" d=\"M 213 1659 \n",
       "Q 213 2581 725 3025 \n",
       "Q 1153 3394 1769 3394 \n",
       "Q 2453 3394 2887 2945 \n",
       "Q 3322 2497 3322 1706 \n",
       "Q 3322 1066 3130 698 \n",
       "Q 2938 331 2570 128 \n",
       "Q 2203 -75 1769 -75 \n",
       "Q 1072 -75 642 372 \n",
       "Q 213 819 213 1659 \n",
       "z\n",
       "M 791 1659 \n",
       "Q 791 1022 1069 705 \n",
       "Q 1347 388 1769 388 \n",
       "Q 2188 388 2466 706 \n",
       "Q 2744 1025 2744 1678 \n",
       "Q 2744 2294 2464 2611 \n",
       "Q 2184 2928 1769 2928 \n",
       "Q 1347 2928 1069 2612 \n",
       "Q 791 2297 791 1659 \n",
       "z\n",
       "\" transform=\"scale(0.015625)\"/>\n",
       "       <path id=\"ArialMT-434\" d=\"M 866 3319 \n",
       "L 3178 3319 \n",
       "L 3178 463 \n",
       "L 3538 463 \n",
       "L 3538 -941 \n",
       "L 3075 -941 \n",
       "L 3075 0 \n",
       "L 463 0 \n",
       "L 463 -941 \n",
       "L 0 -941 \n",
       "L 0 463 \n",
       "L 297 463 \n",
       "Q 891 1269 866 3319 \n",
       "z\n",
       "M 1334 2853 \n",
       "Q 1272 1238 834 463 \n",
       "L 2619 463 \n",
       "L 2619 2853 \n",
       "L 1334 2853 \n",
       "z\n",
       "\" transform=\"scale(0.015625)\"/>\n",
       "       <path id=\"ArialMT-43b\" d=\"M 697 3319 \n",
       "L 3309 3319 \n",
       "L 3309 0 \n",
       "L 2750 0 \n",
       "L 2750 2853 \n",
       "L 1259 2853 \n",
       "L 1259 1200 \n",
       "Q 1259 622 1221 437 \n",
       "Q 1184 253 1015 115 \n",
       "Q 847 -22 528 -22 \n",
       "Q 331 -22 75 3 \n",
       "L 75 472 \n",
       "L 322 472 \n",
       "Q 497 472 572 508 \n",
       "Q 647 544 672 622 \n",
       "Q 697 700 697 1131 \n",
       "L 697 3319 \n",
       "z\n",
       "\" transform=\"scale(0.015625)\"/>\n",
       "       <path id=\"ArialMT-44c\" d=\"M 413 3319 \n",
       "L 975 3319 \n",
       "L 975 2022 \n",
       "L 1688 2022 \n",
       "Q 2384 2022 2761 1751 \n",
       "Q 3138 1481 3138 1006 \n",
       "Q 3138 591 2823 295 \n",
       "Q 2509 0 1819 0 \n",
       "L 413 0 \n",
       "L 413 3319 \n",
       "z\n",
       "M 975 463 \n",
       "L 1566 463 \n",
       "Q 2100 463 2328 594 \n",
       "Q 2556 725 2556 1003 \n",
       "Q 2556 1219 2387 1387 \n",
       "Q 2219 1556 1641 1556 \n",
       "L 975 1556 \n",
       "L 975 463 \n",
       "z\n",
       "\" transform=\"scale(0.015625)\"/>\n",
       "      </defs>\n",
       "      <use xlink:href=\"#ArialMT-41c\"/>\n",
       "      <use xlink:href=\"#ArialMT-43e\" x=\"84.425781\"/>\n",
       "      <use xlink:href=\"#ArialMT-434\" x=\"137.791016\"/>\n",
       "      <use xlink:href=\"#ArialMT-435\" x=\"196.140625\"/>\n",
       "      <use xlink:href=\"#ArialMT-43b\" x=\"248.380859\"/>\n",
       "      <use xlink:href=\"#ArialMT-44c\" x=\"306.730469\"/>\n",
       "     </g>\n",
       "    </g>\n",
       "   </g>\n",
       "   <g id=\"patch_3\">\n",
       "    <path d=\"M 122.6625 34.27462 \n",
       "L 399.365357 34.27462 \n",
       "L 399.365357 57.51158 \n",
       "L 122.6625 57.51158 \n",
       "z\n",
       "\" clip-path=\"url(#p5534fad32f)\" style=\"fill: #4ba473; stroke: #ffffff; stroke-linejoin: miter\"/>\n",
       "   </g>\n",
       "   <g id=\"patch_4\">\n",
       "    <path d=\"M 122.6625 63.32082 \n",
       "L 397.620699 63.32082 \n",
       "L 397.620699 86.55778 \n",
       "L 122.6625 86.55778 \n",
       "z\n",
       "\" clip-path=\"url(#p5534fad32f)\" style=\"fill: #4ba473; stroke: #ffffff; stroke-linejoin: miter\"/>\n",
       "   </g>\n",
       "   <g id=\"patch_5\">\n",
       "    <path d=\"M 122.6625 92.36702 \n",
       "L 397.271767 92.36702 \n",
       "L 397.271767 115.60398 \n",
       "L 122.6625 115.60398 \n",
       "z\n",
       "\" clip-path=\"url(#p5534fad32f)\" style=\"fill: #4ba473; stroke: #ffffff; stroke-linejoin: miter\"/>\n",
       "   </g>\n",
       "   <g id=\"patch_6\">\n",
       "    <path d=\"M 122.6625 121.41322 \n",
       "L 384.710225 121.41322 \n",
       "L 384.710225 144.65018 \n",
       "L 122.6625 144.65018 \n",
       "z\n",
       "\" clip-path=\"url(#p5534fad32f)\" style=\"fill: #4ba473; stroke: #ffffff; stroke-linejoin: miter\"/>\n",
       "   </g>\n",
       "   <g id=\"patch_7\">\n",
       "    <path d=\"M 122.6625 150.45942 \n",
       "L 380.174112 150.45942 \n",
       "L 380.174112 173.69638 \n",
       "L 122.6625 173.69638 \n",
       "z\n",
       "\" clip-path=\"url(#p5534fad32f)\" style=\"fill: #c32d4b; stroke: #ffffff; stroke-linejoin: miter\"/>\n",
       "   </g>\n",
       "   <g id=\"patch_8\">\n",
       "    <path d=\"M 122.6625 179.50562 \n",
       "L 378.080522 179.50562 \n",
       "L 378.080522 202.74258 \n",
       "L 122.6625 202.74258 \n",
       "z\n",
       "\" clip-path=\"url(#p5534fad32f)\" style=\"fill: #c32d4b; stroke: #ffffff; stroke-linejoin: miter\"/>\n",
       "   </g>\n",
       "   <g id=\"patch_9\">\n",
       "    <path d=\"M 122.6625 208.55182 \n",
       "L 353.30637 208.55182 \n",
       "L 353.30637 231.78878 \n",
       "L 122.6625 231.78878 \n",
       "z\n",
       "\" clip-path=\"url(#p5534fad32f)\" style=\"fill: #c32d4b; stroke: #ffffff; stroke-linejoin: miter\"/>\n",
       "   </g>\n",
       "   <g id=\"patch_10\">\n",
       "    <path d=\"M 122.6625 237.59802 \n",
       "L 339.349101 237.59802 \n",
       "L 339.349101 260.83498 \n",
       "L 122.6625 260.83498 \n",
       "z\n",
       "\" clip-path=\"url(#p5534fad32f)\" style=\"fill: #c32d4b; stroke: #ffffff; stroke-linejoin: miter\"/>\n",
       "   </g>\n",
       "   <g id=\"line2d_10\">\n",
       "    <path clip-path=\"url(#p5534fad32f)\" style=\"fill: none; stroke: #424242; stroke-width: 2.7; stroke-linecap: round\"/>\n",
       "   </g>\n",
       "   <g id=\"line2d_11\">\n",
       "    <path clip-path=\"url(#p5534fad32f)\" style=\"fill: none; stroke: #424242; stroke-width: 2.7; stroke-linecap: round\"/>\n",
       "   </g>\n",
       "   <g id=\"line2d_12\">\n",
       "    <path clip-path=\"url(#p5534fad32f)\" style=\"fill: none; stroke: #424242; stroke-width: 2.7; stroke-linecap: round\"/>\n",
       "   </g>\n",
       "   <g id=\"line2d_13\">\n",
       "    <path clip-path=\"url(#p5534fad32f)\" style=\"fill: none; stroke: #424242; stroke-width: 2.7; stroke-linecap: round\"/>\n",
       "   </g>\n",
       "   <g id=\"line2d_14\">\n",
       "    <path clip-path=\"url(#p5534fad32f)\" style=\"fill: none; stroke: #424242; stroke-width: 2.7; stroke-linecap: round\"/>\n",
       "   </g>\n",
       "   <g id=\"line2d_15\">\n",
       "    <path clip-path=\"url(#p5534fad32f)\" style=\"fill: none; stroke: #424242; stroke-width: 2.7; stroke-linecap: round\"/>\n",
       "   </g>\n",
       "   <g id=\"line2d_16\">\n",
       "    <path clip-path=\"url(#p5534fad32f)\" style=\"fill: none; stroke: #424242; stroke-width: 2.7; stroke-linecap: round\"/>\n",
       "   </g>\n",
       "   <g id=\"line2d_17\">\n",
       "    <path clip-path=\"url(#p5534fad32f)\" style=\"fill: none; stroke: #424242; stroke-width: 2.7; stroke-linecap: round\"/>\n",
       "   </g>\n",
       "   <g id=\"line2d_18\">\n",
       "    <path d=\"M 384.361293 263.7396 \n",
       "L 384.361293 31.37 \n",
       "\" clip-path=\"url(#p5534fad32f)\" style=\"fill: none; stroke: #4c72b0; stroke-width: 3; stroke-linecap: round\"/>\n",
       "   </g>\n",
       "   <g id=\"patch_11\">\n",
       "    <path d=\"M 122.6625 263.7396 \n",
       "L 122.6625 31.37 \n",
       "\" style=\"fill: none; stroke: #ffffff; stroke-width: 1.25; stroke-linejoin: miter; stroke-linecap: square\"/>\n",
       "   </g>\n",
       "   <g id=\"patch_12\">\n",
       "    <path d=\"M 413.2005 263.7396 \n",
       "L 413.2005 31.37 \n",
       "\" style=\"fill: none; stroke: #ffffff; stroke-width: 1.25; stroke-linejoin: miter; stroke-linecap: square\"/>\n",
       "   </g>\n",
       "   <g id=\"patch_13\">\n",
       "    <path d=\"M 122.6625 263.7396 \n",
       "L 413.2005 263.7396 \n",
       "\" style=\"fill: none; stroke: #ffffff; stroke-width: 1.25; stroke-linejoin: miter; stroke-linecap: square\"/>\n",
       "   </g>\n",
       "   <g id=\"patch_14\">\n",
       "    <path d=\"M 122.6625 31.37 \n",
       "L 413.2005 31.37 \n",
       "\" style=\"fill: none; stroke: #ffffff; stroke-width: 1.25; stroke-linejoin: miter; stroke-linecap: square\"/>\n",
       "   </g>\n",
       "   <g id=\"text_20\">\n",
       "    <!-- f1 моделей на обучающем комплекте -->\n",
       "    <g style=\"fill: #262626\" transform=\"translate(180.971344 14.529687) scale(0.1 -0.1)\">\n",
       "     <defs>\n",
       "      <path id=\"ArialMT-439\" d=\"M 422 3319 \n",
       "L 984 3319 \n",
       "L 984 788 \n",
       "L 2544 3319 \n",
       "L 3150 3319 \n",
       "L 3150 0 \n",
       "L 2588 0 \n",
       "L 2588 2516 \n",
       "L 1028 0 \n",
       "L 422 0 \n",
       "L 422 3319 \n",
       "z\n",
       "M 2374 4575 \n",
       "L 2759 4575 \n",
       "Q 2712 4184 2473 3975 \n",
       "Q 2234 3766 1837 3766 \n",
       "Q 1437 3766 1198 3973 \n",
       "Q 959 4181 912 4575 \n",
       "L 1296 4575 \n",
       "Q 1340 4363 1469 4258 \n",
       "Q 1599 4153 1818 4153 \n",
       "Q 2071 4153 2201 4254 \n",
       "Q 2331 4356 2374 4575 \n",
       "z\n",
       "\" transform=\"scale(0.015625)\"/>\n",
       "      <path id=\"ArialMT-431\" d=\"M 2853 4691 \n",
       "L 3350 4684 \n",
       "Q 3316 4350 3202 4219 \n",
       "Q 3088 4088 2908 4050 \n",
       "Q 2728 4013 2203 4013 \n",
       "Q 1506 4013 1253 3878 \n",
       "Q 1000 3744 889 3448 \n",
       "Q 778 3153 766 2688 \n",
       "Q 978 3003 1262 3161 \n",
       "Q 1547 3319 1903 3319 \n",
       "Q 2556 3319 2984 2870 \n",
       "Q 3413 2422 3413 1656 \n",
       "Q 3413 1075 3197 703 \n",
       "Q 2981 331 2686 128 \n",
       "Q 2391 -75 1881 -75 \n",
       "Q 1291 -75 962 195 \n",
       "Q 634 466 459 887 \n",
       "Q 284 1309 284 2356 \n",
       "Q 284 3672 729 4128 \n",
       "Q 1175 4584 2100 4584 \n",
       "Q 2675 4584 2753 4603 \n",
       "Q 2831 4622 2853 4691 \n",
       "z\n",
       "M 2825 1672 \n",
       "Q 2825 2191 2579 2522 \n",
       "Q 2334 2853 1888 2853 \n",
       "Q 1422 2853 1169 2503 \n",
       "Q 916 2153 916 1569 \n",
       "Q 916 991 1195 684 \n",
       "Q 1475 378 1884 378 \n",
       "Q 2303 378 2564 733 \n",
       "Q 2825 1088 2825 1672 \n",
       "z\n",
       "\" transform=\"scale(0.015625)\"/>\n",
       "      <path id=\"ArialMT-443\" d=\"M 397 -1278 \n",
       "L 334 -750 \n",
       "Q 519 -800 656 -800 \n",
       "Q 844 -800 956 -737 \n",
       "Q 1069 -675 1141 -563 \n",
       "Q 1194 -478 1313 -144 \n",
       "Q 1328 -97 1363 -6 \n",
       "L 103 3319 \n",
       "L 709 3319 \n",
       "L 1400 1397 \n",
       "Q 1534 1031 1641 628 \n",
       "Q 1738 1016 1872 1384 \n",
       "L 2581 3319 \n",
       "L 3144 3319 \n",
       "L 1881 -56 \n",
       "Q 1678 -603 1566 -809 \n",
       "Q 1416 -1088 1222 -1217 \n",
       "Q 1028 -1347 759 -1347 \n",
       "Q 597 -1347 397 -1278 \n",
       "z\n",
       "\" transform=\"scale(0.015625)\"/>\n",
       "      <path id=\"ArialMT-44e\" d=\"M 428 3319 \n",
       "L 991 3319 \n",
       "L 991 1931 \n",
       "L 1672 1931 \n",
       "Q 1747 2644 2117 3019 \n",
       "Q 2488 3394 3078 3394 \n",
       "Q 3581 3394 3872 3191 \n",
       "Q 4163 2988 4352 2631 \n",
       "Q 4541 2275 4541 1672 \n",
       "Q 4541 813 4150 369 \n",
       "Q 3759 -75 3091 -75 \n",
       "Q 2469 -75 2094 337 \n",
       "Q 1719 750 1672 1469 \n",
       "L 991 1469 \n",
       "L 991 0 \n",
       "L 428 0 \n",
       "L 428 3319 \n",
       "z\n",
       "M 3109 2916 \n",
       "Q 2697 2916 2467 2598 \n",
       "Q 2238 2281 2238 1709 \n",
       "Q 2238 1025 2469 706 \n",
       "Q 2700 388 3088 388 \n",
       "Q 3472 388 3717 683 \n",
       "Q 3963 978 3963 1634 \n",
       "Q 3963 2275 3750 2595 \n",
       "Q 3538 2916 3109 2916 \n",
       "z\n",
       "\" transform=\"scale(0.015625)\"/>\n",
       "      <path id=\"ArialMT-449\" d=\"M 441 3319 \n",
       "L 1003 3319 \n",
       "L 1003 463 \n",
       "L 2284 463 \n",
       "L 2284 3319 \n",
       "L 2847 3319 \n",
       "L 2847 463 \n",
       "L 4131 463 \n",
       "L 4131 3319 \n",
       "L 4691 3319 \n",
       "L 4691 463 \n",
       "L 5063 463 \n",
       "L 5063 -941 \n",
       "L 4597 -941 \n",
       "L 4597 0 \n",
       "L 441 0 \n",
       "L 441 3319 \n",
       "z\n",
       "\" transform=\"scale(0.015625)\"/>\n",
       "      <path id=\"ArialMT-43f\" d=\"M 425 3319 \n",
       "L 3044 3319 \n",
       "L 3044 0 \n",
       "L 2481 0 \n",
       "L 2481 2853 \n",
       "L 988 2853 \n",
       "L 988 0 \n",
       "L 425 0 \n",
       "L 425 3319 \n",
       "z\n",
       "\" transform=\"scale(0.015625)\"/>\n",
       "     </defs>\n",
       "     <use xlink:href=\"#ArialMT-66\"/>\n",
       "     <use xlink:href=\"#ArialMT-31\" x=\"27.783203\"/>\n",
       "     <use xlink:href=\"#ArialMT-20\" x=\"83.398438\"/>\n",
       "     <use xlink:href=\"#ArialMT-43c\" x=\"111.181641\"/>\n",
       "     <use xlink:href=\"#ArialMT-43e\" x=\"179.931641\"/>\n",
       "     <use xlink:href=\"#ArialMT-434\" x=\"233.296875\"/>\n",
       "     <use xlink:href=\"#ArialMT-435\" x=\"291.646484\"/>\n",
       "     <use xlink:href=\"#ArialMT-43b\" x=\"343.886719\"/>\n",
       "     <use xlink:href=\"#ArialMT-435\" x=\"402.236328\"/>\n",
       "     <use xlink:href=\"#ArialMT-439\" x=\"457.851562\"/>\n",
       "     <use xlink:href=\"#ArialMT-20\" x=\"513.710938\"/>\n",
       "     <use xlink:href=\"#ArialMT-43d\" x=\"541.494141\"/>\n",
       "     <use xlink:href=\"#ArialMT-430\" x=\"596.71875\"/>\n",
       "     <use xlink:href=\"#ArialMT-20\" x=\"652.333984\"/>\n",
       "     <use xlink:href=\"#ArialMT-43e\" x=\"680.117188\"/>\n",
       "     <use xlink:href=\"#ArialMT-431\" x=\"735.732422\"/>\n",
       "     <use xlink:href=\"#ArialMT-443\" x=\"790.757812\"/>\n",
       "     <use xlink:href=\"#ArialMT-447\" x=\"840.757812\"/>\n",
       "     <use xlink:href=\"#ArialMT-430\" x=\"892.857422\"/>\n",
       "     <use xlink:href=\"#ArialMT-44e\" x=\"948.472656\"/>\n",
       "     <use xlink:href=\"#ArialMT-449\" x=\"1023.472656\"/>\n",
       "     <use xlink:href=\"#ArialMT-435\" x=\"1104.623047\"/>\n",
       "     <use xlink:href=\"#ArialMT-43c\" x=\"1160.238281\"/>\n",
       "     <use xlink:href=\"#ArialMT-20\" x=\"1228.988281\"/>\n",
       "     <use xlink:href=\"#ArialMT-43a\" x=\"1256.771484\"/>\n",
       "     <use xlink:href=\"#ArialMT-43e\" x=\"1301.646484\"/>\n",
       "     <use xlink:href=\"#ArialMT-43c\" x=\"1357.261719\"/>\n",
       "     <use xlink:href=\"#ArialMT-43f\" x=\"1426.011719\"/>\n",
       "     <use xlink:href=\"#ArialMT-43b\" x=\"1480.162109\"/>\n",
       "     <use xlink:href=\"#ArialMT-435\" x=\"1538.511719\"/>\n",
       "     <use xlink:href=\"#ArialMT-43a\" x=\"1594.126953\"/>\n",
       "     <use xlink:href=\"#ArialMT-442\" x=\"1639.001953\"/>\n",
       "     <use xlink:href=\"#ArialMT-435\" x=\"1683.677734\"/>\n",
       "    </g>\n",
       "    <!--  (кросс-валидация) -->\n",
       "    <g style=\"fill: #262626\" transform=\"translate(223.646344 25.37) scale(0.1 -0.1)\">\n",
       "     <defs>\n",
       "      <path id=\"ArialMT-441\" d=\"M 2588 1216 \n",
       "L 3141 1144 \n",
       "Q 3050 572 2676 248 \n",
       "Q 2303 -75 1759 -75 \n",
       "Q 1078 -75 664 370 \n",
       "Q 250 816 250 1647 \n",
       "Q 250 2184 428 2587 \n",
       "Q 606 2991 970 3192 \n",
       "Q 1334 3394 1763 3394 \n",
       "Q 2303 3394 2647 3120 \n",
       "Q 2991 2847 3088 2344 \n",
       "L 2541 2259 \n",
       "Q 2463 2594 2264 2762 \n",
       "Q 2066 2931 1784 2931 \n",
       "Q 1359 2931 1093 2626 \n",
       "Q 828 2322 828 1663 \n",
       "Q 828 994 1084 691 \n",
       "Q 1341 388 1753 388 \n",
       "Q 2084 388 2306 591 \n",
       "Q 2528 794 2588 1216 \n",
       "z\n",
       "\" transform=\"scale(0.015625)\"/>\n",
       "      <path id=\"ArialMT-2d\" d=\"M 203 1375 \n",
       "L 203 1941 \n",
       "L 1931 1941 \n",
       "L 1931 1375 \n",
       "L 203 1375 \n",
       "z\n",
       "\" transform=\"scale(0.015625)\"/>\n",
       "      <path id=\"ArialMT-432\" d=\"M 425 3319 \n",
       "L 1722 3319 \n",
       "Q 2200 3319 2433 3239 \n",
       "Q 2666 3159 2833 2946 \n",
       "Q 3000 2734 3000 2438 \n",
       "Q 3000 2200 2901 2023 \n",
       "Q 2803 1847 2606 1728 \n",
       "Q 2841 1650 2995 1436 \n",
       "Q 3150 1222 3150 928 \n",
       "Q 3119 456 2812 228 \n",
       "Q 2506 0 1922 0 \n",
       "L 425 0 \n",
       "L 425 3319 \n",
       "z\n",
       "M 988 1922 \n",
       "L 1588 1922 \n",
       "Q 1947 1922 2081 1959 \n",
       "Q 2216 1997 2322 2111 \n",
       "Q 2428 2225 2428 2384 \n",
       "Q 2428 2647 2242 2750 \n",
       "Q 2056 2853 1606 2853 \n",
       "L 988 2853 \n",
       "L 988 1922 \n",
       "z\n",
       "M 988 463 \n",
       "L 1728 463 \n",
       "Q 2206 463 2384 573 \n",
       "Q 2563 684 2572 956 \n",
       "Q 2572 1116 2469 1252 \n",
       "Q 2366 1388 2200 1423 \n",
       "Q 2034 1459 1669 1459 \n",
       "L 988 1459 \n",
       "L 988 463 \n",
       "z\n",
       "\" transform=\"scale(0.015625)\"/>\n",
       "      <path id=\"ArialMT-446\" d=\"M 431 3319 \n",
       "L 994 3319 \n",
       "L 994 463 \n",
       "L 2550 463 \n",
       "L 2550 3319 \n",
       "L 3113 3319 \n",
       "L 3113 463 \n",
       "L 3475 463 \n",
       "L 3475 -941 \n",
       "L 3013 -941 \n",
       "L 3013 0 \n",
       "L 431 0 \n",
       "L 431 3319 \n",
       "z\n",
       "\" transform=\"scale(0.015625)\"/>\n",
       "      <path id=\"ArialMT-44f\" d=\"M 3034 3319 \n",
       "L 3034 0 \n",
       "L 2475 0 \n",
       "L 2475 1294 \n",
       "L 2150 1294 \n",
       "Q 1853 1294 1708 1217 \n",
       "Q 1563 1141 1284 725 \n",
       "L 794 0 \n",
       "L 97 0 \n",
       "L 703 894 \n",
       "Q 981 1303 1256 1356 \n",
       "Q 775 1422 542 1703 \n",
       "Q 309 1984 309 2350 \n",
       "Q 309 2781 614 3050 \n",
       "Q 919 3319 1497 3319 \n",
       "L 3034 3319 \n",
       "z\n",
       "M 2475 2853 \n",
       "L 1675 2853 \n",
       "Q 1172 2853 1026 2697 \n",
       "Q 881 2541 881 2331 \n",
       "Q 881 2034 1095 1895 \n",
       "Q 1309 1756 1853 1756 \n",
       "L 2475 1756 \n",
       "L 2475 2853 \n",
       "z\n",
       "\" transform=\"scale(0.015625)\"/>\n",
       "     </defs>\n",
       "     <use xlink:href=\"#ArialMT-20\"/>\n",
       "     <use xlink:href=\"#ArialMT-28\" x=\"27.783203\"/>\n",
       "     <use xlink:href=\"#ArialMT-43a\" x=\"61.083984\"/>\n",
       "     <use xlink:href=\"#ArialMT-440\" x=\"104.833984\"/>\n",
       "     <use xlink:href=\"#ArialMT-43e\" x=\"160.449219\"/>\n",
       "     <use xlink:href=\"#ArialMT-441\" x=\"216.064453\"/>\n",
       "     <use xlink:href=\"#ArialMT-441\" x=\"266.064453\"/>\n",
       "     <use xlink:href=\"#ArialMT-2d\" x=\"316.064453\"/>\n",
       "     <use xlink:href=\"#ArialMT-432\" x=\"349.365234\"/>\n",
       "     <use xlink:href=\"#ArialMT-430\" x=\"401.365234\"/>\n",
       "     <use xlink:href=\"#ArialMT-43b\" x=\"456.980469\"/>\n",
       "     <use xlink:href=\"#ArialMT-438\" x=\"515.330078\"/>\n",
       "     <use xlink:href=\"#ArialMT-434\" x=\"571.189453\"/>\n",
       "     <use xlink:href=\"#ArialMT-430\" x=\"629.539062\"/>\n",
       "     <use xlink:href=\"#ArialMT-446\" x=\"685.154297\"/>\n",
       "     <use xlink:href=\"#ArialMT-438\" x=\"742.429688\"/>\n",
       "     <use xlink:href=\"#ArialMT-44f\" x=\"798.289062\"/>\n",
       "     <use xlink:href=\"#ArialMT-29\" x=\"852.439453\"/>\n",
       "    </g>\n",
       "   </g>\n",
       "   <g id=\"legend_1\">\n",
       "    <g id=\"patch_15\">\n",
       "     <path d=\"M 127.3583 334.589446 \n",
       "L 216.6508 334.589446 \n",
       "Q 218.8508 334.589446 218.8508 332.389446 \n",
       "L 218.8508 306.29504 \n",
       "Q 218.8508 304.09504 216.6508 304.09504 \n",
       "L 127.3583 304.09504 \n",
       "Q 125.1583 304.09504 125.1583 306.29504 \n",
       "L 125.1583 332.389446 \n",
       "Q 125.1583 334.589446 127.3583 334.589446 \n",
       "z\n",
       "\" style=\"fill: #eaeaf2; opacity: 0.8; stroke: #cccccc; stroke-linejoin: miter\"/>\n",
       "    </g>\n",
       "    <g id=\"line2d_19\">\n",
       "     <path d=\"M 129.5583 319.42904 \n",
       "L 140.5583 319.42904 \n",
       "L 151.5583 319.42904 \n",
       "\" style=\"fill: none; stroke: #4c72b0; stroke-width: 3; stroke-linecap: round\"/>\n",
       "    </g>\n",
       "    <g id=\"text_21\">\n",
       "     <!-- Пороговое -->\n",
       "     <g style=\"fill: #262626\" transform=\"translate(160.3583 316.368634) scale(0.11 -0.11)\">\n",
       "      <defs>\n",
       "       <path id=\"ArialMT-41f\" d=\"M 500 4581 \n",
       "L 4103 4581 \n",
       "L 4103 0 \n",
       "L 3494 0 \n",
       "L 3494 4041 \n",
       "L 1106 4041 \n",
       "L 1106 0 \n",
       "L 500 0 \n",
       "L 500 4581 \n",
       "z\n",
       "\" transform=\"scale(0.015625)\"/>\n",
       "       <path id=\"ArialMT-433\" d=\"M 425 3319 \n",
       "L 2334 3319 \n",
       "L 2334 2853 \n",
       "L 988 2853 \n",
       "L 988 0 \n",
       "L 425 0 \n",
       "L 425 3319 \n",
       "z\n",
       "\" transform=\"scale(0.015625)\"/>\n",
       "      </defs>\n",
       "      <use xlink:href=\"#ArialMT-41f\"/>\n",
       "      <use xlink:href=\"#ArialMT-43e\" x=\"71.875\"/>\n",
       "      <use xlink:href=\"#ArialMT-440\" x=\"127.490234\"/>\n",
       "      <use xlink:href=\"#ArialMT-43e\" x=\"183.105469\"/>\n",
       "      <use xlink:href=\"#ArialMT-433\" x=\"238.720703\"/>\n",
       "      <use xlink:href=\"#ArialMT-43e\" x=\"272.945312\"/>\n",
       "      <use xlink:href=\"#ArialMT-432\" x=\"328.560547\"/>\n",
       "      <use xlink:href=\"#ArialMT-43e\" x=\"380.560547\"/>\n",
       "      <use xlink:href=\"#ArialMT-435\" x=\"436.175781\"/>\n",
       "     </g>\n",
       "     <!--  значение -->\n",
       "     <g style=\"fill: #262626\" transform=\"translate(160.3583 328.003196) scale(0.11 -0.11)\">\n",
       "      <defs>\n",
       "       <path id=\"ArialMT-437\" d=\"M 1156 1500 \n",
       "L 1156 1941 \n",
       "Q 1513 1944 1642 1969 \n",
       "Q 1772 1994 1887 2119 \n",
       "Q 2003 2244 2003 2431 \n",
       "Q 2003 2659 1851 2795 \n",
       "Q 1700 2931 1459 2931 \n",
       "Q 984 2931 794 2372 \n",
       "L 259 2459 \n",
       "Q 509 3394 1466 3394 \n",
       "Q 1997 3394 2298 3103 \n",
       "Q 2600 2813 2600 2409 \n",
       "Q 2600 2003 2206 1763 \n",
       "Q 2456 1628 2581 1420 \n",
       "Q 2706 1213 2706 928 \n",
       "Q 2706 481 2381 203 \n",
       "Q 2056 -75 1472 -75 \n",
       "Q 338 -75 156 934 \n",
       "L 684 1047 \n",
       "Q 756 728 976 553 \n",
       "Q 1197 378 1481 378 \n",
       "Q 1766 378 1955 539 \n",
       "Q 2144 700 2144 950 \n",
       "Q 2144 1144 2025 1287 \n",
       "Q 1906 1431 1772 1467 \n",
       "Q 1638 1503 1284 1503 \n",
       "Q 1256 1503 1156 1500 \n",
       "z\n",
       "\" transform=\"scale(0.015625)\"/>\n",
       "      </defs>\n",
       "      <use xlink:href=\"#ArialMT-20\"/>\n",
       "      <use xlink:href=\"#ArialMT-437\" x=\"27.783203\"/>\n",
       "      <use xlink:href=\"#ArialMT-43d\" x=\"73.632812\"/>\n",
       "      <use xlink:href=\"#ArialMT-430\" x=\"128.857422\"/>\n",
       "      <use xlink:href=\"#ArialMT-447\" x=\"182.222656\"/>\n",
       "      <use xlink:href=\"#ArialMT-435\" x=\"234.322266\"/>\n",
       "      <use xlink:href=\"#ArialMT-43d\" x=\"289.9375\"/>\n",
       "      <use xlink:href=\"#ArialMT-438\" x=\"345.162109\"/>\n",
       "      <use xlink:href=\"#ArialMT-435\" x=\"401.021484\"/>\n",
       "     </g>\n",
       "    </g>\n",
       "   </g>\n",
       "  </g>\n",
       " </g>\n",
       " <defs>\n",
       "  <clipPath id=\"p5534fad32f\">\n",
       "   <rect x=\"122.6625\" y=\"31.37\" width=\"290.538\" height=\"232.3696\"/>\n",
       "  </clipPath>\n",
       " </defs>\n",
       "</svg>\n"
      ],
      "text/plain": [
       "<Figure size 6000x5000 with 1 Axes>"
      ]
     },
     "metadata": {},
     "output_type": "display_data"
    }
   ],
   "source": [
    "bar_values = ml_results['f1']\n",
    "bar_color = ['crimson' if (x < 0.75) else 'mediumseagreen' for x in bar_values ]\n",
    "\n",
    "sns.set(rc={'figure.figsize':(6,5)})\n",
    "c = sns.barplot(data = ml_results,\n",
    "    x = 'f1',\n",
    "    y = 'Модель',\n",
    "    palette = bar_color)\n",
    "c.axes.set_title('f1 моделей на обучающем комплекте\\n (кросс-валидация)',fontsize=10)\n",
    "c.set_xlabel('Значение метрики f1',fontsize=10)\n",
    "c.set_ylabel('Модель',fontsize=10)\n",
    "c.tick_params(labelsize=10)\n",
    "plt.axvline(0.75, linewidth = 3, label = 'Пороговое\\n значение')\n",
    "plt.legend(bbox_to_anchor=(0.35, -0.15), loc=\"best\")\n",
    "plt.tight_layout()\n",
    "plt.show()"
   ]
  },
  {
   "cell_type": "markdown",
   "metadata": {
    "id": "BnZv8P9HC836"
   },
   "source": [
    "**<font color='mediumblue'>ВЫВОДЫ по 4 Машинное обучение моделей</font>**\n",
    "\n",
    "---"
   ]
  },
  {
   "cell_type": "markdown",
   "metadata": {
    "id": "-XoN1uk8C836"
   },
   "source": [
    "**(1)** проведено машинное обучение четырех моделей классификации:\n",
    "\n",
    " * LogisticRegression\n",
    "\n",
    " * CatBoostClassifier\n",
    "\n",
    " * DecisionTreeClassifier\n",
    "\n",
    " * LinearSVC\n",
    "\n",
    "**(2)** для выявления наилучшего результата кроме подбора гиперпараметров моделей было сделано две ветки обучения в зависимости от типа векторизации текста:\n",
    "\n",
    " * CountVectorizer()\n",
    "\n",
    " * TfidfVectorizer()\n",
    "\n",
    "**(3)** дополнительно было исследовано влияние гиперпараметра ngram_range. Были проведены тестовые обучения моделей на значениях (2), (3), (4), показавших результаты значения метрики f1 значительно хуже, чем без ngram_range. Однако, применение гиперпараметра со значением (1, 2) позволило увеличить значение метрики на обучающем комплекте.\n",
    "\n",
    "**(4)** подбор более широкой гаммы гиперпараметров не был проведен ввиду большого объема датасета и ограничений вычислительных мощностей Google Colab и локальной версии Jupiter Notebook\n",
    "\n",
    "**(5)** по итогам машинного обучения моделей на тестовой выборке три модели показали значение метрики f1, соответствующее установленному ограничению:\n",
    "\n",
    " * LinearCSV (векторизация текста с помощью TfidfVektorizer())\n",
    "\n",
    " * LogisticRegression (векторизация текста с помощью CountVectorizer())\n",
    "\n",
    " * LinearSVC (векторизация текста с помощью CountVectorizer())\n",
    "\n",
    "**(6)** Лучшей моделью стала LinearSVC со значением метрики f1:"
   ]
  },
  {
   "cell_type": "code",
   "execution_count": 165,
   "metadata": {
    "id": "zr9lkF0oC836",
    "outputId": "5b5cbeb2-dc50-4add-d6d5-0a18ba0ea7c9"
   },
   "outputs": [
    {
     "data": {
      "text/plain": [
       "0.793"
      ]
     },
     "execution_count": 165,
     "metadata": {},
     "output_type": "execute_result"
    }
   ],
   "source": [
    "f1_svc_tfidf"
   ]
  },
  {
   "cell_type": "markdown",
   "metadata": {
    "id": "OzgLyXf3C837"
   },
   "source": [
    "Именно эта модель будет проверена на тестовой выборке."
   ]
  },
  {
   "cell_type": "markdown",
   "metadata": {
    "id": "4-w1CoBsC837"
   },
   "source": [
    "## <font color='green'>**Проверка лучшей модели на тестовой выборке**</font>\n",
    "\n",
    "---"
   ]
  },
  {
   "cell_type": "markdown",
   "metadata": {
    "id": "ksUt2wYAqzFE"
   },
   "source": [
    "### **Тестовая проверка модели LinearSVC**"
   ]
  },
  {
   "cell_type": "markdown",
   "metadata": {
    "id": "hDy50wzwC838"
   },
   "source": [
    "Векторизация тестового комплекта не требуется, так как для получения предскзааний будет использована лучшая модель, выявленная с помощью Pipeline и RandomizedSearchCV. Лучшая модель сохранена в переменную best_model_svc_tfidf."
   ]
  },
  {
   "cell_type": "code",
   "execution_count": 166,
   "metadata": {
    "id": "Eivz9YA2C838"
   },
   "outputs": [],
   "source": [
    "# получаем предсказания лучшей модели\n",
    "predictions_svc_test = best_model_svc_tfidf.predict(feature_test)"
   ]
  },
  {
   "cell_type": "code",
   "execution_count": 167,
   "metadata": {
    "id": "_jl7L0VpC838",
    "outputId": "23ba6d5c-8246-4012-adce-21b692315f31"
   },
   "outputs": [
    {
     "name": "stdout",
     "output_type": "stream",
     "text": [
      "f1 модели LinearSVC на тестовой выборке:\n",
      " 0.792\n"
     ]
    }
   ],
   "source": [
    "# получаем значение f1 лучшей модели на тестовой выборке\n",
    "f1_svс_test = round(f1_score(target_test, predictions_svc_test), 3)\n",
    "print('f1 модели LinearSVC на тестовой выборке:\\n', \\\n",
    "      f1_svс_test)"
   ]
  },
  {
   "cell_type": "markdown",
   "metadata": {
    "id": "e1H7idPhC838"
   },
   "source": [
    "### **Тестовая проверка модели DummyClassifier на признаках, подготовленных с помощью TfidfVectorizer()**"
   ]
  },
  {
   "cell_type": "code",
   "execution_count": 168,
   "metadata": {
    "id": "tPpDXUmHC839"
   },
   "outputs": [],
   "source": [
    "# объявляем модель\n",
    "model_dummy = DummyClassifier(\n",
    "    strategy = 'constant',\n",
    "    constant = 1,\n",
    "    random_state = 1\n",
    ")"
   ]
  },
  {
   "cell_type": "code",
   "execution_count": 169,
   "metadata": {
    "id": "0y_AcKEUC839",
    "outputId": "0c8dceea-b6f1-4741-8a46-75a7871d23d6"
   },
   "outputs": [
    {
     "data": {
      "text/html": [
       "<style>#sk-container-id-17 {color: black;background-color: white;}#sk-container-id-17 pre{padding: 0;}#sk-container-id-17 div.sk-toggleable {background-color: white;}#sk-container-id-17 label.sk-toggleable__label {cursor: pointer;display: block;width: 100%;margin-bottom: 0;padding: 0.3em;box-sizing: border-box;text-align: center;}#sk-container-id-17 label.sk-toggleable__label-arrow:before {content: \"▸\";float: left;margin-right: 0.25em;color: #696969;}#sk-container-id-17 label.sk-toggleable__label-arrow:hover:before {color: black;}#sk-container-id-17 div.sk-estimator:hover label.sk-toggleable__label-arrow:before {color: black;}#sk-container-id-17 div.sk-toggleable__content {max-height: 0;max-width: 0;overflow: hidden;text-align: left;background-color: #f0f8ff;}#sk-container-id-17 div.sk-toggleable__content pre {margin: 0.2em;color: black;border-radius: 0.25em;background-color: #f0f8ff;}#sk-container-id-17 input.sk-toggleable__control:checked~div.sk-toggleable__content {max-height: 200px;max-width: 100%;overflow: auto;}#sk-container-id-17 input.sk-toggleable__control:checked~label.sk-toggleable__label-arrow:before {content: \"▾\";}#sk-container-id-17 div.sk-estimator input.sk-toggleable__control:checked~label.sk-toggleable__label {background-color: #d4ebff;}#sk-container-id-17 div.sk-label input.sk-toggleable__control:checked~label.sk-toggleable__label {background-color: #d4ebff;}#sk-container-id-17 input.sk-hidden--visually {border: 0;clip: rect(1px 1px 1px 1px);clip: rect(1px, 1px, 1px, 1px);height: 1px;margin: -1px;overflow: hidden;padding: 0;position: absolute;width: 1px;}#sk-container-id-17 div.sk-estimator {font-family: monospace;background-color: #f0f8ff;border: 1px dotted black;border-radius: 0.25em;box-sizing: border-box;margin-bottom: 0.5em;}#sk-container-id-17 div.sk-estimator:hover {background-color: #d4ebff;}#sk-container-id-17 div.sk-parallel-item::after {content: \"\";width: 100%;border-bottom: 1px solid gray;flex-grow: 1;}#sk-container-id-17 div.sk-label:hover label.sk-toggleable__label {background-color: #d4ebff;}#sk-container-id-17 div.sk-serial::before {content: \"\";position: absolute;border-left: 1px solid gray;box-sizing: border-box;top: 0;bottom: 0;left: 50%;z-index: 0;}#sk-container-id-17 div.sk-serial {display: flex;flex-direction: column;align-items: center;background-color: white;padding-right: 0.2em;padding-left: 0.2em;position: relative;}#sk-container-id-17 div.sk-item {position: relative;z-index: 1;}#sk-container-id-17 div.sk-parallel {display: flex;align-items: stretch;justify-content: center;background-color: white;position: relative;}#sk-container-id-17 div.sk-item::before, #sk-container-id-17 div.sk-parallel-item::before {content: \"\";position: absolute;border-left: 1px solid gray;box-sizing: border-box;top: 0;bottom: 0;left: 50%;z-index: -1;}#sk-container-id-17 div.sk-parallel-item {display: flex;flex-direction: column;z-index: 1;position: relative;background-color: white;}#sk-container-id-17 div.sk-parallel-item:first-child::after {align-self: flex-end;width: 50%;}#sk-container-id-17 div.sk-parallel-item:last-child::after {align-self: flex-start;width: 50%;}#sk-container-id-17 div.sk-parallel-item:only-child::after {width: 0;}#sk-container-id-17 div.sk-dashed-wrapped {border: 1px dashed gray;margin: 0 0.4em 0.5em 0.4em;box-sizing: border-box;padding-bottom: 0.4em;background-color: white;}#sk-container-id-17 div.sk-label label {font-family: monospace;font-weight: bold;display: inline-block;line-height: 1.2em;}#sk-container-id-17 div.sk-label-container {text-align: center;}#sk-container-id-17 div.sk-container {/* jupyter's `normalize.less` sets `[hidden] { display: none; }` but bootstrap.min.css set `[hidden] { display: none !important; }` so we also need the `!important` here to be able to override the default hidden behavior on the sphinx rendered scikit-learn.org. See: https://github.com/scikit-learn/scikit-learn/issues/21755 */display: inline-block !important;position: relative;}#sk-container-id-17 div.sk-text-repr-fallback {display: none;}</style><div id=\"sk-container-id-17\" class=\"sk-top-container\"><div class=\"sk-text-repr-fallback\"><pre>DummyClassifier(constant=1, random_state=1, strategy=&#x27;constant&#x27;)</pre><b>In a Jupyter environment, please rerun this cell to show the HTML representation or trust the notebook. <br />On GitHub, the HTML representation is unable to render, please try loading this page with nbviewer.org.</b></div><div class=\"sk-container\" hidden><div class=\"sk-item\"><div class=\"sk-estimator sk-toggleable\"><input class=\"sk-toggleable__control sk-hidden--visually\" id=\"sk-estimator-id-57\" type=\"checkbox\" checked><label for=\"sk-estimator-id-57\" class=\"sk-toggleable__label sk-toggleable__label-arrow\">DummyClassifier</label><div class=\"sk-toggleable__content\"><pre>DummyClassifier(constant=1, random_state=1, strategy=&#x27;constant&#x27;)</pre></div></div></div></div></div>"
      ],
      "text/plain": [
       "DummyClassifier(constant=1, random_state=1, strategy='constant')"
      ]
     },
     "execution_count": 169,
     "metadata": {},
     "output_type": "execute_result"
    }
   ],
   "source": [
    "# обучаем модель\n",
    "model_dummy.fit(feature_train, target_train)"
   ]
  },
  {
   "cell_type": "code",
   "execution_count": 170,
   "metadata": {
    "id": "VUJCpnSoC839"
   },
   "outputs": [],
   "source": [
    "# получаем предсказания модели на тестовой выборке\n",
    "predictions_dummy = model_dummy.predict(feature_test)"
   ]
  },
  {
   "cell_type": "code",
   "execution_count": 171,
   "metadata": {
    "id": "wrn0pLOUC839",
    "outputId": "1ba13433-f9cb-4810-8f61-463b579dc608"
   },
   "outputs": [
    {
     "name": "stdout",
     "output_type": "stream",
     "text": [
      "f1 модели DummyClassifier:\n",
      " 0.184\n"
     ]
    }
   ],
   "source": [
    "# получим значение метрики f1\n",
    "f1_dummy = round(f1_score(target_test, predictions_dummy), 3)\n",
    "print('f1 модели DummyClassifier:\\n', \\\n",
    "      f1_dummy)"
   ]
  },
  {
   "cell_type": "markdown",
   "metadata": {
    "id": "oWEmh9IUC83-"
   },
   "source": [
    "**<font color='mediumblue'>ВЫВОДЫ по 5 Проверка лучшей модели на тестовой выборке</font>**\n",
    "\n",
    "---"
   ]
  },
  {
   "cell_type": "markdown",
   "metadata": {
    "id": "VexT5F8DC83-"
   },
   "source": [
    "**(1)** Лучшая из выявленных моделей LinearSVC на тестовой выборке показала значение метрики f1 равное"
   ]
  },
  {
   "cell_type": "code",
   "execution_count": 172,
   "metadata": {
    "id": "qcgSSVcsC83-",
    "outputId": "d67f6825-782f-4710-e924-d726c24bd224"
   },
   "outputs": [
    {
     "data": {
      "text/plain": [
       "0.792"
      ]
     },
     "execution_count": 172,
     "metadata": {},
     "output_type": "execute_result"
    }
   ],
   "source": [
    "f1_svс_test"
   ]
  },
  {
   "cell_type": "markdown",
   "metadata": {
    "id": "WL9py1nGC83-"
   },
   "source": [
    "Значение метрики f1 на тестовой выборке всего на 0.001 меньше, чем на обучающей выборке, что говорит о том, что достигнута оптимальная обещающая способность модели.\n",
    "\n",
    "Модель полностью соответствует предъявленным требованиям."
   ]
  },
  {
   "cell_type": "markdown",
   "metadata": {
    "id": "ui6r3VcNC83_"
   },
   "source": [
    "**(2)** на базовой модели DummyClassifier получено значение метрики f1, равное"
   ]
  },
  {
   "cell_type": "code",
   "execution_count": 173,
   "metadata": {
    "id": "Vojv-0KlC83_",
    "outputId": "7b821f5c-3bcd-43ab-93f6-7e86e9051023"
   },
   "outputs": [
    {
     "data": {
      "text/plain": [
       "0.184"
      ]
     },
     "execution_count": 173,
     "metadata": {},
     "output_type": "execute_result"
    }
   ],
   "source": [
    "f1_dummy"
   ]
  },
  {
   "cell_type": "markdown",
   "metadata": {
    "id": "9FChUeIFC83_"
   },
   "source": [
    "что подтверждает высокое качество модели LinearSVC."
   ]
  },
  {
   "cell_type": "markdown",
   "metadata": {
    "id": "Vq2qVeXIC83_"
   },
   "source": [
    "# **<font color='crimson'>ИТОГОВЫЕ ВЫВОДЫ по проекту «Выявление токсичных комментарие в отзывах покупателей интернет-магазина „Викишоп‟»</font>**"
   ]
  },
  {
   "cell_type": "markdown",
   "metadata": {
    "id": "9J9WGf6vC84A"
   },
   "source": [
    "**(1)** в результате многоступенчатой предобработки данных из исходного датасета удалено 56.86% информации, являющейся шумовой информацией"
   ]
  },
  {
   "cell_type": "markdown",
   "metadata": {
    "id": "fNcur9X_C84A"
   },
   "source": [
    "**(2)** в целевом признаке выявлен дисбаланс классов:"
   ]
  },
  {
   "cell_type": "markdown",
   "metadata": {
    "id": "PZXAgvKyC84A"
   },
   "source": [
    "![Рис 1 Дисбаланс классов.JPG](data:image/jpeg;base64,/9j/4AAQSkZJRgABAQEAYABgAAD/4RDsRXhpZgAATU0AKgAAAAgABAE7AAIAAAALAAAISodpAAQAAAABAAAIVpydAAEAAAAWAAAQzuocAAcAAAgMAAAAPgAAAAAc6gAAAAgAAAAAAAAAAAAAAAAAAAAAAAAAAAAAAAAAAAAAAAAAAAAAAAAAAAAAAAAAAAAAAAAAAAAAAAAAAAAAAAAAAAAAAAAAAAAAAAAAAAAAAAAAAAAAAAAAAAAAAAAAAAAAAAAAAAAAAAAAAAAAAAAAAAAAAAAAAAAAAAAAAAAAAAAAAAAAAAAAAAAAAAAAAAAAAAAAAAAAAAAAAAAAAAAAAAAAAAAAAAAAAAAAAAAAAAAAAAAAAAAAAAAAAAAAAAAAAAAAAAAAAAAAAAAAAAAAAAAAAAAAAAAAAAAAAAAAAAAAAAAAAAAAAAAAAAAAAAAAAAAAAAAAAAAAAAAAAAAAAAAAAAAAAAAAAAAAAAAAAAAAAAAAAAAAAAAAAAAAAAAAAAAAAAAAAAAAAAAAAAAAAAAAAAAAAAAAAAAAAAAAAAAAAAAAAAAAAAAAAAAAAAAAAAAAAAAAAAAAAAAAAAAAAAAAAAAAAAAAAAAAAAAAAAAAAAAAAAAAAAAAAAAAAAAAAAAAAAAAAAAAAAAAAAAAAAAAAAAAAAAAAAAAAAAAAAAAAAAAAAAAAAAAAAAAAAAAAAAAAAAAAAAAAAAAAAAAAAAAAAAAAAAAAAAAAAAAAAAAAAAAAAAAAAAAAAAAAAAAAAAAAAAAAAAAAAAAAAAAAAAAAAAAAAAAAAAAAAAAAAAAAAAAAAAAAAAAAAAAAAAAAAAAAAAAAAAAAAAAAAAAAAAAAAAAAAAAAAAAAAAAAAAAAAAAAAAAAAAAAAAAAAAAAAAAAAAAAAAAAAAAAAAAAAAAAAAAAAAAAAAAAAAAAAAAAAAAAAAAAAAAAAAAAAAAAAAAAAAAAAAAAAAAAAAAAAAAAAAAAAAAAAAAAAAAAAAAAAAAAAAAAAAAAAAAAAAAAAAAAAAAAAAAAAAAAAAAAAAAAAAAAAAAAAAAAAAAAAAAAAAAAAAAAAAAAAAAAAAAAAAAAAAAAAAAAAAAAAAAAAAAAAAAAAAAAAAAAAAAAAAAAAAAAAAAAAAAAAAAAAAAAAAAAAAAAAAAAAAAAAAAAAAAAAAAAAAAAAAAAAAAAAAAAAAAAAAAAAAAAAAAAAAAAAAAAAAAAAAAAAAAAAAAAAAAAAAAAAAAAAAAAAAAAAAAAAAAAAAAAAAAAAAAAAAAAAAAAAAAAAAAAAAAAAAAAAAAAAAAAAAAAAAAAAAAAAAAAAAAAAAAAAAAAAAAAAAAAAAAAAAAAAAAAAAAAAAAAAAAAAAAAAAAAAAAAAAAAAAAAAAAAAAAAAAAAAAAAAAAAAAAAAAAAAAAAAAAAAAAAAAAAAAAAAAAAAAAAAAAAAAAAAAAAAAAAAAAAAAAAAAAAAAAAAAAAAAAAAAAAAAAAAAAAAAAAAAAAAAAAAAAAAAAAAAAAAAAAAAAAAAAAAAAAAAAAAAAAAAAAAAAAAAAAAAAAAAAAAAAAAAAAAAAAAAAAAAAAAAAAAAAAAAAAAAAAAAAAAAAAAAAAAAAAAAAAAAAAAAAAAAAAAAAAAAAAAAAAAAAAAAAAAAAAAAAAAAAAAAAAAAAAAAAAAAAAAAAAAAAAAAAAAAAAAAAAAAAAAAAAAAAAAAAAAAAAAAAAAAAAAAAAAAAAAAAAAAAAAAAAAAAAAAAAAAAAAAAAAAAAAAAAAAAAAAAAAAAAAAAAAAAAAAAAAAAAAAAAAAAAAAAAAAAAAAAAAAAAAAAAAAAAAAAAAAAAAAAAAAAAAAAAAAAAAAAAAAAAAAAAAAAAAAAAAAAAAAAAAAAAAAAAAAAAAAAAAAAAAAAAAAAAAAAAAAAAAAAAAAAAAAAAAAAAAAAAAAAAAAAAAAAAAAAAAAAAAAAAAAAAAAAAAAAAAAAAAAAAAAAAAAAAAAAAAAAAAAAAAAAAAAAAAAAAAAAAAAAAAAAAAAAAAAAAAAAAAAAAAAAAAAAAAAAAAAAAAAAAAAAAAAAAAAAAAAAAAAAAAAAAAAAAAAAAAAAAAAAAAAAAAAAAAAAAAAAAAAAAAAAAAAAAAAAAAAAAAAAAAAAAAAAAAAAAAAAAAAAAAAAAAAAAAAAAAAAAAAAAAAAAAAAAAAAAAAAAAAAAAAAAAAAAAAAAAAAAAAAAAAAAAAAAAAAAAAAAAAAAAAAAAAAAAAAAAAAAAAAAAAAAAAAAAAAAAAAAAAAAAAAAAAAAAAAAAAAAAAAAAAAAAAAAAAAAAAAAAAAAAAAAAAAAAAAAAAAAAAAAAAAAAAAAAAAAAAAAAAAAAAAAAAAAAAAAAAAAAAAAAAAAAAAAAAAAAAAAAAAAAAAAAAAAAAAAAAAAAAAAAAAAAAAAAAAAAAAAAAAAAAAAAAAAAAAAAAAAAAAAAAAAAAAAAAAAAAAAAAAAAAAAAAAAAAAAAAAAAAAAAAAAAAAAAAAAAAAAAAAAAAAAAAAAAAAAAAAAAAAAAAAAAAAAAAAAAAAAAAAAAAAAAAAAAAAAAAAAAAAAAAAAAAAAAAAAAAAAAAAAAAAAAAAAAAAAAAAAAAAAAAAAAAAAAAAAAAAAAAAAAAAAAAAAAAAAAAAAAAAAAAAAAAAAAAAAAAAAAAAAAAAAAAAAAAAAAAAAAAAAAAAAAAAAAAAAAAAAAAAAAAAAAAAAAAAAAAAAAAAAAAAAAAAAAAAAAAAAAAAAAAAAAAAAAAAAAAAAAAAAAAAAAAAAAAAAAAAAAAAAAAAAAAAAAAAAAAAAAAAAAAAAAAAAAAAAAAAAAAAAAAAAAAAAAAAAAAAAAAAAAAAAEVnb3IgVW1hZXYAAAAFkAMAAgAAABQAABCkkAQAAgAAABQAABC4kpEAAgAAAAMwNAAAkpIAAgAAAAMwNAAA6hwABwAACAwAAAiYAAAAABzqAAAACAAAAAAAAAAAAAAAAAAAAAAAAAAAAAAAAAAAAAAAAAAAAAAAAAAAAAAAAAAAAAAAAAAAAAAAAAAAAAAAAAAAAAAAAAAAAAAAAAAAAAAAAAAAAAAAAAAAAAAAAAAAAAAAAAAAAAAAAAAAAAAAAAAAAAAAAAAAAAAAAAAAAAAAAAAAAAAAAAAAAAAAAAAAAAAAAAAAAAAAAAAAAAAAAAAAAAAAAAAAAAAAAAAAAAAAAAAAAAAAAAAAAAAAAAAAAAAAAAAAAAAAAAAAAAAAAAAAAAAAAAAAAAAAAAAAAAAAAAAAAAAAAAAAAAAAAAAAAAAAAAAAAAAAAAAAAAAAAAAAAAAAAAAAAAAAAAAAAAAAAAAAAAAAAAAAAAAAAAAAAAAAAAAAAAAAAAAAAAAAAAAAAAAAAAAAAAAAAAAAAAAAAAAAAAAAAAAAAAAAAAAAAAAAAAAAAAAAAAAAAAAAAAAAAAAAAAAAAAAAAAAAAAAAAAAAAAAAAAAAAAAAAAAAAAAAAAAAAAAAAAAAAAAAAAAAAAAAAAAAAAAAAAAAAAAAAAAAAAAAAAAAAAAAAAAAAAAAAAAAAAAAAAAAAAAAAAAAAAAAAAAAAAAAAAAAAAAAAAAAAAAAAAAAAAAAAAAAAAAAAAAAAAAAAAAAAAAAAAAAAAAAAAAAAAAAAAAAAAAAAAAAAAAAAAAAAAAAAAAAAAAAAAAAAAAAAAAAAAAAAAAAAAAAAAAAAAAAAAAAAAAAAAAAAAAAAAAAAAAAAAAAAAAAAAAAAAAAAAAAAAAAAAAAAAAAAAAAAAAAAAAAAAAAAAAAAAAAAAAAAAAAAAAAAAAAAAAAAAAAAAAAAAAAAAAAAAAAAAAAAAAAAAAAAAAAAAAAAAAAAAAAAAAAAAAAAAAAAAAAAAAAAAAAAAAAAAAAAAAAAAAAAAAAAAAAAAAAAAAAAAAAAAAAAAAAAAAAAAAAAAAAAAAAAAAAAAAAAAAAAAAAAAAAAAAAAAAAAAAAAAAAAAAAAAAAAAAAAAAAAAAAAAAAAAAAAAAAAAAAAAAAAAAAAAAAAAAAAAAAAAAAAAAAAAAAAAAAAAAAAAAAAAAAAAAAAAAAAAAAAAAAAAAAAAAAAAAAAAAAAAAAAAAAAAAAAAAAAAAAAAAAAAAAAAAAAAAAAAAAAAAAAAAAAAAAAAAAAAAAAAAAAAAAAAAAAAAAAAAAAAAAAAAAAAAAAAAAAAAAAAAAAAAAAAAAAAAAAAAAAAAAAAAAAAAAAAAAAAAAAAAAAAAAAAAAAAAAAAAAAAAAAAAAAAAAAAAAAAAAAAAAAAAAAAAAAAAAAAAAAAAAAAAAAAAAAAAAAAAAAAAAAAAAAAAAAAAAAAAAAAAAAAAAAAAAAAAAAAAAAAAAAAAAAAAAAAAAAAAAAAAAAAAAAAAAAAAAAAAAAAAAAAAAAAAAAAAAAAAAAAAAAAAAAAAAAAAAAAAAAAAAAAAAAAAAAAAAAAAAAAAAAAAAAAAAAAAAAAAAAAAAAAAAAAAAAAAAAAAAAAAAAAAAAAAAAAAAAAAAAAAAAAAAAAAAAAAAAAAAAAAAAAAAAAAAAAAAAAAAAAAAAAAAAAAAAAAAAAAAAAAAAAAAAAAAAAAAAAAAAAAAAAAAAAAAAAAAAAAAAAAAAAAAAAAAAAAAAAAAAAAAAAAAAAAAAAAAAAAAAAAAAAAAAAAAAAAAAAAAAAAAAAAAAAAAAAAAAAAAAAAAAAAAAAAAAAAAAAAAAAAAAAAAAAAAAAAAAAAAAAAAAAAAAAAAAAAAAAAAAAAAAAAAAAAAAAAAAAAAAAAAAAAAAAAAAAAAAAAAAAAAAAAAAAAAAAAAAAAAAAAAAAAAAAAAAAAAAAAAAAAAAAAAAAAAAAAAAAAAAAAAAAAAAAAAAAAAAAAAAAAAAAAAAAAAAAAAAAAAAAAAAAAAAAAAAAAAAAAAAAAAAAAAAAAAAAAAAAAAAAAAAAAAAAAAAAAAAAAAAAAAAAAAAAAAAAAAAAAAAAAAAAAAAAAAAAAAAAAAAAAAAAAAAAAAAAAAAAAAAAAAAAAAAAAAAAAAAAAAAAAAAAAAAAAAAAAAAAAAAAAAAAAAAAAAAAAAAAAAAAAAAAAAAAAAAAAAAAAAAAAAAAAAAAAAAAAAAAAAAAAAAAAAAAAAAAAAAAAAAAAAAAAAAAAAAAAAAAAAAAAAAAAAAAAAAAAAAAAAAAAAAAAAAAAAAAAAAAAAAAAAAAAAAAAAAAAAAAAAAAAAAAAAAAAAAAAAAAAAAAAAAAAAAAAAAAAAAAAAAAAAAAAAAAAAAAAAAAAAAAAAAAAAAAAAAAAAAAAAAAAAAAAAAAAAAAAAAAAAAAAAAAAAAAAAAAAAAAAAAAAAAAAAAAAAAAAAAAAAAAAAAAAAAAAAAAAAAAAAAAAAAAAAAAAAAAAAAAAAAAAAAAAAAAAAAAAAAAAAAAAAAAAAAAAAAAAAAAAAAAAAAAAAAAAAAAAAAAAAAAAAAAAAAAAAAAAAAAAAAAAAAAAAAAAAAAAAAAAAAAAAAAAAAAAAAAAAAAAAAAAAAAAAAAAAAAAAAAAAAAAAAAAAAAAAAAAAAAAAAAAAAAAAAAAAAAAAAAAAAAAAAAAAAAAAAAAAAAAAAAAAAAAAAAAAAAAAAAAAAAAAAAAAAAAAAAAAAAAAAAAAAAAAAAAAAAAAAAAAAAAAAAAAAAAAAAAAAAAAAAAAAAAAAAAAAAAAAAAAAAAAAAAAAAAAAAAAAAAAMjAyMzowMjowMyAxNjoyNjo0OAAyMDIzOjAyOjAzIDE2OjI2OjQ4AAAARQBnAG8AcgAgAFUAbQBhAGUAdgAAAP/hCx1odHRwOi8vbnMuYWRvYmUuY29tL3hhcC8xLjAvADw/eHBhY2tldCBiZWdpbj0n77u/JyBpZD0nVzVNME1wQ2VoaUh6cmVTek5UY3prYzlkJz8+DQo8eDp4bXBtZXRhIHhtbG5zOng9ImFkb2JlOm5zOm1ldGEvIj48cmRmOlJERiB4bWxuczpyZGY9Imh0dHA6Ly93d3cudzMub3JnLzE5OTkvMDIvMjItcmRmLXN5bnRheC1ucyMiPjxyZGY6RGVzY3JpcHRpb24gcmRmOmFib3V0PSJ1dWlkOmZhZjViZGQ1LWJhM2QtMTFkYS1hZDMxLWQzM2Q3NTE4MmYxYiIgeG1sbnM6ZGM9Imh0dHA6Ly9wdXJsLm9yZy9kYy9lbGVtZW50cy8xLjEvIi8+PHJkZjpEZXNjcmlwdGlvbiByZGY6YWJvdXQ9InV1aWQ6ZmFmNWJkZDUtYmEzZC0xMWRhLWFkMzEtZDMzZDc1MTgyZjFiIiB4bWxuczp4bXA9Imh0dHA6Ly9ucy5hZG9iZS5jb20veGFwLzEuMC8iPjx4bXA6Q3JlYXRlRGF0ZT4yMDIzLTAyLTAzVDE2OjI2OjQ4LjA0MDwveG1wOkNyZWF0ZURhdGU+PC9yZGY6RGVzY3JpcHRpb24+PHJkZjpEZXNjcmlwdGlvbiByZGY6YWJvdXQ9InV1aWQ6ZmFmNWJkZDUtYmEzZC0xMWRhLWFkMzEtZDMzZDc1MTgyZjFiIiB4bWxuczpkYz0iaHR0cDovL3B1cmwub3JnL2RjL2VsZW1lbnRzLzEuMS8iPjxkYzpjcmVhdG9yPjxyZGY6U2VxIHhtbG5zOnJkZj0iaHR0cDovL3d3dy53My5vcmcvMTk5OS8wMi8yMi1yZGYtc3ludGF4LW5zIyI+PHJkZjpsaT5FZ29yIFVtYWV2PC9yZGY6bGk+PC9yZGY6U2VxPg0KCQkJPC9kYzpjcmVhdG9yPjwvcmRmOkRlc2NyaXB0aW9uPjwvcmRmOlJERj48L3g6eG1wbWV0YT4NCiAgICAgICAgICAgICAgICAgICAgICAgICAgICAgICAgICAgICAgICAgICAgICAgICAgICAgICAgICAgICAgICAgICAgICAgICAgICAgICAgICAgICAgICAgICAgICAgICAgICAKICAgICAgICAgICAgICAgICAgICAgICAgICAgICAgICAgICAgICAgICAgICAgICAgICAgICAgICAgICAgICAgICAgICAgICAgICAgICAgICAgICAgICAgICAgICAgICAgICAgIAogICAgICAgICAgICAgICAgICAgICAgICAgICAgICAgICAgICAgICAgICAgICAgICAgICAgICAgICAgICAgICAgICAgICAgICAgICAgICAgICAgICAgICAgICAgICAgICAgICAgCiAgICAgICAgICAgICAgICAgICAgICAgICAgICAgICAgICAgICAgICAgICAgICAgICAgICAgICAgICAgICAgICAgICAgICAgICAgICAgICAgICAgICAgICAgICAgICAgICAgICAKICAgICAgICAgICAgICAgICAgICAgICAgICAgICAgICAgICAgICAgICAgICAgICAgICAgICAgICAgICAgICAgICAgICAgICAgICAgICAgICAgICAgICAgICAgICAgICAgICAgIAogICAgICAgICAgICAgICAgICAgICAgICAgICAgICAgICAgICAgICAgICAgICAgICAgICAgICAgICAgICAgICAgICAgICAgICAgICAgICAgICAgICAgICAgICAgICAgICAgICAgCiAgICAgICAgICAgICAgICAgICAgICAgICAgICAgICAgICAgICAgICAgICAgICAgICAgICAgICAgICAgICAgICAgICAgICAgICAgICAgICAgICAgICAgICAgICAgICAgICAgICAKICAgICAgICAgICAgICAgICAgICAgICAgICAgICAgICAgICAgICAgICAgICAgICAgICAgICAgICAgICAgICAgICAgICAgICAgICAgICAgICAgICAgICAgICAgICAgICAgICAgIAogICAgICAgICAgICAgICAgICAgICAgICAgICAgICAgICAgICAgICAgICAgICAgICAgICAgICAgICAgICAgICAgICAgICAgICAgICAgICAgICAgICAgICAgICAgICAgICAgICAgCiAgICAgICAgICAgICAgICAgICAgICAgICAgICAgICAgICAgICAgICAgICAgICAgICAgICAgICAgICAgICAgICAgICAgICAgICAgICAgICAgICAgICAgICAgICAgICAgICAgICAKICAgICAgICAgICAgICAgICAgICAgICAgICAgICAgICAgICAgICAgICAgICAgICAgICAgICAgICAgICAgICAgICAgICAgICAgICAgICAgICAgICAgICAgICAgICAgICAgICAgIAogICAgICAgICAgICAgICAgICAgICAgICAgICAgICAgICAgICAgICAgICAgICAgICAgICAgICAgICAgICAgICAgICAgICAgICAgICAgICAgICAgICAgICAgICAgICAgICAgICAgCiAgICAgICAgICAgICAgICAgICAgICAgICAgICAgICAgICAgICAgICAgICAgICAgICAgICAgICAgICAgICAgICAgICAgICAgICAgICAgICAgICAgICAgICAgICAgICAgICAgICAKICAgICAgICAgICAgICAgICAgICAgICAgICAgICAgICAgICAgICAgICAgICAgICAgICAgICAgICAgICAgICAgICAgICAgICAgICAgICAgICAgICAgICAgICAgICAgICAgICAgIAogICAgICAgICAgICAgICAgICAgICAgICAgICAgICAgICAgICAgICAgICAgICAgICAgICAgICAgICAgICAgICAgICAgICAgICAgICAgICAgICAgICAgICAgICAgICAgICAgICAgCiAgICAgICAgICAgICAgICAgICAgICAgICAgICAgICAgICAgICAgICAgICAgICAgICAgICAgICAgICAgICAgICAgICAgICAgICAgICAgICAgICAgICAgICAgICAgICAgICAgICAKICAgICAgICAgICAgICAgICAgICAgICAgICAgICAgICAgICAgICAgICAgICAgICAgICAgICAgICAgICAgICAgICAgICAgICAgICAgICAgICAgICAgICAgICAgICAgICAgICAgIAogICAgICAgICAgICAgICAgICAgICAgICAgICAgICAgICAgICAgICAgICAgICAgICAgICAgICAgICAgICAgICAgICAgICAgICAgICAgICAgICAgICAgICAgICAgICAgICAgICAgCiAgICAgICAgICAgICAgICAgICAgICAgICAgICAgICAgICAgICAgICAgICAgICAgICAgICAgICAgICAgICAgICAgICAgICAgICAgICAgICAgICAgICAgICAgICAgICAgICAgICAKICAgICAgICAgICAgICAgICAgICAgICAgICAgICAgICAgICAgICAgICAgICAgICAgICAgICAgICAgICAgICAgICAgICAgICAgICAgICAgICAgICAgICAgICAgICAgICAgICAgIAogICAgICAgICAgICAgICAgICAgICAgICAgICAgPD94cGFja2V0IGVuZD0ndyc/Pv/bAEMABwUFBgUEBwYFBggHBwgKEQsKCQkKFQ8QDBEYFRoZGBUYFxseJyEbHSUdFxgiLiIlKCkrLCsaIC8zLyoyJyorKv/bAEMBBwgICgkKFAsLFCocGBwqKioqKioqKioqKioqKioqKioqKioqKioqKioqKioqKioqKioqKioqKioqKioqKioqKv/AABEIAQgCKwMBIgACEQEDEQH/xAAfAAABBQEBAQEBAQAAAAAAAAAAAQIDBAUGBwgJCgv/xAC1EAACAQMDAgQDBQUEBAAAAX0BAgMABBEFEiExQQYTUWEHInEUMoGRoQgjQrHBFVLR8CQzYnKCCQoWFxgZGiUmJygpKjQ1Njc4OTpDREVGR0hJSlNUVVZXWFlaY2RlZmdoaWpzdHV2d3h5eoOEhYaHiImKkpOUlZaXmJmaoqOkpaanqKmqsrO0tba3uLm6wsPExcbHyMnK0tPU1dbX2Nna4eLj5OXm5+jp6vHy8/T19vf4+fr/xAAfAQADAQEBAQEBAQEBAAAAAAAAAQIDBAUGBwgJCgv/xAC1EQACAQIEBAMEBwUEBAABAncAAQIDEQQFITEGEkFRB2FxEyIygQgUQpGhscEJIzNS8BVictEKFiQ04SXxFxgZGiYnKCkqNTY3ODk6Q0RFRkdISUpTVFVWV1hZWmNkZWZnaGlqc3R1dnd4eXqCg4SFhoeIiYqSk5SVlpeYmZqio6Slpqeoqaqys7S1tre4ubrCw8TFxsfIycrS09TV1tfY2dri4+Tl5ufo6ery8/T19vf4+fr/2gAMAwEAAhEDEQA/APpGiiigAooooAKKKKACuX8d+NB4J03TrgaZPqk2o6jFp0FtA6ozSSBivLcdVx+NdRXl3x0mubfTfBk1hai8uo/Fti8NuZBGJnAkKpvIIXJwM44zmgDTsPiiU8SafovirwxqnhyfVGMdlNctHJDM4/g3oxwx4wK76vKr7Q/G3xA8V+HbjxLoll4b0nQr9NRZFvxdzXEqcoAVUALnrn1rP8UW3hDxT4z1dYvBeueLL60kWG8ura6McNrIqBfLjLSooYAZO0dTyaAPZaK8I0fx5rWjfs8+LL9Jbtr/AEDUp9MtZLxlkmiXzI1TewJDMgl68j5e4rtdB+D3hmxhsNQu1u77XIxHNLqz38xlmlGGLZ342k/w4xj160AehUV47e+EtG8ZftA6/Z+I7ea6t7bSbWSKNLqWEKxJBP7tlzx61e8F+HNM8J/G7W9K0GGS3sv7Et5vKe4kl+cyuCcuzHoB3oA9Uorwv4Y/DvRvGfhjVL3xU13qB/ta6jtUN3JGtoBIeUCsBuLZO456AdBzVk8b69pXwJu7QX91NqNrr7+Hk1FPnnMYf749X2ZUHPXBznmgD36ivnnVNNttFsYNS+HXgvxrZeJLSaKQXFzBKVvVDDzEnJchgy7v4evTArvfjcoufDOhaY+5l1PxDZWjorlGdWYkqCCCMgetAHpNFeP6N4W0jwd+0RY6f4dgltbWfw9LNJE91LMGfzgM/vGYjgCsK6vbDxl8QfFDeMfD/iTxDZaXfGwsLLTYpGtrcRgbnYK65kY885wMe2AD32ivNvhG2q20mv6Xc2GtWuiWtxG+j/2zEyzLE6kvECSSwRlwMknBHPpwFv4M0TX/AAT8T/FOpQTXF/a6prElhcreToI0jUsnyKwU4bJ5B9D6UAfRFFeD+INcuh4G+FXhzGqy2Wt6akl+mkhjdXEcNrG3lrgg4Yt82DnANWNGtV0Lx7oE3gDwl4p0WxnnNvq9ve20n2aSJgcSHc7YZW5yMcE59CAe4UV4vo/jKbw58WviBF/wj3iDXFku7Ur/AGVbLMsOIejbnXGc8Y9DWj4C1qXXfGHxJvpLHUNND/Y9tnqEYjmhxa45UEgZxkYPQg0Aer0V4Lpur32s/CHwn4I0S6kS/wBU0w3GpXSMd1pYoTvbPZnPyD6mqkXiTUtK/Zr8E21hPfRz63fpp81xZgtcLG0shYRf9NCF2r9eooA+haK8Bm0630bUtJ1D4b+DfF+k6pDexC6e6t5TDd25IEizbnbPHOcZGPpj36gAor5w1Lx5rHh7xT4/03Ro7qNptXjN3q/kmWLSrZgqGXb3bJOB7E9q73xuf+Fc/AyaLwfdyCaYxQx6iZPMkdpnUNOX7sQSQ3bIx0FAHqVFeJ+PvAOm/DbwK/i7wjcXdnrujvDLJeSXcj/bwZFR1mDMQ27cT068dKb8Uhqd18SNE1PQnlF7pmhy6tBbqxxMY5o2aMgddyF1+pFAHt1FfO3xg8Q/8JtZLqGh3kg0fQ4rKYvE20S3N1IhVTjrsh5I7GTmtn4ww6rL8VtAuNBmkW+03Sp9RghViBO0LhjGR33KGX8RQB7hRXzr8X/Ep8b6fFfaBeSLo+ixWVzI8b4825upE2Icf3ItxPoXANdN8S9XOpfFjTvCmp2WtahocGlHUbmw0dGL3chlMaiTaVPlrjPB+8QKAPZKK8e8Bwy6N8Sorbwt4d8RaP4XvbJxdWupwOIYLheUeMszbdwypGcdPaqHw68eT6Fb+I7NvC3ifWv+KhvWFzptms0QG8DbuZwcjHTHcUAe4UV478LtF03x54B1yDxJZ3Uls/iW7nFvNNJDJEcjCsUYEEbiCM4zWX4W+F/hLUfix470a90+4k0/Sf7P+xQ/2jcjyvNgZ5PmEmWywzyTjtigD3aivK/Htv4SvvElnoF34a1fxTqFrYqV0+yncRW0OSFeQmRV3HoCSScCoPhBd3Fl4y8WeG1sdQ03TbMW1zaadqM4mktPMVt6hgzfKSAQM8fjQB63RXhfwt+HOj+Nfhul74pkvL+Y3NzHZn7ZIn2JRM/+rCsBu3FmyQTyB0GKifXdT1T9nmBtUvJLm9sdcgsHu2Y75hHeKoZj6lcA+uOaAPeaK+fPjRq9/wCKkv5tKupYdC8L3sFu8kTEC7vnkVXXPdY0Yj/eb0re+JOsHVPixY+FNTstbv8AQ7bSjqFxYaOjF7uRpdi+ZtZT5S4zwfvEA0Aey0V474Cgm0b4mJbeFvDviLR/C17ZOLm11SBxDBcKcq8ZZm27lyCM4/SuCtYNIl0/xPd3Hg/xdqOsLqV+sOr6ZJMIIsSNt5WUfd7/ACH6GgD6form/h3dTXvw50K4utUj1ad7NPMvY2LCZgME5IBJyMEkA5BzXG/FHR7LxF8WPhzo2rpJNp93/afnwpM8W/bAjr8yEHhgD1oA9WorxfWPA+geCvi18Pz4atZrP7Zd3SzhryaYOFhyOJHbHU9KsaV4esvij8QPF1z4x869sdGvhpun6cLh44odi5aUhGGWY8gn39BgA9gorzX4VXF3p3iLxj4PmvLi9stAvIfsM1y5kdIpkLiLceTsxj8aX4+XJtPhHeTiRo/Lu7UllJBA85c9KAPSaK8j8M6p/wALK+JE03iaK602PRkju9I0K5QxmWNxxdyc/OewXonfk1d+MdhBreqeB9Eud7Q32uATRJI6GSJY2LjKkEcHsaAPT6K8i8IeHtL8I/tAarpehxyWtgPDsc5ikuZJQHM+C2ZGJ6Ad65nUdO8K+IdK1HWfDPgrxPqDETPb+JUvjGd4z+9jMkwOwEf3QOCMUAfQdFeK6r4r1vWvg/4Ct11GSzvfFN5a6feX8LbZVQ53sp7M239TXd6D8LfCfhnVrfU9EsZ7a9g3Zm+2TMZtylT5gZiH655HBAxigDr6K8b8G+FdN+Kbaz4m8cCbU2OqT2tlZtcyJDZwxNtUKqsPmPUt/wDXrf8AG9n4V8O+D9H8P6na6vqNu13ssNMsrmVp7twHOwtvBZFDEnc2OF64xQB6LRXhfhpf+EV+MPhnTtC8Nar4V07WoruK6sby6SWGcxReYrookfawIwTxw31qvc6hd6B+0V4r8Sm5kGmafc6ZY6hEWOxILq3C+Z7bZEiP0JoA98orwK4v7vX/AI9eGfEguJRplxqd1punxBzseG3hIeXHQ7pWfHsor32gAooooAKKKKACiiigAooooAK5vxl4R/4S3+wf9N+yf2PrVvqv+q8zzvK3fu/vDbnd97nGOhrOf4veDEuJof7QvHeCV4ZPL0m7dQ6sVYbliIOCCODTf+Fv+DP+f3UP/BNe/wDxqgDt689/4V/4i0nXdYuPB3iuLStP1q6a9ubafTlneGdwA8kbbgMtgcMCBjvVv/hb/gz/AJ/dQ/8ABNe//GqP+Fv+DP8An91D/wAE17/8aoAh8MfCjT9C8F+IPDGo302q2Ot309y7SrskRZFRQpbJ3MNgO/jJ5wKbo3g/xzo6WenL46hn0q0dApl0pTcvCp/1Rffj7vy79ue/WrH/AAt/wZ/z+6h/4Jr3/wCNUf8AC3/Bn/P7qH/gmvf/AI1QBp2PhH7H8R9U8V/bd/8AaFlFafZfKx5ew53b93Oc9MCpLbwv9n+Id74o+2bvtenxWX2bysbNjs27dnnO7GMdutZH/C3/AAZ/z+6h/wCCa9/+NUf8Lf8ABn/P7qH/AIJr3/41QB5/8LfDniq68Larc+FPFaaTHd6tdpNDc2IuRGwkI8yL5htbGAQcg4B4r0CL4V6IvwyPgyeW4lgcmWS93Yna4Lb/ADg3Zt3P045qOD4r+BbWMpbT3kKFixWPQ7xQSepwIetSf8Lf8Gf8/uof+Ca9/wDjVAEdn4Z+IULQW1149tZbSJhumGjqLiVBj5SxcqCQD8wXPOfpjeIfCnirxl8UpbmPWf7J0/w48MulrcaV58U8skR3yAl0DFTx3wT277v/AAt/wZ/z+6h/4Jr3/wCNUf8AC3/Bn/P7qH/gmvf/AI1QBzuoeEvGWkfELQPFc+vx65O00elXENto3lCO1dy7uSJGxgj7xHGetb2oeAdWsvFt94h8D+II9Hm1PadQs7qz+0W9w6jAkA3KUbHXB5qT/hb/AIM/5/dQ/wDBNe//ABqj/hb/AIM/5/dQ/wDBNe//ABqgC3B4f8Xnw/e21740VtSuXUx3kGlxotqg+8qIWOSefmYn6cYotfAFjpvwvvPBemXEkUN1ZT2zXcw8yQvMrBpW6bjlicZHpxVT/hb/AIM/5/dQ/wDBNe//ABqg/GHwWCAb+/BJwM6Nec/+QqAG6n8M4r/wZ4c0qHVZrPVvDcMK6fq8MQ3I8caoSYycFWC8oT6c1Z0fQ/HMerW0+veMLO5s4CTJa2mlLEbng43OXYrgkH5QOn1zB/wt/wAGf8/uof8Agmvf/jVH/C3/AAZ/z+6h/wCCa9/+NUAafh7wj/YPizxLrf23z/7emhl8nytvkeWmzG7cd2evQYo0/wAI/YPE3inV/tvmf8JD5H7rysfZ/Kh8rru+bPXoMdOetZn/AAt/wZ/z+6h/4Jr3/wCNUf8AC3/Bn/P7qH/gmvf/AI1QBD8OvhbB4B0C9s21JtTvr1RHJfPD5ZWJV2xxqu44Vck9eSTRbfCqyHwnsPBV/qEszaefMttRgj8qSGYOzpKoycEbsdeRn1qb/hb/AIM/5/dQ/wDBNe//ABqj/hb/AIM/5/dQ/wDBNe//ABqgBLPw58QBPbx6l46tZbSGRWka30dY5rhQR8rMXKrkDBKjPJxXcVxH/C3/AAZ/z+6h/wCCa9/+NUf8Lf8ABn/P7qH/AIJr3/41QBe0LwPBpOpeKZ7y4S/t/EV158ttJBhY1KbCh5O8Eew+lZ9p8MbcfDvUPBWr6nNqGkTOwssx7ZbOLcGjTeSd5RgCGIHTGMU7/hb/AIM/5/dQ/wDBNe//ABqj/hb/AIM/5/dQ/wDBNe//ABqgDJuPhl4k163s9J8Z+MxqugWsiSSWkWniGW92EFVmk3HIyBnA5+uCOtufC32n4hWXig3ePsuny2X2Xys797q27dnjG3GMd+tZH/C3/Bn/AD+6h/4Jr3/41R/wt/wZ/wA/uof+Ca9/+NUAN134VaNe+BLnwv4dWLQra4vI7x2iiMoLq6sflLDqEA68elat94R+2fEfS/Ff23Z/Z9lLafZfKz5m853b93GMdMGsz/hb/gz/AJ/dQ/8ABNe//GqP+Fv+DP8An91D/wAE17/8aoAbr3wq0a+8D3Xhrw8sWhQXV5HeSPFEZQXV1Y/KWHUIB1wPSrXi7wPNrusWGv6Dq76Jr+no0UV2IRMksTcmKSMkblzyOeCc1X/4W/4M/wCf3UP/AATXv/xqj/hb/gz/AJ/dQ/8ABNe//GqANDw/o/i631b7X4m8UW1/biIotlZ6cIE3HHzlizMTweOBzT/BPhH/AIQ6w1O2+2/bPt+pz6hu8ry/L80g7MbjnGOvGfQVmf8AC3/Bn/P7qH/gmvf/AI1R/wALf8Gf8/uof+Ca9/8AjVAGn4J8I/8ACHWGp23237Z9v1OfUN3leX5fmkHZjcc4x14z6CjRPCP9jeO/FHiT7b539v8A2T/R/K2+R5ERj+9uO7dnPQY96zP+Fv8Agz/n91D/AME17/8AGqP+Fv8Agz/n91D/AME17/8AGqAE13wPrEnjV/FPhHX4tKvbm0W0u4bqz+0RTKpJVh8ylWGfof5v8HfD6bwv4o1jXr3XZtXvNYihW5eWARnzE3ZYYOAuGACgfKFHJpv/AAt/wZ/z+6h/4Jr3/wCNUf8AC3/Bn/P7qH/gmvf/AI1QBwfws8KeKZ/hjBceFvFw0mDUpro3EM9iLgwuLiSPzIW3LtJVV4ORkZ4zXZ6j8KbWT4Tw+CNF1OTTlhkjlW/eLznMiyCQuRuXJLZ78fhUsHxY8DWsIhtri8hiXJCR6HeKoycngQ+pzUn/AAt/wZ/z+6h/4Jr3/wCNUARan8LbO6+Fdv4K0++NnFC8UjXbQ+Y0jpIJHZhuGSzAk88Zq74u8Dza5rNhr+gau+ia/YI0Md4sImSWFjkxSISNy55HPBOar/8AC3/Bn/P7qH/gmvf/AI1R/wALf8Gf8/uof+Ca9/8AjVAGh4f0fxdb6qbvxN4nt7+ARlFsrPThAm44+csWZieDxwOT+HPaf8OvFujQ6ha6H47hsrK9vZ7vYNFV5YjK5YgO0uMjPXb+FaP/AAt/wZ/z+6h/4Jr3/wCNUf8AC3/Bn/P7qH/gmvf/AI1QBveEPC9l4M8J2Hh/S2ke2skKq8pyzlmLMx+rMT+NVNb8I/2z478L+JPtvk/2B9r/ANH8rd5/nxCP724bduM9Dn2rM/4W/wCDP+f3UP8AwTXv/wAao/4W/wCDP+f3UP8AwTXv/wAaoA0/EPhH+3vFnhrW/tvkf2DNNL5PlbvP8xNmN24bcdehzWNqXgHWbPxbqHiDwP4hj0ibVVX+0LS6sxcQyuq4WRfmUq2OvY96lPxh8FggG/vwScDOjXnP/kKl/wCFv+DP+f3UP/BNe/8AxqgDQ8EeC4/B1jeGW/m1TU9SuDdX+oTIEaeQ8cKOFUDovOOaf4+8I/8ACceE5dE+2/YfMmil87yvMxscPjbuHXGOtZn/AAt/wZ/z+6h/4Jr3/wCNUf8AC3/Bn/P7qH/gmvf/AI1QBoeKvBp17VtI1nTL/wDsrWdJm3RXYh8wSRH78Mi7l3Iw9xg8io18EPc+P4/FGt6vNqDWQkXS7Lyljisg4w545diONxP4dMU/+Fv+DP8An91D/wAE17/8ao/4W/4M/wCf3UP/AATXv/xqgDRTwao+JN54rkvN6XWlLpzWflYwA+7fv3d+mMfjXLWHws8QadoD+FLfxl5fhb94iwJYAXQidiTF527p8xBbbnBwMdtj/hb/AIM/5/dQ/wDBNe//ABqj/hb/AIM/5/dQ/wDBNe//ABqgCNvhdaT/AAs0zwfd6jMZdL8uS01KBPLkhnQkpKq5OCMkYz0J5HWrmg6H44tdUtZPEPi+01CytwweG30pYXuSVIBd9524JDYUDJHpVf8A4W/4M/5/dQ/8E17/APGqP+Fv+DP+f3UP/BNe/wDxqgCqfh/r2ha5qV74C8Sw6XZ6pO11c6de2P2iJZ2HzSRkMpXPXHT8OKs6/wCAtU1vStDmbxIV8SaJO1xb6qbNdjs2QytCDjaVIHByMDrzlf8Ahb/gz/n91D/wTXv/AMao/wCFv+DP+f3UP/BNe/8AxqgCrafDnWLjx5ovi7xJ4nF/faV56rbQ2QigCSRMm1BvJBy2Sx3E4A4xWlb/AA+sz4m8Yalqky39n4pjtYprF4toiWGIxkbg3zbs56Lj361X/wCFv+DP+f3UP/BNe/8Axqj/AIW/4M/5/dQ/8E17/wDGqALF58PLJ9X8I3GlSpp1n4YeUw2aQ7hIrx7Mbi3y4655zXX1xH/C3/Bn/P7qH/gmvf8A41R/wt/wZ/z+6h/4Jr3/AONUAdvRWX4e8R6X4q0ldT0O4a4tGkeMO0LxHcpww2uARgjHStSgAooooAKKKKACiiigDjPhZ/yKl7/2GtS/9K5a7OuM+Fn/ACKl7/2GtS/9K5a7OgAooooAKKKKACiiob3/AI8Lj/rk38qBpXdiaivFMn1NGT6muT6z5Hv/ANjf3/w/4J7XRXimT6mjJ9TR9Z8g/sb+/wDh/wAE9rorxTJ9TRk+po+s+Qf2N/f/AA/4J7XVDUP+P7Tf+vg/+i2ryPJ9TT0J2Pz2/rTWIv0InlHKr8/bp/wT2iivFMn1NGT6ml9Z8i/7G/v/AIf8E9rorxTJ9TRk+po+s+Qf2N/f/D/gntdFeKZPqaMn1NH1nyD+xv7/AOH/AAT2uivFMn1Nd58PjmwvM/8APVf5VcK3PK1jmxWW/V6Tqc17eX/BOvoooroPICiiigAooooAKKKKACiiigAooooAKKKKACiiigAooooAKKKKACiiigChqH/H9pv/AF8H/wBFtV+qGof8f2m/9fB/9FtV+gAooooAKKKKACiiigAooooAKKKKACiiigAooooA4z4Wf8ipe/8AYa1L/wBK5a7OuM+Fn/IqXv8A2GtS/wDSuWuzoAKxtf8AF/h/wuYh4g1e1sGmBMaTSYZgOpA64Hc9K2a8+8Lot58bPHk92okms4dPtLcsMmOFoTIwHszk59dvtQB3dpd29/ZxXdlPHcW8yB4pYmDK6kZBBHUVQ17xRofhe3im8QapbaekzbIvPkAMh9FHU9R0rlPhEBb6T4k02AbbPTfEl9bWiD7qRBw20DsAzsPwql4wmu7X4yaLdeG7Bda1qLSZll0+aQQxwW7SDE/mnOxiwKABWLDPQDNAHf6PremeINNTUNDv7e/tJOFmgkDLnuOOhHoeavV518KmLal4vbUIfsGtS6qJr/TEA8u0LRr5ZVgcPvUbi/GSegxXT6/f+KLS6iXw5odhqUBTMkl1qJt2Vs9ABG2RjHOaAMr4Wf8AIqXv/Ya1L/0rlrs689+FM+qHwbcGSwt1kbVtQMii6OFf7VJuAOzkA5Ge/oK7Xz9S/wCfG3/8Cj/8RQBdoql5+pf8+Nv/AOBR/wDiKPP1L/nxt/8AwKP/AMRQBdoql5+pf8+Nv/4FH/4ijz9S/wCfG3/8Cj/8RQBdqG9/48Lj/rk38qg8/Uv+fG3/APAo/wDxFQ3c2omyn3WUAXy2yRck44/3KT2Kj8SPJ6KdhP77f98//Xown99v++f/AK9eZys+59rHz+5/5DaKdhP77f8AfP8A9ejCf32/75/+vRysPax8/uf+Q2inYT++3/fP/wBejCf32/75/wDr0crD2sfP7n/kNp6fcf6f1pMJ/fb/AL5/+vT0CbXwx6f3feqjF3MqtSPL13XR915EVFOwn99v++f/AK9GE/vt/wB8/wD16nlZr7WPn9z/AMhtFOwn99v++f8A69GE/vt/3z/9ejlYe1j5/c/8htFOwn99v++f/r0YT++3/fP/ANejlYe1j5/c/wDIbXefD3/jwvP+uq/yrhcJ/fb/AL5/+vXaeB3uUsrr7HBHMvmDcZJSmOPoa2oq0zz8yqJ4ZpX6dH3O1oql5+pf8+Nv/wCBR/8AiKPP1L/nxt//AAKP/wARXcfKF2iqXn6l/wA+Nv8A+BR/+Io8/Uv+fG3/APAo/wDxFAF2iqXn6l/z42//AIFH/wCIo8/Uv+fG3/8AAo//ABFAF2iqXn6l/wA+Nv8A+BR/+Io8/Uv+fG3/APAo/wDxFAF2iqXn6l/z42//AIFH/wCIo8/Uv+fG3/8AAo//ABFAF2iqXn6l/wA+Nv8A+BR/+Io8/Uv+fG3/APAo/wDxFAF2iqXn6l/z42//AIFH/wCIo8/Uv+fG3/8AAo//ABFAF2iqXn6l/wA+Nv8A+BR/+Io8/Uv+fG3/APAo/wDxFAF2iqXn6l/z42//AIFH/wCIo8/Uv+fG3/8AAo//ABFAF2iqXn6l/wA+Nv8A+BR/+Io8/Uv+fG3/APAo/wDxFAF2iqXn6l/z42//AIFH/wCIo8/Uv+fG3/8AAo//ABFADdQ/4/tN/wCvg/8Aotqv1i301+byw32kCkTHaBcE5OxuvycVd8/Uv+fG3/8AAo//ABFAF2iqXn6l/wA+Nv8A+BR/+Io8/Uv+fG3/APAo/wDxFAF2iqXn6l/z42//AIFH/wCIo8/Uv+fG3/8AAo//ABFAF2iqXn6l/wA+Nv8A+BR/+Io8/Uv+fG3/APAo/wDxFAF2iqXn6l/z42//AIFH/wCIo8/Uv+fG3/8AAo//ABFAF2iqXn6l/wA+Nv8A+BR/+Io8/Uv+fG3/APAo/wDxFAF2iqXn6l/z42//AIFH/wCIo8/Uv+fG3/8AAo//ABFAF2iqXn6l/wA+Nv8A+BR/+Io8/Uv+fG3/APAo/wDxFAHM/Cz/AJFS9/7DWpf+lctdnXFfCosfCN2XAVv7Z1HIBzg/a5e9drQAVyWs+Cbq48Uv4h8N67LoeoXFutteYtknjuEXJQlGxh1ycNnpxiutooA5aw8B2mm+BT4ZsNU1O0Dv5suo204jupJDJ5jvvwcFjkHjocU3xD4Mn1PxPaeI9D1qXRtXgtjZySiBZ47iAtv2OjY6NyCCMZNdXRQBznhLwgPDL6leXepT6rqurTrNe3syKm8qoVFVF4VVUYA5+tdHRRQBxnws/wCRUvf+w1qX/pXLXZ1xnws/5FS9/wCw1qX/AKVy12dABRRRQAUUUUAFQ3v/AB4XH/XJv5VNUN7/AMeFx/1yb+VJ7FR+JHjVFFFeUffBRRRQAUUUUAFPT7j/AE/rTKen3H+n9aqO5lW+H5r80MoooqTUKKKKACiiigArvPh7/wAeF5/11X+VcHXefD3/AI8Lz/rqv8q2ofGebmf+6y+X5nX0UUV6B8iFFFFABRRRQAUUUUAFFFFABRRRQAUUUUAFFFFABRRRQAUUUUAFFFFAFDUP+P7Tf+vg/wDotqv1Q1D/AI/tN/6+D/6Lar9ABRRRQAUUUUAFFFFABRRRQAUUUUAFFFFABRRRQBxnws/5FS9/7DWpf+lctdnXGfCz/kVL3/sNal/6Vy12dABRRTJZooFDTSJGCcAuwGT6UAPoopHdY0LyMFVRksTgCgBaKbHLHNGHhdZEPRlORTqAOM+Fn/IqXv8A2GtS/wDSuWuzrjPhZ/yKl7/2GtS/9K5a7OgAooooAKKKKACob3/jwuP+uTfyqaob3/jwuP8Ark38qT2Kj8SPGqKKK8o++CiiigAooooAKen3H+n9aZT0+4/0/rVR3Mq3w/NfmhlFFFSahRRRQAUUUUAFd58Pf+PC8/66r/KuDrvPh7/x4Xn/AF1X+VbUPjPNzP8A3WXy/M6+iiivQPkQooooAKKKKACiiigAooooAKKKKACiiigAooooAKKKKACiiigAooooAoah/wAf2m/9fB/9FtV+qGof8f2m/wDXwf8A0W1X6ACiiigAooooAKKKKACiiigAooooAKKKKACiiigDjPhZ/wAipe/9hrUv/SuWuzrjPhZ/yKl7/wBhrUv/AErlrs6ACvMbfRdN8bfGHxbH4osodTtdDgs7SxtblA8UXnRGWRwp43klRu6gLXp1cPqfhjxHpnji+8SeC5NMkbVraOG/tNTeSNS8QIjlVkVjwpIKkc+tAEfwkmmj8P6xo0s0k0Wha3dabbPIxZvJQhowSeuFcL+GO1c18Sr+TV/i5o/hS40afXrKLS21FdKjlEUdzMZCitMzEDYgRjzn5mAwc8dfo3hfXPCngS4tNCutPvPEV1dPe3Fzfo628s8soaUkJ8wG3IX3C5707xN4X1WXxbp/ivwrJZDVbW2eymt79nWK5t3YNjegJVlYZBwRzQBH8OL3Q2ttW0vR/D48N3lhef8AEx0wKoEcrIu11KfKVZFXBGM46eutr/i+y8O3UVveWOrXLSJvDWOmzXKgZxgsikA8dDVHwX4X1LSdS1vXfEVxazaxrk0TzpZBvIgSJNkaIW+Y4GSSQMk9B36ygDzr4Va5bN4PuJPKu1EurX8gDWrggNdSEAjHB55B5Fdp/bdr/wA87r/wGf8AwrnfhZ/yKl7/ANhrUv8A0rlrs6AM7+27X/nndf8AgM/+FH9t2v8Azzuv/AZ/8K0aKAM7+27X/nndf+Az/wCFH9t2v/PO6/8AAZ/8K0aKAM7+27X/AJ53X/gM/wDhUV1rNs9nMojuctGwGbdx2+la1Q3v/Hhcf9cm/lSexUfiR475Teq/99Cjym9V/wC+hTKK8y8ex9xy1f5l93/BH+U3qv8A30KPKb1X/voUyii8ewctX+Zfd/wR/lN6r/30KPKb1X/voUyii8ewctX+Zfd/wR/lN6r/AN9CnLGQr8ryPX3qKnp9x/p/Wqi432MqsavL8S3XTzXmHlN6r/30KPKb1X/voUyipvHsa8tX+Zfd/wAEf5Teq/8AfQo8pvVf++hTKKLx7By1f5l93/BH+U3qv/fQo8pvVf8AvoUyii8ewctX+Zfd/wAEf5Teq/8AfQrsfBV7FY2d0syysWkBHlRs/b2FcXXefD3/AI8Lz/rqv8q2o259Dz8xVRYZ8z7dPP1N7+27X/nndf8AgM/+FH9t2v8Azzuv/AZ/8K0aK7j5Uzv7btf+ed1/4DP/AIUf23a/887r/wABn/wrRooAzv7btf8Anndf+Az/AOFH9t2v/PO6/wDAZ/8ACtGigDO/tu1/553X/gM/+FH9t2v/ADzuv/AZ/wDCtGigDO/tu1/553X/AIDP/hR/bdr/AM87r/wGf/CtGigDO/tu1/553X/gM/8AhR/bdr/zzuv/AAGf/CtGigDO/tu1/wCed1/4DP8A4Uf23a/887r/AMBn/wAK0aKAM7+27X/nndf+Az/4Uf23a/8APO6/8Bn/AMK0aKAM7+27X/nndf8AgM/+FH9t2v8Azzuv/AZ/8K0aKAM7+27X/nndf+Az/wCFH9t2v/PO6/8AAZ/8K0aKAM7+27X/AJ53X/gM/wDhR/bdr/zzuv8AwGf/AArRooAwr3V7d7ywYR3GEmJOYHH8DDjjnrVz+27X/nndf+Az/wCFO1D/AI/tN/6+D/6Lar9AGd/bdr/zzuv/AAGf/Cj+27X/AJ53X/gM/wDhWjRQBnf23a/887r/AMBn/wAKP7btf+ed1/4DP/hWjRQBnf23a/8APO6/8Bn/AMKP7btf+ed1/wCAz/4Vo0UAZ39t2v8Azzuv/AZ/8KP7btf+ed1/4DP/AIVo0UAZ39t2v/PO6/8AAZ/8KP7btf8Anndf+Az/AOFaNFAGd/bdr/zzuv8AwGf/AAo/tu1/553X/gM/+FaNFAGd/bdr/wA87r/wGf8Awo/tu1/553X/AIDP/hWjRQBxXwpcSeELt1yA2s6iRkYP/H3J2rta4z4Wf8ipe/8AYa1L/wBK5a7OgAooooAKKKKACiiigDjPhZ/yKl7/ANhrUv8A0rlrs64z4Wf8ipe/9hrUv/SuWuzoAKKKKACiiigAqG9/48Lj/rk38qmqG9/48Lj/AK5N/Kk9io/EjxqiiivKPvgooooAKKKKACnp9x/p/WmU9PuP9P61UdzKt8PzX5oZRRRUmoUUUUAFFFFABXefD3/jwvP+uq/yrg67z4e/8eF5/wBdV/lW1D4zzcz/AN1l8vzOvooor0D5EKKKKACiiigAooooAKKKKACiiigAooooAKKKKACiiigAooooAKKKKAKGof8AH9pv/Xwf/RbVfqhqH/H9pv8A18H/ANFtV+gAooooAKKKKACiiigAooooAKKKKACiiigAooooA4z4Wf8AIqXv/Ya1L/0rlrs64z4Wf8ipe/8AYa1L/wBK5a7OgAoorz+81DxB4q+ImsaBoWuNoNjoNvAbieC2jmluJ5lLqP3isoRVAJAGST1xQB6BRXKfDvxFf+IfDtwNbEf9qaXfz6betCu1JJImxvUdgylT+NWvGPiCfRNMht9KjWfWtSl+y6dA3RpSCS7f7CKC7H0XHUigDoaK4v4T61q2u+Ao7vxDffb75Lu5ge48pI94jmZB8qgAcAV1N3q2nafIsd/f2tq7DKrNMqEj1wTQBy/ws/5FS9/7DWpf+lctdnXDfCu8tj4Su2FxEVbWdRZSHGCDdyEEe1dn9rtv+fiL/vsUATUVD9rtv+fiL/vsUfa7b/n4i/77FAE1FQ/a7b/n4i/77FH2u2/5+Iv++xQBNUN7/wAeFx/1yb+VH2u2/wCfiL/vsVDeXVubGcCeIkxt/GPSk9io/EjyCil2t/dP5UbW/un8q8uzPvOaPcSil2t/dP5UbW/un8qLMOaPcSil2t/dP5UbW/un8qLMOaPcSnp9x/p/Wm7W/un8qeinY/B6envVRTuZVpR5d+q/NEdFLtb+6fyo2t/dP5VNma80e4lFLtb+6fyo2t/dP5UWYc0e4lFLtb+6fyo2t/dP5UWYc0e4ld58Pf8AjwvP+uq/yrhNrf3T+Vdx4CljhsbsSyLGTIMBmxnitqKfOedmck8NKz7fmdlRUP2u2/5+Iv8AvsUfa7b/AJ+Iv++xXefJE1FQ/a7b/n4i/wC+xR9rtv8An4i/77FAE1FQ/a7b/n4i/wC+xR9rtv8An4i/77FAE1FQ/a7b/n4i/wC+xR9rtv8An4i/77FAE1FQ/a7b/n4i/wC+xR9rtv8An4i/77FAE1FQ/a7b/n4i/wC+xR9rtv8An4i/77FAE1FQ/a7b/n4i/wC+xR9rtv8An4i/77FAE1FQ/a7b/n4i/wC+xR9rtv8An4i/77FAE1FQ/a7b/n4i/wC+xR9rtv8An4i/77FAE1FQ/a7b/n4i/wC+xR9rtv8An4i/77FAE1FQ/a7b/n4i/wC+xR9rtv8An4i/77FAFbUP+P7Tf+vg/wDotqv1l39zAb7TiJoyBOScOOP3bVe+123/AD8Rf99igCaioftdt/z8Rf8AfYo+123/AD8Rf99igCaioftdt/z8Rf8AfYo+123/AD8Rf99igCaioftdt/z8Rf8AfYo+123/AD8Rf99igCaioftdt/z8Rf8AfYo+123/AD8Rf99igCaioftdt/z8Rf8AfYo+123/AD8Rf99igCaioftdt/z8Rf8AfYo+123/AD8Rf99igCaioftdt/z8Rf8AfYo+123/AD8Rf99igDkvhZ/yKl7/ANhrUv8A0rlrs64v4VkN4TvCDkHWtRII7/6XLXaUAFeaz3kvgP4peItV1HTdRu9K8QwW0sVxYWb3PlTwoYzEyoCQWG0gnjrzXpVFAHnfg37f4S8C6x4g1fRdSlu9W1abU20uzh825jWaRURdmRyqBSwzwAc8ir/iDwZr+oeNk8RaJ4og0547L7JHBcaWLoRAtudlPmLgt8ueM/KOa7WigDzj4KaNr+jeEbqPxDOwEl7O0NrLYm3eL99IWckklg+Qw4GB3Oc12mqeGtC1uZJta0XTtQljXYj3dokrKuc4BYHArTooA4D4WaTpw8I3SDT7ULHrGoIiiFcKoupAAOOAAMYrtP7J07/nwtf+/K/4Vy/ws/5FS9/7DWpf+lctdnQBU/snTv8Anwtf+/K/4Uf2Tp3/AD4Wv/flf8Kt0UAVP7J07/nwtf8Avyv+FH9k6d/z4Wv/AH5X/CrdFAFT+ydO/wCfC1/78r/hUN3penrZTstjbAiNiCIV44+laNQ3v/Hhcf8AXJv5UnsVH4keOeY/99vzo8x/77fnTaK8zmfc+69lT/lX3DvMf++350eY/wDfb86bRRzPuHsqf8q+4d5j/wB9vzo8x/77fnTaKOZ9w9lT/lX3DvMf++3505Hco/zN09feo6en3H+n9acZO5lVpw5dluvzQnmP/fb86PMf++3502ilzPua+yp/yr7h3mP/AH2/OjzH/vt+dNoo5n3D2VP+VfcO8x/77fnR5j/32/Om0Ucz7h7Kn/KvuHeY/wDfb867XwNa293ZXTXcEU5WQAGVA2OPeuIrvPh7/wAeF5/11X+Va0W3M87MqcFhm0u35nSf2Tp3/Pha/wDflf8ACj+ydO/58LX/AL8r/hVuiu8+UKn9k6d/z4Wv/flf8KP7J07/AJ8LX/vyv+FW6KAKn9k6d/z4Wv8A35X/AAo/snTv+fC1/wC/K/4VbooAqf2Tp3/Pha/9+V/wo/snTv8Anwtf+/K/4VbooAqf2Tp3/Pha/wDflf8ACj+ydO/58LX/AL8r/hVuigCp/ZOnf8+Fr/35X/Cj+ydO/wCfC1/78r/hVuigCp/ZOnf8+Fr/AN+V/wAKP7J07/nwtf8Avyv+FW6KAKn9k6d/z4Wv/flf8KP7J07/AJ8LX/vyv+FW6KAKn9k6d/z4Wv8A35X/AAo/snTv+fC1/wC/K/4VbooAqf2Tp3/Pha/9+V/wo/snTv8Anwtf+/K/4VbooAqf2Tp3/Pha/wDflf8ACj+ydO/58LX/AL8r/hVuigDGvtNsUvNPVLK3UPOQwESjcNjHB4q9/ZOnf8+Fr/35X/Co9Q/4/tN/6+D/AOi2q/QBU/snTv8Anwtf+/K/4Uf2Tp3/AD4Wv/flf8Kt0UAVP7J07/nwtf8Avyv+FH9k6d/z4Wv/AH5X/CrdFAFT+ydO/wCfC1/78r/hR/ZOnf8APha/9+V/wq3RQBU/snTv+fC1/wC/K/4Uf2Tp3/Pha/8Aflf8Kt0UAVP7J07/AJ8LX/vyv+FH9k6d/wA+Fr/35X/CrdFAFT+ydO/58LX/AL8r/hR/ZOnf8+Fr/wB+V/wq3RQBU/snTv8Anwtf+/K/4Uf2Tp3/AD4Wv/flf8Kt0UAcV8KlVPCN2qKFVdZ1EAAYAH2uWu1rjPhZ/wAipe/9hrUv/SuWuzoAKKKKACiiigAooooA4z4Wf8ipe/8AYa1L/wBK5a7OuM+Fn/IqXv8A2GtS/wDSuWuzoAKKKKACiiigAqG9/wCPC4/65N/Kpqhvf+PC4/65N/Kk9io/EjxqiiivKPvgooooAKKKKACnp9x/p/WmU9PuP9P61UdzKt8PzX5oZRRRUmoUUUUAFFFFABXefD3/AI8Lz/rqv8q4Ou8+Hv8Ax4Xn/XVf5VtQ+M83M/8AdZfL8zr6KKK9A+RCiiigAooooAKKKKACiiigAooooAKKKKACiiigAooooAKKKKACiiigChqH/H9pv/Xwf/RbVfqhqH/H9pv/AF8H/wBFtV+gAooooAKKKKACiiigAooooAKKKKACiiigAooooA4z4Wf8ipe/9hrUv/SuWuzrjPhZ/wAipe/9hrUv/SuWuzoAK5DW/Gl/b+JpNA8LaA2u6hbW63N4DdrbR26OSEUuwOXbBIXHQZzXX1554aljsPjf46tr11imv4LC8tQ7AGSFITGxHsrg59M0AdV4U8TWni3w/FqllHLBl3imt5gBJBKjFXjYDuCPywe9V/EGt+ILC/itvD3hZ9YDR+ZJcPfR20UfJG3JBYtxngY6ZIzXMfDDUbKz8N+J9fvby3tNIvvEl7c211PKscTRNIsasHOBhnU492xW9408Zr4dWDTdLSO88Q6iCtjZu+1R6yyn+GJepPU9Bz0ALXg/xZF4s026l+xzafeWF09le2U7BmgmTGRuXhhgghhwQa6Cua8C+HYvDmhSxHUF1PULy4e71G9XH7+4fG4gD7oAAAHYAVPr/hX+3rqKf+3db03y02eXp155KNznJGDk89aAMr4Wf8ipe/8AYa1L/wBK5a7OvOvhVo+3wfcR/wBo358vVr+PcZ+WxdSDcTjknGSfWu0/sj/qIX//AH//APrUAaNFZ39kf9RC/wD+/wD/APWo/sj/AKiF/wD9/wD/AOtQBo0Vnf2R/wBRC/8A+/8A/wDWo/sj/qIX/wD3/wD/AK1AGjUN7/x4XH/XJv5VU/sj/qIX/wD3/wD/AK1RXWlbbOZvt98cRscGbg8fSk9io/Ejyqin+Z/sJ+VHmf7CflXmWXc+456n8v4jKKf5n+wn5UeZ/sJ+VFl3Dnqfy/iMop/mf7CflR5n+wn5UWXcOep/L+Iynp9x/p/WjzP9hPypySZV/lXp6e9VFK+5lVlU5fh6rr5oiop/mf7CflR5n+wn5VNl3Neep/L+Iyin+Z/sJ+VHmf7CflRZdw56n8v4jKKf5n+wn5UeZ/sJ+VFl3Dnqfy/iMrvPh7/x4Xn/AF1X+VcN5n+wn5V2Pgq0+2Wd032ieDbIBiB9oPHetqKXPuefmMpvDO8bbdfM7eis7+yP+ohf/wDf/wD+tR/ZH/UQv/8Av/8A/WruPlTRorO/sj/qIX//AH//APrUf2R/1EL/AP7/AP8A9agDRorO/sj/AKiF/wD9/wD/AOtR/ZH/AFEL/wD7/wD/ANagDRorO/sj/qIX/wD3/wD/AK1H9kf9RC//AO//AP8AWoA0aKzv7I/6iF//AN//AP61H9kf9RC//wC//wD9agDRorO/sj/qIX//AH//APrUf2R/1EL/AP7/AP8A9agDRorO/sj/AKiF/wD9/wD/AOtR/ZH/AFEL/wD7/wD/ANagDRorO/sj/qIX/wD3/wD/AK1H9kf9RC//AO//AP8AWoA0aKzv7I/6iF//AN//AP61H9kf9RC//wC//wD9agDRorO/sj/qIX//AH//APrUf2R/1EL/AP7/AP8A9agDRorO/sj/AKiF/wD9/wD/AOtR/ZH/AFEL/wD7/wD/ANagB2of8f2m/wDXwf8A0W1X6wr3TNl5YL9tvG3zEZaXJX5GORxVz+yP+ohf/wDf/wD+tQBo0Vnf2R/1EL//AL//AP1qP7I/6iF//wB//wD61AGjRWd/ZH/UQv8A/v8A/wD1qP7I/wCohf8A/f8A/wDrUAaNFZ39kf8AUQv/APv/AP8A1qP7I/6iF/8A9/8A/wCtQBo0Vnf2R/1EL/8A7/8A/wBaj+yP+ohf/wDf/wD+tQBo0Vnf2R/1EL//AL//AP1qP7I/6iF//wB//wD61AGjRWd/ZH/UQv8A/v8A/wD1qP7I/wCohf8A/f8A/wDrUAaNFZ39kf8AUQv/APv/AP8A1qP7I/6iF/8A9/8A/wCtQBzvws/5FS9/7DWpf+lctdnXFfCldnhC7XczbdZ1EZY5J/0uTrXa0AFY3iDwj4f8VLCviPR7TUfIJMRuIgxTPXB6gHAyO+K2aKAKbaPpr6Sulvp9q2nqioto0KmIKuCo2YxgYGOO1Z+t+CfDPiS9S81/QrDUblIxEstzArsEBJC5PbLE/jW5RQBm6J4c0bw1ayW2gaZa6dDK/mPHbRBFZsYyQO+AK0qKKAOM+Fn/ACKl7/2GtS/9K5a7OuM+Fn/IqXv/AGGtS/8ASuWuzoAKKKKACiiigAqG9/48Lj/rk38qmqG9/wCPC4/65N/Kk9io/EjxqiiivKPvgooooAKKKKACnp9x/p/WmU9PuP8AT+tVHcyrfD81+aGUUUVJqFFFFABRRRQAV3nw9/48Lz/rqv8AKuDrvPh7/wAeF5/11X+VbUPjPNzP/dZfL8zr6KKK9A+RCiiigAooooAKKKKACiiigAooooAKKKKACikZgiFmOFUZJPYVm/8ACSaP/wBBCD/vqk2luXGnOfwps06KzP8AhJNH/wCghB/31R/wkmj/APQQg/76pc0e5fsKv8r+5mnRWZ/wkmj/APQQg/76o/4STR/+ghB/31RzR7h7Cr/K/uZp0Vmf8JJo/wD0EIP++qP+Ek0f/oIQf99Uc0e4ewq/yv7mSah/x/ab/wBfB/8ARbVfrAvde0uW7sXjvoWWOYs5B+6NjDP5kVc/4STR/wDoIQf99Uc0e4vY1f5X9xp0Vmf8JJo//QQg/wC+qP8AhJNH/wCghB/31RzR7j9hV/lf3M06KzP+Ek0f/oIQf99Uf8JJo/8A0EIP++qOaPcPYVf5X9zNOisz/hJNH/6CEH/fVH/CSaP/ANBCD/vqjmj3D2FX+V/czToqvZ6ha6gjNZTpMqnDFDnBqxVbmTi4uzQUUUUCCiiigAooooA4z4Wf8ipe/wDYa1L/ANK5a7OuM+Fn/IqXv/Ya1L/0rlrs6ACiiua8Q+OdN8PapHpjWuo6nqLw/aDZ6ZatPJHFnHmMB91c8DPU9KAOlorP0PXNP8SaJbato84uLO5XdG+CDwcEEHkEEEEHoRVDxL4x07wxJaW9zFeXt9elvs1hYW5mnlCjLMFHRQOpJAoA36KyPDfibTvFWmNe6U0oEUrQTwzxGKWCVfvRuh5Vhkce9a9AHGfCz/kVL3/sNal/6Vy12dcZ8LP+RUvf+w1qX/pXLXZ0AFFFFABRRRQAVDe/8eFx/wBcm/lU1Q3v/Hhcf9cm/lSexUfiR41RRRXlH3wUUUUAFFFFABT0+4/0/rTKen3H+n9aqO5lW+H5r80MoooqTUKKKKACiiigArvPh7/x4Xn/AF1X+VcHXefD3/jwvP8Arqv8q2ofGebmf+6y+X5nX0UUV6B8iFFFFABRRRQAUUUUAFFFFABRRRQAUUUUAQ3v/Hhcf9cm/lXjVey3v/Hhcf8AXJv5V41XJiN0fRZN8M/kFFFFch7wUUUUAFFFFAD0+4/0/rTKen3H+n9aZVPZGVP4pev6IKKKKk1CiiigAooooA7z4e/8eF5/11X+VdfXIfD3/jwvP+uq/wAq6+vRpfAj43MP96n/AF0CiiitThCiiigAooooA4z4Wf8AIqXv/Ya1L/0rlrs64z4Wf8ipe/8AYa1L/wBK5a7OgArz/wAJMP8AhdXxBWcjztmmmEHr5PkHp7b9/wCP4V6BXNeIvAml+ItUi1R7nUNN1GOE25vNMu2t5JIic+WxH3lzzz0zxigDF+EhzY+K/J/49f8AhKL/AOzY6bNy5x2xv34xx+OaGOP2kF877p8KfuM/3vtfz498bM1uz+BdEl8D/wDCJW8MtnpQCgJbylXGJBJneckksMknOcnPWpPE3g7TfFLWk1491aXtizNa31jOYZ4dwwwVh2I6g5BxQBzvggf8XW+Ixg/49vtdjjb93zPso8z8c4z710Wvx+Lnuoj4WudEht9n7wajbyyOWz2KOoxjFWPDnhrTfCumNZaTHIFllaeeaaVpJZ5W+9I7tyzH1rWoA8z8O+G/iZ4d02W0tdS8Jskt3PdHzLO5c7pZWkPIkXjLHAxx6nrWr5HxT/6CPg//AMALr/49Xb0UAcR5HxT/AOgj4P8A/AC6/wDj1HkfFP8A6CPg/wD8ALr/AOPV29FAHEeR8U/+gj4P/wDAC6/+PUeR8U/+gj4P/wDAC6/+PV29FAHEeR8U/wDoI+D/APwAuv8A49TZbT4pSwvG2o+EAHUqcWF13/7bV3NFAbHkH/CufH//AEGPDf8A4Bz/APxyj/hXPj//AKDHhv8A8A5//jlev0Vn7KHY7Pr2J/nZ5B/wrnx//wBBjw3/AOAc/wD8co/4Vz4//wCgx4b/APAOf/45Xr9FHsodg+vYn+dnkH/CufH/AP0GPDf/AIBz/wDxyj/hXPj/AP6DHhv/AMA5/wD45Xr9FHsodg+vYn+dnkH/AArnx/8A9Bjw3/4Bz/8AxysrV/DXjrRdS0eyk1Hw7K2sXZtEZbScCMiJ5Mn950xGR+Ne6VSvtIsdSu7C5vYPNm0+c3Fs29h5chRkzgHB+V2GDkc0ezh2E8biHo5s8t/4Vz4//wCgx4b/APAOf/45R/wrnx//ANBjw3/4Bz//AByvX6KPZQ7D+vYn+dnkH/CufH//AEGPDf8A4Bz/APxyj/hXPj//AKDHhv8A8A5//jlev0Ueyh2D69if52eQf8K58f8A/QY8N/8AgHP/APHKP+Fc+P8A/oMeG/8AwDn/APjlev0Ueyh2D69if52eQf8ACufH/wD0GPDf/gHP/wDHK19G8OfErRIZI7TVPCjiRgx82xuT/KUV6RRTUIp3SIqYqtUjyzldHEeR8U/+gj4P/wDAC6/+PUeR8U/+gj4P/wDAC6/+PV29FWcxxHkfFP8A6CPg/wD8ALr/AOPUeR8U/wDoI+D/APwAuv8A49Xb0UAcR5HxT/6CPg//AMALr/49R5HxT/6CPg//AMALr/49Xb0UAcR5HxT/AOgj4P8A/AC6/wDj1HkfFP8A6CPg/wD8ALr/AOPV29FAHEeR8U/+gj4P/wDAC6/+PUeR8U/+gj4P/wDAC6/+PV29FAHEeR8U/wDoI+D/APwAuv8A49R5HxT/AOgj4P8A/AC6/wDj1dvRQBxHkfFP/oI+D/8AwAuv/j1HkfFP/oI+D/8AwAuv/j1dvRQBw0tp8UpYXjbUfCADqVOLC67/APbauZ/4Vz4//wCgx4b/APAOf/45Xr9FTKMZbm1KvVpX9nK1zyD/AIVz4/8A+gx4b/8AAOf/AOOUf8K58f8A/QY8N/8AgHP/APHK9foqfZQ7G317E/zs8g/4Vz4//wCgx4b/APAOf/45R/wrnx//ANBjw3/4Bz//AByvX6KPZQ7B9exP87PIP+Fc+P8A/oMeG/8AwDn/APjlH/CufH//AEGPDf8A4Bz/APxyvX6KPZQ7B9exP87PC9X8NeOtF1LR7KTUfDsraxdm0RltJwIyInkyf3npGR+Nav8Awrnx/wD9Bjw3/wCAc/8A8cr1K+0ix1K7sLm9g8ybT5zcWrb2HlyFGQnAOD8rsMHI5q7R7OHYSxuIWvOzyD/hXPj/AP6DHhv/AMA5/wD45R/wrnx//wBBjw3/AOAc/wD8cr1+ij2UOw/r2J/nZ5B/wrnx/wD9Bjw3/wCAc/8A8co/4Vz4/wD+gx4b/wDAOf8A+OV6/RR7KHYPr2J/nZ5B/wAK58f/APQY8N/+Ac//AMco/wCFc+P/APoMeG//AADn/wDjlev0Ueyh2D69if52eb6N4c+JWiQyR2mqeFHEjBj5tjcn+UorR8j4p/8AQR8H/wDgBdf/AB6u3oq0klZHNOcqkuaTuziPI+Kf/QR8H/8AgBdf/HqPI+Kf/QR8H/8AgBdf/Hq7eimQcR5HxT/6CPg//wAALr/49R5HxT/6CPg//wAALr/49Xb0UAcR5HxT/wCgj4P/APAC6/8Aj1HkfFP/AKCPg/8A8ALr/wCPV29FAHNeAvD+o+G/DTWWsz2s95JeXN1I9orLHmWVpMANz/F/+vrXS0UUAFFFFABRRRQAUUUUAFFFFABRRRQAUUUUAFFFFABRRRQAUUUUAFFFFABXlOmaI3xK1bxZqGq6pqlr/Z+qzaVpS2d7JAtp5KqDMFRgGcuTndngAdK9WrzZNP8AGHgvWPEUXhnQYtastavH1G1mN6kP2SeRQJBIrcldy7vkyeT3NAG78L/EF54o+Gejarqh3XskTRXD4A3yRu0bNxxyUJ445rrK5/wL4Z/4Q7wNpegtMJ5LOHEso6PIzF3I9izHrzXQUAFFFFABRRRQAUUUUAFFFFABRRRQAUUUUAFFFFABRRRQAUUUUAFFFFABRRRQAUUUUAFFFFABRRRQB5b8QtJn0rxf4V1q213WS9/4ltbWSza9YWyRFHJVYhgclATnPevUq80+I1t4v1nW9Gi0Xwqt3Z6LrFvqS3R1KKP7SEjYFAh5XlyMnP3fevQdMuLu60yCfUbL7BdOuZbbzRL5R9Nw4P1FAFqiiigAooooAKKKKACiiigAooooAKKKKACiiigAooooAKKKKACiiigAooooAKKKKACiiigAooooAKKKKACiiigAooooAKKKKACiiigAooooAKKKKACiiigAooooAKKKKACiiigAooooAKKKKACiiigAooooAKKKKACiiigAooooAKKKKACiiigAooooAKKKKACiiigAooooAKKKKACiiigAooooAKKKKACiiigD/9k=)"
   ]
  },
  {
   "cell_type": "markdown",
   "metadata": {
    "id": "g6SSyJgLC84A"
   },
   "source": [
    "Для устранения выявленного дисбаланса классов создана функция class_weigts"
   ]
  },
  {
   "cell_type": "markdown",
   "metadata": {
    "id": "sz99x7NkC84A"
   },
   "source": [
    "**(3)** проведено машинное обучение четырех моделей классификации:\n",
    "\n",
    " * LogisticRegression\n",
    "\n",
    " * CatBoostClassifier\n",
    "\n",
    " * DecisionTreeClassifier\n",
    "\n",
    " * LinearSVC"
   ]
  },
  {
   "cell_type": "markdown",
   "metadata": {
    "id": "PutgAnleC84A"
   },
   "source": [
    "**(4)** для выявления наилучшего результата кроме подбора гиперпараметров моделей было сделано две ветки обучения в зависимости от типа векторизации текста:\n",
    "\n",
    " * CountVectorizer()\n",
    "\n",
    " * TfidfVectorizer()"
   ]
  },
  {
   "cell_type": "markdown",
   "metadata": {
    "id": "FkxBs20yC84B"
   },
   "source": [
    "**(5)** дополнительно было исследовано влияние гиперпараметра ngram_range. Были проведены тестовые обучения моделей на значениях (2), (3), (4), показавших результаты значения метрики f1 значительно хуже, чем без ngram_range. Однако, применение гиперпараметра со значением (1, 2) позволило увеличить значение метрики на обучающем комплекте."
   ]
  },
  {
   "cell_type": "markdown",
   "metadata": {
    "id": "VZ5jxu53C84B"
   },
   "source": [
    "**(6)** подбор более широкой гаммы гиперпараметров не был проведен ввиду большого объема датасета и ограничений вычислительных мощностей Google Colab и локальной версии Jupiter Notebook"
   ]
  },
  {
   "cell_type": "markdown",
   "metadata": {
    "id": "VUJPbcUtC84B"
   },
   "source": [
    "**(7)** по итогам машинного обучения моделей на тестовой выборке три модели показали значение метрики f1, соответствующее установленному ограничению:"
   ]
  },
  {
   "cell_type": "code",
   "execution_count": 174,
   "metadata": {
    "id": "9QXL4Fc3C84B",
    "outputId": "9e62f404-e756-4f7d-e5f6-fd28fc023bd7"
   },
   "outputs": [
    {
     "data": {
      "text/html": [
       "<div>\n",
       "<style scoped>\n",
       "    .dataframe tbody tr th:only-of-type {\n",
       "        vertical-align: middle;\n",
       "    }\n",
       "\n",
       "    .dataframe tbody tr th {\n",
       "        vertical-align: top;\n",
       "    }\n",
       "\n",
       "    .dataframe thead th {\n",
       "        text-align: right;\n",
       "    }\n",
       "</style>\n",
       "<table border=\"1\" class=\"dataframe\">\n",
       "  <thead>\n",
       "    <tr style=\"text-align: right;\">\n",
       "      <th></th>\n",
       "      <th>Модель</th>\n",
       "      <th>f1</th>\n",
       "    </tr>\n",
       "  </thead>\n",
       "  <tbody>\n",
       "    <tr>\n",
       "      <th>7</th>\n",
       "      <td>LinearSVC (tfidf)</td>\n",
       "      <td>0.793</td>\n",
       "    </tr>\n",
       "    <tr>\n",
       "      <th>0</th>\n",
       "      <td>LogReg (count_v)</td>\n",
       "      <td>0.788</td>\n",
       "    </tr>\n",
       "    <tr>\n",
       "      <th>6</th>\n",
       "      <td>LinearSVC (count_v)</td>\n",
       "      <td>0.787</td>\n",
       "    </tr>\n",
       "    <tr>\n",
       "      <th>1</th>\n",
       "      <td>LogReg (tfidf)</td>\n",
       "      <td>0.751</td>\n",
       "    </tr>\n",
       "    <tr>\n",
       "      <th>2</th>\n",
       "      <td>CatBoost (count_v)</td>\n",
       "      <td>0.738</td>\n",
       "    </tr>\n",
       "    <tr>\n",
       "      <th>3</th>\n",
       "      <td>CatBoost (tfidf)</td>\n",
       "      <td>0.732</td>\n",
       "    </tr>\n",
       "    <tr>\n",
       "      <th>4</th>\n",
       "      <td>DTreeClf (count_v)</td>\n",
       "      <td>0.661</td>\n",
       "    </tr>\n",
       "    <tr>\n",
       "      <th>5</th>\n",
       "      <td>DTreeClf (tfidf)</td>\n",
       "      <td>0.621</td>\n",
       "    </tr>\n",
       "  </tbody>\n",
       "</table>\n",
       "</div>"
      ],
      "text/plain": [
       "                Модель     f1\n",
       "7    LinearSVC (tfidf)  0.793\n",
       "0     LogReg (count_v)  0.788\n",
       "6  LinearSVC (count_v)  0.787\n",
       "1       LogReg (tfidf)  0.751\n",
       "2   CatBoost (count_v)  0.738\n",
       "3     CatBoost (tfidf)  0.732\n",
       "4   DTreeClf (count_v)  0.661\n",
       "5     DTreeClf (tfidf)  0.621"
      ]
     },
     "execution_count": 174,
     "metadata": {},
     "output_type": "execute_result"
    }
   ],
   "source": [
    "ml_results"
   ]
  },
  {
   "cell_type": "markdown",
   "metadata": {
    "id": "1EDALa_GC84B"
   },
   "source": [
    "![Рис 1 Резу-ты обучения моделей.JPG](data:image/jpeg;base64,/9j/4AAQSkZJRgABAQEAYABgAAD/4RDsRXhpZgAATU0AKgAAAAgABAE7AAIAAAALAAAISodpAAQAAAABAAAIVpydAAEAAAAWAAAQzuocAAcAAAgMAAAAPgAAAAAc6gAAAAgAAAAAAAAAAAAAAAAAAAAAAAAAAAAAAAAAAAAAAAAAAAAAAAAAAAAAAAAAAAAAAAAAAAAAAAAAAAAAAAAAAAAAAAAAAAAAAAAAAAAAAAAAAAAAAAAAAAAAAAAAAAAAAAAAAAAAAAAAAAAAAAAAAAAAAAAAAAAAAAAAAAAAAAAAAAAAAAAAAAAAAAAAAAAAAAAAAAAAAAAAAAAAAAAAAAAAAAAAAAAAAAAAAAAAAAAAAAAAAAAAAAAAAAAAAAAAAAAAAAAAAAAAAAAAAAAAAAAAAAAAAAAAAAAAAAAAAAAAAAAAAAAAAAAAAAAAAAAAAAAAAAAAAAAAAAAAAAAAAAAAAAAAAAAAAAAAAAAAAAAAAAAAAAAAAAAAAAAAAAAAAAAAAAAAAAAAAAAAAAAAAAAAAAAAAAAAAAAAAAAAAAAAAAAAAAAAAAAAAAAAAAAAAAAAAAAAAAAAAAAAAAAAAAAAAAAAAAAAAAAAAAAAAAAAAAAAAAAAAAAAAAAAAAAAAAAAAAAAAAAAAAAAAAAAAAAAAAAAAAAAAAAAAAAAAAAAAAAAAAAAAAAAAAAAAAAAAAAAAAAAAAAAAAAAAAAAAAAAAAAAAAAAAAAAAAAAAAAAAAAAAAAAAAAAAAAAAAAAAAAAAAAAAAAAAAAAAAAAAAAAAAAAAAAAAAAAAAAAAAAAAAAAAAAAAAAAAAAAAAAAAAAAAAAAAAAAAAAAAAAAAAAAAAAAAAAAAAAAAAAAAAAAAAAAAAAAAAAAAAAAAAAAAAAAAAAAAAAAAAAAAAAAAAAAAAAAAAAAAAAAAAAAAAAAAAAAAAAAAAAAAAAAAAAAAAAAAAAAAAAAAAAAAAAAAAAAAAAAAAAAAAAAAAAAAAAAAAAAAAAAAAAAAAAAAAAAAAAAAAAAAAAAAAAAAAAAAAAAAAAAAAAAAAAAAAAAAAAAAAAAAAAAAAAAAAAAAAAAAAAAAAAAAAAAAAAAAAAAAAAAAAAAAAAAAAAAAAAAAAAAAAAAAAAAAAAAAAAAAAAAAAAAAAAAAAAAAAAAAAAAAAAAAAAAAAAAAAAAAAAAAAAAAAAAAAAAAAAAAAAAAAAAAAAAAAAAAAAAAAAAAAAAAAAAAAAAAAAAAAAAAAAAAAAAAAAAAAAAAAAAAAAAAAAAAAAAAAAAAAAAAAAAAAAAAAAAAAAAAAAAAAAAAAAAAAAAAAAAAAAAAAAAAAAAAAAAAAAAAAAAAAAAAAAAAAAAAAAAAAAAAAAAAAAAAAAAAAAAAAAAAAAAAAAAAAAAAAAAAAAAAAAAAAAAAAAAAAAAAAAAAAAAAAAAAAAAAAAAAAAAAAAAAAAAAAAAAAAAAAAAAAAAAAAAAAAAAAAAAAAAAAAAAAAAAAAAAAAAAAAAAAAAAAAAAAAAAAAAAAAAAAAAAAAAAAAAAAAAAAAAAAAAAAAAAAAAAAAAAAAAAAAAAAAAAAAAAAAAAAAAAAAAAAAAAAAAAAAAAAAAAAAAAAAAAAAAAAAAAAAAAAAAAAAAAAAAAAAAAAAAAAAAAAAAAAAAAAAAAAAAAAAAAAAAAAAAAAAAAAAAAAAAAAAAAAAAAAAAAAAAAAAAAAAAAAAAAAAAAAAAAAAAAAAAAAAAAAAAAAAAAAAAAAAAAAAAAAAAAAAAAAAAAAAAAAAAAAAAAAAAAAAAAAAAAAAAAAAAAAAAAAAAAAAAAAAAAAAAAAAAAAAAAAAAAAAAAAAAAAAAAAAAAAAAAAAAAAAAAAAAAAAAAAAAAAAAAAAAAAAAAAAAAAAAAAAAAAAAAAAAAAAAAAAAAAAAAAAAAAAAAAAAAAAAAAAAAAAAAAAAAAAAAAAAAAAAAAAAAAAAAAAAAAAAAAAAAAAAAAAAAAAAAAAAAAAAAAAAAAAAAAAAAAAAAAAAAAAAAAAAAAAAAAAAAAAAAAAAAAAAAAAAAAAAAAAAAAAAAAAAAAAAAAAAAAAAAAAAAAAAAAAAAAAAAAAAAAAAAAAAAAAAAAAAAAAAAAAAAAAAAAAAAAAAAAAAAAAAAAAAAAAAAAAAAAAAAAAAAAAAAAAAAAAAAAAAAAAAAAAAAAAAAAAAAAAAAAAAAAAAAAAAAAAAAAAAAAAAAAAAAAAAAAAAAAAAAAAAAAAAAAAAAAAAAAAAAAAAAAAAAAAAAAAAAAAAAAAAAAAAAAAAAAAAAAAAAAAAAAAAAAAAAAAAAAAAAAAAAAAAAAAAAAAAAAAAAAAAAAAAAAAAAAAAAAAAAAAAAAAAAAAAAAAAAAAAAAAAAAAAAAAAAAAAAAAAAAAAAAAAAAAAAAAAAAAAAAAAAAAAAAAAAAAAAAAAAAAAAAAAAAAAAAAAAAAAAAAAAAAAAAAAAAAAAAAAAAAAAAAAAAAAAAAAAAAAAAAAAAAAAAAAAAAAAAAAAAAAAAAAAAAAAAAAAAAAAAAAAAAAAAAAAAAAAAAAAAAAAAAAAAAAAAAAAAAAAAAAAAAAAAAAAAAAAAAAAAAAAAAAAAAAAAAAAAAAAAAAAAAAAAAAAAAAAAAAAAAAAAAAAAAAAAAAAAAAAAAAAAAAAAAAAAAAAAAAAAAAAAAAAAAAAAAAAAAAAAAAAAAAAAAAAAAAAAAAAAAAAAAAAAAAAAAAAAAAAAAAAAAAAAAAAAAAAAAAAAAAAAAAAAAAAAAAAAAAAAAAAAAAAAAAAAAAAAAAAAAAAAAAAAAAAAAAAAAAAAAAAAAAAAAAAAAAAAAAAAAAAAAAAAAAAAAAAAAAAAAAAEVnb3IgVW1hZXYAAAAFkAMAAgAAABQAABCkkAQAAgAAABQAABC4kpEAAgAAAAMyOAAAkpIAAgAAAAMyOAAA6hwABwAACAwAAAiYAAAAABzqAAAACAAAAAAAAAAAAAAAAAAAAAAAAAAAAAAAAAAAAAAAAAAAAAAAAAAAAAAAAAAAAAAAAAAAAAAAAAAAAAAAAAAAAAAAAAAAAAAAAAAAAAAAAAAAAAAAAAAAAAAAAAAAAAAAAAAAAAAAAAAAAAAAAAAAAAAAAAAAAAAAAAAAAAAAAAAAAAAAAAAAAAAAAAAAAAAAAAAAAAAAAAAAAAAAAAAAAAAAAAAAAAAAAAAAAAAAAAAAAAAAAAAAAAAAAAAAAAAAAAAAAAAAAAAAAAAAAAAAAAAAAAAAAAAAAAAAAAAAAAAAAAAAAAAAAAAAAAAAAAAAAAAAAAAAAAAAAAAAAAAAAAAAAAAAAAAAAAAAAAAAAAAAAAAAAAAAAAAAAAAAAAAAAAAAAAAAAAAAAAAAAAAAAAAAAAAAAAAAAAAAAAAAAAAAAAAAAAAAAAAAAAAAAAAAAAAAAAAAAAAAAAAAAAAAAAAAAAAAAAAAAAAAAAAAAAAAAAAAAAAAAAAAAAAAAAAAAAAAAAAAAAAAAAAAAAAAAAAAAAAAAAAAAAAAAAAAAAAAAAAAAAAAAAAAAAAAAAAAAAAAAAAAAAAAAAAAAAAAAAAAAAAAAAAAAAAAAAAAAAAAAAAAAAAAAAAAAAAAAAAAAAAAAAAAAAAAAAAAAAAAAAAAAAAAAAAAAAAAAAAAAAAAAAAAAAAAAAAAAAAAAAAAAAAAAAAAAAAAAAAAAAAAAAAAAAAAAAAAAAAAAAAAAAAAAAAAAAAAAAAAAAAAAAAAAAAAAAAAAAAAAAAAAAAAAAAAAAAAAAAAAAAAAAAAAAAAAAAAAAAAAAAAAAAAAAAAAAAAAAAAAAAAAAAAAAAAAAAAAAAAAAAAAAAAAAAAAAAAAAAAAAAAAAAAAAAAAAAAAAAAAAAAAAAAAAAAAAAAAAAAAAAAAAAAAAAAAAAAAAAAAAAAAAAAAAAAAAAAAAAAAAAAAAAAAAAAAAAAAAAAAAAAAAAAAAAAAAAAAAAAAAAAAAAAAAAAAAAAAAAAAAAAAAAAAAAAAAAAAAAAAAAAAAAAAAAAAAAAAAAAAAAAAAAAAAAAAAAAAAAAAAAAAAAAAAAAAAAAAAAAAAAAAAAAAAAAAAAAAAAAAAAAAAAAAAAAAAAAAAAAAAAAAAAAAAAAAAAAAAAAAAAAAAAAAAAAAAAAAAAAAAAAAAAAAAAAAAAAAAAAAAAAAAAAAAAAAAAAAAAAAAAAAAAAAAAAAAAAAAAAAAAAAAAAAAAAAAAAAAAAAAAAAAAAAAAAAAAAAAAAAAAAAAAAAAAAAAAAAAAAAAAAAAAAAAAAAAAAAAAAAAAAAAAAAAAAAAAAAAAAAAAAAAAAAAAAAAAAAAAAAAAAAAAAAAAAAAAAAAAAAAAAAAAAAAAAAAAAAAAAAAAAAAAAAAAAAAAAAAAAAAAAAAAAAAAAAAAAAAAAAAAAAAAAAAAAAAAAAAAAAAAAAAAAAAAAAAAAAAAAAAAAAAAAAAAAAAAAAAAAAAAAAAAAAAAAAAAAAAAAAAAAAAAAAAAAAAAAAAAAAAAAAAAAAAAAAAAAAAAAAAAAAAAAAAAAAAAAAAAAAAAAAAAAAAAAAAAAAAAAAAAAAAAAAAAAAAAAAAAAAAAAAAAAAAAAAAAAAAAAAAAAAAAAAAAAAAAAAAAAAAAAAAAAAAAAAAAAAAAAAAAAAAAAAAAAAAAAAAAAAAAAAAAAAAAAAAAAAAAAAAAAAAAAAAAAAAAAAAAAAAAAAAAAAAAAAAAAAAAAAAAAAAAAAAAAAAAAAAAAAAAAAAAAAAAAAAAAAAAAAAAAAAAAAAAAAAAAAAAAAAAAAAAAAAAAAAAAAAAAAAAAAAAAAAAAAAAAAAAAAAAAAAAAAAAAAAAAAAAAAAAAAAAAAAAAAAAAAAAAAAAAAAAAAAAAAAAAAAAAAAAAAAAAAAAAAAAAAAAAAAAAAAAAAAAAAAAAAAAAAAAAAAAAAAAAAAAAAAAAAAAAAAAAAAAAAAAAAAAAAAAAAAAAAAAAAAAAAAAAAAAAAAAAAAAAAAAAAAAAAAAAAAAAAAAAAAAAAAAAAAAAAAAAAAAAAAAAAAAAAAAAAAAAAAAAAAAAAAAAAAAAAAAAAAAAAAAAAAAAAAAAAAAAAAAAAAAAAAAAAAAAAAAAAAAAAAAAAAAAAAAAAAAAAAAAAAAAAAAAAAAAAAAAAAAAAAAAAAAAAAAAAAAAAAAAAAAAAAAAAAAAAAAAAAAAAAAAAAAAAAAAAAAAAAAAAAAAAAAAAAAAAAAAAAAAAAAAAAAAAAAAAAAAAAAAAAAAAAAAAAAAAAAAAAAAAAAAAAAAAAAAAAAAAAAAAAAAAAAAAAAAAAAAAAAAAAAAAAAAAAAAAAAAAAAAAAAAAAAAAAAAAAAAAAAAAAAAAAAAAAAAAAAAAAAAAAAAAAAAAAAAAAAAAAAAAAAAAAAAAAAAAAAAAAAAAAAAAAAAAAAAAAAAAAAAAAAAAAAAAAAAAAAAAAAAAAAAAAAAAAAAAAAAAAAAAAAAAAAAAAAAAAAAAAAAAAAAAAAAAAAAAAAAAAAAAAAAAAAAAAAAAAAAAAAAAAAAAAAAAAAAAAAAAAAAAAAAAAAAAAAAAAAAAAAAAAAAAAAAAAAAAAAAAAAAAAAAAAAAAAAAAAAAAAAAAAAAAAAAAAAAAAAAAAAAAAAAAAAAAAAAAAAAAAAAAAAAAAAAAAAAAAAAAAAAAAAAAAAAAAAAAAAAAAAAAAAAAAAAMjAyMzowMjowMyAxNjoyOToyNQAyMDIzOjAyOjAzIDE2OjI5OjI1AAAARQBnAG8AcgAgAFUAbQBhAGUAdgAAAP/hCx1odHRwOi8vbnMuYWRvYmUuY29tL3hhcC8xLjAvADw/eHBhY2tldCBiZWdpbj0n77u/JyBpZD0nVzVNME1wQ2VoaUh6cmVTek5UY3prYzlkJz8+DQo8eDp4bXBtZXRhIHhtbG5zOng9ImFkb2JlOm5zOm1ldGEvIj48cmRmOlJERiB4bWxuczpyZGY9Imh0dHA6Ly93d3cudzMub3JnLzE5OTkvMDIvMjItcmRmLXN5bnRheC1ucyMiPjxyZGY6RGVzY3JpcHRpb24gcmRmOmFib3V0PSJ1dWlkOmZhZjViZGQ1LWJhM2QtMTFkYS1hZDMxLWQzM2Q3NTE4MmYxYiIgeG1sbnM6ZGM9Imh0dHA6Ly9wdXJsLm9yZy9kYy9lbGVtZW50cy8xLjEvIi8+PHJkZjpEZXNjcmlwdGlvbiByZGY6YWJvdXQ9InV1aWQ6ZmFmNWJkZDUtYmEzZC0xMWRhLWFkMzEtZDMzZDc1MTgyZjFiIiB4bWxuczp4bXA9Imh0dHA6Ly9ucy5hZG9iZS5jb20veGFwLzEuMC8iPjx4bXA6Q3JlYXRlRGF0ZT4yMDIzLTAyLTAzVDE2OjI5OjI1LjI4NDwveG1wOkNyZWF0ZURhdGU+PC9yZGY6RGVzY3JpcHRpb24+PHJkZjpEZXNjcmlwdGlvbiByZGY6YWJvdXQ9InV1aWQ6ZmFmNWJkZDUtYmEzZC0xMWRhLWFkMzEtZDMzZDc1MTgyZjFiIiB4bWxuczpkYz0iaHR0cDovL3B1cmwub3JnL2RjL2VsZW1lbnRzLzEuMS8iPjxkYzpjcmVhdG9yPjxyZGY6U2VxIHhtbG5zOnJkZj0iaHR0cDovL3d3dy53My5vcmcvMTk5OS8wMi8yMi1yZGYtc3ludGF4LW5zIyI+PHJkZjpsaT5FZ29yIFVtYWV2PC9yZGY6bGk+PC9yZGY6U2VxPg0KCQkJPC9kYzpjcmVhdG9yPjwvcmRmOkRlc2NyaXB0aW9uPjwvcmRmOlJERj48L3g6eG1wbWV0YT4NCiAgICAgICAgICAgICAgICAgICAgICAgICAgICAgICAgICAgICAgICAgICAgICAgICAgICAgICAgICAgICAgICAgICAgICAgICAgICAgICAgICAgICAgICAgICAgICAgICAgICAKICAgICAgICAgICAgICAgICAgICAgICAgICAgICAgICAgICAgICAgICAgICAgICAgICAgICAgICAgICAgICAgICAgICAgICAgICAgICAgICAgICAgICAgICAgICAgICAgICAgIAogICAgICAgICAgICAgICAgICAgICAgICAgICAgICAgICAgICAgICAgICAgICAgICAgICAgICAgICAgICAgICAgICAgICAgICAgICAgICAgICAgICAgICAgICAgICAgICAgICAgCiAgICAgICAgICAgICAgICAgICAgICAgICAgICAgICAgICAgICAgICAgICAgICAgICAgICAgICAgICAgICAgICAgICAgICAgICAgICAgICAgICAgICAgICAgICAgICAgICAgICAKICAgICAgICAgICAgICAgICAgICAgICAgICAgICAgICAgICAgICAgICAgICAgICAgICAgICAgICAgICAgICAgICAgICAgICAgICAgICAgICAgICAgICAgICAgICAgICAgICAgIAogICAgICAgICAgICAgICAgICAgICAgICAgICAgICAgICAgICAgICAgICAgICAgICAgICAgICAgICAgICAgICAgICAgICAgICAgICAgICAgICAgICAgICAgICAgICAgICAgICAgCiAgICAgICAgICAgICAgICAgICAgICAgICAgICAgICAgICAgICAgICAgICAgICAgICAgICAgICAgICAgICAgICAgICAgICAgICAgICAgICAgICAgICAgICAgICAgICAgICAgICAKICAgICAgICAgICAgICAgICAgICAgICAgICAgICAgICAgICAgICAgICAgICAgICAgICAgICAgICAgICAgICAgICAgICAgICAgICAgICAgICAgICAgICAgICAgICAgICAgICAgIAogICAgICAgICAgICAgICAgICAgICAgICAgICAgICAgICAgICAgICAgICAgICAgICAgICAgICAgICAgICAgICAgICAgICAgICAgICAgICAgICAgICAgICAgICAgICAgICAgICAgCiAgICAgICAgICAgICAgICAgICAgICAgICAgICAgICAgICAgICAgICAgICAgICAgICAgICAgICAgICAgICAgICAgICAgICAgICAgICAgICAgICAgICAgICAgICAgICAgICAgICAKICAgICAgICAgICAgICAgICAgICAgICAgICAgICAgICAgICAgICAgICAgICAgICAgICAgICAgICAgICAgICAgICAgICAgICAgICAgICAgICAgICAgICAgICAgICAgICAgICAgIAogICAgICAgICAgICAgICAgICAgICAgICAgICAgICAgICAgICAgICAgICAgICAgICAgICAgICAgICAgICAgICAgICAgICAgICAgICAgICAgICAgICAgICAgICAgICAgICAgICAgCiAgICAgICAgICAgICAgICAgICAgICAgICAgICAgICAgICAgICAgICAgICAgICAgICAgICAgICAgICAgICAgICAgICAgICAgICAgICAgICAgICAgICAgICAgICAgICAgICAgICAKICAgICAgICAgICAgICAgICAgICAgICAgICAgICAgICAgICAgICAgICAgICAgICAgICAgICAgICAgICAgICAgICAgICAgICAgICAgICAgICAgICAgICAgICAgICAgICAgICAgIAogICAgICAgICAgICAgICAgICAgICAgICAgICAgICAgICAgICAgICAgICAgICAgICAgICAgICAgICAgICAgICAgICAgICAgICAgICAgICAgICAgICAgICAgICAgICAgICAgICAgCiAgICAgICAgICAgICAgICAgICAgICAgICAgICAgICAgICAgICAgICAgICAgICAgICAgICAgICAgICAgICAgICAgICAgICAgICAgICAgICAgICAgICAgICAgICAgICAgICAgICAKICAgICAgICAgICAgICAgICAgICAgICAgICAgICAgICAgICAgICAgICAgICAgICAgICAgICAgICAgICAgICAgICAgICAgICAgICAgICAgICAgICAgICAgICAgICAgICAgICAgIAogICAgICAgICAgICAgICAgICAgICAgICAgICAgICAgICAgICAgICAgICAgICAgICAgICAgICAgICAgICAgICAgICAgICAgICAgICAgICAgICAgICAgICAgICAgICAgICAgICAgCiAgICAgICAgICAgICAgICAgICAgICAgICAgICAgICAgICAgICAgICAgICAgICAgICAgICAgICAgICAgICAgICAgICAgICAgICAgICAgICAgICAgICAgICAgICAgICAgICAgICAKICAgICAgICAgICAgICAgICAgICAgICAgICAgICAgICAgICAgICAgICAgICAgICAgICAgICAgICAgICAgICAgICAgICAgICAgICAgICAgICAgICAgICAgICAgICAgICAgICAgIAogICAgICAgICAgICAgICAgICAgICAgICAgICAgPD94cGFja2V0IGVuZD0ndyc/Pv/bAEMABwUFBgUEBwYFBggHBwgKEQsKCQkKFQ8QDBEYFRoZGBUYFxseJyEbHSUdFxgiLiIlKCkrLCsaIC8zLyoyJyorKv/bAEMBBwgICgkKFAsLFCocGBwqKioqKioqKioqKioqKioqKioqKioqKioqKioqKioqKioqKioqKioqKioqKioqKioqKv/AABEIAlwC5gMBIgACEQEDEQH/xAAfAAABBQEBAQEBAQAAAAAAAAAAAQIDBAUGBwgJCgv/xAC1EAACAQMDAgQDBQUEBAAAAX0BAgMABBEFEiExQQYTUWEHInEUMoGRoQgjQrHBFVLR8CQzYnKCCQoWFxgZGiUmJygpKjQ1Njc4OTpDREVGR0hJSlNUVVZXWFlaY2RlZmdoaWpzdHV2d3h5eoOEhYaHiImKkpOUlZaXmJmaoqOkpaanqKmqsrO0tba3uLm6wsPExcbHyMnK0tPU1dbX2Nna4eLj5OXm5+jp6vHy8/T19vf4+fr/xAAfAQADAQEBAQEBAQEBAAAAAAAAAQIDBAUGBwgJCgv/xAC1EQACAQIEBAMEBwUEBAABAncAAQIDEQQFITEGEkFRB2FxEyIygQgUQpGhscEJIzNS8BVictEKFiQ04SXxFxgZGiYnKCkqNTY3ODk6Q0RFRkdISUpTVFVWV1hZWmNkZWZnaGlqc3R1dnd4eXqCg4SFhoeIiYqSk5SVlpeYmZqio6Slpqeoqaqys7S1tre4ubrCw8TFxsfIycrS09TV1tfY2dri4+Tl5ufo6ery8/T19vf4+fr/2gAMAwEAAhEDEQA/APpGiiigAooooAKKKKACiiigAooooAKKKKACiiigAooooAKKKKACiiigAooooAKKKKACiiigAooooAKKKKACiiigAooooAKKKKACiiigAooqK5uYbO0murlxHDCjSSOeiqBkn8hQBLRXnnhX4jy6t4fvNc1AwXEPneXbadplrLJcKS7BFYkkMzBQeAoHOTXQ+B/EN54n8NnUdStEs7j7VPC1uhz5YSRkAJzyQByRwT0xQB0VFULzXNMsNUs9Ovb2KG8viRbQucNLjrilfW9Nj12PRnvIhqUkRmS2z85TJG7HpwaAL1FYkHjPw3c6v/ZdvrdlJe7zGIVmBLOOqg9C3sOai1jx34Y8P6gbHWdatrO6ChjFISCAeh6UAdBRWVeeKNE0/SbbU73U7eGzu1VreV3x5wYZG0dTwc8UyTxZoMXh/wDtx9Vtv7MBCm6D5QEnGDjoc8YoA2KKwtE8beG/El69noWr297cJGZWjiJJCAgE9PVh+dPsvGHh3UdVOm2Os2c95lgIklBLFfvBezEd8ZxQBtUVy2qeItQia9udKl0h9MtD5VzdXMzobKRD+93qB842lcAFecjPOa6W2uIru1iubZxJDMgkjdejKRkH8qAJKKzG8R6Qmg/201/CNNyB9pz8uS+wf+PcVBq/jHw9oN39l1fV7W1n27zG7/Mq+pA6D3NAG1RUcFxDdW8dxbSpNDKoeOSNgyupGQQR1BrIufGXhy01f+y7nWrOK93BDC0oBVj0UnoCfQ80AbdFcJ4u8d3Wk63LpemXGiWJt4o3nvNauGSPdJu2xoi8scLuJyAAR61t+HtZme1soNe1XS7rUdQV57b+zgwhljXGdhYndjIJOe9AHQUVmv4h0lNW/sx76IXvmLF5Gfm3shdV+pVSfpUzatYR3dzayXcSTWsInnV2x5UZzhmJ4A+VufagC5RWJpXjPw7rd99j0nWLW6uSpdYkfl1HUr/eH0zUs/inQ7bRRq9xqlvHYNIYlnd8KzhipUepyrDA9DQBrUVlQ+KNEuNFOrwanbyWAkERuFfKq5YKFPodzAYPrVwahaHVG04TqbxIRO0P8QjLFQ30ypH4UAWaKypfFGiQaJHq82p28enyNtjnZ8K7ZIwO5OQeB6U1PFegyaDNrUeq2z6dAcS3CvlYzkDDdwckcH1oA16Ky77xJo2maHFrF/qMEGnTKjR3Lt8rhxlceuRzWhc3EVpay3Ny4jhhQySO3RVAyT+VAElFZ0XiHSJprCGLUbdpdRh8+0jD/NNHt3bwOuMc5qtp/jHw7qupHT9O1mzubr5sRRygl9vXb2bHfGaANqiqGn65pmq3t7aafexXFxYSCO6jQ8wsc4B/75P5VRfxr4bj0m41NtYthY21wbWWfdlUlGPkz68igDdorC0bxt4b8QzzQ6Lq9veSQxmWRYiSVQHGTx71UtPiX4Nv72Czs/ENnNcXEixRRqxy7scADjuTQB1FFY2peL/D2j6gtjqmsWdrdNgmOSUArnoW/u57ZxV2TVrCK9a0lu4knS3N0yM2NsQOC5PTGe9AFyiuWn+Jngy2Kef4isl8xd6HeSGXJGQQOmQauP438NR6Ta6m+s2os7wstvJv/wBaVJDbR1OCDnjigDdoqvYX9pqljFeadcxXVtMu6OWJwysPYirFABRRRQAUUUUAFFFFABRRRQAUUUUAFFFFABRRRQAUUUUAFFFFABRRRQAUUUUAFFFFABRRRQAUUUUAFFFFABRRRQAUUUUAFFFFABRRRQAUUUUAFFFFABRRRQAUUUUAFFFFABRRRQAUUUUAFFFFAHJfC5Gj+Gulq6lWHnZBGD/rno+GyMnhi6DqVP8Aat8cEY4+0PXW0UAeY/EvTbi+8YaZPYxF7vT9Mub61IH/AC1hlgkVf+BbSv8AwI1k20F7rvjCw8RW8csF1rtrqn2QyKVaGFY4o4AfTOGf/gZr2SigDxabUNMvvhBpfg/S4nj8Sxi2hSwEBWe2uUdTJKRj5QCHbeeMHrzWpD418PTXvjO9fU4k+2AWtqpVsyrHDjcOOhd3A+leq1T0nS7bRdKg06xDC3t12oGbJxnPX8aAPG7a58pPAutPrLaXpcfh4WKah9mWaO3ul2K6NuBEZO0ru9UIqSaayOn3H2XUrzUZta8QWckDyWiwx3bRSRebJCqdVxjLEDJXIz1r2DStLttGsPsdkGEXmyy4ZsndJI0jf+PMauUAefeLLK8vvHV5b6cGFzP4RvoYGBxiRpYwvPbmuT0l7PUdO8MaOPEd7c3dpcW5TSLfTIlmspI8FjIflKKuCGYnkZxnNe20UAeKS2N5r9v420qSCWPSrHUL6+uGKkC6l2/uYh6hSu8+4Qd69U8Jgr4L0QMCCNPgBB7fu1q8mo2smqS6cku66hiWaSMKTsViQpJxgE7TxnPFWaAPCLrS9d/4UGsraoGsfOjP9n/YRvx9tH/LTdnr83T2roNX1xx4p8S2R1K18PSFljW2j0/z7zVB5Qw6lshh1UAKcd69XooA5L4WBl+FugLIGDrahWDdQQSMVxFvqmmaV8Lta8K63E7eI53vInsWhYzXs8kjmOROPnByhDjpj2r2SigDyrTBZeCfiBLqXjJ1tpL/AEW0iiv5zmMSxptmj344Y4Q9eap21ncWXgyXxZa20kEGmeIJ9VsImjKN/Z7nbKAp5VWUyOBj0r2GsXxN4efxLZx2Mmp3FnYuSLyCBU/0qM4+QsQSo4wduMgkUAchpPhW/wBd8K2evw3C2Ou3WpnXI2nQugDAqkLjIO3ySq8HIrM1aTWbDVPGlzrVjY6tcf2LagW8FvIIXQySghgSWbAJY4I4HavW1VUQKihVUYAAwAKWgDx+z1Uaj8Q/Bsy+I4ddhhmuFLWOniK2tS9s4VNwydxPAUt0HIHFUtAiudH/AOEV13XbjdoNtf6mpVrfC2MjyyBJHbkkEhvmIAXcPrXttFAHjGtTJfaP441zTwx0a7v9La3lEZVJmjliE0ijuOg3Y52nrW1F438OD4rXWonVIxZvokMCzbG2mQTysV6dcMD+Nem0UAeDaXKToHgnVE1OSxsNNkvoLm8S2Ey2U7tlC6sDgFTjdjjcOmav6jDFfeEvGmo2WpXmsJdmzje7a0SK3uGSReYtv3iAcM2MHA5OOPXtP0u20xrtrUMDeXLXMu5s5dgAceg+UVcoA8G8U6feXHhfWPDMltL9j8JQ3EkTFSVmMpxa49dsTyA+4FexeLAW8F62FBJOnzgAd/3bVr0UAeLaBZ6nbeDrrSpRJLqmueF4W0u7A2ZRLfH2UD+FlLE5/i3knGK0bzWdH13QPCug+G42bVrS+s3+yLEySaeIiDK0gIGwBQynPXPGa9PfUbWPVItOeXbdTRNNHGVI3qpAYg4wSNw4znmrNAHiBfU/Duu65rGj20j3OrarfaQMKeJmKtbSH2DeYM/7VWNO0VdE0OTTLSN/JtPHNkiEryyqLcbj9cEk/WvZ6KAOB8QX1vpXxIvb/UJPItI/DRVpmB2gm4wBx7kVmLbzR/CfwDFJDIsiahpRZGUgr+8XqO1eo0UAeKSSpo154vsde8Ry6VJe6jcTCxOnxzNfQv8A6vyyy5f5cLtB+UjtUmp+H9UlvrOw077XItv4UiE1pdIFmvIlnBa3ZgTsdlG04J9O+a9nooA4XxTqFvrfhfwvqGmqxt59b06RF2YKL5y5BHYjofTFZXi0y6V8VI9VvtbbQ7KbSlt7a/e2SWJXEjF4yWBCEgqc8ZxjtXp9FAHHfDW2ii0TULi1uLy5t7zUZZ0lurZYBLkAF40XojEEjIGTk45yexoooAKKKKACiiigAooooAKKKKACiiigAooooAKKKKACiiigAooooAKKKKACiiigAooooAKKKKACiiigAooooAKKKKACiiigAooooAKKKKACiiigAooooAKKKKACiiigAooooAKKKKACiiigAooooAKKKKACiiigAooooAKKKKACiiigDyz+1b2z+F/jLxLZztDqU1/dOk2AWjEUghReewVB+ZpbvxRrF54P8TeJLPUpbQ2MItbWxkRFMTqELSygjcGYk4BIGwg45yNyPwks8fifwvfJcJpOrStewXEGAV83HmxgkEAh1LDI6P7GofHfgsXHhrXrrREuZNQvdMWza2jK7bnYRsYjH3wMgHI4OPTAAly+seEPEehNd69d6vb6pJJb3kFwiYEgiaRXiCqNgyhG3JGCPTNYv9peJG+Gv/CwB4hn+2eSb0acVj+x+Vu/1O3buzt43bs5rs9M8FWmn6xb6jPqOpalNZxtHZLfTh1tVYYbZhQSSONzFjjvVL/hWmleUbL7fqf9jGbzjo/nr9lzu3bcbd+zdzt3Yz2oApQS6r4z8Sa5Hba7d6Pa6WYoLWKz8vLStEJDJJuU7hlgAvAwDTYZdb8ReJk0K51+S1h0/S4bi5udKCo13NIzLuDMrYQBCcDufatzVPBVrqGr3OpWmqanpNxeRrHdnT5lQXAUYUsGVsEDgMuDjvUcvgHTE+wvo91faLNZWos45tPkUM8I5COHVg2DzkjOSeaAJLLWn0PTYLTxBdXWq3il1a60/S551cBiBv8AKRlV8DBHHIPFcR4l8QaxF4n8Wx22o+JIxpgi+xRaVYxzwoTbI/7zdGT94k9RxmvS9D0Sz8PaTHp+nh/KRmdnlfc8jsSWdm7sSSSaw7/wBBea7qOpw69rdi2pFDc29ncRpG+2MRj+AsPlUd6AOfvfEU+opoiT67f+ZPpMV1LZeHLUyzSStjMhfawWPqADtyc9cVWh8Sa5P8MHkfUbuG+i11dN+1PHGtwI/tQj+YYKB9pweCMjvXUj4eadbXME+iahqWjNFZpZMLGVAJYk+6G3q3IyfmGDyeaig+GelW9rbWkeoap9igv21A2rXAKSyFkYByV3MAybhznLNkmgDPlk1bQPGVzp3/CQajqNu3h+5vVF6ISUlSSNVYbI17MeuetYh8b67qFj4P8A7MvMRJJpaazdbFJuJbjy8wjjA+VizEdNyjivRb7w3Z3+tNqk0k6ztp8unFUYbfLkZWJxjO7KjBzj2rPsvAGj6f4Z0vQ7Q3Edrpt3FeRvvXfJJG+8Fztwckc4A44GKAMjUzqmq694pa18Qalp9vo8MQhitPJ2GTyTI27fGxPVO461Sm1+6u/D/hJbvXdRimvtJjuri20i0Mt5cuUT58hWCICTk4HJAzU+jfDO8Gjzf2p4p162u793mvora5i8t3bg9YifugDr2qxoXw8lttJ0w3Or6lY6npsM1jHc2k0ZaS085jEj7kZThAnQAg0Ac3a+MNdTwzcxte3oms/E9vYJLeRos7W7lDskAGN2GIz16V22o6tfQ/EVdOiuGW0Og3F15WBjzVljUN68BiPxqrJ8LtIfS72xTUNUjW8vo9QeYTq0qzoB8wZlPUjJznnpgcVAvgC7svF+matDr+raiAk1refb542xbvGxAULGvPmCM/hQBzMnjrXrzwx4Z/sy7Pmx/YJdZvCineZ3VVhHGNzBi5wBgBf71W/EPiO9tPEWuWut+INa0eeINJpNpp1iJIpoBGMSFvJkJO/IbJGK6rT/AIc6JpnhG38PWjXK2sF1HdmUupllkRw4LHbg/dUcAcDAxWhbeE7G3utZumluJ7rWcrPPMylkj27VjTAAVVBOBg8nJJoA5TVdQupPhx4K8RzStJqEU2nTvKB80nnKsco4/vCRuK9Hrjr/AMNs58LeHLRJm0rSDFcT3EozuW3ULDGTgAszYY4HRD0yK7GgAooooAKKKKACiiigAooooAKKKKACiiigAooooAKKKKACiiigAooooAKKKKACiiigAooooAKKKKACiiigAooooAKKKKACiiigAooooAKKKKACiiigAooooAKKKKACiiigAooooAKZ5sf/AD0X/voU+vMn+JgWRl/sZTgkZ+0n/wCJpOSW5jVr06Vud7npXnR/89F/76FHnR/89F/76FeZ/wDCzR/0BV/8CT/8TR/ws0f9AVf/AAJP/wATS54mP16h/N+DPTPOj/56L/30KPOj/wCei/8AfQrzP/hZo/6Aq/8AgSf/AImj/hZo/wCgKv8A4En/AOJo54h9eofzfgz0zzo/+ei/99Cjzo/+ei/99CvM/wDhZo/6Aq/+BJ/+Jo/4WaP+gKv/AIEn/wCJo54h9eofzfgz00SIQSHXA6nPSk86P/nov/fQrzQfFDClRoy4br/pJ/8AiaT/AIWaP+gKv/gSf/iaOeIfXqH834M9M86P/nov/fQo86P/AJ6L/wB9CvM/+Fmj/oCr/wCBJ/8AiaP+Fmj/AKAq/wDgSf8A4mjniH16h/N+DPTPOj/56L/30KPOj/56L/30K8z/AOFmj/oCr/4En/4mj/hZo/6Aq/8AgSf/AImjniH16h/N+DPTPOj/AOei/wDfQo86P/nov/fQrzP/AIWaP+gKv/gSf/iaP+Fmj/oCr/4En/4mjniH16h/N+DPTfMQAEuuD0OaTzo/+ei/99CvND8UMqFOjLhen+kn/wCJpP8AhZo/6Aq/+BJ/+Jo54h9eofzfgz0zzo/+ei/99Cjzo/8Anov/AH0K8z/4WaP+gKv/AIEn/wCJo/4WaP8AoCr/AOBJ/wDiaOeIfXqH834M9M86P/nov/fQo86P/nov/fQrzP8A4WaP+gKv/gSf/iaP+Fmj/oCr/wCBJ/8AiaOeIfXqH834M9M86P8A56L/AN9Cjzo/+ei/99CvM/8AhZo/6Aq/+BJ/+Jo/4WaP+gKv/gSf/iaOeIfXqH834M9NMiKcF1B9zSedH/z0X/voV5o3xQ3tltGUn/r5P/xNJ/ws0f8AQFX/AMCT/wDE0c8Q+vUP5vwZ6Z50f/PRf++hR50f/PRf++hXmf8Aws0f9AVf/Ak//E0f8LNH/QFX/wACT/8AE0c8Q+vUP5vwZ6Z50f8Az0X/AL6FHnR/89F/76FeZ/8ACzR/0BV/8CT/APE0f8LNH/QFX/wJP/xNHPEPr1D+b8GemedH/wA9F/76FKJEY4DqT6A15l/ws0f9AVf/AAJP/wATSr8UNjBl0ZQR/wBPJ/8AiaOeIfXqH834M9L86P8A56L/AN9Cjzo/+ei/99CvM/8AhZo/6Aq/+BJ/+Jo/4WaP+gKv/gSf/iaOeIfXqH834M9M86P/AJ6L/wB9Cjzo/wDnov8A30K8z/4WaP8AoCr/AOBJ/wDiaP8AhZo/6Aq/+BJ/+Jo54h9eofzfgz0zzo/+ei/99Cjzo/8Anov/AH0K8z/4WaP+gKv/AIEn/wCJo/4WaP8AoCr/AOBJ/wDiaOeIfXqH834M9M86P/nov/fQpRIhBIdcDrz0rzL/AIWaP+gKv/gSf/iaUfFDCkDRlw3X/ST/APE0c8Q+vUP5vwZ6X50f/PRf++hR50f/AD0X/voV5n/ws0f9AVf/AAJP/wATR/ws0f8AQFX/AMCT/wDE0c8Q+vUP5vwZ6Z50f/PRf++hR50f/PRf++hXmf8Aws0f9AVf/Ak//E0f8LNH/QFX/wACT/8AE0c8Q+vUP5vwZ6Z50f8Az0X/AL6FHnR/89F/76FeZ/8ACzR/0BV/8CT/APE0f8LNH/QFX/wJP/xNHPEPr1D+b8GemedH/wA9F/76FL5iYB3rg9DmvMv+Fmj/AKAq/wDgSf8A4mlPxQyoU6MuB0/0k/8AxNHPEPr1D+b8Gel+dH/z0X/voUedH/z0X/voV5n/AMLNH/QFX/wJP/xNH/CzR/0BV/8AAk//ABNHPEPr1D+b8GemedH/AM9F/wC+hR50f/PRf++hXmf/AAs0f9AVf/Ak/wDxNH/CzR/0BV/8CT/8TRzxD69Q/m/BnpnnR/8APRf++hR50f8Az0X/AL6FeZ/8LNH/AEBV/wDAk/8AxNH/AAs0f9AVf/Ak/wDxNHPEPr1D+b8GemedH/z0X/voUpkRTguoPua8y/4WaP8AoCr/AOBJ/wDiaVvihvbLaMpP/Xyf/iaOeIfXqH834M9L86P/AJ6L/wB9Cjzo/wDnov8A30K8z/4WaP8AoCr/AOBJ/wDiaP8AhZo/6Aq/+BJ/+Jo54h9eofzfgz0e51Czs4TNeXcEEQOC8soVR+JNJa6nY30Rlsb23uYw20vDKrgH0yD15FeP+K/G41zQJLIaatvudW8wTFsYOemKh8G+MR4f0aW0Onrc75zJvMxXGVUYxg+ldKpxdD2t+thfXKd730PbPOj/AOei/wDfQo86P/nov/fQrzP/AIWaP+gKv/gSf/iaP+Fmj/oCr/4En/4mubniP69Q/m/BnpolQnAdSfQGk82P/nov/fQrF0DUl1jS7PUBALczF8xh92MMR1/Cpz1NaJJnVGSklJdTT86P/nov/fQpwYMMqQR6g1k1oWf/AB7j6mhqxRPRRRUgFFFFABRRRQAUUUUAFFFFABRXJ6/f3dv8SvCFnBcSR210l8Z4lbCy7Y0K5HfBJxVjx3qEemeGRcTXN7bL9rt08yxYLJlpVAGTxtOcH2zQB0lFcfd/EFYdS1eysPD+qai+jvi7e3EYVV2BwQXcbjgn5Rk8Hjpm1ceObIwaX/Y9pdavdatb/arW1tQqt5OAS7l2VUAyByepxQB01FcxH47sX0O5vjY34urW5FnNpoiDXCzkjamAdpzuBDbtuO9JZ+NRJqN5p2qaNfaXfW1k1+IZ2icSwqcEq0bsuQcDBPcUAdRRXnWr+ONU1nwLc6n4c0nVLKA+QwvjCjOYHbEskSAkkqueo96j8NXFtea1YT+DPHkusxByNQ0/VbvzHaLB+dFKB1cNjjAB9u4B6TRXI+C9QuoL7xBoOsXUk8+lXhkimncszWso3xkseuPmXP8As1zcfifW5fDQ1OxumW78Va0LXSjN86WdtyqyCM8Z2Rs+O5Zc0AepUVx0nhLXdMktrzQfE+oXd1HKv2iDVpxJBcRk/OMBfkbHIK+mMYNdPqd/DpWk3eo3WfJtIHnkx12qpY/oKALVFea3niDxFovh/wAKXSW9zfXeuaist4iyx4USRs4tk8xht4AAIwP3bZILc5V9r+q3firxpPqn9u6fZaJaKI0s7yJVgDQFtxUN8ztncp5xgZwRigD1+iuXuvGS2t8NM0zSdR1q6gtkuLoWvljyEYfLuLsoLnBIUZJxXnz+K9dvvAvhSO1/tWc6vq06S3NtcpFNJGs0+2EM7AqcKvPAAXGe1AHtNFcppl3PpHjh9Cubi4nt76xW9tDcymR43j2xypuJ5Byj/Uv7V1dABXztN/r5P94/zr6Jr52m/wBfJ/vH+dZVOh5GZbR+f6DKKKKyPHCiiigAooooAKKKKACiiigAooooAKKKKACiiigAooooAKKKKACiiigAooooAKKKKACiiigAooooAKKKKACiiigAooooAKKKKACiiigAooooAKKKKACiiigAooooAKKKKACiiigAooooAKKKKAK97/x7H6im2H+ob/e/oKde/wDHsfqKbYf6hv8Ae/oK9GP+4v1N/wDl18y1RRRXnGB7B4E/5FHS/wDel/8ARjVrHqayfAn/ACKOl/70v/oxq1j1NdkPhR9RQ/hR9EJWhZ/8e4+prPrQs/8Aj3H1NOWxsT0UUVAwooooAKKKKACiiigAooooA4vxlZ60vjDwzrWi6NJq0enLdieKO4iiI8xEVeZGGeh6elU/E0fiTxf4Ums38Lz6bPHeWksaS3kD+aqyhnIKvgbQueeueM16BRQByui6LfWepeLpri3CLqV4JLZt6nzE8hEzwePmDDnFccvgS/s7Xwtfajoc2qfYtHGnX1jbXgimhYEMHRg6q/O4EbvQjNet0UAeXN4a1638L3Uui6PLpD3WpxSXFlaX5N3NZoMEGZpCqyH/AGWHyjGc0ml+FNQTxXd6jY+HbrTrC40K4sk+234nuHmZ0YF8yNgEAgYY4wc4zXqVFAHHR6b4l074aaBa6L5cWrabbWguLSVl23AjRRJAXwQuecMO4HOCayryw1Xxb4g0a4bwg2hTaffR3U+pXM0Jk2IfmiTyyWYP0OcDH4V6NRQBwXj7w1rd/qcN74XjXztQtH0nUHMiqYoHYESjJGSnz8DJ+fitPxV4Wmu/DOmweHRFFeaHcQXWnxynCMYhtEbEdAUJX8q6qigDiLvU/GevRw6fYaDP4cdpUN1qNxcwyiFAwLCJVLb2IBGSAOa6DxbpcmteDdY0yAZmu7KWKPn+MoQv64rXooA87vTfa54D8G6voVg989hdW13NaI6o+1YnjkUbiBuUsRj1FM1TwvrV5/wsZorE51y2gSwUypmVlttjD73y4bjnH5V39nYW1gsq2cKwrNK0zqvQuxyxx2yeTjuSe9WKAODis9b8K+KtR1Ky0SbWLbWLe2BW3njR7eeKPZtbewGwjB3DOCDx0rM0rwn4gj8P+C4bywWO607Wp7y+RZkIiR3mYEHPzD514GTz0616fRQByF0h1L4v2HlZMej6XLJMwHAed1VFJ9dsTnHsPWuvqvbWFrZz3M1tCqS3cnmzvkkyNtCgkn0CgY7YqxQAV87Tf6+T/eP86+ia+dpv9fJ/vH+dZVOh5GZbR+f6DKKKKyPHCiiigAooooAKKKKACiiigAooooAKKKKACiiigAooooAKKKKACiiigAooooAKKKKACiiigAooooAKKKKACiiigAooooAKKKKACiiigAooooAKKKKACiiigAooooAKKKKACiiigAooooAKKKKAK97/AMex+opth/qG/wB7+gp17/x7H6im2H+ob/e/oK9GP+4v1N/+XXzLVFFFecYHsHgT/kUdL/3pf/RjVrHqayfAn/Io6X/vS/8Aoxq1j1NdkPhR9RQ/hR9EJWhZ/wDHuPqaz60LP/j3H1NOWxsT0UUVAwooooAKKKKACiiigAooooAKKKKACiiigAooooAKKKKACiiigAooooAKKKKACiiigAooooAK8+f4c6U0jMb68yTn7q16DWMZ7bJ/0u2/7/L/AI0WT3MatOnUtzo5X/hW+k/8/wDef98rR/wrfSf+f+8/75Wuq8+2/wCfu2/7/L/jR59t/wA/dt/3+X/GjkgY/VsP2Ryv/Ct9J/5/7z/vlaP+Fb6T/wA/95/3ytdV59t/z923/f5f8aPPtv8An7tv+/y/40ckA+rYfsjlf+Fb6T/z/wB5/wB8rR/wrfSf+f8AvP8Avla6rz7b/n7tv+/y/wCNHn23/P3bf9/l/wAaOSAfVsP2Ry4+GmlMjML+8wuM/KtN/wCFb6T/AM/95/3ytdal1aiGRTeW2Wxj98vr9aZ59t/z923/AH+X/GjkgH1bD9kcr/wrfSf+f+8/75Wj/hW+k/8AP/ef98rXVefbf8/dt/3+X/Gjz7b/AJ+7b/v8v+NHJAPq2H7I5X/hW+k/8/8Aef8AfK0f8K30n/n/ALz/AL5Wuq8+2/5+7b/v8v8AjR59t/z923/f5f8AGjkgH1bD9kcr/wAK30n/AJ/7z/vlaP8AhW+k/wDP/ef98rXVefbf8/dt/wB/l/xo8+2/5+7b/v8AL/jRyQD6th+yOXPw00oIrG/vMNnHyrTf+Fb6T/z/AN5/3ytda1zamGNReW2Vzn98v+NM8+2/5+7b/v8AL/jRyQD6th+yOV/4VvpP/P8A3n/fK0f8K30n/n/vP++VrqvPtv8An7tv+/y/40efbf8AP3bf9/l/xo5IB9Ww/ZHK/wDCt9J/5/7z/vlaP+Fb6T/z/wB5/wB8rXVefbf8/dt/3+X/ABo8+2/5+7b/AL/L/jRyQD6th+yOV/4VvpP/AD/3n/fK0f8ACt9J/wCf+8/75Wuq8+2/5+7b/v8AL/jR59t/z923/f5f8aOSAfVsP2Ry7/DTSo22tf3mfZVpv/Ct9J/5/wC8/wC+VrrZrm1eUst5bYwP+Wy+n1pnn23/AD923/f5f8aOSAfVsP2Ryv8AwrfSf+f+8/75Wj/hW+k/8/8Aef8AfK11Xn23/P3bf9/l/wAaPPtv+fu2/wC/y/40ckA+rYfsjlf+Fb6T/wA/95/3ytH/AArfSf8An/vP++VrqvPtv+fu2/7/AC/40efbf8/dt/3+X/GjkgH1bD9kcr/wrfSf+f8AvP8Avlacnw00qRwq395k+qrXUefbf8/dt/3+X/Gnw3Nqkys15bYH/TZf8aOSAfVsP2RyX/Ct9J/5/wC8/wC+Vo/4VvpP/P8A3n/fK11Xn23/AD923/f5f8aPPtv+fu2/7/L/AI0ckA+rYfsjlf8AhW+k/wDP/ef98rR/wrfSf+f+8/75Wuq8+2/5+7b/AL/L/jR59t/z923/AH+X/GjkgH1bD9kcr/wrfSf+f+8/75Wj/hW+k/8AP/ef98rXVefbf8/dt/3+X/Gjz7b/AJ+7b/v8v+NHJAPq2H7I5X/hW+k/8/8Aef8AfK05fhppTKzC/vML1+Va6jz7b/n7tv8Av8v+NPS5tVikU3ltlgMfvl9frRyQD6th+yOS/wCFb6T/AM/95/3ytH/Ct9J/5/7z/vla6rz7b/n7tv8Av8v+NHn23/P3bf8Af5f8aOSAfVsP2Ryv/Ct9J/5/7z/vlaP+Fb6T/wA/95/3ytdV59t/z923/f5f8aPPtv8An7tv+/y/40ckA+rYfsjlf+Fb6T/z/wB5/wB8rR/wrfSf+f8AvP8Avla6rz7b/n7tv+/y/wCNHn23/P3bf9/l/wAaOSAfVsP2Ryv/AArfSf8An/vP++Vpx+GmlBFb7feYbp8q11Hn23/P3bf9/l/xp7XNqYUUXltkE5/fL/jRyQD6th+yOS/4VvpP/P8A3n/fK0f8K30n/n/vP++VrqvPtv8An7tv+/y/40efbf8AP3bf9/l/xo5IB9Ww/ZHK/wDCt9J/5/7z/vlaP+Fb6T/z/wB5/wB8rXVefbf8/dt/3+X/ABo8+2/5+7b/AL/L/jRyQD6th+yOV/4VvpP/AD/3n/fK0f8ACt9J/wCf+8/75Wuq8+2/5+7b/v8AL/jR59t/z923/f5f8aOSAfVsP2Ryv/Ct9J/5/wC8/wC+Vpz/AA00pG2tf3mfZVrqPPtv+fu2/wC/y/40+a6tXkyt5bYwP+Wy/wCNHJAPq2H7I5L/AIVvpP8Az/3n/fK0f8K30n/n/vP++VrqvPtv+fu2/wC/y/40efbf8/dt/wB/l/xo5IB9Ww/ZHnHjHwZYaL4blvLa6uJZFdAFkC45OO1V/AvhKx17Q5rq7ubiJ0uWjCxgEYCqc8/Wul+I0sLeDJxHcQyN5sfypICfvegqp8LZIk8L3AknhjP2xuHkCn7ietdyjH6o15mXsaXtOW2hb/4VvpP/AD/3n/fK0f8ACt9J/wCf+8/75Wuq8+2/5+7b/v8AL/jSrLA7hUurdmY4AEykk/nXDyQNfq2H7IZounwaTY2mn20kkiQlsNIBk5JPb61KepqSAYulB6g1Gepq0raHUkopJCVoWf8Ax7j6ms+tCz/49x9TRLYZPRRRUDCiiigAooooAKKKKACiisjTvEEWo+JtZ0ZIHSTSfI3yEjEnmoWGPpigDXooooAKKK4TS/iBrer6RBqtj4G1Gawnj8yOWO9tizL7IXDdunWgDu6KzfD+u2fibQLXV9MLm2ulLKJF2spBKspHYggg/StKgAooqnq2qWui6Rc6lfuUt7WMyOQMkgdgO5PQDuTQBcoqCxmmuNPt5rq3NtNJGryQFtxjYjJXPfHSp6ACiiigAooqhZaza3+ralp1vv8AP0140n3LgZdA4we/ykUAX6KKKACis2x1lLvWtQ0qWIwXVlscKWz5sTj5ZF9sh1I7FT7VpUAFfO03+vk/3j/Ovomvnab/AF8n+8f51lU6HkZltH5/oMooorI8cKKKKACiiigAooooAKKKKACiiigAooooAKKKKACiiigAooooAKKKKACiiigAooooAKKKKACiiigAooooAKKKKACiiigAooooAKKKKACiiigAooooAKKKKACiiigAooooAKKKKACiiigAooooAr3v/HsfqKbYf6hv97+gp17/AMex+opth/qG/wB7+gr0Y/7i/U3/AOXXzLVaPh3/AJGjSv8Ar8h/9DFZ1aPh3/kaNK/6/If/AEMV5y3M6fxo9rj/AOP3/gRqE9TU0f8Ax+/8CNQnqa7j6sStCz/49x9TWfWhZ/8AHuPqaUtgJ6KKKgYUUUUAFFFFABRRRQAVw/h24hg+K3jjzpY48jT8b2Az+5au4rD1LwV4Z1m/e91XQrC8upAA800CszYGBkn2FAHPeJIbPX/iVomka0yz6NJp9xcQ27P+6urlXQbWHR9qEkA1yepyDS38R6Hp08kHheLWdOt7jy5TttYpf+PmNWzlFzsBAPy72GO1eoyeEfD0uix6RJo1mdPhYvFb+SNsbEkllHY5J5HrVfUPDSweE5NI8Kwafp65BEEtsr28oz8ySLjkMMgnr3oA5ez0jQ9D+Mul2nh9IrZTpFzJLaQN+7Ql4sOF6AsBye+0Vz3h3TvG8Hwc03UPD3iJnjS1Eg06OyiEhiBO5UkIb58ZwSDzXY+FvBE+l+JF1e6sNH0pLe1e3gstIVirF2UvI7sqkn5FAGOB3rsbKxtdNsYrPT4I7e2hXbHFGu1UHoBQB5FqIs7jQPAWk+FBDdeHb9py8OoXTxR3EgXesczorZJcyErjBZcVFfw6r4b0Xxba2k+nabbLHaGaw0m7llNgHlCyyLujUR7oyTgdNu6vU5PC2gzaXNpsukWbWU8pmktzCuxpD1bHY+9V5PDFvp/hq903wrDZ6VLcKSH+zh0Z/wDpop+8CODnnBoA4u50Tw1ofxT8DJ4aWC2M5u3eC2kykqC1fbIRk5PJAbqcnk4roviM2bDQYX3fZ59fsY5wBkMvmZAPtuC1Q0DwDNaeKrHV7vS9B0iPT1lMUGjqxM8ki7CzsyLgBc4XB6nmuq8S6HH4j8O3WmSSGFpQGimAyYpFIZH/AAYA+9AHK6rp9j4j+LbaV4kiW6srfSEuLOym5id2lZZJNucMwAUd8A9qxY7bQtT8U6B4bS9n1Hw0q3xiiupGMc9zHIo8rJA8xIwzbeo46nFeg3vh2x8Q6baJ4p0yyu7mJAWwu5Y3IG7YxAbBP0yOtSXXhnRL3SItLutKs5LGHHlW5hGyLHQqP4T7igDyvXBbaZpfjfSdMl2aLp97pTxRb8x20jToZkUnoBhSV6Ak9K6bxPPE/wAXNDiSRWkTR75mUHkAhcH8cH8q7C18OaNZaK+kWul2kWnSAh7UQjy3z13DuT6mq+m+D/DujlDpmjWds0YcK6RDcAwAYZ68hQPoBQB5TpPh/TbH4UeE/EVtAU1kXll/p28+YVadUKZz9zYdu3pjtXZeD9F0q1+JvjS4tbG3iuIrm3COiAMqyW6O/wCDNkn1NdguiaWulwaathbiyt2VorcRjYhVtykDtgjIqpfaPHBqh1vSNH0+fWHQQvPcTGAmP03qjk9Bxj8eKANhlDqVYBlIwQRwRXkMCPI0HwvfcVt9VLyZ53aYmJ0yfcskX4GvRVuvFJcb9H0gLnkjVpSQPp9mrQGm2Q1VtTFrCL5ofINzsG8x5ztz1xnnFAHM6mxi+MWg/Z875tKu0uOP+WavEU/8eJ/P3rsKxbLRJV8W6hrt+8bSSQpaWiISfKgX5mzwPmZySevCrzW1QAV87Tf6+T/eP86+ia+dpv8AXyf7x/nWVToeRmW0fn+gyiiisjxwooooAKKKKACiiigAooooAKKKKACiiigAooooAKKKKACiiigAooooAKKKKACiiigAooooAKKKKACiiigAooooAKKKKACiiigAooooAKKKKACiiigAooooAKKKKACiiigAooooAKKKKACiiigCve/8ex+opth/qG/3v6CnXv8Ax7H6im2H+ob/AHv6CvRj/uL9Tf8A5dfMtVo+Hf8AkaNK/wCvyH/0MVnVo+Hf+Ro0r/r8h/8AQxXnLczp/Gj2uP8A4/f+BGoT1NTR/wDH7/wI1CepruPqxK0LP/j3H1NZ9aFn/wAe4+ppS2AnoooqBhRRRQAUUUUAFFFFABRRRQAUUUUAFFFFABRRRQAUUUUAFFFFABRRRQAUUUUAFFFFABRRRQAV4PL4d1ozORpF+RuP/Ls/+Fe8VlmR8n52/Ok4cxy4jDqva7tY8Y/4R3W/+gPf/wDgK/8AhR/wjut/9Ae//wDAV/8ACvZvMf8Avt+dHmP/AH2/Ol7HzOT+zYfzHjP/AAjut/8AQHv/APwFf/Cj/hHdb/6A9/8A+Ar/AOFezeY/99vzo8x/77fnR7HzD+zYfzHjP/CO63/0B7//AMBX/wAKP+Ed1v8A6A9//wCAr/4V7N5j/wB9vzo8x/77fnR7HzD+zYfzHjP/AAjut/8AQHv/APwFf/Cj/hHdb/6A9/8A+Ar/AOFe1xuxglO5sjGOfeovMf8Avt+dL2PmH9mw/mPGf+Ed1v8A6A9//wCAr/4Uf8I7rf8A0B7/AP8AAV/8K9m8x/77fnR5j/32/On7HzD+zYfzHjP/AAjut/8AQHv/APwFf/Cj/hHdb/6A9/8A+Ar/AOFezeY/99vzo8x/77fnR7HzD+zYfzHjP/CO63/0B7//AMBX/wAKP+Ed1v8A6A9//wCAr/4V7N5j/wB9vzo8x/77fnR7HzD+zYfzHjP/AAjut/8AQHv/APwFf/Cj/hHdb/6A9/8A+Ar/AOFe1u7/AGeI7mySe9ReY/8Afb86XsfMP7Nh/MeM/wDCO63/ANAe/wD/AAFf/Cj/AIR3W/8AoD3/AP4Cv/hXs3mP/fb86PMf++350/Y+Yf2bD+Y8Z/4R3W/+gPf/APgK/wDhR/wjut/9Ae//APAV/wDCvZvMf++350eY/wDfb86PY+Yf2bD+Y8Z/4R3W/wDoD3//AICv/hR/wjut/wDQHv8A/wABX/wr2bzH/vt+dHmP/fb86PY+Yf2bD+Y8Z/4R3W/+gPf/APgK/wDhR/wjut/9Ae//APAV/wDCva7h3ExAZhwO/tUXmP8A32/Ol7HzD+zYfzHjP/CO63/0B7//AMBX/wAKP+Ed1v8A6A9//wCAr/4V7N5j/wB9vzo8x/77fnT9j5h/ZsP5jxn/AIR3W/8AoD3/AP4Cv/hR/wAI7rf/AEB7/wD8BX/wr2bzH/vt+dHmP/fb86PY+Yf2bD+Y8Z/4R3W/+gPf/wDgK/8AhR/wjut/9Ae//wDAV/8ACvZvMf8Avt+dS27ubhAWYjPrS9j5h/ZsP5jxT/hHdb/6A9//AOAr/wCFH/CO63/0B7//AMBX/wAK9nMj/wB9vzpPMf8Avt+dP2PmH9mw/mPGf+Ed1v8A6A9//wCAr/4Uf8I7rf8A0B7/AP8AAV/8K9m8x/77fnR5j/32/Oj2PmH9mw/mPGf+Ed1v/oD3/wD4Cv8A4Uf8I7rf/QHv/wDwFf8Awr2bzH/vt+dHmP8A32/Oj2PmH9mw/mPGf+Ed1v8A6A9//wCAr/4Uf8I7rf8A0B7/AP8AAV/8K9m8x/77fnUsbuYZSWbgDHPvS9j5h/ZsP5jxT/hHdb/6A9//AOAr/wCFH/CO63/0B7//AMBX/wAK9m8x/wC+350eY/8Afb86fsfMP7Nh/MeM/wDCO63/ANAe/wD/AAFf/Cj/AIR3W/8AoD3/AP4Cv/hXs3mP/fb86PMf++350ex8w/s2H8x4z/wjut/9Ae//APAV/wDCj/hHdb/6A9//AOAr/wCFezeY/wDfb86PMf8Avt+dHsfMP7Nh/MeM/wDCO63/ANAe/wD/AAFf/Cj/AIR3W/8AoD3/AP4Cv/hXs3mP/fb86ld3+zxnc2cnvS9j5h/ZsP5jxT/hHdb/AOgPf/8AgK/+FH/CO63/ANAe/wD/AAFf/CvZvMf++350eY/99vzp+x8w/s2H8x4z/wAI7rf/AEB7/wD8BX/wo/4R3W/+gPf/APgK/wDhXs3mP/fb86PMf++350ex8w/s2H8x4z/wjut/9Ae//wDAV/8ACj/hHdb/AOgPf/8AgK/+FezeY/8Afb86PMf++350ex8w/s2H8x4z/wAI7rf/AEB7/wD8BX/wo/4R3W/+gPf/APgK/wDhXs3mP/fb86luHYTcMw4Hf2pex8w/s2H8x4p/wjut/wDQHv8A/wABX/wo/wCEd1v/AKA9/wD+Ar/4V7N5j/32/OjzH/vt+dP2PmH9mw/mPDdV0fU7PT2mu9Ou4IgQC8sDKo59SKj0bSdRvrN5bKwurmMSFS8MLOAcDjIHXkV6Z8SHY+C5wWJHmx9T/tVT+FTsvhW42sR/prdD/sJXeqf+xuPmT9Tjzeyv5nH/APCO63/0B7//AMBX/wAK0NB0HV4fEemyzaVexxpdxMztbuAoDjJJxwK9W8x/77fnR5j/AN9vzrg9l5lxy+CafMSx/wDH7/wI1CepqS35uE+tRnqa2PTErQs/+PcfU1n1oWf/AB7j6mlLYCeiiioGFFFFABRRRQAUUUUAFFFFABRRRQAUUUUAFFFFABRRRQAUUUUAFFFFABRRRQAUUUUAFFFFABXk8nxK1NZGUWFhwSPuP/8AFV6xXztN/r5P94/zrOba2PNx9WdPl5Hbc6//AIWZqf8Az4af/wB8P/8AFUf8LM1P/nw0/wD74f8A+KrjaKz55dzy/rVf+Y7L/hZmp/8APhp//fD/APxVH/CzNT/58NP/AO+H/wDiq42ijnl3D61X/mOy/wCFman/AM+Gn/8AfD//ABVH/CzNT/58NP8A++H/APiq42ijnl3D61X/AJjsx8TdUAIFjYYPX5H/APiqT/hZmp/8+Gn/APfD/wDxVcbRRzy7h9ar/wAx2X/CzNT/AOfDT/8Avh//AIqj/hZmp/8APhp//fD/APxVcbRRzy7h9ar/AMx2X/CzNT/58NP/AO+H/wDiqP8AhZmp/wDPhp//AHw//wAVXG0Uc8u4fWq/8x2X/CzNT/58NP8A++H/APiqP+Fman/z4af/AN8P/wDFVxtFHPLuH1qv/MdmfibqhUA2NhgdBsf/AOKpP+Fman/z4af/AN8P/wDFVxtFHPLuH1qv/Mdl/wALM1P/AJ8NP/74f/4qj/hZmp/8+Gn/APfD/wDxVcbRRzy7h9ar/wAx2X/CzNT/AOfDT/8Avh//AIqj/hZmp/8APhp//fD/APxVcbRRzy7h9ar/AMx2X/CzNT/58NP/AO+H/wDiqP8AhZmp/wDPhp//AHw//wAVXG0Uc8u4fWq/8x2Z+JuqMctY2BP+4/8A8VSf8LM1P/nw0/8A74f/AOKrjaKOeXcPrVf+Y7L/AIWZqf8Az4af/wB8P/8AFUf8LM1P/nw0/wD74f8A+KrjaKOeXcPrVf8AmOy/4WZqf/Php/8A3w//AMVR/wALM1P/AJ8NP/74f/4quNoo55dw+tV/5jsv+Fman/z4af8A98P/APFUo+JuqK2VsbAH/cf/AOKrjKKOeXcPrVf+Y7L/AIWZqf8Az4af/wB8P/8AFUf8LM1P/nw0/wD74f8A+KrjaKOeXcPrVf8AmOy/4WZqf/Php/8A3w//AMVR/wALM1P/AJ8NP/74f/4quNoo55dw+tV/5jsv+Fman/z4af8A98P/APFUf8LM1P8A58NP/wC+H/8Aiq42ijnl3D61X/mOy/4WZqf/AD4af/3w/wD8VSj4m6oAQLGwwevyP/8AFVxlFHPLuH1qv/Mdl/wszU/+fDT/APvh/wD4qj/hZmp/8+Gn/wDfD/8AxVcbRRzy7h9ar/zHZf8ACzNT/wCfDT/++H/+Ko/4WZqf/Php/wD3w/8A8VXG0Uc8u4fWq/8AMdl/wszU/wDnw0//AL4f/wCKo/4WZqf/AD4af/3w/wD8VXG0Uc8u4fWq/wDMdl/wszU/+fDT/wDvh/8A4ql/4WbqhUA2NhgdBsf/AOKrjKKOeXcPrVf+Y7L/AIWZqf8Az4af/wB8P/8AFUf8LM1P/nw0/wD74f8A+KrjaKOeXcPrVf8AmOy/4WZqf/Php/8A3w//AMVR/wALM1P/AJ8NP/74f/4quNoo55dw+tV/5jsv+Fman/z4af8A98P/APFUf8LM1P8A58NP/wC+H/8Aiq42ijnl3D61X/mOy/4WZqf/AD4af/3w/wD8VSn4m6oxy1jYE/7j/wDxVcZRRzy7h9ar/wAx2X/CzNT/AOfDT/8Avh//AIqj/hZmp/8APhp//fD/APxVcbRRzy7h9ar/AMxueJvGt7reiSWVxaWkSMysWiVg3Bz3Y1D4T8YXnh/SZLW1trWVHnMhaZWJyVUY4I44rBvf+PY/UU2w/wBQ3+9/QV6Kk/qTfmae3qcnPfU7z/hZmp/8+Gn/APfD/wDxVaXh/wAd32ra/aWNxZWSRzPtZkRsjgnjLV53W54L/wCRy03/AK6n/wBBNeepSvuFLE1nUinLqj16D/j5T61GepqSD/j5X61GeprrPoRK0LP/AI9x9TWfWhZ/8e4+ppS2AnoooqBhRRRQAUUUUAcjo17dS/FXxNaS3Mz20FnZNFC0hKRlhJuKr0BOBnHXFX9XvooPGXh60d7wSXX2ny1im2xNtjBPmL/F7ehrCubbxLo3xE1jV9K8PDVbTULa2iVvt0cJQxhs8NyfvfpVw2et6z4m8M6vfaSNO+wtdi5hNykpQPGFQ5HXJHbpQBQi+J8kmkwa23hy7j0J51glv3njHlsZPL3CPOSoc4J474BHNbF94vuv7avdN8P6FcaxJpwX7a6TpEsbMu4IpY/O+MEjgDI5zxXO3Pg7WZPgavhtLdDqYkRvK81cYF2JD82cfdGaj1TwNLbeLNY1FfDFt4ht9TdZ4i155D28gUKytngqSAQRyMnigDpf+E0F/pelXXhvSbrVW1RHkiXiJIQnDea54UgnGOSSD6VnyfEuG08P6jf6jpF1Bd6XfR2V3YpIkjBnK7WVhwwIcHseCKyrrwbrFvZaBay6ZDqOm2tvMLvStOu2tIhO7bg43MN6jLDDHqc45xWanw+1yPRNftLfSLSyF7qlld21vbTqY0jRkLDJx8w2nPAyemaANXxbq+tT2uiz69pur6JozzTjVE06YSzIAF8ks8JLBCS27bzwBUvhi2stYTVYfCXjK4vNIubIxeS93JJc2NweBIrMd6DGeD3HHeuh8RxeJbbVbLVPDQivoYo3iutLmm8oTAkFXR8EBxg9eCDWZo2jaxqXj2PxPrGkW+hfZ7N7YQxXCzS3RcqcyMoA2rt4HJyc0AR6Z4zms/hHNrGpZfVNLiezuY2JLNdxt5YU+pZtp/4FVBINZe/8PeBptZvopV0xtR1a+Scm4m+cL5aSHJUb2PI5CgAEVavfBmpTfEUSRLH/AMI3c3cWq3S7gD9qiRkC7e4YiJyfVPetXxNomqr4i0/xP4ajhuL6zhe1uLOaTyxdQOQ20Pg7WVlBGeOtADtM8KXmgeILebR9Xu5NJeN0u7K/uXuPm6o8TNkqc9RnBHvVjxvq9zpPh0Lpz7NQ1C4isLR8Z2SSsFDf8BBLfhVOxHizWvE1pd6pajQdKsVctapdrNJeyMMDdtGAi8nGck4o+I8Ui+HbTVIgzLo2pW2oyooyWijf95+SMx/CgCW+8QPouoWnhrQdMuNYv47QTOr3KoIoQdgaSR+rMQcDknBNQN49MkGnQWehX8msX5lVdNl2xND5RxIzueAgJGGGc5GKNSsNX07xqfEmhWMerQXlglrPbi4WJ1KMzJIrN8pBDEEZ9DzVBtH8WQ6vpfiiaC0vtSijuLe606OURhYJHDIschGCybRknG7nn1ALx+IUEOk6nPfaZcWt/pVxb293YO6ll86RVjdXHDKQ2c+xFaupeJodN8TWWjPbu8l5az3KyAjCiIDIP13VyWo+EPEGt6T4nv7iG2tNT1aSza1sTNvWNLVw6q7gY3Md3TgZHJqxJpnibW/HOnazf6NFp1pa2F1bmP7Wssm9wuCccYOMDGehJxkUAPsPibLeafpmrS+Gr220XUZo4FvXmjLI7tsBMYO7Zu43fjjGKteGNe1rUPH3iew1CykSys5okhYzIRCPKVgMDk79xfPbOD0xWfb+EtXj+Eug6E0Ci/sri0eaPzFwojnV25zg/KDW1pGm6rp3xC8QXMlnG+maqYZ47tZxlGSFIyhTrztJyOKAOoOQp2jJxwPWuWXx5av4Ng1xLOYzT3K2aWG4eZ9oMvlGM9sggn6DNdVXBQ+C79PiYbtvL/4R5J31WKPcCftrxiIjb6Abnz6tQBqwX8mmfEmbSJZXe11azN7bh3J8uWMhJEXPQFSjY6AhvWuorkJ0bVPi/aGMkw6JpkjSsOgluGUKp99sRP5etdfQAV87Tf6+T/eP86+ia+dpv9fJ/vH+dZVOh5GZbR+f6DKKKKyPHCiiigAooooAKKKKACiiigAooooAKKKKACiiigAooooAKKKKACiiigAooooAKKKKACiiigAooooAKKKKACiiigAooooAKKKKACiiigAooooAKKKKACiiigAooooAKKKKACiiigAooooAKKKKAK97/wAex+opth/qG/3v6CnXv/HsfqKbYf6hv97+gr0Y/wC4v1N/+XXzLVbngv8A5HLTf+up/wDQTWHW54L/AORy03/rqf8A0E1563Jo/wASPqj16D/j5X61GepqSD/j5X61GeprtPqRK0LP/j3H1NZ9aFn/AMe4+ppS2AnoooqBhRRRQAUUUUAFFFFABRRRQAUUUUAFFFFABRRRQAU10SWNo5FV0YFWVhkEHsRTqKAIrS1hsbOG0tIxFBAgjjjHRVAwAPYCpaKKACiiigAqrf6ZYarbiDVLK3vYQ28R3MSyKG6ZwwIzyeferVFAGKvg3wwjBk8OaSrKcgixiBB/75raoooAgt7K2tJLiS3hWN7mTzZmHWR8AZJ+igfQCp6KKACvnab/AF8n+8f519E1xDeA/D7OSY7rJOT++H+FRKLlscGMw863Ly9DyqivVP8AhAvD3/PO7/7/AA/wo/4QLw9/zzu/+/w/wqPZSPP/ALPreR5XRXqn/CBeHv8Annd/9/h/hR/wgXh7/nnd/wDf4f4UeykH9n1vI8ror1T/AIQLw9/zzu/+/wAP8KP+EC8Pf887v/v8P8KPZSD+z63keV0V6svw/wDD7Ru2y6+XH/Lb/wCtTf8AhAvD3/PO7/7/AA/wo9nIP7PreR5XRXqn/CBeHv8Annd/9/h/hR/wgXh7/nnd/wDf4f4UeykH9n1vI8ror1T/AIQLw9/zzu/+/wAP8KP+EC8Pf887v/v8P8KPZSD+z63keV0V6p/wgXh7/nnd/wDf4f4Uf8IF4e/553f/AH+H+FHspB/Z9byPK6K9Wb4f+H1jVtl182f+W3/1qb/wgXh7/nnd/wDf4f4UezkH9n1vI8ror1T/AIQLw9/zzu/+/wAP8KP+EC8Pf887v/v8P8KPZSD+z63keV0V6p/wgXh7/nnd/wDf4f4Uf8IF4e/553f/AH+H+FHspB/Z9byPK6K9U/4QLw9/zzu/+/w/wo/4QLw9/wA87v8A7/D/AAo9lIP7PreR5XRXq0nw/wDD8blSl0f+23/1qb/wgXh7/nnd/wDf4f4UezkH9n1vI8ror1T/AIQLw9/zzu/+/wAP8KP+EC8Pf887v/v8P8KPZSD+z63keV0V6p/wgXh7/nnd/wDf4f4Uf8IF4e/553f/AH+H+FHspB/Z9byPK6K9U/4QLw9/zzu/+/w/wp0fw/8AD8kgUJdDP/Tb/wCtR7OQf2fW8jymivVP+EC8Pf8APO7/AO/w/wAKP+EC8Pf887v/AL/D/Cj2Ug/s+t5HldFeqf8ACBeHv+ed3/3+H+FH/CBeHv8Annd/9/h/hR7KQf2fW8jyuivVP+EC8Pf887v/AL/D/Cj/AIQLw9/zzu/+/wAP8KPZSD+z63keV0V6p/wgXh7/AJ53f/f4f4U5fh/4fZGbZdfL/wBNv/rUezkH9n1vI8por1T/AIQLw9/zzu/+/wAP8KP+EC8Pf887v/v8P8KPZSD+z63keV0V6p/wgXh7/nnd/wDf4f4Uf8IF4e/553f/AH+H+FHspB/Z9byPK6K9U/4QLw9/zzu/+/w/wo/4QLw9/wA87v8A7/D/AAo9lIP7PreR5XRXqn/CBeHv+ed3/wB/h/hTj8P/AA+I1fZdfMT/AMtv/rUezkH9n1vI8por1T/hAvD3/PO7/wC/w/wo/wCEC8Pf887v/v8AD/Cj2Ug/s+t5HldFeqf8IF4e/wCed3/3+H+FH/CBeHv+ed3/AN/h/hR7KQf2fW8jyuivVP8AhAvD3/PO7/7/AA/wo/4QLw9/zzu/+/w/wo9lIP7PreR5XRXqn/CBeHv+ed3/AN/h/hTpPh/4fjfaUujx/wA9v/rUezkH9n1vI8por1T/AIQLw9/zzu/+/wAP8KP+EC8Pf887v/v8P8KPZSD+z63keR3v/HsfqKbYf6hv97+grvfG3hTSNJ8Ly3VilwJlkQAvJkYJ9MVX+H/hnS9Z8PzXGoLOZVuWQeXJtGAqn09zXoKD+pNeY/qtS3s+pylbngv/AJHLTf8Arqf/AEE13H/CBeHv+ed3/wB/h/hVnTvCOi6XqEN7ax3PmwtuXdLkZxj0rgVOVyqeBqxmpO2jN2D/AI+V+tRnqakt/wDj4T61GeprpPbErQs/+PcfU1n1oWf/AB7j6mlLYCeiiioGFFFFABRRRQAUUUUAFFFFABRRRQAUUUUAFFFFABRRRQAUUUUAFFFFABRRRQAUUUUAFFFFABXKt4p8OhiDr+nAg8jzxXVV8lXH/H1L/vn+dRKbjsevlmXwxrlztq1vxufRX/CVeHP+g/p3/f8AFH/CVeHP+g/p3/f8V840VPtpHs/6v0f53+B9Hf8ACVeHP+g/p3/f8Uf8JV4c/wCg/p3/AH/FfONFHtpB/q/R/nf4H0d/wlXhz/oP6d/3/FH/AAlXhz/oP6d/3/FfONFHtpB/q/R/nf4H0ivi3w2sUinX9Oy2Mfvx60z/AISrw5/0H9O/7/ivnGij2zD/AFfo/wA7/A+jv+Eq8Of9B/Tv+/4o/wCEq8Of9B/Tv+/4r5xoo9tIP9X6P87/AAPo7/hKvDn/AEH9O/7/AIo/4Srw5/0H9O/7/ivnGij20g/1fo/zv8D6O/4Srw5/0H9O/wC/4o/4Srw5/wBB/Tv+/wCK+caKPbSD/V+j/O/wPpFvFvhsxIo1/TsrnP78Uz/hKvDn/Qf07/v+K+caKPbMP9X6P87/AAPo7/hKvDn/AEH9O/7/AIo/4Srw5/0H9O/7/ivnGij20g/1fo/zv8D6O/4Srw5/0H9O/wC/4o/4Srw5/wBB/Tv+/wCK+caKPbSD/V+j/O/wPo7/AISrw5/0H9O/7/ij/hKvDn/Qf07/AL/ivnGij20g/wBX6P8AO/wPpGXxb4bkkLDX9Oxx1nHpTP8AhKvDn/Qf07/v+K+caKPbMP8AV+j/ADv8D6O/4Srw5/0H9O/7/ij/AISrw5/0H9O/7/ivnGij20g/1fo/zv8AA+jv+Eq8Of8AQf07/v8Aij/hKvDn/Qf07/v+K+caKPbSD/V+j/O/wPo7/hKvDn/Qf07/AL/inxeLPDccqsdf07A9JxXzdRR7Zh/q/R/nf4H0d/wlXhz/AKD+nf8Af8Uf8JV4c/6D+nf9/wAV840Ue2kH+r9H+d/gfR3/AAlXhz/oP6d/3/FH/CVeHP8AoP6d/wB/xXzjRR7aQf6v0f53+B9Hf8JV4c/6D+nf9/xR/wAJV4c/6D+nf9/xXzjRR7aQf6v0f53+B9Hf8JV4c/6D+nf9/wAU9PFvhtY3U6/p2WAx+/FfN1FHtmH+r9H+d/gfR3/CVeHP+g/p3/f8Uf8ACVeHP+g/p3/f8V840Ue2kH+r9H+d/gfR3/CVeHP+g/p3/f8AFH/CVeHP+g/p3/f8V840Ue2kH+r9H+d/gfR3/CVeHP8AoP6d/wB/xR/wlXhz/oP6d/3/ABXzjRR7aQf6v0f53+B9Hf8ACVeHP+g/p3/f8U9vFvhswov9v6dlSc/vxXzdRR7Zh/q/R/nf4H0d/wAJV4c/6D+nf9/xR/wlXhz/AKD+nf8Af8V840Ue2kH+r9H+d/gfR3/CVeHP+g/p3/f8Uf8ACVeHP+g/p3/f8V840Ue2kH+r9H+d/gfR3/CVeHP+g/p3/f8AFH/CVeHP+g/p3/f8V840Ue2kH+r9H+d/gfR3/CVeHP8AoP6d/wB/xT5fFvhuSTcNf07GB1nFfN1FHtmH+r9H+d/gfR3/AAlXhz/oP6d/3/FH/CVeHP8AoP6d/wB/xXzjRR7aQf6v0f53+B7X481vSNQ8JTw6fqtndTb0by4ZQzY3DnFO+Fn/ACK1x/1+N/6AlePad1uP+uX/ALOtew/Cz/kVrj/r8b/0BK9OnJywjb7ny2Y4SOExqpxd9DtaKKK5jnJbf/j4T61GepqS3/4+E+tRnqaQCVoWf/HuPqaz60LP/j3H1NKWwE9FFFQMKKKwvF+rzaLoi3Vtqelaa5mVPP1UMYSCDx8rKd3HHPY0AVofHmlz+J/7FW3vhm4e0S+aDFs86Alog+fvAA9scEZ4rpq8d8PXP23WNNsJPGPha8iGsSamILLf50krs7lFy5GMyHAxnAHNexUAFFFFABRRRQAUUUUAFY954hW08X6boJt2Zr+3mnE2/ATy9vGMc53fpWxXDeIbqC0+L/hiW7njgj/s+9G+VwozmPuaAO5JABJOAOpNRw3ENzHvt5UlTONyMGGfTiuG+I+o2V7oelxi9ik0mXWLaHVWhlBUW7buHIPyqXCA+xrF16CDRfFlzF8PIYbe5k8PXkl1b6eoVAyhfs77V4D7iwBxk/SgD1IXVu0jIs8RdGCsocZUnoCPWuPHjbW73WdVstD8JtqEemXRtpJzqMcW5tob7rDPRhXE39n4Ng0TwDc6J9iXUptW0/8AeQFfOny6mTzcct83J3dGx0rU0fQNY1fxB42k0TxNd6NMurMqJHFG8bP5SEMwZSfbgigDufDHihfEP263uLGbTdR02YQ3dnMysYyV3KQy8MpByDW1FcQ3G7yJo5dpw2xgcH3xXi8tw0Pwm8RrE1zD4gS/ij8QvcTlpOZFVn3KAREY+m0DC7sdCa0rHTZtM8ZaTJpDeG9Nnlsrnba6KZG+2oIiULgJtwr7SGYjPIBPSgD1U3VuJXiM8QkQAshcZUHpkdqlJABJOAOpNeD3dr4T/wCFQ6PeobU+IJrq1MsxI+1SXJnQzrIfvH+M4bjhT6V6146e4j+HviB7PPnLptwUx1H7tunv6e9AFa38cWT6bpt/cQtDb6tfm1sG3gmVMMVlYHG1SEJxzwV9cCtceOLuTxTqmkaJoqagulQq1xM1+kJMjRl0RVYYOeAWJAGfasDxTYaPN4Z+Hhv7SzltEv7WHM8asgia2fK8/wAJKpkdDtX0FYmr6Rpdvc/Fma10+0ieGzh8l44FBjD2u59pA43Hk46nk0AeyNdRRRxG5kjgaUgKruBlj/CPU/SuOuPiOq+GNM1Gz0wT3mqX8ljb2b3SxjckkiF2cjhf3RPQ9QKyLOx0bVviBrcfjGGzuFttNtP7PjvgpVIDGTK6BuAd4ILDkYHIrltK0vSdQ8H/AA7Mtpb3sMmuXMIe4iEhkhMtwQrFhkg4Bwe9AHr2k6899q13pd/aCyv7aOKfyxL5iyROvDq2BnDh1PHVfcVs1xuojyvjDoC2g2sdJu1uAoGBEHi2f+Pf5612VABXyVcf8fUv++f519a18lXH/H1L/vn+dY1Oh9Tw9vU+X6kdFFFZH1QUUUUAFFFFABRRRQAUUUUAFFFFABRRRQAUUUUAFFFFABRRRQAUUUUAFFFFABRRRQAUUUUAFFFFABRRRQAUUUUAFFFFABRRRQAUUUUAFFFFABRRRQAUUUUAFFFFABRRRQAUUUUAFFFFABRRRQBc07rcf9cv/Z1r2H4Wf8itcf8AX43/AKAlePad1uP+uX/s617D8LP+RWuP+vxv/QEr16H+5v1Pz7Pf+Rkv8K/U7WiiisDzCW3/AOPhPrUZ6mpLf/j4T61GeppAJWhZ/wDHuPqaz60LP/j3H1NKWwE9FFFQMK5bx5p99fafpb6bpX9rNaalHcSWnmRpvQK4PMhC9WFdTXJ/EW6ktPDluzXFxaafJfQx6jc2zFXhtiTuYMOVGdoJHQE0AUbHWWtNbsIdU+H8mji6mEMN4rW0oSQgkZ8tiRnB5ruq8Z8Majpg1DRbXwvqslxfRa5exfZre6aZTp5mkJaQZPyhQhVjyTt5Oa9moAKKKKACiiigAooooAKz9T8P6NrbRtrOk2OoGIERm7tkl2Z643A4zgVoUUAZtn4b0PTrW4ttP0bT7W3uRieKC1RElHTDADDdT19aS08PaZpVhc22g2VtpP2hWBeyt0jIYg4bAGCRnjNadFAHn9p4B1GfVbCbWjoaR2V2l5JcadYeTPfyoDsaQ9F5O4gZ5HGK7m3srW0knktbaGB7h/MmaOMKZXxjcxHU4A5PpU9FAFX+y7D7XcXX2G2+0XKCOebyV3yoBgKxxlh7Gq2meG9F0VpX0bSbLT3mGHe1t0jZvxA/StOigDzw/D/Vr6ZLfV59Fe3NxHLdahb2Hl3t6scgdVcj5RkquSM5x0FegyRpLG0cqh0cFWVhkEHqKdRQBz+j+FoLbwumga1Ba6nY2zlLZLiMSAwg5jDKwxuUYXP+yD3wNM6NpbLdq2m2hW9VUugYFxOqrtAfj5gF4APbirtFAGfqPh/R9XEI1XSrK9+z/wCp+0W6SeX/ALuRx0p6aNpccdvHHptoqWspmt1WBQIZCSS6jHysSzcjnk+tXaKAMax0R4vFOo65eyLJNPGltbKucQwL8xH+8zkk+wUdq2aKKACvkq4/4+pf98/zr61r5ym+G/i1riRl0WUgsSD5iev+9WVRN2PpMiq06bqc8ktt3bucnRXUf8K28Xf9AWX/AL+J/wDFUf8ACtvF3/QFl/7+J/8AFVlys+m+t4f/AJ+L70cvRXUf8K28Xf8AQFl/7+J/8VR/wrbxd/0BZf8Av4n/AMVRysPreH/5+L70cvRXUf8ACtvF3/QFl/7+J/8AFUf8K28Xf9AWX/v4n/xVHKw+t4f/AJ+L70cvRXUf8K28Xf8AQFl/7+J/8VR/wrbxd/0BZf8Av4n/AMVRysPreH/5+L70cvRXUf8ACtvF3/QFl/7+J/8AFUf8K28Xf9AWX/v4n/xVHKw+t4f/AJ+L70cvRXUf8K28Xf8AQFl/7+J/8VR/wrbxd/0BZf8Av4n/AMVRysPreH/5+L70cvRXUf8ACtvF3/QFl/7+J/8AFUf8K28Xf9AWX/v4n/xVHKw+t4f/AJ+L70cvRXUf8K28Xf8AQFl/7+J/8VR/wrbxd/0BZf8Av4n/AMVRysPreH/5+L70cvRXUf8ACtvF3/QFl/7+J/8AFUf8K28Xf9AWX/v4n/xVHKw+t4f/AJ+L70cvRXUf8K28Xf8AQFl/7+J/8VR/wrbxd/0BZf8Av4n/AMVRysPreH/5+L70cvRXUf8ACtvF3/QFl/7+J/8AFUf8K28Xf9AWX/v4n/xVHKw+t4f/AJ+L70cvRXUf8K28Xf8AQFl/7+J/8VR/wrbxd/0BZf8Av4n/AMVRysPreH/5+L70cvRXUf8ACtvF3/QFl/7+J/8AFUf8K28Xf9AWX/v4n/xVHKw+t4f/AJ+L70cvRXUf8K28Xf8AQFl/7+J/8VR/wrbxd/0BZf8Av4n/AMVRysPreH/5+L70cvRXUf8ACtvF3/QFl/7+J/8AFUf8K28Xf9AWX/v4n/xVHKw+t4f/AJ+L70cvRXUf8K28Xf8AQFl/7+J/8VR/wrbxd/0BZf8Av4n/AMVRysPreH/5+L70cvRXUf8ACtvF3/QFl/7+J/8AFUf8K28Xf9AWX/v4n/xVHKw+t4f/AJ+L70cvRXUf8K28Xf8AQFl/7+J/8VR/wrbxd/0BZf8Av4n/AMVRysPreH/5+L70cvRXUf8ACtvF3/QFl/7+J/8AFUf8K28Xf9AWX/v4n/xVHKw+t4f/AJ+L70cvRXUf8K28Xf8AQFl/7+J/8VR/wrbxd/0BZf8Av4n/AMVRysPreH/5+L70cvRXUf8ACtvF3/QFl/7+J/8AFUf8K28Xf9AWX/v4n/xVHKw+t4f/AJ+L70cvRXUf8K28Xf8AQFl/7+J/8VR/wrbxd/0BZf8Av4n/AMVRysPreH/5+L70cvRXUf8ACtvF3/QFl/7+J/8AFUf8K28Xf9AWX/v4n/xVHKw+t4f/AJ+L70cvRXUf8K28Xf8AQFl/7+J/8VR/wrbxd/0BZf8Av4n/AMVRysPreH/5+L70cvRXUf8ACtvF3/QFl/7+J/8AFUf8K28Xf9AWX/v4n/xVHKw+t4f/AJ+L70cvRXUf8K28Xf8AQFl/7+J/8VR/wrbxd/0BZf8Av4n/AMVRysPreH/5+L70cvRXUf8ACtvF3/QFl/7+J/8AFUf8K28Xf9AWX/v4n/xVHKw+t4f/AJ+L70cvRXUf8K28Xf8AQFl/7+J/8VR/wrbxd/0BZf8Av4n/AMVRysPreH/5+L70Yendbj/rl/7Otew/Cz/kVrj/AK/G/wDQErzmXwdr+h2dxd6rp0ltBsCb2dTyWXA4NejfCz/kVrj/AK/G/wDQEr1qOmDfqfCZ1UhUzFODuuVbfM7WiiisDzyW3/4+E+tRnqakt/8Aj4T61GeppAJWhZ/8e4+prPrQs/8Aj3H1NKWwE9FFFQMK53xlqmqabZafFoYs/tV/fpaA3sbPGoZWJJCsD/D610Vc545k0lPDyrrekDWVluEitrHYGM0zZCgZ4Hc5PQZNAHK31l4v0S402GO78P6TDqWox2802i6bsmO5WOf3pdT93uM16PaQy29nFDcXL3UqIFeeRVVpD/eIUAAn2AFeQvolxDrmjwzaJd+DTJeKbOeHUPt9q8wViqSQ5ARiC2GHfivXrSOeGziju5xcTqgEkwj2Bz3O3Jx9KAJqKKKACiiigAooooAKKKKACiiigAooooAKKKKACiiigAooooAKKKKACiiigArJPU1rV8/TfFfxSk7qtxbYViB/oy+tJzUdzuwmBq4y/s7ad/M9qorxL/hbPir/AJ+Lb/wGWj/hbPir/n4tv/AZaXtonf8A2Diu6+9/5HttFeJf8LZ8Vf8APxbf+Ay0f8LZ8Vf8/Ft/4DLR7aIf2Diu6+9/5HttFeJf8LZ8Vf8APxbf+Ay0f8LZ8Vf8/Ft/4DLR7aIf2Diu6+9/5Hucf/HvN+H86hrxP/hbXir/AJ+bb/wGWk/4Wz4q/wCfi2/8Blo9tEP7BxXdfe/8j22ivEv+Fs+Kv+fi2/8AAZaP+Fs+Kv8An4tv/AZaPbRD+wcV3X3v/I9torxL/hbPir/n4tv/AAGWj/hbPir/AJ+Lb/wGWj20Q/sHFd197/yPbaK8S/4Wz4q/5+Lb/wABlo/4Wz4q/wCfi2/8Blo9tEP7BxXdfe/8j3J/+PeL6tUVeJ/8La8VYx9ptv8AwGWk/wCFs+Kv+fi2/wDAZaPbRD+wcV3X3v8AyPbaK8S/4Wz4q/5+Lb/wGWj/AIWz4q/5+Lb/AMBlo9tEP7BxXdfe/wDI9torxL/hbPir/n4tv/AZaP8AhbPir/n4tv8AwGWj20Q/sHFd197/AMj22ivEv+Fs+Kv+fi2/8Blo/wCFs+Kv+fi2/wDAZaPbRD+wcV3X3v8AyPcrn/Xn6D+VRV4mfi14qPW5tj/27LSf8LZ8Vf8APxbf+Ay0e2iH9g4ruvvf+R7bRXiX/C2fFX/Pxbf+Ay0f8LZ8Vf8APxbf+Ay0e2iH9g4ruvvf+R7bRXiX/C2fFX/Pxbf+Ay0f8LZ8Vf8APxbf+Ay0e2iH9g4ruvvf+R7bUtt/x8J9a8N/4Wz4q/5+Lb/wGWlHxa8VA8XFsP8At2Wj20Q/sHFd197/AMj209aSvEv+Fs+Kv+fi2/8AAZaP+Fs+Kv8An4tv/AZaPbRD+wcV3X3v/I9torxL/hbPir/n4tv/AAGWj/hbPir/AJ+Lb/wGWj20Q/sHFd197/yPbaK8S/4Wz4q/5+Lb/wABlo/4Wz4q/wCfi2/8Blo9tEP7BxXdfe/8j22pY/8AUy/Qfzrw3/hbPir/AJ+Lb/wGWl/4W14q/wCfm2/8Blo9tEP7BxXdfe/8j2yivEv+Fs+Kv+fi2/8AAZaP+Fs+Kv8An4tv/AZaPbRD+wcV3X3v/I9torxL/hbPir/n4tv/AAGWj/hbPir/AJ+Lb/wGWj20Q/sHFd197/yPbaK8S/4Wz4q/5+Lb/wABlo/4Wz4q/wCfi2/8Blo9tEP7BxXdfe/8j22pX/49o/qa8N/4Wz4q/wCfi2/8Blpf+FteKsY+022P+vZaPbRD+wcV3X3v/I9sorxL/hbPir/n4tv/AAGWj/hbPir/AJ+Lb/wGWj20Q/sHFd197/yPbaK8S/4Wz4q/5+Lb/wABlo/4Wz4q/wCfi2/8Blo9tEP7BxXdfe/8j22ivEv+Fs+Kv+fi2/8AAZaP+Fs+Kv8An4tv/AZaPbRD+wcV3X3v/I9tqa5/134D+VeGf8LZ8Vf8/Ft/4DLSn4teKj1ubY/9uy0e2iH9g4ruvvf+R7ZRXiX/AAtnxV/z8W3/AIDLQPiz4qz/AMfFt/4DLR7aIf2Diu6+9/5HofxH/wCRLn/66x/+hVU+Fn/IrXH/AF+N/wCgJWh8UBjwndAcfvY/5is/4Wf8itcf9fjf+gJXpr/dX6nzD/j/ACO1ooorjOklt/8Aj4T61GepqS3/AOPhPrUZ6mkAlaFn/wAe4+prPrQs/wDj3H1NKWwE9FFFQMK4jxvrfhq7i/s248V2Oj6tYXMdzBJJIpaCVeRuQkZBViCD2au3rifFuheDbS7k1rV79dBv5gN17BdeTJLgYwUOVk+hVqAMXStZj8S+JdLj13xt4evUtZxLbafpSlWuJwCFZizseMk4HfHpXqFea+GNZ1248QW1vY6c2taKT8+sXOnCweMY6jJHm8/3UWvSqACiiszxNqMuj+E9X1O3AaWysZrhA3QsiFh+ooAuSXtrDcpby3MKTyfciaQBm+g6mp64Hw18PfDeo+CrSbWdMg1K/wBTtUuLu/uUD3DySIGZhIfmXBPGCMYFXtSudV8JaHpOn2+o2LRojR3Gs65OqrGFHy5UMpdm6cEfdJJoA7CopbqCFts08cbEZw7gHFeSa94y1XxF8NPEkdvc6bJPpt3DBLeWLOYbiJypBj+bIOWAIJIwG9aXxLDby/F6BfEvhp/Eko8ORb4LG2SRY3+0SZcLIwwOo6k80AevI6yIGjYMp6FTkGlryTwzr9n4UtvGuow6bPpltatDLb+HpVMcsRK7N+OVAkcj7pYDFdP/AMJD4m0PVNHTxVb6Y9pq1wLQNYeYHtZmUsituJDg7SNw24PagDtKK87Txt4lvPC9z4xsLLTW0GHzJUtHL/aZbeMkNJvB2q2FJC7T9abrHxDvE8RSWGnXmi6bGLSG4tDrAdf7Q8xd2I3DKqgcLk7uT0oA9Gorz66udduPit4aY/Y4IpdKmlkty7SbPmi8wBgQGIJAVsYxn1rY+IN5PD4dgsLSRoptYvoNOEqHBjWV8Ow99gbHvQB08ciTRLJE6yI4yrKchh6g06uSv9W1VPEkXhbwhBYW/wBjsVuJ7i8jd4oUJKRxqiMpJO0nqAAO9VZPFHid7vTNCj0uys9eukmmneeQyW8UMbBRIoQ7m37lwpII5zQB29FcBc+O9X0zS9cg1OytP7W0a4s0dod3kTxXEqqrqCdynBcYJOCvUitrWfEtzpvjPTdHihieG7srm4d2zuVoguAOcYO7mgDpaK8007xz4rm8N6L4mvrPSF0vUJ4IJLWLzPPUSOI/MDk7fvEHbjp/FmtDwjJrT/Enxgt9NaPax3EClUD7l/cIUC5OANp5/wBokigDu6KQ52naQDjgkZrhk8dX0nhG3mW0txr82qf2S1od3lpOJCHPXO0IC/XpigDuEkSTd5bq21trbTnB9D706uSMx0j4rJbRjFtr1g8zKBx9ogKjd+MbgH/cWutoAK+Srj/j6l/3z/OvrWvkq4/4+pf98/zrGp0PqeHt6ny/UjooorI+qCiiigAooooAKKKKACiiigAooooAKKKKACiiigAooooAKKKKACiiigAooooAKKKKACiiigAooooAKKKKACiiigAooooAKKKKACiiigAooooAKKKKACiiigAooooAKKKKACiiigAooooAKB1FFA6igD334of8ipdf9dY/5is/4Wf8itcf9fjf+gJWh8UP+RUuv+usf8xWf8LP+RWuP+vxv/QEr3I/7q/U/In/AB/kdrRRRXGdJLb/APHwn1qM9TUlv/x8J9ajPU0gErQs/wDj3H1NZ9aFn/x7j6mlLYCeiiioGFcHqfwl0rUvFl14iTWdasdQuWUs1pPGoTAAG0mMkdPWu8ooA5PTPAkmm6nBeHxf4nvBC277PdXyPFJ7MAgyPxrrKKKACo7iCK6tpbe4QSRSoUdG6MpGCPyqSigDhbPwt4x0bSxomieIrAaXGvlW1xdWTPdW0XQKCHCMVGACR25FR3Hw4exbQJNAntJTo0EsAi1aFpkkMhDNLwRh9w6++OK76igDz9vh5qdzo/ii1v8AWLeW41ySGZJ0tiqxNGFwuzcflGxQOc4681NdeGvF/wDwlkHiOwv9EW9bSlsLlJ7aZoyRK0hZAHBA5A5J713VFAHDf8K7n1WPXJvFOrC7vtXtktd9nB5CWqISy7AWJJ3fNkn2qwnhfXtU1TSZvFeqWNza6RMLmGO0tmja4mClVkkJY4xuJ2rxk+nFdjRQB5//AMIFrlv4fuPCun61aQ+HJzIgJtWN1DA7EvCrbtpHJAYjIB6cCr2s+FNZuHuLbTrzTLnSriBIlstWtDOtsVXbujwRkEYJB7jrzXZUUAcVaeB73RrzwvJo2oQumjWjWNwLyJmM0TFCxUqRtb5OM5AyPSrvxA064vPDSXdhG813pN3DqUUKdZfKcMyD1JTcAO5xXUUUAcnd6TeX+s23izwhqFmsl1YrBIl1Czw3EWS8bgqwIYbj65Bx2qr/AMIVrFvLp2rW2uLca/aGcTT3cTNDOkzbmi2hsoqkDbg8Y967VVCKFUBQOgA6UtAHC3Pw/vdT0XXv7T1WP+2Nakt5GuIIMQweQwaJFQkkgEHJJ53GpE8J+IL7xVZa5rup2DvbWc9qLe0t3RB5gHzAsxJOQc9sAY7k9tRQBxcPga5i+HOj+GzeRGbT5raRptp2uIphIQB15AxU/wBl/wCEW8Xavr2pazptpo+rGIyLdnynSZIwihXLBSCqE4Iz+VdbRQBhJ448JySKkfijRndiAqrqERJPoPmrOi8DrH8Sn8S/ac2hjaVLPH3bplEbS/jGoH1JrrqKAOSjhOsfFV71Bm10OxNqH7G4mKuyj/djVM/7/tXW0iqq52qBk5OB1NLQAV8lXH/H1L/vn+dfWtfJVx/x9S/75/nWNTofU8Pb1Pl+pHRRRWR9UFFFFABRRRQAUUUUAFFFFABRRRQAUUUUAFFFFABRRRQAUUUUAFFFFABRRRQAUUUUAFFFFABRRRQAUUUUAFFFFABRRRQAUUUUAFFFFABRRRQAUUUUAFFFFABRRRQAUUUUAFFFFABRRRQAUDqKKB1FAHvvxQ/5FS6/66x/zFZ/ws/5Fa4/6/G/9AStD4of8ipdf9dY/wCYrP8AhZ/yK1x/1+N/6Ale5H/dX6n5E/4/yO1ooorjOklt/wDj4T61GepqS3/4+E+tRnqaQCVoWf8Ax7j6ms+tCz/49x9TSlsBPRRRUDCiiigAooooAKKKKACiiigAooooAKKKKACiiigAooooAKKKKACiiigAooooAKKKKACiiigAriG+H/hFnYtoaEk5J+0S/wDxVdvXDP8AEPwgrsra2AQcEfZZv/iaPd+0dWH+s6/V+bz5b/oL/wAK+8If9ANP/AiX/wCKo/4V94Q/6Aaf+BEv/wAVTf8AhYng7/oOD/wEm/8AiaP+FieDv+g4P/ASb/4mj92dX/Cn/f8A/Jh3/CvvCH/QDT/wIl/+Ko/4V94Q/wCgGn/gRL/8VTf+FieDv+g4P/ASb/4mj/hYng7/AKDg/wDASb/4mj92H/Cn/f8A/Jh3/CvvCH/QDT/wIl/+Ko/4V94Q/wCgGn/gRL/8VTf+FieDv+g4P/ASb/4mj/hYng7/AKDg/wDASb/4mj92H/Cn/f8A/JiVfh34QaN2/sNPlx/y8S//ABVM/wCFfeEP+gGn/gRL/wDFUq/Ejwcsbr/bY+bH/LrN/wDE0z/hYng7/oOD/wABJv8A4ml+7D/hT/v/APkw7/hX3hD/AKAaf+BEv/xVH/CvvCH/AEA0/wDAiX/4qm/8LE8Hf9Bwf+Ak3/xNH/CxPB3/AEHB/wCAk3/xNP8Adh/wp/3/APyYd/wr7wh/0A0/8CJf/iqP+FfeEP8AoBp/4ES//FU3/hYng7/oOD/wEm/+Jo/4WJ4O/wCg4P8AwEm/+Jo/dh/wp/3/APyYd/wr7wh/0A0/8CJf/iqP+FfeEP8AoBp/4ES//FU3/hYng7/oOD/wEm/+Jo/4WJ4O/wCg4P8AwEm/+Jo/dh/wp/3/APyYkb4d+EFiRv7DT5s/8vEv/wAVTf8AhX3hD/oBp/4ES/8AxVK3xH8HNGi/22Plzz9lm/8AiaZ/wsTwd/0HB/4CTf8AxNL92H/Cn/f/APJh3/CvvCH/AEA0/wDAiX/4qj/hX3hD/oBp/wCBEv8A8VTf+FieDv8AoOD/AMBJv/iaP+FieDv+g4P/AAEm/wDiaf7sP+FP+/8A+TDv+FfeEP8AoBp/4ES//FUf8K+8If8AQDT/AMCJf/iqb/wsTwd/0HB/4CTf/E0f8LE8Hf8AQcH/AICTf/E0fuw/4U/7/wD5MO/4V94Q/wCgGn/gRL/8VR/wr7wh/wBANP8AwIl/+Kpv/CxPB3/QcH/gJN/8TR/wsTwd/wBBwf8AgJN/8TR+7D/hT/v/APkxJL8O/CEchUaGh6f8vEv/AMVTf+FfeEP+gGn/AIES/wDxVLL8R/B0khb+2wOn/LrN/wDE0z/hYng7/oOD/wABJv8A4ml+7D/hT/v/APkw7/hX3hD/AKAaf+BEv/xVH/CvvCH/AEA0/wDAiX/4qm/8LE8Hf9Bwf+Ak3/xNH/CxPB3/AEHB/wCAk3/xNP8Adh/wp/3/APyYd/wr7wh/0A0/8CJf/iqP+FfeEP8AoBp/4ES//FU3/hYng7/oOD/wEm/+Jo/4WJ4O/wCg4P8AwEm/+Jo/dh/wp/3/APyYd/wr7wh/0A0/8CJf/iqdF8O/CEkiqdDQZ/6eJf8A4qo/+FieDv8AoOD/AMBJv/iafF8R/B0cgb+2wcf9Os3/AMTS/dh/wp/3/wDyYT/hX3hD/oBp/wCBEv8A8VR/wr7wh/0A0/8AAiX/AOKpv/CxfB3/AEHB/wCAk3/xNH/CxPB3/QcH/gJN/wDE0/3Yf8Kf9/8A8mHf8K+8If8AQDT/AMCJf/iqP+FfeEP+gGn/AIES/wDxVN/4WJ4O/wCg4P8AwEm/+Jo/4WJ4O/6Dg/8AASb/AOJo/dh/wp/3/wDyYd/wr7wh/wBANP8AwIl/+Ko/4V94Q/6Aaf8AgRL/APFU3/hYng7/AKDg/wDASb/4mj/hYng7/oOD/wABJv8A4mj92H/Cn/f/APJh3/CvvCH/AEA0/wDAiX/4qnL8O/CDRu39hp8oH/LxL/8AFVH/AMLE8Hf9Bwf+Ak3/AMTT1+I/g5Y3X+2x8wH/AC6zf/E0v3Yf8Kf9/wD8mE/4V94Q/wCgGn/gRL/8VR/wr7wh/wBANP8AwIl/+Kpv/CxPB3/QcH/gJN/8TR/wsTwd/wBBwf8AgJN/8TT/AHYf8Kf9/wD8mHf8K+8If9ANP/AiX/4qj/hX3hD/AKAaf+BEv/xVN/4WJ4O/6Dg/8BJv/iaP+FieDv8AoOD/AMBJv/iaP3Yf8Kf9/wD8mHf8K+8If9ANP/AiX/4qj/hX3hD/AKAaf+BEv/xVN/4WJ4O/6Dg/8BJv/iaP+FieDv8AoOD/AMBJv/iaP3Yf8Kf9/wD8mHf8K+8If9ANP/AiX/4qnN8O/CAiV/7DT5iePtEv/wAVUf8AwsTwd/0HB/4CTf8AxNPPxH8HGJU/tsfKTz9lm/8AiaX7sP8AhT/v/wDkwn/CvvCH/QDT/wACJf8A4qj/AIV94Q/6Aaf+BEv/AMVTf+FieDv+g4P/AAEm/wDiaP8AhYng7/oOD/wEm/8Aiaf7sP8AhT/v/wDkw7/hX3hD/oBp/wCBEv8A8VR/wr7wh/0A0/8AAiX/AOKpv/CxPB3/AEHB/wCAk3/xNH/CxPB3/QcH/gJN/wDE0fuw/wCFP+//AOTDv+FfeEP+gGn/AIES/wDxVH/CvvCH/QDT/wACJf8A4qm/8LE8Hf8AQcH/AICTf/E0f8LE8Hf9Bwf+Ak3/AMTR+7D/AIU/7/8A5MO/4V94Q/6Aaf8AgRL/APFU+X4d+EI32jQ0PA/5eJf/AIqov+FieDv+g4P/AAEm/wDiafL8SPB0j7v7bA4H/LrN/wDE0v3Yf8Kf9/8A8mE/4V94Q/6Aaf8AgRL/APFUf8K+8If9ANP/AAIl/wDiqb/wsTwd/wBBwf8AgJN/8TWno/iHRvEAn/sXUBdNbhTIPJdMAnA+8B6Gn+7ZE5ZjCPNNzS8+Yx/iW/meD7hiMZlj/wDQhVL4Wf8AIrXH/X43/oCVb+I//Ilz/wDXWP8A9Cqp8LP+RWuP+vxv/QEr0V/ur9TxH/H+R2tFFFcZ0ktv/wAfCfWoz1NSW/8Ax8J9ajPU0gErQs/+PcfU1n1oWf8Ax7j6mlLYCeiiioGFFFFABRRRQAUUUUAFFFFABRRRQAUVx3/CT6/ruq39v4P0+waz06c2019qM7qssy43pGqKThc4LE4z0Bxzp6D4jlvdIurjxBZHRbiwlaG7E7/uflAO9JDgMhBBz25BoA3qKx7fxd4fvbC8vLDWbC6gskL3Dw3KMIwM8sc8Dg8niuVl+JFxqml+G5/CkGnXFzrczQvHcXRK2riLzCjsgJDAdRjuKAPQqK5PSvEmuQ+KoNA8VadYwTXlvJPa3Gn3LSxtsK7lYMqlT8wOehraPiTRF1caUdYsBqJOBaG5Tzc+mzOc+1AGlRWdqfiLRdEkjj1nV7GweXmNbq5SMsPUbiKdqeu6To1ml3q2pWtlbucJLPMqK/0JPP4UAX6K5vXvHWi6HY6XePfWk1tqV2lvFMLpBGFJ+aTdnBVR1x6jpmug+0Q/ZvtHmp5Ozf5gYbduM5z6Y70ASUVxTfEa0sdH0bUtYNvaQ65eFLMSzCIx22CRM+49MBSccDzEHuac3xFlvPFmsabol34f+y6TBueS8vtrTuYy2VI4CI2A5Occ0Aeg0VmXviHSNJS2/tnVbGxkuAPLE1wqeYf9nJ5HPWuJvvimYPCuk3aNpdtqWqX8tqiXtzsihjjlkQzN32/ux6ct1oA9JorC0jXbifXrvRtUSBLuK3iuoXtyTHPCwwSM91cMPoVPet2gAr5KuP8Aj6l/3z/OvrWvkq4/4+pf98/zrGp0PqeHt6ny/UjooorI+qCiiigAooooAKKKKACiiigAooooAKKKKACiiigAooooAKKKKACiiigAooooAKKKKACiiigAooooAKKKKACiiigAooooAKKKKACiiigAooooAKKKKACiiigAooooAKKKKACiiigAooooAK9R+C3+s1v/AK5w/wDoTV5dXqPwW/1mt/8AXOH/ANCarp/EjzM2/wByn8vzR0/xH/5Euf8A66x/+hVU+Fn/ACK1x/1+N/6AlW/iP/yJc/8A11j/APQqqfCz/kVrj/r8b/0BK9lf7q/U/NX/AB/kdrRRRXGdJLb/APHwn1qM9TUlv/x8J9ajPU0gErQs/wDj3H1NZ9aFn/x7j6mlLYCeiiioGFFFFABRRRQAUUUUAFFFFABRRRQB5x4P8QaV4N/tXw74mv4dMurfULi4hkvHEa3UMjl1kVmwGPzYIHIIqHxF4zi1vwhLe/2NBJpT6vBbWV3qDutvINwP2mRQAfKDjAycHjOK9IntoLkKLmCOYKcqJEDYPrzT2jRozGyKyEYKkcEemKAPJdGuBefFi4STVNM1aSXw/cRF9MtPLhDebGRHne+8gc9eMj1rCN3oN54L+G4vNRjt7KCZob6aG4MLQSLb8qzqQVbO33wR2Ne6xW0ECIkMMcaxghFRAAoPXHpTWtLZgQ1vEQTuIKDr60AeUaMdHtviXp3/AAgGry6y11bTx6i01wbpbaILujYStkp+8wNuTu7jgGstbrQF+CL6LKIR4p5jNkSDem/MnD4++Tuwd393vivbooY4V2wxpGpOcIoAzSfZoPtP2jyY/Oxt83YN2PTPWgDzfT77RNG8beKj44ms7e7nEDQy6htCzWwhUFY93DAOHyq9z0rntNgWz8O+E57rV/8AhH72MXn9mS6nbiS2MDS5SKQuRscoEKkEHbke1e0y28M+3z4Y5Nhyu9Qdp9RmiaCK5iMVxEksbdUkUMD+BoA8cOqWs3hDS76+tdNtLW08XRia7ss/ZJ1z806luiFjg84yp5r0bxrvufhtrv8AZzBjJpc5iMfO4GM9Meo6VveTF5PleWnl4xs2jbj6U7aNu3A24xjHGKAPN/E1xYQeFPAF/cNCmnw6jZs8z4EccbW8gBJPAXJXnp0rG1qOEv8AF2SJEx9jtijKo6G0zx9a9M0HQU0PRRpPmi5s4pG+zI8f+qiLZWM8ndtzgHjgDuMnT8iLDDykw4ww2j5h05oA81s7zRtI8fa3N4xms7dLvTbQWEl9gJJAsZEsaFuCd5JKjk5HBrntChtX8H/DnyIV8g+ILlY1deQnmXGAc8+nBr2qW2gnCCeGOQIdy70B2n1GelKIYgFAjTCnco2jg+ooA5HUgW+MehLbcNHpN21xj/nmXiCj/voV2NZVjoi2viDUdYnm8+6vAkSHZtEEKDiMcn+IsxPct04FatABXyVcf8fUv++f519a18lXH/H1L/vn+dY1Oh9Tw9vU+X6kdFFFZH1QUUUUAFFFFABRRRQAUUUUAFFFFABRRRQAUUUUAFFFFABRRRQAUUUUAFFFFABRRRQAUUUUAFFFFABRRRQAUUUUAFFFFABRRRQAUUUUAFFFFABRRRQAUUUUAFFFFABRRRQAUUUUAFFFFABXqPwW/wBZrf8A1zh/9CavLq9R+C3+s1v/AK5w/wDoTVdP4keZm3+5T+X5o6f4j/8AIlz/APXWP/0Kqnws/wCRWuP+vxv/AEBKt/Ef/kS5/wDrrH/6FVT4Wf8AIrXH/X43/oCV7K/3V+p+av8Aj/I7WiiiuM6SW3/4+E+tRnqakt/+PhPrUZ6mkAlaFn/x7j6ms+tCz/49x9TSlsBPRRRUDCiiigAooooAKKKKACiiigAooooAKKKKACiiigAooooAKKKKACiiigAooooAKKKKACiiigArwCb4TeJ3ndljtMMxI/0lfWvf6ySDk8UuRS3O7CY6rg7+ztr38jxP/hUnij/nlaf+BK0f8Kk8Uf8APK0/8CVr2zB9KMH0o9jE7v7dxXZfd/wTxP8A4VJ4o/55Wn/gStH/AAqTxR/zytP/AAJWvbMH0owfSj2MQ/t3Fdl93/BPE/8AhUnij/nlaf8AgStH/CpPFH/PK0/8CVr2zB9KMH0o9jEP7dxXZfd/wTxP/hUfinH+qtf/AAJWj/hUnij/AJ5Wn/gSte4xj/R5vw/nUWD6UvYxD+3cV2X3f8E8T/4VJ4o/55Wn/gStH/CpPFH/ADytP/Ala9swfSjB9KfsYh/buK7L7v8Agnif/CpPFH/PK0/8CVo/4VJ4o/55Wn/gSte2YPpRg+lHsYh/buK7L7v+CeJ/8Kk8Uf8APK0/8CVo/wCFSeKP+eVp/wCBK17Zg+lGD6UexiH9u4rsvu/4J4n/AMKj8U4z5Vrj/r5Wj/hUnij/AJ5Wn/gSte4uP9Hi+rVFg+lL2MQ/t3Fdl93/AATxP/hUnij/AJ5Wn/gStH/CpPFH/PK0/wDAla9swfSjB9KfsYh/buK7L7v+CeJ/8Kk8Uf8APK0/8CVo/wCFSeKP+eVp/wCBK17Zg+lGD6UexiH9u4rsvu/4J4n/AMKk8Uf88rT/AMCVo/4VJ4o/55Wn/gSte2YPpRg+lHsYh/buK7L7v+CeJn4R+KR1itR/28rR/wAKk8Uf88rT/wACVr3G5H78/QfyqLB9KXsYh/buK7L7v+CeJ/8ACpPFH/PK0/8AAlaP+FSeKP8Anlaf+BK17Zg+lGD6U/YxD+3cV2X3f8E8T/4VJ4o/55Wn/gStH/CpPFH/ADytP/Ala9swfSjB9KPYxD+3cV2X3f8ABPE/+FSeKP8Anlaf+BK0D4R+KScCK1J/6+Vr2zB9Kkth/pCfWl7GIf27iuy+7/gnh/8AwqTxR/zytP8AwJWj/hUnij/nlaf+BK17YQc9KMH0p+xiH9u4rsvu/wCCeJ/8Kk8Uf88rT/wJWj/hUnij/nlaf+BK17Zg+lGD6UexiH9u4rsvu/4J4n/wqTxR/wA8rT/wJWj/AIVJ4o/55Wn/AIErXtmD6UYPpR7GIf27iuy+7/gnif8AwqTxR/zytP8AwJWj/hUfin/nla/+BK17Zg+lSxj9zL9B/Ol7GIf27iuy+7/gnh3/AAqTxR/zytP/AAJWj/hUnij/AJ5Wn/gSte2YPpRg+lP2MQ/t3Fdl93/BPE/+FSeKP+eVp/4ErR/wqTxR/wA8rT/wJWvbMH0owfSj2MQ/t3Fdl93/AATxP/hUnij/AJ5Wn/gStH/CpPFH/PK0/wDAla9swfSjB9KPYxD+3cV2X3f8E8T/AOFSeKP+eVp/4ErR/wAKj8U4z5Vrj/r5WvbMH0qVx/o0f1NL2MQ/t3Fdl93/AATw7/hUnij/AJ5Wn/gStH/CpPFH/PK0/wDAla9swfSjB9KfsYh/buK7L7v+CeJ/8Kk8Uf8APK0/8CVo/wCFSeKP+eVp/wCBK17Zg+lGD6UexiH9u4rsvu/4J4n/AMKk8Uf88rT/AMCVo/4VJ4o/55Wn/gSte10UexiH9u4rsvu/4J4p/wAKk8Uf88rT/wACVoPwj8UjrFaj/t5Wva6luf8AXfgP5UvYxH/buK7L7v8Agnh//CpPFH/PK0/8CVrt/hx4P1XwsdUfVlhUXCRiPy5Q2cE56fWu0oqlTSdzDEZtiMRSdKaVn/Xc5X4j/wDIlz/9dY//AEKqnws/5Fa4/wCvxv8A0BKt/Ef/AJEuf/rrH/6FVT4Wf8itcf8AX43/AKAleiv91fqfPv8Aj/I7WiiiuM6SW3/4+E+tRnqakt/+PhPrUZ6mkAlaFn/x7j6ms+tCz/49x9TSlsBPRRRUDCiiigAooooAKKKKACiqc+r6bazNDc6hawyr95JJlVh36E1M95bR2n2qS4iW3wD5zOAmD056UATUVQ/t7R/+grY/+BKf41foAKKKKACiorq7t7G3a4vbiK3hT70krhFX6k8VHBqVjdWTXlte281qgJaeOVWQAdcsDjigCzRVObWNMtrWC5uNRtIoLgAwyvOqrKCMjaScHI9KuZx1oAKKZDNFcQJNbyJLFIoZJEYMrA9CCOop9ABRRRQAUUUZoAKKKKACimRzxTFxDKkhjbY+1gdreh9DyOKfQAV83zfETxYtxIq61OAGIA2r6/SvpCvkq4/4+pf98/zrKo2rH0uQ0qdR1OeKe269Tov+FjeLf+g3P/3yv+FH/CxvFv8A0G5/++V/wrmaKyuz6b6rh/8An2vuR03/AAsbxb/0G5/++V/wo/4WN4t/6Dc//fK/4VzNFF2H1XD/APPtfcjpv+FjeLf+g3P/AN8r/hR/wsbxb/0G5/8Avlf8K5mii7D6rh/+fa+5HTf8LG8W/wDQbn/75X/Cj/hY3i3/AKDc/wD3yv8AhXM0UXYfVcP/AM+19yOm/wCFjeLf+g3P/wB8r/hR/wALG8W/9Buf/vlf8K5mii7D6rh/+fa+5HTf8LG8W/8AQbn/AO+V/wAKP+FjeLf+g3P/AN8r/hXM0UXYfVcP/wA+19yOm/4WN4t/6Dc//fK/4Uf8LG8W/wDQbn/75X/CuZoouw+q4f8A59r7kdN/wsbxb/0G5/8Avlf8KP8AhY3i3/oNz/8AfK/4VzNFF2H1XD/8+19yOm/4WN4t/wCg3P8A98r/AIUf8LG8W/8AQbn/AO+V/wAK5mii7D6rh/8An2vuR03/AAsbxb/0G5/++V/wo/4WN4t/6Dc//fK/4VzNFF2H1XD/APPtfcjpv+FjeLf+g3P/AN8r/hR/wsbxb/0G5/8Avlf8K5mii7D6rh/+fa+5HTf8LG8W/wDQbn/75X/Cj/hY3i3/AKDc/wD3yv8AhXM0UXYfVcP/AM+19yOm/wCFjeLf+g3P/wB8r/hR/wALG8W/9Buf/vlf8K5mii7D6rh/+fa+5HTf8LG8W/8AQbn/AO+V/wAKP+FjeLf+g3P/AN8r/hXM0UXYfVcP/wA+19yOm/4WN4t/6Dc//fK/4Uf8LG8W/wDQbn/75X/CuZoouw+q4f8A59r7kdN/wsbxb/0G5/8Avlf8KP8AhY3i3/oNz/8AfK/4VzNFF2H1XD/8+19yOm/4WN4t/wCg3P8A98r/AIUf8LG8W/8AQbn/AO+V/wAK5mii7D6rh/8An2vuR03/AAsbxb/0G5/++V/wo/4WN4t/6Dc//fK/4VzNFF2H1XD/APPtfcjpv+FjeLf+g3P/AN8r/hR/wsbxb/0G5/8Avlf8K5mii7D6rh/+fa+5HTf8LG8W/wDQbn/75X/Cj/hY3i3/AKDc/wD3yv8AhXM0UXYfVcP/AM+19yOm/wCFjeLf+g3P/wB8r/hR/wALG8W/9Buf/vlf8K5mii7D6rh/+fa+5HTf8LG8W/8AQbn/AO+V/wAKP+FjeLf+g3P/AN8r/hXM0UXYfVcP/wA+19yOm/4WN4t/6Dc//fK/4Uf8LG8W/wDQbn/75X/CuZoouw+q4f8A59r7kdN/wsbxb/0G5/8Avlf8KP8AhY3i3/oNz/8AfK/4VzNFF2H1XD/8+19yOm/4WN4t/wCg3P8A98r/AIUf8LG8W/8AQbn/AO+V/wAK5mii7D6rh/8An2vuR9I+G7241HwlpV3eymaea2DSO3Vjk81o1j+D/wDkRdF/69V/ma2K7Y/Cj86xCSrTS7v8wqW5/wBd+A/lUVS3P+u/AfypmBFRRRTA5X4j/wDIlz/9dY//AEKqnws/5Fa4/wCvxv8A0BKt/Ef/AJEuf/rrH/6FVT4Wf8itcf8AX43/AKAldi/3V+pzP+P8jtaKKK4zpJbf/j4T61GepqS3/wCPhPrUZ6mkAlaFn/x7j6ms+tCz/wCPcfU0pbAT0UUVAwooooAKKKKACiiigDzjR/D+ja38VfHLazpFjqDRS2IjN3bJKUBthnG4HHQU7QdF02x8feI/CiWUM2gz2lvf/wBnzRiSCGVnYMFQ5ABKq2OxHFaM/g3XoPFusa1oPiaDT11ZoWlgl0wT7THGEGG8wehPTvWp4Z8LnQp7++vtQk1TVdRdWuryRBGCFGERUHCqATxz1PNAHL6D4O8MzfELxbbTeHdJkgt/sfkxNYxFY90RLbRtwMnk460//hN9dttP8QeIdQXT10bRbu7tBaxRv51wY5CkZ3lsLk7QeD3PGQB12naD/Z/ibWdX+0+Z/ankfuvLx5XloV655znPQYrPi8E2reGdc0S/uGuLfWLu6uXZE2NH5zlsDk5Kk9e+OnagDk9G+KTya9o9pea3omrDVJhBJb6dDIklnIykrgsxEiZG0nCnkGqFz8ZWNve6rbatokUVtLIIdGnjk+03EaMRkyhsI7AZVdpHIBNdxYaB4mF/YHWfE63FnYciO1tTBJdtjAMzb2yB1woAJ61Ti8F63ptpPpGheI0sNFnmeRUFpm5tVdy7JFLvAAJJwSpIz3xQBStEsPHHxLu31SJbzTtL021msbS4UNGWnDMZtvILAALk9O3rWlqnhLStHh1zVdIT7C1xpMsU1nbhUhlwpIkKAfeHTIxwec1Z1rwndz6xb614d1X+zdUht/ssjzQ+fHcxZyFkUkHIOSGBzyarW3gm9uby/wBT8R6ut/qd1YvYwNFbeVDaRN12JuJJJwSSc8Y4FAHI6Pp91qHiD4epNJp8trH4dEscNxZGUoAluH58wDec8Nj5e4au1+IdzMvh23023do31i/g05pFOCiSNiQj32Bh+NSaZ4P/ALNv/D9yL7zP7G0o6dt8nHnZEY35z8v+r6c9evFHj/TLm/8ADK3GnRtNe6XdQ6jbxL1laJwxQDuSu4AepFAFfUNT1aXxUnhbwqbKwSzsUubi6uLdpVjUsUjjRAy8/KTknAAqpL4i8UvqGl+HRbafZ63cxzzXN0ytLBHBGwUSIgYEl9wwpYY75q/eaNdanq1r4q8J6nb2txcWSwuLq2M0VxCTvQkBlZWBY8574IqqfAt/A2n6lY68516zaYyXl3CZYrhZW3PGY9wKoCBtCsNuO9AFG78b63pOm67bahBZS6ro1xZJ50cbiG4iuZVQNs3ZVgN4I3EZAPTitvWvEt5p3jbTNHgjga3u7G6uJGdSXDRBdoBBxjk54/KqE3w9l1DRdcj1XVzJq2tPDJLew24RITCwaFUjJPyqR3OTk881JD4O1i78TWmua/rlvcT21pNarb2tkY4wJABuyXJ3cZPY8YAxyAYeneNPFsvhfRPFV+NJ+wahcQQS2MMMgdVkkEfmCQuedxB27cY4znmtXwkuqf8ACyPGf2q8tpYEubcFEtmVubdCmGMhAAU4IwcnJG3pVuLwJ5XgDSvDP9o5/s6a3k+0+R/rPKlEmNu7jOMdTj3qVNLn8P8AjDVNda8eXT9WMZltIrCSaVJUjCBgyZO3anOV6nrQB1Jzg44PbNcEnjnU5fCdttt7VfEcurf2Q8BRjCkyyHe2N27aIgX69xXUDxJYkgCDU+fXSrn/AON1lReBreL4jP4qF021oiVsvLwqzsoRpt2epjULjHqc80AMeVtJ+LMMMeRb67p7vIvbz7cqA/1KSYP+6vpXW1ycNs2r/FOXUQn+iaLYm0SQj79xKQ7geu1FQH3cjsa6ygAr5KuP+PqX/fP86+ta+Srj/j6l/wB8/wA6xqdD6nh7ep8v1I6KKKyPqgooooAKKKKACiiigAooooAKKKKACiiigAooooAKKKKACiiigAooooAKKKKACiiigAooooAKKKKACiiigAooooAKKKKACiiigAooooAKKKKACiiigAooooAKKKKACiiigD6K8H/8iLov/Xqv8zWxWP4P/wCRF0X/AK9V/ma2K7o/Cj8zxX8efq/zCpbn/XfgP5VFUtz/AK78B/Kmc5FRRRTA5X4j/wDIlz/9dY//AEKqnws/5Fa4/wCvxv8A0BKt/Ef/AJEuf/rrH/6FVT4Wf8itcf8AX43/AKAldi/3V+pzP+P8jtaKKK4zpJbf/j4T61GepqS3/wCPhPrUZ6mkAlaFn/x7j6ms+tCz/wCPcfU0pbAT0UUVAwooooAKKKKACiiigAooooAKKKKACiiigAooooAKKKKACiiigAooooAKKKKACiiigAooooAK+Srj/j6l/wB8/wA6+ta5ZvDPh4sSdA00knkm2WolBy2PXyzMIYJy5le9vwufN9FfR/8AwjHh7/oAaZ/4DLR/wjHh7/oAaZ/4DLU+xZ7P+sFH+R/gfOFFfR//AAjHh7/oAaZ/4DLR/wAIx4e/6AGmf+Ay0exYf6wUf5H+B84UV9H/APCMeHv+gBpn/gMtH/CMeHv+gBpn/gMtHsWH+sFH+R/gfOFFfSaeFfDrRSMdA03K4x/oy+tR/wDCMeHv+gBpn/gMtHsWH+sFH+R/gfOFFfR//CMeHv8AoAaZ/wCAy0f8Ix4e/wCgBpn/AIDLR7Fh/rBR/kf4HzhRX0f/AMIx4e/6AGmf+Ay0f8Ix4e/6AGmf+Ay0exYf6wUf5H+B84UV9H/8Ix4e/wCgBpn/AIDLR/wjHh7/AKAGmf8AgMtHsWH+sFH+R/gfOFFfSTeFfDohRhoGm5bOf9GWmf8ACMeHv+gBpn/gMtHsWH+sFH+R/gfOFFfR/wDwjHh7/oAaZ/4DLR/wjHh7/oAaZ/4DLR7Fh/rBR/kf4HzhRX0f/wAIx4e/6AGmf+Ay0f8ACMeHv+gBpn/gMtHsWH+sFH+R/gfOFFfR/wDwjHh7/oAaZ/4DLR/wjHh7/oAaZ/4DLR7Fh/rBR/kf4HzhRX0lN4V8OxyFRoGm4462y+lM/wCEY8Pf9ADTP/AZaPYsP9YKP8j/AAPnCivo/wD4Rjw9/wBADTP/AAGWj/hGPD3/AEANM/8AAZaPYsP9YKP8j/A+cKK+j/8AhGPD3/QA0z/wGWj/AIRjw9/0ANM/8Blo9iw/1go/yP8AA+cKK+j/APhGPD3/AEANM/8AAZafD4W8OySqp0DTcH0tlo9iw/1go/yP8D5tor6P/wCEY8Pf9ADTP/AZaP8AhGPD3/QA0z/wGWj2LD/WCj/I/wAD5wor6P8A+EY8Pf8AQA0z/wABlo/4Rjw9/wBADTP/AAGWj2LD/WCj/I/wPnCivo//AIRjw9/0ANM/8Blo/wCEY8Pf9ADTP/AZaPYsP9YKP8j/AAPnCivo/wD4Rjw9/wBADTP/AAGWnp4V8OtG7HQNNyoGP9GWj2LD/WCj/I/wPm2ivo//AIRjw9/0ANM/8Blo/wCEY8Pf9ADTP/AZaPYsP9YKP8j/AAPnCivo/wD4Rjw9/wBADTP/AAGWj/hGPD3/AEANM/8AAZaPYsP9YKP8j/A+cKK+j/8AhGPD3/QA0z/wGWj/AIRjw9/0ANM/8Blo9iw/1go/yP8AA+cKK+j/APhGPD3/AEANM/8AAZae3hXw6IUb+wNNyxOf9GWj2LD/AFgo/wAj/A+baK+j/wDhGPD3/QA0z/wGWj/hGPD3/QA0z/wGWj2LD/WCj/I/wPnCivo//hGPD3/QA0z/AMBlo/4Rjw9/0ANM/wDAZaPYsP8AWCj/ACP8CLwf/wAiLov/AF6r/M1sUkccUFvHBbQxwQxLtSONdqqPQClroirKx8lWmqlSU11bYVLc/wCu/AfyqKpbn/XfgP5UzMiooopgcr8R/wDkS5/+usf/AKFVT4Wf8itcf9fjf+gJVv4j/wDIlz/9dY//AEKqnws/5Fa4/wCvxv8A0BK7F/ur9Tmf8f5Ha0UUVxnSS2//AB8J9ajPU1Jb/wDHwn1qM9TSAStCz/49x9TWfWhZ/wDHuPqaUtgJ6KKKgYUUUUAFFFFABRRRQAUUUUAFFFFABRRRQAUUUUAFFFFABRRRQAUUUUAFFFFABRRRQAUUUUAFecP8VfC6SMrfb8gkH9wv/wAVXo9fJVx/x9S/75/nUTk47Ht5TgaWLc/a30t+p7Z/wtfwt/1EP+/C/wDxVH/C1/C3/UQ/78L/APFV4fRWftZHu/2HhPP7z3D/AIWv4W/6iH/fhf8A4qj/AIWv4W/6iH/fhf8A4qvD6KPayD+w8J5/ee4f8LX8Lf8AUQ/78L/8VR/wtfwt/wBRD/vwv/xVeH0Ue1kH9h4Tz+89yX4teFljdf8AT/mx/wAsB/8AFU3/AIWv4W/6iH/fhf8A4qvD6KPayD+w8J5/ee4f8LX8Lf8AUQ/78L/8VR/wtfwt/wBRD/vwv/xVeH0Ue1kH9h4Tz+89w/4Wv4W/6iH/AH4X/wCKo/4Wv4W/6iH/AH4X/wCKrw+ij2sg/sPCef3nuH/C1/C3/UQ/78L/APFUf8LX8Lf9RD/vwv8A8VXh9FHtZB/YeE8/vPcm+LXhZo1X/T/lz/ywH/xVN/4Wv4W/6iH/AH4X/wCKrw+ij2sg/sPCef3nuH/C1/C3/UQ/78L/APFUf8LX8Lf9RD/vwv8A8VXh9FHtZB/YeE8/vPcP+Fr+Fv8AqIf9+F/+Ko/4Wv4W/wCoh/34X/4qvD6KPayD+w8J5/ee4f8AC1/C3/UQ/wC/C/8AxVH/AAtfwt/1EP8Avwv/AMVXh9FHtZB/YeE8/vPcpPi14Wkcsft4/wC2A/8Aiqb/AMLX8Lf9RD/vwv8A8VXh9FHtZB/YeE8/vPcP+Fr+Fv8AqIf9+F/+Ko/4Wv4W/wCoh/34X/4qvD6KPayD+w8J5/ee4f8AC1/C3/UQ/wC/C/8AxVH/AAtfwt/1EP8Avwv/AMVXh9FHtZB/YeE8/vPcP+Fr+Fv+oh/34X/4qnR/FrwtHIGH284/6YD/AOKrw2ij2sg/sPCef3nuH/C1/C3/AFEP+/C//FUf8LX8Lf8AUQ/78L/8VXh9FHtZB/YeE8/vPcP+Fr+Fv+oh/wB+F/8AiqP+Fr+Fv+oh/wB+F/8Aiq8Poo9rIP7Dwnn957h/wtfwt/1EP+/C/wDxVH/C1/C3/UQ/78L/APFV4fRR7WQf2HhPP7z3D/ha/hb/AKiH/fhf/iqcvxa8LKjL/p/zf9MB/wDFV4bRR7WQf2HhPP7z3D/ha/hb/qIf9+F/+Ko/4Wv4W/6iH/fhf/iq8Poo9rIP7Dwnn957h/wtfwt/1EP+/C//ABVH/C1/C3/UQ/78L/8AFV4fRR7WQf2HhPP7z3D/AIWv4W/6iH/fhf8A4qj/AIWv4W/6iH/fhf8A4qvD6KPayD+w8J5/ee4f8LX8Lf8AUQ/78L/8VTj8WvCxjVP9P+Un/lgP/iq8Noo9rIP7Dwnn957h/wALX8Lf9RD/AL8L/wDFV2sqeXIVBzivlqvqe4/4+G/D+VbU5uW54WbYGjhOT2V9b/hYiooorY8MKKKKACpbn/XfgP5VFUtz/rvwH8qQEVFFFMDlfiP/AMiXP/11j/8AQqqfCz/kVrj/AK/G/wDQEq38R/8AkS5/+usf/oVVPhZ/yK1x/wBfjf8AoCV2L/dX6nM/4/yO1ooorjOklt/+PhPrUZ6mpLf/AI+E+tRnqaQCVoWf/HuPqaz60LP/AI9x9TSlsBPRRRUDCiiigAooooAKKKKACiiigAooooA5DxLqniD/AITDS9D8PXdlafarSe5klurZpv8AVsgAADLj79RWeu+I9M8UW3h7xMdPmfU4JX07ULSJ0UyRjcySRlj0U7sg8gYqv4q1a10H4maHqWp+eloNOuojJFbSTYZniIBCKSM4P5VGl6fHHj7Q73S7O7TR9EE88l5c27wLPK6bFRA4DHGSScY7UAV7zUPHtn4w0zQDrOiu2oW804m/s1wE8vbxjzec7q6FPGGm6PcW+i+I9ZtpNcZkR0gt3UOZCdhC/NgcYznAOMkZFU9Yglb4w+GplicxJYXgZwp2qTswCe1S6LaEfFbxTdSQsM2dikcpXgjEu4A/gufwoAvSeOvDUWrNpsmrRLcLN9nY7W8tZf7hkxsDdsE5zx1qXWfGGg+H7pbbVtQWGdkMnlJG8jKn95ggJVfc4HB9K8gs7Oe28Bv4T1jVNfN/veCXRLbTYm89jITvSVoTlTkPvL8evSugvEuvDfj7XZ9T8Qaro8OoR28ltdW9hHcrchIghQsYnIdWB+XjO7PU0Adj4i8WvbR6Pa+GVtr/AFDXHIsXkcmARqu55WK8lVGOBycimQSeMtI1ixTU3s9c0+7k8ueW0tTbyWZIJDYLsGTjBPBGe9claaNdeHtF8HeIbTT9Tnt9JmuzcWc0am6SG5Jy/loAPlIDbQMgE8ccdQvjv+29Z06w8H2st8jzg391cWssUVtAAd3LBf3hOABz3zQBg638TL2x0GbDW1rfTeIZtJt5fs0kqRQpLsMrKD8zBSDjIyTwO1egWd15Hh+G71G8ScJbCWa6EJiVwFyX2ZJXjnHavLZbS4bTYFWCUsvxEMrAIeE+0Mdx9sEHNeieOLWe9+H+v21pkzS6dOqKoyWJjPy/j0/GgDnp/iFJpOh6BqWrxhP7fvcxxiNz9mtSpZSdoO5tuzI65c44Ws+f4g3d/wCLvEFtYazZ6dp+i2+V+06dLJ5zGIszs2RsCNjjGWAOOuasa9exHwb4F1iJJZbG2vrO5meGJpDHEbeRdxVQTgF1HTvWZrNvPP8A8LYeKCVlurS28giM/vf9EA+X1oA7zUvGOhaHJb2+ralHHcTQiUIkbudn98hQSq5/ibA9+K4W9+J95/wh+hTRXltbX+sahNAboWjzxxQJLKvmKqn5mwicZ5yTWhZ6jB4R8cavd+II7hYNVs7M2M8dq8oby4yrw/ICQ247sHrurC0K0uP+ET+HoFhPb+Xr9y7QNEVMKmS4xuHbgigD0LSNYvF8T3OhatLHPL9kjvbS4SPy/NjOEkBXnBVxn6SKO2T0VcfqKm5+MeiLBw1npV1LOQT9x3jVAf8AgSsfwPpXYUAFfJVx/wAfUv8Avn+dfWtfJVx/x9S/75/nWNTofU8Pb1Pl+pHRRRWR9UFFFFABRRRQAUUUUAFFFFABRRRQAUUUUAFFFFABRRRQAUUUUAFFFFABRRRQAUUUUAFFFFABRRRQAUUUUAFFFFABRRRQAUUUUAFFFFABRRRQAUUUUAFFFFABX1Pcf8fDfh/Kvlivqe4/4+G/D+Vb0d2fK8Rf8uvn+hFRRRXSfKhRRRQAVLc/678B/Koqluf9d+A/lSAiooopgcr8R/8AkS5/+usf/oVVPhZ/yK1x/wBfjf8AoCVb+I//ACJc/wD11j/9Cqp8LP8AkVrj/r8b/wBASuxf7q/U5n/H+R2tFFFcZ0ktv/x8J9ajPU1Jb/8AHwn1qM9TSAStCz/49x9TWfWhZ/8AHuPqaUtgJ6KKKgYUUUUAFFFFABRRRQAUUUUAFFFFABRRRQAUUUUAFFFFABRRRQAUUUUAZ+i6PBoVg1jZs32YSvJDG2MQqzFti/7IJOPQcdq0KKKACiiigDPstGgstW1DUg7y3V+yb3c/cRBhY19FGWP1YmtCiigAr5KuP+PqX/fP86+ta8Ol+DervM7DVNNAZifvP/8AE1nUi3sfQ5LiaOHc/ayte36nm9Fejf8ACmdY/wCgppv/AH0//wATR/wpnWP+gppv/fT/APxNZckux9F/aeD/AOfiPOaK9G/4UzrH/QU03/vp/wD4mj/hTOsf9BTTf++n/wDiaOSXYP7Twf8Az8R5zRXo3/CmdY/6Cmm/99P/APE0f8KZ1j/oKab/AN9P/wDE0ckuwf2ng/8An4jzmivRx8F9ZKkjVNNwOvzP/wDE0n/CmdY/6Cmm/wDfT/8AxNHJLsH9p4P/AJ+I85or0b/hTOsf9BTTf++n/wDiaP8AhTOsf9BTTf8Avp//AImjkl2D+08H/wA/Eec0V6N/wpnWP+gppv8A30//AMTR/wAKZ1j/AKCmm/8AfT//ABNHJLsH9p4P/n4jzmivRv8AhTOsf9BTTf8Avp//AImj/hTOsf8AQU03/vp//iaOSXYP7Twf/PxHnNFejH4L6yFBOqabg9Pmf/4mj/hTOsf9BTTf++n/APiaOSXYP7Twf/PxHnNFejf8KZ1j/oKab/30/wD8TR/wpnWP+gppv/fT/wDxNHJLsH9p4P8A5+I85or0b/hTOsf9BTTf++n/APiaP+FM6x/0FNN/76f/AOJo5Jdg/tPB/wDPxHnNFejf8KZ1j/oKab/30/8A8TR/wpnWP+gppv8A30//AMTRyS7B/aeD/wCfiPOaK9Hb4L6ypw2qaaD/ALz/APxNJ/wpnWP+gppv/fT/APxNHJLsH9p4P/n4jzmivRv+FM6x/wBBTTf++n/+Jo/4UzrH/QU03/vp/wD4mjkl2D+08H/z8R5zRXo3/CmdY/6Cmm/99P8A/E0f8KZ1j/oKab/30/8A8TRyS7B/aeD/AOfiPOaK9G/4UzrH/QU03/vp/wD4mhfgvrLMAuqaaSf9p/8A4mjkl2D+08H/AM/Eec0V6N/wpjWP+gppv/fT/wDxNH/CmdY/6Cmm/wDfT/8AxNHJLsH9p4P/AJ+I85or0b/hTOsf9BTTf++n/wDiaP8AhTOsf9BTTf8Avp//AImjkl2D+08H/wA/Eec0V6N/wpnWP+gppv8A30//AMTR/wAKZ1j/AKCmm/8AfT//ABNHJLsH9p4P/n4jzmivRv8AhTOsf9BTTf8Avp//AImgfBfWSCRqmm4HX5n/APiaOSXYP7Twf/PxHnNFejf8KZ1j/oKab/30/wD8TR/wpnWP+gppv/fT/wDxNHJLsH9p4P8A5+I85or0b/hTOsf9BTTf++n/APiaP+FM6x/0FNN/76f/AOJo5Jdg/tPB/wDPxHnNFejf8KZ1j/oKab/30/8A8TR/wpnWP+gppv8A30//AMTRyS7B/aeD/wCfiPOaK9G/4UzrH/QU03/vp/8A4mlPwX1kKCdU03B6Hc//AMTRyS7B/aeD/wCfiPOK+p7j/j4b8P5V49/wpnWP+gppv/fT/wDxNewTkNMxU5HrW1KLTdz53O8VRxHs/ZSva/6EdFFFdB86FFFFABUtz/rvwH8qiqW5/wBd+A/lSAiooopgcr8R/wDkS5/+usf/AKFVT4Wf8itcf9fjf+gJVv4j/wDIlz/9dY//AEKqnws/5Fa4/wCvxv8A0BK7F/ur9Tmf8f5Ha0UUVxnSS2//AB8J9ajPU1Jb/wDHwn1qM9TSAStCz/49x9TWfWhZ/wDHuPqaUtgJ6KKKgYUUUUAFFFFABRRRQAUUUUAFFFFABRRRQAUUUUAFFFFABRRRQAUUUUAFFFFABRRRQAUUUUAFRfZov7g/OpaKAIvs0P8AcH50fZof7g/OpaKd2BF9mh/uD86Ps0P9wfnUtFF2BF9mh/uD86Ps0P8AcH51LRRdgRiCMKQF4PWk+zQ/3B+dS0UrgRfZof7g/Oj7ND/cH51LRTuwIvs0P9wfnR9mh/uD86loouwIvs0P9wfnR9mh/uD86loouwIzBGVCleB0pPs0P9wfnUtFK4EX2aH+4Pzo+zQ/3B+dS0U7sCL7ND/cH50fZof7g/OpaKLsCL7ND/cH50fZof7g/OpaKLsCNoI3bLLk0n2aH+4PzqWilcCL7ND/AHB+dH2aH+4PzqWindgRfZof7g/Oj7ND/cH51LRRdgRfZof7g/OlWCNGDKuCKkopXAi+zQ/3B+dH2aH+4PzqWindgRfZof7g/Oj7ND/cH51LRRdgRfZof7g/Oj7ND/cH51LRRdgRfZof7g/OlEEYUgLwetSUUrgRfZof7g/Oj7ND/cH51LRTuwIvs0P9wfnR9mh/uD86loouwIvs0P8AcH50fZof7g/OpaKLsCL7ND/cH50pgjKhSvA6VJRSuBF9mh/uD86Ps0P9wfnUtFO7Ai+zQ/3B+dH2aH+4PzqWii7Ai+zQ/wBwfnR9mh/uD86loouwIvs0P9wfnStBGxyy5NSUUrgRfZof7g/Oj7ND/cH51LRTuwKOoaLp+qWjWt/bLNCxBKEkZI6dDTdN0HTNHtmt9NtFgiZy5UMTlsAZ5PsK0KKfNK1r6Csr3Ivs0P8AcH50fZof7g/OpaKV2MjWCJWBVMEUn2aL+4PzqWilcCL7ND/cH51IiKi4QYFLRQAUUUUAFFFFABRRRQAUUUUAFFFFABRRRQAUUUUAFFFFABRRRQAUUUUAFFFFABRRRQAUUUUAFYHiHxFc6bqGn6TpFil/qmob2ijlm8qOONAN0jsAxAG5QAASSa364rXLmDRvitoup6lIkFndabcWC3ErbUSbzI5FBY8AsFbGcZwaANnwz4hk1yK9gvrP7BqWnXH2e7thJ5gVtoZWVsDKsrAg4Hf0qpq3ibUl8RSaJ4a0qHUbu3tlubp7m68iOJWJCJkKxLttbsAAOTWV4V1Gx/4SPxp4le9t4tHnu7eGO8kkCxOYoVR23k4I3HbnocUWt9Z+Hfiz4lfWryGyj1Sys57aS4cIjrEJEkAYnBIyDj0OaAOn8N69D4k0GHUoYXty5aOWCTG6GRGKuhx6MCM9+tatch8NFaTwxdX/AJZjh1PU7u9gVhg+VJMxQ49xgj2Irr6ACiiigArktS8Was2salZeGdDj1NdJVTeSS3fk7nZd/lRDa25tpB5IHIFdbXn+i63pnhTxD4zg167gsmN9/aSNMwQzQvCgBXP3sMjLgd/rQB2ei6tba9odnqtgSbe8hWaPcMEAjOD7joa56/8AH9pB4107w5YW8l3LcXJt7q4AIitmEbOE3Ywznb90dB1pvw52aP4A8PadqTw2l7dQvJDayOFdslpCqqeSVVuQOlHjFQvijwZtAGdWcnA7/Z5aAOwooooAKKKKAEZgilmIVQMkk8AVwsHxCvXs7TXLjQ1i8M3lwsEV59pzMiu+xJXi24CMxHRiRkHHauy1K3a80q7toztaaF41PoSpH9a8nfVLK++B+leGreaJ9Zm+zad9g3DzUmSVBJuTqNoRmJPGB7igD1XV9Sj0bRrvUZ45JUtYmlMcS7nfA+6o7k9K5y38W6xa6tpdt4l0GLT4NXkMVtLDeec0Um0sI5VKLgkKeVJGePetzU/Eek6RZajc3t9Cq6ZEJbtFcM8SkErlRyC2OPXtXD+G9Z0zxf4nstd1vXtJE8e4aRokN9E7wbhjzJADlpiuRtHCj3yaAPS6KKKACiiigDL8Sa7D4b0C41O4iefytqxwx43SyMwVEGfVmA9utZmleJtT/wCEji0TxNpMOnXN1btcWcltdefHKEI3oSVUh13KemCDwaq/FCKQ+Dku0DmPT7+1vJwi5PlRyqXOPYZb8KrXWp2XiH4oeGv7EuoL+PT7a6ubmW3kEixLIiogLDIyxyQPRSaAOj8Q6xd6Tb2y6ZpkmpXl3OIIogxSNCQSXkfB2qADzgk8ACq3hzxHc6rqWqaTq1jHZanpZi85YJvNidJASjKxVTztPBAIxS6t4t0axsbKea83WGoztaLqFtKphhfDDLSZ+XlSuecNwcVzngZbey8e6/YaFfPqmlGCGee8ll890uiSpjM3V/kCnBJ29OM0AehUUUUAFFFFAGB4i8RXGl32n6XpNkl9qupFzDFLN5UaIgBeR2AYgDIGACSTTvDPiKTWxf2uoWX2DU9NnEF3bCXzFUlQyurYGVZSCOAaxfEdzBo/xQ8O6pqU4t7GazubITSMFjSUlHUEngFgrY9dtN8MapYv4l8Y+IjeQR6O89vAl9JIFicxRBXIc8YDNtz0yDQB0HirxHb+FtAm1GeNp5B8lvbJ96eUj5UH5ZJ7AE9qs+H9TOt+GdM1VohC19ZxXJjDZCF0DYz3xmuI8X2vif8A4SLU9SXQ7XUtOtrB4bBn1AQ+Ruj/AH0hTY25z90HI+VcfxGt74aTXk3w30L7fZpalLCBIQk3meZGIl2ueBtJ/u849TQB1NFFFABRRRQByepeK9WbW9Q07wxokWqHSkRrxpbvycu67hFGNrbm24OTgDIFbmhaza+IdAstWsC32e8iEqBuq56qfcHIPuK5DStc0zwv4w8Yw6/fQ2JkuI9QiM7hfNhMCLlc/ewyMuBzn61e+GxXSvh/oFlqUqW15eJJLDbzOFkcMzS4CnkkK2SB0AoAT/hL/EN9qupweHvC9vf2mn3ZtDcy6oIC7qqlsL5Z4BbHXsa7FCxjUuu1iOQDnB+teO6zbeBl8N+JNRt5rmx16C7uHQT3JS7jvCxK+Wgb7rNggDgg/XHq+kNdvoli2pDbeNbxm4GMYk2jd+uaALlFFFABRnHWiormIz2ksSkAyIygntkYoA4iL4iXr2cGutoSr4YuLhYEvvtX75VaTYszRbeELEfxZxzjtXZapqNto+k3epXz7La0haaVgMkKoycep4rySbVLK9+BNj4XhukXXJfI0v7ArgTpOkqhgV6jG0sSeAOa7n4hoNZ8A+I9K0ySO51COyLPaxuGkXI3LlRyCwU49ccUALpfibxBPeac2q+GGtbDUv8AVS29wZ5Lb5dy+emwBAQOoJAOAa6uvJrVtHt9W8I33g7V5rzVdSuVF+v21pmubcxsZXmQthSpA7DB4A9PWaACiiigArM8Ra5b+G/D91qt2jyJABiOMZaR2YKqj3LED8a065H4nRSN4HluI4mmFldW13IijJMccyM/5KCfoKAJtM8T6oPEVto3ifSIdNuL6B57N7e789H2Y3xsdq4cBgeMgjODxWprl7rNlDE2g6RDqkjMRIkt79nCDHXOxs/SuWv9RsfEfxQ8JNod9DfLp8N3d3LW0gdUjeIRpuIPGS3A9jXQ6/4lttN8E6lr9jPDdRWttK8bxOHRnXI25HH3hg+nNAGf4U8W6rr+u6np+oaDFYJpu1JbiG/FwhmOD5X3F5CnJxnHAPWusrB8E6IfD/g+wspctdGPzruRuWknf5pGJ7/MT+lb1ABRRRQAVg+I/EU+k3Wnadpdit/qmpu628MkvlRqqLl5HfBwoyOgJJIFb1cV4muIdJ+JXhnVdQdIbKS3urI3Ep2pFK2xkBY8DcEYCgDY8NeIZdZa/s9RshYappswiurdZfMT5lDI6NgZVgeMgEYIPSq+teJtQg8TReH/AA/psN9ftaG9la6uTBHHFu2DkKxLFgRjGB1JrJ8NajYv4y8aeIvtdumkFrS3F60gWJmijbed5OMAyBc9OKo+JILHVPil9m8RanJo1vbaYHsJoLn7K9wWZvN/fDDELhfkBxzkigDsvDGvp4l0GPUFtntX8ySGaB2DGORHKMu4cEZU4PeteuM+Fj/8Uc9vCVlsLS9ngsLlYwn2mBX+WQ4ABJO7LD72M9TXZ0AFFFFABRRRQAUUUUAFFFFABRRRQAUUUUAFFFFABRRRQAUUUUAFFFFABRRRQAUUUUAFFFFABUV1aW99btb3tvFcQv8AejlQOrfUHipaKAGQwxW8KxW8aRRoMKiKFVR7AVFeafZaiipqFnBdKjblWeJXCn1GR1qxRQAAAAADAHQCiiigAooooAKrXOnWV7JFJeWdvcPCcxtLErFD6gkcVZooAKY8McjI0kau0Z3IWUEqcYyPTin0UAFFFFABRRRQAVWXTrFL9r5LO3W7cYa4ESiRh6FsZqzRQAyaCK5haK4iSWNvvI6hgfqDVaLR9MglWWDTrSORTlXSBQQfYgVcooAKKKKACiiigAIBBBGQeoNV7PT7LTkZNPs4LVXbcywRKgY+pwOtZnirWr3RdLhbSdPOoX93cpa28RJCKzZ+eRgDtQAEk/Qd6zdI8Q67D4uTw94ottP8+4tGu7a4053K4RlVldX5B+YEHoenWgDqpoYriForiNJY3GGR1DKw9waZa2ltY26wWVvFbwr0jhQIo/AVXXXNLbS4NSW/tzZXDKsVwJBscs21QD3yTgVV1Txd4e0S8W01jW7CyuGAYRT3Co2D0JBPAoA2KKqwanY3N7LaW93DLcRRrJJEjgsqN91iPQ4ODUEniDR4dHOqzanaR6erMpunmVY8hipG48Z3AjHqMUAaNFZcfifQ5tEk1iLV7OTTYuJLpJlMaHIGCwOByR+dXZb61gvLe0mnjS4ud3kxM2Gk2jLYHfA5oAddWlvfW7W97bxXEL/ejlQOrfUHinQwRW0KQ28SRRIMKkahVUegA6VRk8Q6RFo66rJqVqlg7BVuWlARju24B9c8UzVfE+haFNFDrOr2VhJNzGlxOqFh64J6e9AGmyh1KsAykYII4IpI40ijWOJFREAVVUYCgdABSo6yIrxsGVhlWU5BHrVSx1jTtTnuodOvYLmWzlMNwkThjE4JBVvQ8H8qALlFZsHiPRbnS59Tg1Wzext2KTXImXy4yMZBbOB1H51WXxp4ZfSX1NNe09rGNxG9wtwpRGPQE54JoA26KwLbx34VvFna08QafMttEZpilwp8tAQCx9BlgM+9W9P8TaHq2oTWOmavZXd1DnzIYZ1d1wcHgHsaALd1p1lfSRPe2dvcPCd0TSxK5jPqCRx+FWazpPEGkQ6M2rS6lbJp6MVa6aUCMENsI3dPvAj60+XW9LhkvUm1C2ibT0V7vfKF8hWBKl8/dBAPX0oAlfTbGW+S9lsrd7qMYSdolMi/RsZFWap2ur6dfGX7JewTeSiSSbHB2K67lY+gK8j2qSw1C01WxivdNuY7q1mBMc0TblYZxwfqKALFFcHoXxHg1vWtbkjvtL/sfSt2BE7y3MqKqkygDjYS2BgEkitHwX4xn8WX2tpNp0mnxafcJFDHOpWVlZA25x2JznHYHmgDq6KKKAKy6dYrftfLZ24u2GGuBEvmEem7Gas0UUAVbfTLC0uZbi0sreCeb/WyxRKrP9SBk/jVqiigAooooAKOvWiigCtZ6dY6crrp9nb2qudziCJUDH1OBzU0sMc8TRTxrLGwwyOoII9wafRQAUUUUAFFFFABUVzbQXlu8F3BHPC4w0cqBlYe4PBqWigCOCCG1gWG2iSGJBhY41Cqo9gOlR3dhZ6hGI7+0gukU7gs0YcA+uDViigBERY0VI1CqowqqMAD0paKKACiiigAooooAKKKKACiiigAooooAKKKKACiiigAooooAKKKKACiiigAooooAKKKKACiiigAooooAKKKKACiiigAooooAKKKKACiiigAooooAKKKKACiiigAooooAKKKKACiiigDG8T+IR4Y06HUJ7OW4sxOqXUkWSbaM5zKQASVBxnHY57VwPhw6QnxXtZfAuoy6tbXVpKNZleU3KwqOYcStkqS5I2A4xzjivV6bHGkS7YkVFznCjAoA8P0+01xfg74Xnm1a0fTTeWO20WxKyAfaVx+98wg4PP3a0tZ1tJL7xfax3+k6E7TSQSWT2hnvtTPlAK6hnGVYcKFVh1r2CmmNDIJCilwMBscgfWgDy/wRoOuQ6FoniDw3c2DteaJbWtzDfh8Axg7GVk54DEFT6da5q3F1B4b8DX93fRafZWuoaoLm9e286CCdp5BGzKTwM7wGJ4JFe70jKHUqwDKRggjgigDwvxIkNx4L8falaa0NYWaC1jnubezWK2kkWQHKMrEOwBwxH+zzXZXdprlt8TvCJ1zVrTUFYXvli3sTb7D5IznMj57elehIixoFjUKo6BRgCloA+ektrnXvg+13dI8em6GdlojcC4uWufnl+iK2we7P6V095N/ZHj/AMWHWfEllof2wxyRG/sVlW7thEAFRmYbtp3AoOc845r16mvGkm3zEVtp3LuGcH1FAHOfDuzWw+H+lW0ct1LGkTGN7uDyZNhdioKZO0BSABnoBXmFvcXvh/U9du9IR/P8R6pqGkxlBwl0Lk+S5+iySkn0SvdKKAPB30j+yvDH2a0k+zaRpXi+QXEzQeckMaxhUkkTIDKG2k56Zz2rsfCS2erfEK/v49ej8QMunLDcTWtiiWpO8FAzhiGkA3cY4B69q9H69abHGkSBIkVFHRVGAKAPIXgiT9m3V5EiRXIvgWCgEj7ZJxn8K1J9S0PW/Engq18HmJ7nTp2klSFcNZWohZHjkGMoSSq7Tg5Fdx4m0OPxL4ZvtGnmaCO8i8tpEAJUZ6jNaSxojMURVLHLEDGT70AfPlzb3OvfCLVvtCPHpegteMinj7TdvcSEN7rGj8erP/s1v6/HOnxG8XX8itc6Tp8ulXWpWUa/PNEiOQwPcIQHK4+YDqMYPs1FAHkpEviP4leItB0zP9m6jHYz3t1Efl+yCH/VqR3k3BeP4dxrqvhSoT4Y6SqABVEoAHYec9dhRQByPgP/AI/vF/8A2MMv/oiCq/gr/kevHP8A2EIP/RC121FABRRRQAUUUUAFFFFABRRRQAUUUUAFFFFABRRRQAUUUUAFFFFABRRRQAUUUUAFFFFABRRRQAUUUUAFFFFABRRRQAUUUUAFFFFABRRRQAUUUUAFFFFABRRRQAUUUUAFFFFABRRRQAUUVQu7iY3XkQv5YVdzEDJPtQBforKzc/8AP0//AHyKM3P/AD9P/wB8inZgatFZWbn/AJ+n/wC+RRm5/wCfp/8AvkUWYGrRWVm5/wCfp/8AvkUZuf8An6f/AL5FFmBq0VlZuf8An6f/AL5FGbn/AJ+n/wC+RRZgatFZWbn/AJ+n/wC+RRm5/wCfp/8AvkUWYGrRWVm5/wCfp/8AvkUZuf8An6f/AL5FFmBq0VlZuf8An6f/AL5FGbn/AJ+n/wC+RRZgatFZWbn/AJ+n/wC+RRm5/wCfp/8AvkUWYGrRWVm5/wCfp/8AvkUZuf8An6f/AL5FFmBq0VlZuf8An6f/AL5FGbr/AJ+m/wC+RRZgatFVrGd54D5mN6MUJHfHerNIAooooAKKKKACiiigAooooAKKKKACiiigAooooAKKKKACiiigAooooAKKKKACiiigAooooAKKKKACiiigAooooAKKKKACiiigAooooAKKKKACiiigAooooAKKKKACiiigAooooAKKKKACiiigAooooAKKKKACiiigAooooAKKKKACiiigAooooAKKKKACsuf/AJCsn+4K1Ky5/wDkKyf7gprcB1FFFUAUUUUAFFFFABXFeJdW15vH+l+H9D1GDT47uzlnklltBPyh6Y3L/Ou1rhdV/wCS46B/2C7n+YoAbfXXivw9r2gxahr9rqNtqV+LWSNNNEJA2M2Q29v7vpW9qvjfw7ol+1lqeqRxXCKGkRUZ/KB6F9oIQf72KyvHX/Ie8G/9hkf+inrJ8Ka3o3hyTxXaeJ7y2sb7+1bi4mW7cK1xC+PLZQfvKV4AGfTvQB2Wo+KtD0m3tZ9Q1OCGG8QvbyZ3LKAAcqRnPBGPXPGafo/iTSNfhmk0m9SfyCBMpVkeLIyNysAR+IryTTJLfRLb4c3HiBfstmt3fyxC5GPJjfJhLZ6AZU57DB7VreIy3ibxJ4on8JSLdxx+G2s55rU7llnMm5UBHDNsDDjpuAoA7iy8eeGNQ1JLCz1eGSeVykXysElYHG1HI2sfYE0al488N6Tqsum6hqYivIdvmRCGRiu4AjkKRyCDXD+Jdc0LWvhPYaP4duLebU5xaxWFlC4M0EqsvVRym0BskgfrXT+GP+SneN/9+x/9J6ANC/8AHvhjTNSexvtYhjnjYJLhWZYmPZ3AKof94irGs+LtC8Pvbpq9+sDXKl4QEZ96jGSNoPqPzrhPC+u6Dovw31TSvEtzbw6nBLdpqNrMQJZ5HdyCFPL7lKgEZz61nw/btHbwRHe65a+HrqPRJke41BFdVG6LEZDMoBxjvxigD0+z8U6Hf6LLq9rqls9hCSJbgvtWMjGQ2cbTyODzyKg0bxp4f8QXjWmk6kk1wE8wRNG8bMv95Q4G4e4zXk8jmXTNcmnnXW7K18RWV5qOp2qDybuDA3qqLkYTAzgnOc5rste1bTPEHjfwjF4cvLe/u7e6e4lltXEnk2/lkNuZT8obKjB60AdDe+PfDGnam+n3mrwx3ETBJflZkiY9ncDap9iRXQghlBUggjII714loVyNO8EatpuueLLLTJoZrldR0+exR5nZnbJG5wZNykYIB7DtXq3hK1Nl4O0m2LzuIrSNVa4j8uTaFGAy5ODjAxmgDd0z/Vz/APXZv5CrtUtM/wBXP/12b+Qq7UAFFFFABRRRQAUUUUAFFFFABRRRQAUUUUAFFFFABRRRQAUUUUAFFFFABRRRQAUUUUAFFFFABRRRQAUUUUAFFFFABRRRQAUUUUAFFFFABRRRQAUUUUAFFFFABRRRQAUUUUAFFFFABRRRQAUUUUAFFFFABRRRQAUUUUAFFFFABRRRQAUUUUAFFFFABRRRQAVlz/8AIVk/3BWpWXP/AMhWT/cFNbgeaar8T9RstXu7WHT7cJBM0Y8zduODjJ5HpVT/AIWxqv8Az4Wf/j3+NeoyWNpNIXltYXc9WaMEmm/2bY/8+Vv/AN+l/wAK7lWo21h+JzunUv8AEeYf8LY1X/nws/8Ax7/Gj/hbGq/8+Fn/AOPf416f/Ztj/wA+Vv8A9+l/wo/s2x/58rf/AL9L/hT9tQ/59i9nV/mPMP8AhbGq/wDPhZ/+Pf410ngvxtd+JdSntLu0iiEcPmh4s46gYOc+v6V1f9m2P/Plb/8Afpf8Klht4LcEW8McW7rsULn8qmdWk4tRhZlRhUTu5ElRmCJp1naJDKoKrIVG4A9gakorkNxkkMUrI0saOY23IWUHafUehqK4sLO7ljkurSCeSPlHkjDFfoT0rhtU8W+JNG1qzF+ukhLy+W3h0eNi940LMVE24NjsSRtwBxnNaum+NbZvEmv6brN7p9kmnXKRW/mSiNpFMYYk7m55PYCgC/rHhz+1vE2h6m0yCLS2uC8DJu84SxGPHtjOe+a2Le2gtIRDaQxwRL0SJAqj8BXEab4v1/WfAel6vZQabDPeTzJcXc77La0jSR1DlS+5iQoAAPU54FZL/EbVrGPxBai70bWrjTdOF9BdWAYxff2tHIoc8jrwelAHpUdhZxXT3MVpAlw/3pVjAdvqepqVYYklkkSNFkkxvcKAWxwMnvWDrfiT7E3h5tNe3ni1bUI4CxJbMTRu25cEc5VeeRzXK3HxDvL7UdT/ALM1vw1pUOn3L20Vvqs+Jrtk4Zj867FJ4BwfWgD0OSws5rpLma0gknj+5K0YLL9D1FFzYWd6VN5aQXBX7pljDY+ma4q1+JMV5L4Ruc2tnp2uQXT3D3L4MLxBRtVsgfeLDkc8dKNQ+IEyXHir+yXsLu30fTY7q3lQmQPIwbIYq2CPlHAwaAO6jhjihEUUaJGBgIqgAD6VFa2FpZb/ALHawW+85byowu4++OtcP4j+Id5pkuhWumWsFxc3bWz6g7qSlvHMwUAYYfMxJIBzwpODUWo+Prm58R6nYabrfh7RodLl8knV5fnupAMsAu9dqA8Z5NAHey6fZz3KXE9pBJPH9yV4gWX6EjIqxWD4M8Sr4s8MwamI0ikLPFMkb71DoxU7WHVTjIPoRW9QBLpn+rn/AOuzfyFXapaZ/q5/+uzfyFXagAooooAKKKKACiiigAooooAKKKKACiiigAooooAKKKKACiiigAooooAKKKKACiiigAooooAKKKKACiiigAooooAKKKKACiiigAooooAKKKKACiiigAooooAKKKKACiiigAooooAKKKKACiiigAooooAKKKKACiiigAooooAKKKKACiiigAooooAKKKKACsuf/kKyf7grUrLuPl1Rs8boxj3prcB1FFFUAUUUUAFFFFABRRRQB53qvhXxVrkUem6r/ZMwiu0kTXVyl0kSybwFjCAK/wDDkNjBNbmk+EUt/EniDUdUt7K6TUrmOW33JvZFWMKQdw45HbNdRRQB5knw81a08N+GrYx6bqbaNc3Ms+n3EjC3uRK7FTkofmQNxlcZJ/HX0TwrqsfjSfWtXg0qGzuNM+wiwtMkQjzNwU5UBwQWycDrjBHNdtRQBxd38ONIt9T0i98OaZYWE1pqKXNxIqlWaII4KqQD3ZTjgcewqgvhDW9Eu9Ti0TTtD1K0v7mS5gmv8rJaM5yykBG3qDyOQa9DooA4v/hCrqTVPCk1/NZ30WkQ3S3heBY/OeVVwUjVdoAIPp26nNQap4Duri68Vtp32G3h1nTY7S3QZTY6hgSwC4A+YcjJru6KAPPk+Hl7H4Rs7M3VvNqp1G3vr65csFfy2HyLwThVAVRgdO2TUk/hTV9J8Q6reaLp2j6taapL9pMeoMY3t5iMMQQjblOAccH+dd7RQBleGtNvNJ0GC11O4hubsZaaSCBYo9xOcKqgcDpk8nGTWrRR0oAl0z/Vz/8AXZv5CrtUtL5hlbs0rEH16VdqACiiigAooooAKKKKACiiigAooooAKKKKACiiigAooooAKKKKACiiigAooooAKKKKACiiigAooooAKKKKACiiigAooooAKKKKACiiigAooooAKKKKACiiigAooooAKKKKACiiigAooooAKKKKACiiigAooooAKKKKACiiigAooooAKKKKACiiigAooooAKjmt4rgATRq+Ome1SUUAVf7Ms/8AngPzNH9mWf8AzwH5mrVFAFX+zLP/AJ4D8zR/Zln/AM8B+Zq1RQBV/syz/wCeA/M0f2ZZ/wDPAfmatUUAVf7Ms/8AngPzNH9mWf8AzwH5mrVFAFX+zLP/AJ4D8zR/Zln/AM8B+Zq1RQBV/syz/wCeA/M0f2ZZ/wDPAfmatUUAVf7Ms/8AngPzNH9mWf8AzwH5mrVFAFX+zLP/AJ4D8zR/Zln/AM8B+Zq1RQBV/syz/wCeA/M0f2ZZ/wDPAfmatUUAVf7Ms/8AngPzNH9m2g/5YL+Zq1RQAioqKFQBVHQAdKWiigAooooAKKKKACiiigAooooAKKKKACiiigAooooAKKKKACiiigAooooAKKKKACiiigAooooAKKKKACiiigAooooAKKKKACiiigAooooAKKKKACiiigAooooA/9k=)"
   ]
  },
  {
   "cell_type": "markdown",
   "metadata": {
    "id": "JMezWr9SC84C"
   },
   "source": [
    "**(8)** Лучшая из выявленных моделей LinearSVC на тестовой выборке показала значение метрики f1 равное"
   ]
  },
  {
   "cell_type": "code",
   "execution_count": 175,
   "metadata": {
    "id": "REt4uOdMC84C",
    "outputId": "c2a3edbc-597f-47b4-e407-568ed191d493"
   },
   "outputs": [
    {
     "data": {
      "text/plain": [
       "0.792"
      ]
     },
     "execution_count": 175,
     "metadata": {},
     "output_type": "execute_result"
    }
   ],
   "source": [
    "f1_svс_test"
   ]
  },
  {
   "cell_type": "markdown",
   "metadata": {
    "id": "v5OoTqKPC84C"
   },
   "source": [
    "Обучающий и тестовый комплект модели сформирован с помощью TfidfVectorizer().\n",
    "\n",
    "**Лучшая модель LinearSVC полностью соответствует предъявленным требованиям**."
   ]
  },
  {
   "cell_type": "markdown",
   "metadata": {
    "id": "N8Joe0PhC84C"
   },
   "source": [
    "**(9)** на базовой модели DummyClassifier получено значение метрики f1, равное"
   ]
  },
  {
   "cell_type": "code",
   "execution_count": 176,
   "metadata": {
    "id": "_7KjvFPMC84C",
    "outputId": "1e3bb0a4-6b91-4191-abc2-7ea729e99fcc"
   },
   "outputs": [
    {
     "data": {
      "text/plain": [
       "0.184"
      ]
     },
     "execution_count": 176,
     "metadata": {},
     "output_type": "execute_result"
    }
   ],
   "source": [
    "f1_dummy"
   ]
  },
  {
   "cell_type": "markdown",
   "metadata": {
    "id": "GoiTqJogC84D"
   },
   "source": [
    "что подтверждает высокое качество модели LinearSVC."
   ]
  }
 ],
 "metadata": {
  "colab": {
   "provenance": []
  },
  "kernelspec": {
   "display_name": "Python 3 (ipykernel)",
   "language": "python",
   "name": "python3"
  },
  "language_info": {
   "codemirror_mode": {
    "name": "ipython",
    "version": 3
   },
   "file_extension": ".py",
   "mimetype": "text/x-python",
   "name": "python",
   "nbconvert_exporter": "python",
   "pygments_lexer": "ipython3",
   "version": "3.9.15"
  },
  "toc": {
   "base_numbering": 1,
   "nav_menu": {},
   "number_sections": true,
   "sideBar": true,
   "skip_h1_title": true,
   "title_cell": "Table of Contents",
   "title_sidebar": "Contents",
   "toc_cell": true,
   "toc_position": {
    "height": "calc(100% - 180px)",
    "left": "10px",
    "top": "150px",
    "width": "298px"
   },
   "toc_section_display": true,
   "toc_window_display": false
  }
 },
 "nbformat": 4,
 "nbformat_minor": 1
}
